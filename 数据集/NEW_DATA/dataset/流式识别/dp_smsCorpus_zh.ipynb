{
 "cells": [
  {
   "cell_type": "code",
   "execution_count": 4,
   "id": "a0a07241-e61d-4cae-80ef-b7aa1b01d5f5",
   "metadata": {},
   "outputs": [],
   "source": [
    "import json\n",
    "with open(\"smsCorpus_zh_2015.03.09.json\", 'r', encoding='utf-8') as f:\n",
    "    data = json.load(f)"
   ]
  },
  {
   "cell_type": "code",
   "execution_count": 11,
   "id": "0ddf21f1-2058-48f3-a11f-4c01bf986807",
   "metadata": {},
   "outputs": [
    {
     "data": {
      "text/plain": [
       "(dict_keys(['smsCorpus']), dict_keys(['@date', '@version', 'message']))"
      ]
     },
     "execution_count": 11,
     "metadata": {},
     "output_type": "execute_result"
    }
   ],
   "source": [
    "data.keys(),data[\"smsCorpus\"].keys()"
   ]
  },
  {
   "cell_type": "code",
   "execution_count": 13,
   "id": "07134b8a-0fce-414a-96f1-247631d9f915",
   "metadata": {},
   "outputs": [],
   "source": [
    "data=data[\"smsCorpus\"]['message']"
   ]
  },
  {
   "cell_type": "code",
   "execution_count": 14,
   "id": "87dfcdd7-a873-4b94-b9f8-89312d884dcd",
   "metadata": {},
   "outputs": [],
   "source": [
    "import pandas as pd\n",
    "data=pd.DataFrame(data)"
   ]
  },
  {
   "cell_type": "code",
   "execution_count": 23,
   "id": "1109352d-2e10-4cdb-a7d4-a038b980f826",
   "metadata": {},
   "outputs": [
    {
     "data": {
      "text/html": [
       "<div>\n",
       "<style scoped>\n",
       "    .dataframe tbody tr th:only-of-type {\n",
       "        vertical-align: middle;\n",
       "    }\n",
       "\n",
       "    .dataframe tbody tr th {\n",
       "        vertical-align: top;\n",
       "    }\n",
       "\n",
       "    .dataframe thead th {\n",
       "        text-align: right;\n",
       "    }\n",
       "</style>\n",
       "<table border=\"1\" class=\"dataframe\">\n",
       "  <thead>\n",
       "    <tr style=\"text-align: right;\">\n",
       "      <th></th>\n",
       "      <th>@id</th>\n",
       "      <th>text</th>\n",
       "      <th>source</th>\n",
       "      <th>destination</th>\n",
       "      <th>messageProfile</th>\n",
       "      <th>collectionMethod</th>\n",
       "    </tr>\n",
       "  </thead>\n",
       "  <tbody>\n",
       "    <tr>\n",
       "      <th>0</th>\n",
       "      <td>1</td>\n",
       "      <td>{'$': '老師,媽咪話想買盒月餅比你,你要傳統定冰皮?'}</td>\n",
       "      <td>{'srcNumber': {'$': '06bb204a4e5da882f6d1d2834...</td>\n",
       "      <td>{'@country': 'unknown', 'destNumber': {'$': 'u...</td>\n",
       "      <td>{'@language': 'zh', '@time': 'unknown', '@type...</td>\n",
       "      <td>{'@collector': 'Tao Chen', '@method': 'Web-bas...</td>\n",
       "    </tr>\n",
       "    <tr>\n",
       "      <th>1</th>\n",
       "      <td>2</td>\n",
       "      <td>{'$': '你幾時返黎教我填份表?我過幾日就要走喇!'}</td>\n",
       "      <td>{'srcNumber': {'$': '06bb204a4e5da882f6d1d2834...</td>\n",
       "      <td>{'@country': 'unknown', 'destNumber': {'$': 'u...</td>\n",
       "      <td>{'@language': 'zh', '@time': 'unknown', '@type...</td>\n",
       "      <td>{'@collector': 'Tao Chen', '@method': 'Web-bas...</td>\n",
       "    </tr>\n",
       "    <tr>\n",
       "      <th>2</th>\n",
       "      <td>3</td>\n",
       "      <td>{'$': '今晚肥不肥家吃饭 如果要 提前半小时跟我缩一下'}</td>\n",
       "      <td>{'srcNumber': {'$': '86d1672e124b86e55b5bd5e53...</td>\n",
       "      <td>{'@country': 'unknown', 'destNumber': {'$': 'u...</td>\n",
       "      <td>{'@language': 'zh', '@time': 'unknown', '@type...</td>\n",
       "      <td>{'@collector': 'Tao Chen', '@method': 'Web-bas...</td>\n",
       "    </tr>\n",
       "    <tr>\n",
       "      <th>3</th>\n",
       "      <td>4</td>\n",
       "      <td>{'$': '周六要通宵打麻将 带点吃的喝的来'}</td>\n",
       "      <td>{'srcNumber': {'$': '86d1672e124b86e55b5bd5e53...</td>\n",
       "      <td>{'@country': 'unknown', 'destNumber': {'$': 'u...</td>\n",
       "      <td>{'@language': 'zh', '@time': 'unknown', '@type...</td>\n",
       "      <td>{'@collector': 'Tao Chen', '@method': 'Web-bas...</td>\n",
       "    </tr>\n",
       "    <tr>\n",
       "      <th>4</th>\n",
       "      <td>5</td>\n",
       "      <td>{'$': '我正在休息。明天有考试'}</td>\n",
       "      <td>{'srcNumber': {'$': '5f2f98baf1b726ecff98f5584...</td>\n",
       "      <td>{'@country': 'unknown', 'destNumber': {'$': 'u...</td>\n",
       "      <td>{'@language': 'zh', '@time': 'unknown', '@type...</td>\n",
       "      <td>{'@collector': 'Tao Chen', '@method': 'Web-bas...</td>\n",
       "    </tr>\n",
       "  </tbody>\n",
       "</table>\n",
       "</div>"
      ],
      "text/plain": [
       "   @id                              text  \\\n",
       "0    1   {'$': '老師,媽咪話想買盒月餅比你,你要傳統定冰皮?'}   \n",
       "1    2     {'$': '你幾時返黎教我填份表?我過幾日就要走喇!'}   \n",
       "2    3  {'$': '今晚肥不肥家吃饭 如果要 提前半小时跟我缩一下'}   \n",
       "3    4         {'$': '周六要通宵打麻将 带点吃的喝的来'}   \n",
       "4    5              {'$': '我正在休息。明天有考试'}   \n",
       "\n",
       "                                              source  \\\n",
       "0  {'srcNumber': {'$': '06bb204a4e5da882f6d1d2834...   \n",
       "1  {'srcNumber': {'$': '06bb204a4e5da882f6d1d2834...   \n",
       "2  {'srcNumber': {'$': '86d1672e124b86e55b5bd5e53...   \n",
       "3  {'srcNumber': {'$': '86d1672e124b86e55b5bd5e53...   \n",
       "4  {'srcNumber': {'$': '5f2f98baf1b726ecff98f5584...   \n",
       "\n",
       "                                         destination  \\\n",
       "0  {'@country': 'unknown', 'destNumber': {'$': 'u...   \n",
       "1  {'@country': 'unknown', 'destNumber': {'$': 'u...   \n",
       "2  {'@country': 'unknown', 'destNumber': {'$': 'u...   \n",
       "3  {'@country': 'unknown', 'destNumber': {'$': 'u...   \n",
       "4  {'@country': 'unknown', 'destNumber': {'$': 'u...   \n",
       "\n",
       "                                      messageProfile  \\\n",
       "0  {'@language': 'zh', '@time': 'unknown', '@type...   \n",
       "1  {'@language': 'zh', '@time': 'unknown', '@type...   \n",
       "2  {'@language': 'zh', '@time': 'unknown', '@type...   \n",
       "3  {'@language': 'zh', '@time': 'unknown', '@type...   \n",
       "4  {'@language': 'zh', '@time': 'unknown', '@type...   \n",
       "\n",
       "                                    collectionMethod  \n",
       "0  {'@collector': 'Tao Chen', '@method': 'Web-bas...  \n",
       "1  {'@collector': 'Tao Chen', '@method': 'Web-bas...  \n",
       "2  {'@collector': 'Tao Chen', '@method': 'Web-bas...  \n",
       "3  {'@collector': 'Tao Chen', '@method': 'Web-bas...  \n",
       "4  {'@collector': 'Tao Chen', '@method': 'Web-bas...  "
      ]
     },
     "execution_count": 23,
     "metadata": {},
     "output_type": "execute_result"
    }
   ],
   "source": [
    "data.head()"
   ]
  },
  {
   "cell_type": "code",
   "execution_count": 58,
   "id": "6d8af0f1-9ee2-470e-8a19-19d793a0def6",
   "metadata": {},
   "outputs": [],
   "source": [
    "def tt(txt):\n",
    "    if txt[\"userProfile\"][\"country\"][\"$\"].lower()==\"china\":\n",
    "        return True\n",
    "    else:\n",
    "        return False\n",
    "def ss(txt):\n",
    "    if \"$\" not in txt:\n",
    "        return \"\"\n",
    "        \n",
    "    return txt[\"$\"]"
   ]
  },
  {
   "cell_type": "code",
   "execution_count": 59,
   "id": "c414e4bb-6e2e-4b9c-a635-9c2389ef255a",
   "metadata": {
    "scrolled": true
   },
   "outputs": [],
   "source": [
    "# data=data[data.source.apply(lambda x:tt(x))]\n",
    "# data=pd.DataFrame(data[\"text\"])\n",
    "data.text=data.text.apply(lambda x:ss(x))"
   ]
  },
  {
   "cell_type": "code",
   "execution_count": 64,
   "id": "4710fb2a-90ee-4e29-8c85-5c0fbca26c2f",
   "metadata": {},
   "outputs": [],
   "source": [
    "data = data[data.text!=\"\"]"
   ]
  },
  {
   "cell_type": "code",
   "execution_count": 69,
   "id": "60ab8984-1cd2-436f-bde2-252aa6ba7af6",
   "metadata": {},
   "outputs": [
    {
     "data": {
      "text/plain": [
       "count    31174.000000\n",
       "mean        14.341759\n",
       "std         13.136649\n",
       "min          1.000000\n",
       "25%          6.000000\n",
       "50%         11.000000\n",
       "75%         18.000000\n",
       "max        194.000000\n",
       "Name: text, dtype: float64"
      ]
     },
     "execution_count": 69,
     "metadata": {},
     "output_type": "execute_result"
    }
   ],
   "source": [
    "data.text.apply(lambda x:len(str(x))).describe()"
   ]
  },
  {
   "cell_type": "code",
   "execution_count": 71,
   "id": "f273a3ba-ef3f-44d8-a712-574c655b513c",
   "metadata": {},
   "outputs": [],
   "source": [
    "data.to_excel(\"SMS.xlsx\")"
   ]
  },
  {
   "cell_type": "code",
   "execution_count": null,
   "id": "3c0bf7ef-03ef-49b7-8706-cd1fb50ae1d5",
   "metadata": {},
   "outputs": [],
   "source": []
  }
 ],
 "metadata": {
  "kernelspec": {
   "display_name": "Python 3 (ipykernel)",
   "language": "python",
   "name": "python3"
  },
  "language_info": {
   "codemirror_mode": {
    "name": "ipython",
    "version": 3
   },
   "file_extension": ".py",
   "mimetype": "text/x-python",
   "name": "python",
   "nbconvert_exporter": "python",
   "pygments_lexer": "ipython3",
   "version": "3.9.13"
  }
 },
 "nbformat": 4,
 "nbformat_minor": 5
}
