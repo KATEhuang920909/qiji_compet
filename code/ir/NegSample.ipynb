{
 "cells": [
  {
   "cell_type": "code",
   "execution_count": null,
   "outputs": [],
   "source": [
    "#负样本：\n",
    "# normal  里面挑选非normal\n",
    "#非normal 里面挑选normal\n",
    "#正样本：\n",
    "#非normal标签语料对应"
   ],
   "metadata": {
    "collapsed": false
   },
   "id": "9212aefafb6041ad"
  },
  {
   "cell_type": "markdown",
   "source": [
    "## 负样本构建"
   ],
   "metadata": {
    "collapsed": false
   },
   "id": "4c1e43a4e3d510de"
  },
  {
   "cell_type": "markdown",
   "source": [
    "### 难负样本语义"
   ],
   "metadata": {
    "collapsed": false
   },
   "id": "15188400e5d45c3d"
  },
  {
   "cell_type": "code",
   "execution_count": 2,
   "outputs": [],
   "source": [
    "import pandas as pd\n",
    "data=pd.read_excel(\"final_data_v2.xlsx\")"
   ],
   "metadata": {
    "collapsed": false,
    "ExecuteTime": {
     "start_time": "2024-02-20T08:15:55.048434100Z"
    }
   },
   "id": "initial_id"
  },
  {
   "cell_type": "code",
   "execution_count": 3,
   "outputs": [
    {
     "data": {
      "text/plain": "      Unnamed: 0                                               text  \\\n0              0  亻 尔 女 马 阴道 里长 了 一颗 毒瘤 待 我 一颗 手雷 扔 进去 瞬间 可以 把 亻...   \n1              1  你 这 废物 鸡巴 跟 牙签 一样 ， 插到 你 母狗 妈 的 水缸 逼里 都 搅 不动 ，...   \n2              2                   操 你 妈 的 半夜 瞎 jb 吹 还 发鬼 吓 我 黑名单 见   \n3              3                   我 在 你 妈 逼 里 自由 翱翔 你 妈 哭 着 夸 我 真强   \n4              4  人 本初 ， 性本善 ， 锅里煮 个 大 鸡蛋 ， 给 我 吃 我 就 干 ， 不 给 我 ...   \n...          ...                                                ...   \n7132        7132                                            cao 你 妈   \n7133        7133  这 期 @ 时尚 旅游 杂志   确实 有点 内个 。 坐 办公室 看 ， 完全 身未动 ，...   \n7134        7134                               今天 到 龙海 坐浙 三轮车 台拉风 了   \n7135        7135       有 在 看 澳网 男单 决赛 的 吗 ？ ？ ？ 看 比赛 需要 吼起来 。 。 。 。   \n7136        7136  我 不是 几年 ， 我 是 亻 尔 爸爸 。 亻 囟 儿 夂 逼真 的 会 判刑 口 马 ？...   \n\n                                           sentence_bag  \\\n0     ['您好我是做无抵押无担保信用借款的正规安全高效无论你是上班族还是做生意或者有车有房都可以申...   \n1     ['我们党员数', 'NAMEPLACE电梯现房NAME中环境优美NAME每平方米DIGIT...   \n2     ['唯品会狂欢你独享NAMENAME碧黄油满DIGIT返DIGIT组合券无敌超值URLed回...   \n3     ['您好您的信用极好邀您加入工作不限地点時間手机在家操作待遇ioo天詳情QQ', '好久没联...   \n4     ['博主该去看望下你失散多年的亲人@人民日报编辑部做个dna检测吧', '这样啊，我说怎么到...   \n...                                                 ...   \n7132  ['你在我⾯前玩次会简直就是班⻔弄斧我随随便便打出⼀个字你婊⼦妈都能爆体⽽亡', '移动手机...   \n7133  ['世纪百悦月至日DIGIT枚钻戒折黄金每克最高优惠DIGIT内衣折后满再送会员双倍积分PL...   \n7134  ['@远源的小背篓你这个垃圾粉，你也不看看尼加主子去年宣传小王子没，心机boy你好意思说，我...   \n7135  ['惊喜周末满DIGIT返DIGIT元包邮亿会员DIGIT亿回馈狂欢尽在URL回td退订唯品...   \n7136  ['@北方的纳努克', '夜惊悚→关灯睡下。电话突兀地响起，吓！小姨夫来电，小姨消shi三个...   \n\n                                             label_bag final_label  \\\n0             ['AD', 'NORMAL', 'FUCK', 'FAKE', 'FUCK']        FUCK   \n1               ['NORMAL', 'AD', 'AD', 'NORMAL', 'AD']          AD   \n2         ['AD', 'FUCK', 'NORMAL', 'NORMAL', 'NORMAL']      NORMAL   \n3           ['AD', 'NORMAL', 'FUCK', 'FUCK', 'NORMAL']      NORMAL   \n4         ['NORMAL', 'NORMAL', 'FUCK', 'FUCK', 'FUCK']        FUCK   \n...                                                ...         ...   \n7132   ['FUCK', 'AD', 'POLITICAL', 'NORMAL', 'NORMAL']      NORMAL   \n7133    ['AD', 'NORMAL', 'NORMAL', 'NORMAL', 'NORMAL']      NORMAL   \n7134        ['FUCK', 'NORMAL', 'FUCK', 'NORMAL', 'AD']        FUCK   \n7135         ['AD', 'NORMAL', 'POLITICAL', 'AD', 'AD']          AD   \n7136  ['NORMAL', 'NORMAL', 'NORMAL', 'NORMAL', 'FUCK']      NORMAL   \n\n      true_label                                              score  result  \n0              1  [-1.1920929e-07, 0.06279123, 0.068983555, 0.07...   False  \n1              1  [8.34465e-07, 0.0053709745, 0.017130435, 0.017...   False  \n2              1  [0.3087051, 0.3090433, 0.30923915, 0.31345677,...   False  \n3              1  [2.9802322e-07, 0.0091718435, 0.013031483, 0.0...   False  \n4              1  [-7.1525574e-07, 0.007786751, 0.013712704, 0.0...   False  \n...          ...                                                ...     ...  \n7132           1  [0.0, 0.22793674, 0.24371147, 0.26400894, 0.27...   False  \n7133           0  [-1.1920929e-06, 0.18689656, 0.18857586, 0.189...   False  \n7134           0  [-9.536743e-07, 0.3445171, 0.35620058, 0.39621...   False  \n7135           0  [0.3886714, 0.39686632, 0.39831716, 0.40285844...   False  \n7136           1  [0.10774624, 0.14443272, 0.18840015, 0.2384377...   False  \n\n[7137 rows x 8 columns]",
      "text/html": "<div>\n<style scoped>\n    .dataframe tbody tr th:only-of-type {\n        vertical-align: middle;\n    }\n\n    .dataframe tbody tr th {\n        vertical-align: top;\n    }\n\n    .dataframe thead th {\n        text-align: right;\n    }\n</style>\n<table border=\"1\" class=\"dataframe\">\n  <thead>\n    <tr style=\"text-align: right;\">\n      <th></th>\n      <th>Unnamed: 0</th>\n      <th>text</th>\n      <th>sentence_bag</th>\n      <th>label_bag</th>\n      <th>final_label</th>\n      <th>true_label</th>\n      <th>score</th>\n      <th>result</th>\n    </tr>\n  </thead>\n  <tbody>\n    <tr>\n      <th>0</th>\n      <td>0</td>\n      <td>亻 尔 女 马 阴道 里长 了 一颗 毒瘤 待 我 一颗 手雷 扔 进去 瞬间 可以 把 亻...</td>\n      <td>['您好我是做无抵押无担保信用借款的正规安全高效无论你是上班族还是做生意或者有车有房都可以申...</td>\n      <td>['AD', 'NORMAL', 'FUCK', 'FAKE', 'FUCK']</td>\n      <td>FUCK</td>\n      <td>1</td>\n      <td>[-1.1920929e-07, 0.06279123, 0.068983555, 0.07...</td>\n      <td>False</td>\n    </tr>\n    <tr>\n      <th>1</th>\n      <td>1</td>\n      <td>你 这 废物 鸡巴 跟 牙签 一样 ， 插到 你 母狗 妈 的 水缸 逼里 都 搅 不动 ，...</td>\n      <td>['我们党员数', 'NAMEPLACE电梯现房NAME中环境优美NAME每平方米DIGIT...</td>\n      <td>['NORMAL', 'AD', 'AD', 'NORMAL', 'AD']</td>\n      <td>AD</td>\n      <td>1</td>\n      <td>[8.34465e-07, 0.0053709745, 0.017130435, 0.017...</td>\n      <td>False</td>\n    </tr>\n    <tr>\n      <th>2</th>\n      <td>2</td>\n      <td>操 你 妈 的 半夜 瞎 jb 吹 还 发鬼 吓 我 黑名单 见</td>\n      <td>['唯品会狂欢你独享NAMENAME碧黄油满DIGIT返DIGIT组合券无敌超值URLed回...</td>\n      <td>['AD', 'FUCK', 'NORMAL', 'NORMAL', 'NORMAL']</td>\n      <td>NORMAL</td>\n      <td>1</td>\n      <td>[0.3087051, 0.3090433, 0.30923915, 0.31345677,...</td>\n      <td>False</td>\n    </tr>\n    <tr>\n      <th>3</th>\n      <td>3</td>\n      <td>我 在 你 妈 逼 里 自由 翱翔 你 妈 哭 着 夸 我 真强</td>\n      <td>['您好您的信用极好邀您加入工作不限地点時間手机在家操作待遇ioo天詳情QQ', '好久没联...</td>\n      <td>['AD', 'NORMAL', 'FUCK', 'FUCK', 'NORMAL']</td>\n      <td>NORMAL</td>\n      <td>1</td>\n      <td>[2.9802322e-07, 0.0091718435, 0.013031483, 0.0...</td>\n      <td>False</td>\n    </tr>\n    <tr>\n      <th>4</th>\n      <td>4</td>\n      <td>人 本初 ， 性本善 ， 锅里煮 个 大 鸡蛋 ， 给 我 吃 我 就 干 ， 不 给 我 ...</td>\n      <td>['博主该去看望下你失散多年的亲人@人民日报编辑部做个dna检测吧', '这样啊，我说怎么到...</td>\n      <td>['NORMAL', 'NORMAL', 'FUCK', 'FUCK', 'FUCK']</td>\n      <td>FUCK</td>\n      <td>1</td>\n      <td>[-7.1525574e-07, 0.007786751, 0.013712704, 0.0...</td>\n      <td>False</td>\n    </tr>\n    <tr>\n      <th>...</th>\n      <td>...</td>\n      <td>...</td>\n      <td>...</td>\n      <td>...</td>\n      <td>...</td>\n      <td>...</td>\n      <td>...</td>\n      <td>...</td>\n    </tr>\n    <tr>\n      <th>7132</th>\n      <td>7132</td>\n      <td>cao 你 妈</td>\n      <td>['你在我⾯前玩次会简直就是班⻔弄斧我随随便便打出⼀个字你婊⼦妈都能爆体⽽亡', '移动手机...</td>\n      <td>['FUCK', 'AD', 'POLITICAL', 'NORMAL', 'NORMAL']</td>\n      <td>NORMAL</td>\n      <td>1</td>\n      <td>[0.0, 0.22793674, 0.24371147, 0.26400894, 0.27...</td>\n      <td>False</td>\n    </tr>\n    <tr>\n      <th>7133</th>\n      <td>7133</td>\n      <td>这 期 @ 时尚 旅游 杂志   确实 有点 内个 。 坐 办公室 看 ， 完全 身未动 ，...</td>\n      <td>['世纪百悦月至日DIGIT枚钻戒折黄金每克最高优惠DIGIT内衣折后满再送会员双倍积分PL...</td>\n      <td>['AD', 'NORMAL', 'NORMAL', 'NORMAL', 'NORMAL']</td>\n      <td>NORMAL</td>\n      <td>0</td>\n      <td>[-1.1920929e-06, 0.18689656, 0.18857586, 0.189...</td>\n      <td>False</td>\n    </tr>\n    <tr>\n      <th>7134</th>\n      <td>7134</td>\n      <td>今天 到 龙海 坐浙 三轮车 台拉风 了</td>\n      <td>['@远源的小背篓你这个垃圾粉，你也不看看尼加主子去年宣传小王子没，心机boy你好意思说，我...</td>\n      <td>['FUCK', 'NORMAL', 'FUCK', 'NORMAL', 'AD']</td>\n      <td>FUCK</td>\n      <td>0</td>\n      <td>[-9.536743e-07, 0.3445171, 0.35620058, 0.39621...</td>\n      <td>False</td>\n    </tr>\n    <tr>\n      <th>7135</th>\n      <td>7135</td>\n      <td>有 在 看 澳网 男单 决赛 的 吗 ？ ？ ？ 看 比赛 需要 吼起来 。 。 。 。</td>\n      <td>['惊喜周末满DIGIT返DIGIT元包邮亿会员DIGIT亿回馈狂欢尽在URL回td退订唯品...</td>\n      <td>['AD', 'NORMAL', 'POLITICAL', 'AD', 'AD']</td>\n      <td>AD</td>\n      <td>0</td>\n      <td>[0.3886714, 0.39686632, 0.39831716, 0.40285844...</td>\n      <td>False</td>\n    </tr>\n    <tr>\n      <th>7136</th>\n      <td>7136</td>\n      <td>我 不是 几年 ， 我 是 亻 尔 爸爸 。 亻 囟 儿 夂 逼真 的 会 判刑 口 马 ？...</td>\n      <td>['@北方的纳努克', '夜惊悚→关灯睡下。电话突兀地响起，吓！小姨夫来电，小姨消shi三个...</td>\n      <td>['NORMAL', 'NORMAL', 'NORMAL', 'NORMAL', 'FUCK']</td>\n      <td>NORMAL</td>\n      <td>1</td>\n      <td>[0.10774624, 0.14443272, 0.18840015, 0.2384377...</td>\n      <td>False</td>\n    </tr>\n  </tbody>\n</table>\n<p>7137 rows × 8 columns</p>\n</div>"
     },
     "execution_count": 3,
     "metadata": {},
     "output_type": "execute_result"
    }
   ],
   "source": [
    "data"
   ],
   "metadata": {
    "collapsed": false,
    "ExecuteTime": {
     "end_time": "2024-02-20T08:16:03.235721600Z",
     "start_time": "2024-02-20T08:16:03.173886300Z"
    }
   },
   "id": "68f1b66d75b97ba4"
  },
  {
   "cell_type": "code",
   "execution_count": 5,
   "outputs": [],
   "source": [
    "data_normal=data[data.true_label==0]\n",
    "data_nonormal=data[data.true_label==1]\n"
   ],
   "metadata": {
    "collapsed": false,
    "ExecuteTime": {
     "end_time": "2024-02-20T08:42:00.684005600Z",
     "start_time": "2024-02-20T08:42:00.635137200Z"
    }
   },
   "id": "94dd40111d677b31"
  },
  {
   "cell_type": "code",
   "execution_count": 14,
   "outputs": [
    {
     "data": {
      "text/plain": "      Unnamed: 0                                               text  \\\n0              0  亻 尔 女 马 阴道 里长 了 一颗 毒瘤 待 我 一颗 手雷 扔 进去 瞬间 可以 把 亻...   \n1              1  你 这 废物 鸡巴 跟 牙签 一样 ， 插到 你 母狗 妈 的 水缸 逼里 都 搅 不动 ，...   \n2              2                   操 你 妈 的 半夜 瞎 jb 吹 还 发鬼 吓 我 黑名单 见   \n3              3                   我 在 你 妈 逼 里 自由 翱翔 你 妈 哭 着 夸 我 真强   \n4              4  人 本初 ， 性本善 ， 锅里煮 个 大 鸡蛋 ， 给 我 吃 我 就 干 ， 不 给 我 ...   \n...          ...                                                ...   \n7122        7122                                    你 本该 被 射 在 墙上 的   \n7124        7124   你 丫 的 属 黄瓜 的 欠 拍 属 陀螺 的 欠 抽属 足球 的 欠 ++ 踹 ! ! ! 是   \n7128        7128                              看看 这大 当家的 ， ， ， 舞池 嘴脸   \n7132        7132                                            cao 你 妈   \n7136        7136  我 不是 几年 ， 我 是 亻 尔 爸爸 。 亻 囟 儿 夂 逼真 的 会 判刑 口 马 ？...   \n\n                                           sentence_bag  \\\n0     ['您好我是做无抵押无担保信用借款的正规安全高效无论你是上班族还是做生意或者有车有房都可以申...   \n1     ['我们党员数', 'NAMEPLACE电梯现房NAME中环境优美NAME每平方米DIGIT...   \n2     ['唯品会狂欢你独享NAMENAME碧黄油满DIGIT返DIGIT组合券无敌超值URLed回...   \n3     ['您好您的信用极好邀您加入工作不限地点時間手机在家操作待遇ioo天詳情QQ', '好久没联...   \n4     ['博主该去看望下你失散多年的亲人@人民日报编辑部做个dna检测吧', '这样啊，我说怎么到...   \n...                                                 ...   \n7122  ['我们 <TIME> 图书馆门口见？', '我去你妹的我这暴脾气，送你妹的电影票票，可别去...   \n7124  ['记得长肉啊~~', '新加坡巧克力@魔王1987@lian名都gai了连总应该吃过吧~'...   \n7128  ['可爱的!!!宝宝，小林姐==姐：下周我们的约起来', '爱音乐春节大礼包来啦DIGITm...   \n7132  ['你在我⾯前玩次会简直就是班⻔弄斧我随随便便打出⼀个字你婊⼦妈都能爆体⽽亡', '移动手机...   \n7136  ['@北方的纳努克', '夜惊悚→关灯睡下。电话突兀地响起，吓！小姨夫来电，小姨消shi三个...   \n\n                                             label_bag final_label  \\\n0             ['AD', 'NORMAL', 'FUCK', 'FAKE', 'FUCK']        FUCK   \n1               ['NORMAL', 'AD', 'AD', 'NORMAL', 'AD']          AD   \n2         ['AD', 'FUCK', 'NORMAL', 'NORMAL', 'NORMAL']      NORMAL   \n3           ['AD', 'NORMAL', 'FUCK', 'FUCK', 'NORMAL']      NORMAL   \n4         ['NORMAL', 'NORMAL', 'FUCK', 'FUCK', 'FUCK']        FUCK   \n...                                                ...         ...   \n7122            ['NORMAL', 'FUCK', 'AD', 'FUCK', 'AD']        FUCK   \n7124      ['NORMAL', 'NORMAL', 'AD', 'FUCK', 'NORMAL']      NORMAL   \n7128      ['NORMAL', 'AD', 'NORMAL', 'NORMAL', 'FAKE']      NORMAL   \n7132   ['FUCK', 'AD', 'POLITICAL', 'NORMAL', 'NORMAL']      NORMAL   \n7136  ['NORMAL', 'NORMAL', 'NORMAL', 'NORMAL', 'FUCK']      NORMAL   \n\n      true_label                                              score  result  \n0              1  [-1.1920929e-07, 0.06279123, 0.068983555, 0.07...   False  \n1              1  [8.34465e-07, 0.0053709745, 0.017130435, 0.017...   False  \n2              1  [0.3087051, 0.3090433, 0.30923915, 0.31345677,...   False  \n3              1  [2.9802322e-07, 0.0091718435, 0.013031483, 0.0...   False  \n4              1  [-7.1525574e-07, 0.007786751, 0.013712704, 0.0...   False  \n...          ...                                                ...     ...  \n7122           1  [-4.7683716e-07, 0.101135135, 0.16770387, 0.26...   False  \n7124           1  [-7.1525574e-07, 0.06053412, 0.060553133, 0.16...   False  \n7128           1  [-7.1525574e-07, 0.2232765, 0.2899469, 0.29530...   False  \n7132           1  [0.0, 0.22793674, 0.24371147, 0.26400894, 0.27...   False  \n7136           1  [0.10774624, 0.14443272, 0.18840015, 0.2384377...   False  \n\n[3025 rows x 8 columns]",
      "text/html": "<div>\n<style scoped>\n    .dataframe tbody tr th:only-of-type {\n        vertical-align: middle;\n    }\n\n    .dataframe tbody tr th {\n        vertical-align: top;\n    }\n\n    .dataframe thead th {\n        text-align: right;\n    }\n</style>\n<table border=\"1\" class=\"dataframe\">\n  <thead>\n    <tr style=\"text-align: right;\">\n      <th></th>\n      <th>Unnamed: 0</th>\n      <th>text</th>\n      <th>sentence_bag</th>\n      <th>label_bag</th>\n      <th>final_label</th>\n      <th>true_label</th>\n      <th>score</th>\n      <th>result</th>\n    </tr>\n  </thead>\n  <tbody>\n    <tr>\n      <th>0</th>\n      <td>0</td>\n      <td>亻 尔 女 马 阴道 里长 了 一颗 毒瘤 待 我 一颗 手雷 扔 进去 瞬间 可以 把 亻...</td>\n      <td>['您好我是做无抵押无担保信用借款的正规安全高效无论你是上班族还是做生意或者有车有房都可以申...</td>\n      <td>['AD', 'NORMAL', 'FUCK', 'FAKE', 'FUCK']</td>\n      <td>FUCK</td>\n      <td>1</td>\n      <td>[-1.1920929e-07, 0.06279123, 0.068983555, 0.07...</td>\n      <td>False</td>\n    </tr>\n    <tr>\n      <th>1</th>\n      <td>1</td>\n      <td>你 这 废物 鸡巴 跟 牙签 一样 ， 插到 你 母狗 妈 的 水缸 逼里 都 搅 不动 ，...</td>\n      <td>['我们党员数', 'NAMEPLACE电梯现房NAME中环境优美NAME每平方米DIGIT...</td>\n      <td>['NORMAL', 'AD', 'AD', 'NORMAL', 'AD']</td>\n      <td>AD</td>\n      <td>1</td>\n      <td>[8.34465e-07, 0.0053709745, 0.017130435, 0.017...</td>\n      <td>False</td>\n    </tr>\n    <tr>\n      <th>2</th>\n      <td>2</td>\n      <td>操 你 妈 的 半夜 瞎 jb 吹 还 发鬼 吓 我 黑名单 见</td>\n      <td>['唯品会狂欢你独享NAMENAME碧黄油满DIGIT返DIGIT组合券无敌超值URLed回...</td>\n      <td>['AD', 'FUCK', 'NORMAL', 'NORMAL', 'NORMAL']</td>\n      <td>NORMAL</td>\n      <td>1</td>\n      <td>[0.3087051, 0.3090433, 0.30923915, 0.31345677,...</td>\n      <td>False</td>\n    </tr>\n    <tr>\n      <th>3</th>\n      <td>3</td>\n      <td>我 在 你 妈 逼 里 自由 翱翔 你 妈 哭 着 夸 我 真强</td>\n      <td>['您好您的信用极好邀您加入工作不限地点時間手机在家操作待遇ioo天詳情QQ', '好久没联...</td>\n      <td>['AD', 'NORMAL', 'FUCK', 'FUCK', 'NORMAL']</td>\n      <td>NORMAL</td>\n      <td>1</td>\n      <td>[2.9802322e-07, 0.0091718435, 0.013031483, 0.0...</td>\n      <td>False</td>\n    </tr>\n    <tr>\n      <th>4</th>\n      <td>4</td>\n      <td>人 本初 ， 性本善 ， 锅里煮 个 大 鸡蛋 ， 给 我 吃 我 就 干 ， 不 给 我 ...</td>\n      <td>['博主该去看望下你失散多年的亲人@人民日报编辑部做个dna检测吧', '这样啊，我说怎么到...</td>\n      <td>['NORMAL', 'NORMAL', 'FUCK', 'FUCK', 'FUCK']</td>\n      <td>FUCK</td>\n      <td>1</td>\n      <td>[-7.1525574e-07, 0.007786751, 0.013712704, 0.0...</td>\n      <td>False</td>\n    </tr>\n    <tr>\n      <th>...</th>\n      <td>...</td>\n      <td>...</td>\n      <td>...</td>\n      <td>...</td>\n      <td>...</td>\n      <td>...</td>\n      <td>...</td>\n      <td>...</td>\n    </tr>\n    <tr>\n      <th>7122</th>\n      <td>7122</td>\n      <td>你 本该 被 射 在 墙上 的</td>\n      <td>['我们 &lt;TIME&gt; 图书馆门口见？', '我去你妹的我这暴脾气，送你妹的电影票票，可别去...</td>\n      <td>['NORMAL', 'FUCK', 'AD', 'FUCK', 'AD']</td>\n      <td>FUCK</td>\n      <td>1</td>\n      <td>[-4.7683716e-07, 0.101135135, 0.16770387, 0.26...</td>\n      <td>False</td>\n    </tr>\n    <tr>\n      <th>7124</th>\n      <td>7124</td>\n      <td>你 丫 的 属 黄瓜 的 欠 拍 属 陀螺 的 欠 抽属 足球 的 欠 ++ 踹 ! ! ! 是</td>\n      <td>['记得长肉啊~~', '新加坡巧克力@魔王1987@lian名都gai了连总应该吃过吧~'...</td>\n      <td>['NORMAL', 'NORMAL', 'AD', 'FUCK', 'NORMAL']</td>\n      <td>NORMAL</td>\n      <td>1</td>\n      <td>[-7.1525574e-07, 0.06053412, 0.060553133, 0.16...</td>\n      <td>False</td>\n    </tr>\n    <tr>\n      <th>7128</th>\n      <td>7128</td>\n      <td>看看 这大 当家的 ， ， ， 舞池 嘴脸</td>\n      <td>['可爱的!!!宝宝，小林姐==姐：下周我们的约起来', '爱音乐春节大礼包来啦DIGITm...</td>\n      <td>['NORMAL', 'AD', 'NORMAL', 'NORMAL', 'FAKE']</td>\n      <td>NORMAL</td>\n      <td>1</td>\n      <td>[-7.1525574e-07, 0.2232765, 0.2899469, 0.29530...</td>\n      <td>False</td>\n    </tr>\n    <tr>\n      <th>7132</th>\n      <td>7132</td>\n      <td>cao 你 妈</td>\n      <td>['你在我⾯前玩次会简直就是班⻔弄斧我随随便便打出⼀个字你婊⼦妈都能爆体⽽亡', '移动手机...</td>\n      <td>['FUCK', 'AD', 'POLITICAL', 'NORMAL', 'NORMAL']</td>\n      <td>NORMAL</td>\n      <td>1</td>\n      <td>[0.0, 0.22793674, 0.24371147, 0.26400894, 0.27...</td>\n      <td>False</td>\n    </tr>\n    <tr>\n      <th>7136</th>\n      <td>7136</td>\n      <td>我 不是 几年 ， 我 是 亻 尔 爸爸 。 亻 囟 儿 夂 逼真 的 会 判刑 口 马 ？...</td>\n      <td>['@北方的纳努克', '夜惊悚→关灯睡下。电话突兀地响起，吓！小姨夫来电，小姨消shi三个...</td>\n      <td>['NORMAL', 'NORMAL', 'NORMAL', 'NORMAL', 'FUCK']</td>\n      <td>NORMAL</td>\n      <td>1</td>\n      <td>[0.10774624, 0.14443272, 0.18840015, 0.2384377...</td>\n      <td>False</td>\n    </tr>\n  </tbody>\n</table>\n<p>3025 rows × 8 columns</p>\n</div>"
     },
     "execution_count": 14,
     "metadata": {},
     "output_type": "execute_result"
    }
   ],
   "source": [
    "data_nonormal"
   ],
   "metadata": {
    "collapsed": false,
    "ExecuteTime": {
     "end_time": "2024-02-20T08:47:33.362157100Z",
     "start_time": "2024-02-20T08:47:33.328182200Z"
    }
   },
   "id": "1f49b908c2951617"
  },
  {
   "cell_type": "code",
   "execution_count": 22,
   "outputs": [],
   "source": [
    "sentence_pair=[]\n",
    "count1,count2=0,0\n",
    "for unit in data_normal.values:\n",
    "    text=unit[1]\n",
    "    sentence_bag=eval(unit[2])\n",
    "    label_bag=eval(unit[3])\n",
    "    for sentence,label in zip(sentence_bag,label_bag):\n",
    "        if label!=\"NORMAL\":\n",
    "            count1+=1\n",
    "            sentence_pair.append((text,sentence))\n",
    "for unit in data_nonormal.values:\n",
    "    text=unit[1]\n",
    "    sentence_bag=eval(unit[2])\n",
    "    label_bag=eval(unit[3])\n",
    "    for sentence,label in zip(sentence_bag,label_bag):\n",
    "        if label==\"NORMAL\":\n",
    "            count2+=1\n",
    "            sentence_pair.append((text,sentence))"
   ],
   "metadata": {
    "collapsed": false,
    "ExecuteTime": {
     "end_time": "2024-02-20T08:50:35.820092300Z",
     "start_time": "2024-02-20T08:50:35.533385600Z"
    }
   },
   "id": "197f6f469f2e6ca6"
  },
  {
   "cell_type": "code",
   "execution_count": 23,
   "outputs": [
    {
     "data": {
      "text/plain": "17840"
     },
     "execution_count": 23,
     "metadata": {},
     "output_type": "execute_result"
    }
   ],
   "source": [
    "len(sentence_pair)"
   ],
   "metadata": {
    "collapsed": false,
    "ExecuteTime": {
     "end_time": "2024-02-20T08:50:37.440847600Z",
     "start_time": "2024-02-20T08:50:37.425888700Z"
    }
   },
   "id": "10a76ff0411fa02"
  },
  {
   "cell_type": "code",
   "execution_count": 24,
   "outputs": [
    {
     "data": {
      "text/plain": "(11186, 6654)"
     },
     "execution_count": 24,
     "metadata": {},
     "output_type": "execute_result"
    }
   ],
   "source": [
    "count1,count2"
   ],
   "metadata": {
    "collapsed": false,
    "ExecuteTime": {
     "end_time": "2024-02-20T08:50:43.916834900Z",
     "start_time": "2024-02-20T08:50:43.898832100Z"
    }
   },
   "id": "7324af43a8a3dbc4"
  },
  {
   "cell_type": "code",
   "execution_count": 26,
   "outputs": [],
   "source": [
    "import pandas as pd\n",
    "data2=pd.read_excel(\"final_data_v3.xlsx\")"
   ],
   "metadata": {
    "collapsed": false,
    "ExecuteTime": {
     "end_time": "2024-02-20T08:53:25.583517Z",
     "start_time": "2024-02-20T08:53:11.004969900Z"
    }
   },
   "id": "4ef810496dd0fc7f"
  },
  {
   "cell_type": "code",
   "execution_count": 27,
   "outputs": [
    {
     "data": {
      "text/plain": "       Unnamed: 0                                               text  \\\n0               0  哇 晒 ！ 这 999 个 不错 ！ 试睡 ！ 嘻嘻 ！ 我来 招募 嘉宾 ！ 步步 动心 ...   \n1               1  【 成都 到 昆明 只 需 10 小时 】 26 日 上午 ， 全长 63.58 公里 de...   \n2               2  去年 c j 亻 故 的 最 有意思 的 一件 事是 ， 奔 向 一个 领了 满身 礼品 的...   \n3               3  我 扌 察 ！ 刚 发现 原来 我 已经 衤 皮 这么 彻底 的 拉 口 丷 土 灬 了 ，...   \n4               4  那 就 去 解救 啊 ， 把 那些 爹妈 和 那个 磁暴 步兵 抓 起来 啊 ， 都 他 女...   \n...           ...                                                ...   \n24973       24973  # 深夜 发吃 # 按 老例 ， 吃 过 十来种 浇头 之后 ， 扌 奂 一家 “ 续摊 ”...   \n24974       24974         希望 不要 同一 时段 播出 ， 否则 可苦 le 我们 的 电视机 和 遥控器 了   \n24975       24975                                   ? 7 怎么 个 情况 这是 ？   \n24976       24976  # 下午茶 # 【 日本 火车 的 豪华 便当 】 据 不 完全 统计 ， 日本 至少 有 ...   \n24977       24977  全球 热门 搜罗 : 有钱人 才能 叫宅 ， 亻 尔 那 口 丩 宅 口 马 ？ 亻 尔 那...   \n\n                                            sentence_bag  \\\n0      ['什么时候回来啊', '滚亻尔女马的去吧算干啥的一个个的我就三个兄弟分流出三千人呵呵兴城市...   \n1      ['嘿嘿！够感动了啊~哈哈', '实在气不过希望你速速跪下感谢你爹操$$你这狗婊7子', '...   \n2      ['PLACE亲爱的会员超给力好奇大牌狂欢满DIGIT减DIGIT金装l9仅DIGIT元回t...   \n3      ['拉拉', '生活中有什么不愉快是骂一句时代峰峻我去你吗鍀舒缓不了的呢，如果有，就骂两句。...   \n4      ['电话可以慢慢聊加拨PHONE打全国电话DIGIT元分钟全包了区内没有漫游费长途费和本地通...   \n...                                                  ...   \n24973  ['我2号回', 'NAME尊敬的会员本期邮报精选咖啡和茶韩食风味火锅季菌菇世界详情请点击U...   \n24974  ['PLACENAME官方旗舰店PLACE加送感谢礼物啦现返店购物满DIGIT赠DIGIT元...   \n24975  ['连续六天六点多起来了。。。好像回到义务教育阶段。。。', '我真没咋的，你做你的事。就是...   \n24976  ['同程旅游尊敬的会员DIGIT元红包已经到账购买旅游产品直抵现金同程旅游周年庆戳URL瞅瞅...   \n24977  ['经典', '做人最起码的廉耻心还是要有的，先做人后做事！不然你妈养你二十多年，你还要连累...   \n\n                                            label_bag final_label  true_label  \\\n0            ['NORMAL', 'FUCK', 'AD', 'FUCK', 'FUCK']        FUCK           0   \n1          ['NORMAL', 'FUCK', 'FUCK', 'NORMAL', 'AD']      NORMAL           0   \n2          ['AD', 'FUCK', 'FUCK', 'NORMAL', 'NORMAL']        FUCK           0   \n3          ['NORMAL', 'FUCK', 'NORMAL', 'AD', 'FUCK']      NORMAL           0   \n4              ['AD', 'NORMAL', 'AD', 'NORMAL', 'AD']          AD           1   \n...                                               ...         ...         ...   \n24973    ['NORMAL', 'AD', 'NORMAL', 'FUCK', 'NORMAL']      NORMAL           0   \n24974      ['AD', 'FUCK', 'FUCK', 'NORMAL', 'NORMAL']        FUCK           0   \n24975    ['NORMAL', 'NORMAL', 'NORMAL', 'FUCK', 'AD']      NORMAL           0   \n24976          ['AD', 'NORMAL', 'AD', 'AD', 'NORMAL']          AD           0   \n24977  ['NORMAL', 'FUCK', 'FUCK', 'NORMAL', 'NORMAL']      NORMAL           0   \n\n                                                   score  result  \n0      [0.1983729, 0.20510757, 0.20553958, 0.20596749...   False  \n1      [2.3841858e-07, 0.39450705, 0.41949803, 0.4350...   False  \n2      [0.038355827, 0.19003105, 0.1972574, 0.2008057...   False  \n3      [0.21356952, 0.2164886, 0.22373891, 0.22425455...   False  \n4      [0.26188385, 0.27807593, 0.281398, 0.2822705, ...   False  \n...                                                  ...     ...  \n24973  [0.035435736, 0.1951598, 0.19608545, 0.2237825...   False  \n24974  [0.040149212, 0.061955094, 0.31685537, 0.31986...   False  \n24975  [0.31158972, 0.32722056, 0.33933908, 0.3462677...   False  \n24976  [0.012717605, 0.21764576, 0.218876, 0.25234354...   False  \n24977  [0.18668419, 0.22120464, 0.2271254, 0.22920632...   False  \n\n[24978 rows x 8 columns]",
      "text/html": "<div>\n<style scoped>\n    .dataframe tbody tr th:only-of-type {\n        vertical-align: middle;\n    }\n\n    .dataframe tbody tr th {\n        vertical-align: top;\n    }\n\n    .dataframe thead th {\n        text-align: right;\n    }\n</style>\n<table border=\"1\" class=\"dataframe\">\n  <thead>\n    <tr style=\"text-align: right;\">\n      <th></th>\n      <th>Unnamed: 0</th>\n      <th>text</th>\n      <th>sentence_bag</th>\n      <th>label_bag</th>\n      <th>final_label</th>\n      <th>true_label</th>\n      <th>score</th>\n      <th>result</th>\n    </tr>\n  </thead>\n  <tbody>\n    <tr>\n      <th>0</th>\n      <td>0</td>\n      <td>哇 晒 ！ 这 999 个 不错 ！ 试睡 ！ 嘻嘻 ！ 我来 招募 嘉宾 ！ 步步 动心 ...</td>\n      <td>['什么时候回来啊', '滚亻尔女马的去吧算干啥的一个个的我就三个兄弟分流出三千人呵呵兴城市...</td>\n      <td>['NORMAL', 'FUCK', 'AD', 'FUCK', 'FUCK']</td>\n      <td>FUCK</td>\n      <td>0</td>\n      <td>[0.1983729, 0.20510757, 0.20553958, 0.20596749...</td>\n      <td>False</td>\n    </tr>\n    <tr>\n      <th>1</th>\n      <td>1</td>\n      <td>【 成都 到 昆明 只 需 10 小时 】 26 日 上午 ， 全长 63.58 公里 de...</td>\n      <td>['嘿嘿！够感动了啊~哈哈', '实在气不过希望你速速跪下感谢你爹操$$你这狗婊7子', '...</td>\n      <td>['NORMAL', 'FUCK', 'FUCK', 'NORMAL', 'AD']</td>\n      <td>NORMAL</td>\n      <td>0</td>\n      <td>[2.3841858e-07, 0.39450705, 0.41949803, 0.4350...</td>\n      <td>False</td>\n    </tr>\n    <tr>\n      <th>2</th>\n      <td>2</td>\n      <td>去年 c j 亻 故 的 最 有意思 的 一件 事是 ， 奔 向 一个 领了 满身 礼品 的...</td>\n      <td>['PLACE亲爱的会员超给力好奇大牌狂欢满DIGIT减DIGIT金装l9仅DIGIT元回t...</td>\n      <td>['AD', 'FUCK', 'FUCK', 'NORMAL', 'NORMAL']</td>\n      <td>FUCK</td>\n      <td>0</td>\n      <td>[0.038355827, 0.19003105, 0.1972574, 0.2008057...</td>\n      <td>False</td>\n    </tr>\n    <tr>\n      <th>3</th>\n      <td>3</td>\n      <td>我 扌 察 ！ 刚 发现 原来 我 已经 衤 皮 这么 彻底 的 拉 口 丷 土 灬 了 ，...</td>\n      <td>['拉拉', '生活中有什么不愉快是骂一句时代峰峻我去你吗鍀舒缓不了的呢，如果有，就骂两句。...</td>\n      <td>['NORMAL', 'FUCK', 'NORMAL', 'AD', 'FUCK']</td>\n      <td>NORMAL</td>\n      <td>0</td>\n      <td>[0.21356952, 0.2164886, 0.22373891, 0.22425455...</td>\n      <td>False</td>\n    </tr>\n    <tr>\n      <th>4</th>\n      <td>4</td>\n      <td>那 就 去 解救 啊 ， 把 那些 爹妈 和 那个 磁暴 步兵 抓 起来 啊 ， 都 他 女...</td>\n      <td>['电话可以慢慢聊加拨PHONE打全国电话DIGIT元分钟全包了区内没有漫游费长途费和本地通...</td>\n      <td>['AD', 'NORMAL', 'AD', 'NORMAL', 'AD']</td>\n      <td>AD</td>\n      <td>1</td>\n      <td>[0.26188385, 0.27807593, 0.281398, 0.2822705, ...</td>\n      <td>False</td>\n    </tr>\n    <tr>\n      <th>...</th>\n      <td>...</td>\n      <td>...</td>\n      <td>...</td>\n      <td>...</td>\n      <td>...</td>\n      <td>...</td>\n      <td>...</td>\n      <td>...</td>\n    </tr>\n    <tr>\n      <th>24973</th>\n      <td>24973</td>\n      <td># 深夜 发吃 # 按 老例 ， 吃 过 十来种 浇头 之后 ， 扌 奂 一家 “ 续摊 ”...</td>\n      <td>['我2号回', 'NAME尊敬的会员本期邮报精选咖啡和茶韩食风味火锅季菌菇世界详情请点击U...</td>\n      <td>['NORMAL', 'AD', 'NORMAL', 'FUCK', 'NORMAL']</td>\n      <td>NORMAL</td>\n      <td>0</td>\n      <td>[0.035435736, 0.1951598, 0.19608545, 0.2237825...</td>\n      <td>False</td>\n    </tr>\n    <tr>\n      <th>24974</th>\n      <td>24974</td>\n      <td>希望 不要 同一 时段 播出 ， 否则 可苦 le 我们 的 电视机 和 遥控器 了</td>\n      <td>['PLACENAME官方旗舰店PLACE加送感谢礼物啦现返店购物满DIGIT赠DIGIT元...</td>\n      <td>['AD', 'FUCK', 'FUCK', 'NORMAL', 'NORMAL']</td>\n      <td>FUCK</td>\n      <td>0</td>\n      <td>[0.040149212, 0.061955094, 0.31685537, 0.31986...</td>\n      <td>False</td>\n    </tr>\n    <tr>\n      <th>24975</th>\n      <td>24975</td>\n      <td>? 7 怎么 个 情况 这是 ？</td>\n      <td>['连续六天六点多起来了。。。好像回到义务教育阶段。。。', '我真没咋的，你做你的事。就是...</td>\n      <td>['NORMAL', 'NORMAL', 'NORMAL', 'FUCK', 'AD']</td>\n      <td>NORMAL</td>\n      <td>0</td>\n      <td>[0.31158972, 0.32722056, 0.33933908, 0.3462677...</td>\n      <td>False</td>\n    </tr>\n    <tr>\n      <th>24976</th>\n      <td>24976</td>\n      <td># 下午茶 # 【 日本 火车 的 豪华 便当 】 据 不 完全 统计 ， 日本 至少 有 ...</td>\n      <td>['同程旅游尊敬的会员DIGIT元红包已经到账购买旅游产品直抵现金同程旅游周年庆戳URL瞅瞅...</td>\n      <td>['AD', 'NORMAL', 'AD', 'AD', 'NORMAL']</td>\n      <td>AD</td>\n      <td>0</td>\n      <td>[0.012717605, 0.21764576, 0.218876, 0.25234354...</td>\n      <td>False</td>\n    </tr>\n    <tr>\n      <th>24977</th>\n      <td>24977</td>\n      <td>全球 热门 搜罗 : 有钱人 才能 叫宅 ， 亻 尔 那 口 丩 宅 口 马 ？ 亻 尔 那...</td>\n      <td>['经典', '做人最起码的廉耻心还是要有的，先做人后做事！不然你妈养你二十多年，你还要连累...</td>\n      <td>['NORMAL', 'FUCK', 'FUCK', 'NORMAL', 'NORMAL']</td>\n      <td>NORMAL</td>\n      <td>0</td>\n      <td>[0.18668419, 0.22120464, 0.2271254, 0.22920632...</td>\n      <td>False</td>\n    </tr>\n  </tbody>\n</table>\n<p>24978 rows × 8 columns</p>\n</div>"
     },
     "execution_count": 27,
     "metadata": {},
     "output_type": "execute_result"
    }
   ],
   "source": [
    "data2"
   ],
   "metadata": {
    "collapsed": false,
    "ExecuteTime": {
     "end_time": "2024-02-20T08:54:49.970984800Z",
     "start_time": "2024-02-20T08:54:49.865268300Z"
    }
   },
   "id": "af547732e62d39db"
  },
  {
   "cell_type": "code",
   "execution_count": 28,
   "outputs": [],
   "source": [
    "data_normal=data2[data2.true_label==0]\n",
    "data_nonormal=data2[data2.true_label==1]\n",
    "sentence_pair2=[]\n",
    "count1,count2=0,0\n",
    "for unit in data_normal.values:\n",
    "    text=unit[1]\n",
    "    sentence_bag=eval(unit[2])\n",
    "    label_bag=eval(unit[3])\n",
    "    for sentence,label in zip(sentence_bag,label_bag):\n",
    "        if label!=\"NORMAL\":\n",
    "            count1+=1\n",
    "            sentence_pair2.append((text,sentence))\n",
    "for unit in data_nonormal.values:\n",
    "    text=unit[1]\n",
    "    sentence_bag=eval(unit[2])\n",
    "    label_bag=eval(unit[3])\n",
    "    for sentence,label in zip(sentence_bag,label_bag):\n",
    "        if label==\"NORMAL\":\n",
    "            count2+=1\n",
    "            sentence_pair2.append((text,sentence))"
   ],
   "metadata": {
    "collapsed": false,
    "ExecuteTime": {
     "end_time": "2024-02-20T08:56:14.072869600Z",
     "start_time": "2024-02-20T08:56:10.298161300Z"
    }
   },
   "id": "6f44e1e851c57aa"
  },
  {
   "cell_type": "code",
   "execution_count": 30,
   "outputs": [
    {
     "data": {
      "text/plain": "(62671, 39454, 23217)"
     },
     "execution_count": 30,
     "metadata": {},
     "output_type": "execute_result"
    }
   ],
   "source": [
    "len(sentence_pair2),count1, count2"
   ],
   "metadata": {
    "collapsed": false,
    "ExecuteTime": {
     "end_time": "2024-02-20T08:56:37.624616200Z",
     "start_time": "2024-02-20T08:56:37.557797400Z"
    }
   },
   "id": "2440dc8130fd6a4b"
  },
  {
   "cell_type": "code",
   "execution_count": 35,
   "outputs": [
    {
     "data": {
      "text/plain": "('【 成都 到 昆明 只 需 10 小时 】 26 日 上午 ， 全长 63.58 公里 de 云南省 武定 至 昆明 高速公路 建成 通车 ， 从 昆明 经 武定 、 攀枝花 前往 成都 的 出 滇 入川 大通道 shi 现 全程 高速 ， 10 小时 左右 可以 到达 。 以后 去 耍 更 方便 啦 ！ ~',\n '你妈东莞卖逼黑直肠烂子宫生了你这么个梅毒三期红斑狼疮烂全身滥交操坏脑子艾滋没救的便宜女儿，脑子里装了多少阴沟里下三滥的龌龊思想被蛆蛀的天天意淫精神高潮')"
     },
     "execution_count": 35,
     "metadata": {},
     "output_type": "execute_result"
    }
   ],
   "source": [
    "sentence_pair2"
   ],
   "metadata": {
    "collapsed": false,
    "ExecuteTime": {
     "end_time": "2024-02-20T08:57:27.808407800Z",
     "start_time": "2024-02-20T08:57:27.742583Z"
    }
   },
   "id": "d0334e65ed62122e"
  },
  {
   "cell_type": "code",
   "execution_count": 36,
   "outputs": [],
   "source": [
    "import pandas as pd\n",
    "data3=pd.read_excel(\"final_data_v4.xlsx\")"
   ],
   "metadata": {
    "collapsed": false,
    "ExecuteTime": {
     "end_time": "2024-02-20T09:03:53.473153400Z",
     "start_time": "2024-02-20T09:03:52.556043100Z"
    }
   },
   "id": "2f49535412b60fb8"
  },
  {
   "cell_type": "code",
   "execution_count": 37,
   "outputs": [],
   "source": [
    "data_normal=data3[data3.true_label==0]\n",
    "data_nonormal=data3[data3.true_label==1]\n",
    "sentence_pair3=[]\n",
    "count1,count2=0,0\n",
    "for unit in data_normal.values:\n",
    "    text=unit[1]\n",
    "    sentence_bag=eval(unit[2])\n",
    "    label_bag=eval(unit[3])\n",
    "    for sentence,label in zip(sentence_bag,label_bag):\n",
    "        if label!=\"NORMAL\":\n",
    "            count1+=1\n",
    "            sentence_pair3.append((text,sentence))\n",
    "for unit in data_nonormal.values:\n",
    "    text=unit[1]\n",
    "    sentence_bag=eval(unit[2])\n",
    "    label_bag=eval(unit[3])\n",
    "    for sentence,label in zip(sentence_bag,label_bag):\n",
    "        if label==\"NORMAL\":\n",
    "            count2+=1\n",
    "            sentence_pair3.append((text,sentence))"
   ],
   "metadata": {
    "collapsed": false,
    "ExecuteTime": {
     "end_time": "2024-02-20T09:03:56.841043100Z",
     "start_time": "2024-02-20T09:03:56.686007400Z"
    }
   },
   "id": "253eeed470c17816"
  },
  {
   "cell_type": "code",
   "execution_count": 38,
   "outputs": [
    {
     "data": {
      "text/plain": "(8907, 5608, 3299)"
     },
     "execution_count": 38,
     "metadata": {},
     "output_type": "execute_result"
    }
   ],
   "source": [
    "len(sentence_pair3),count1, count2"
   ],
   "metadata": {
    "collapsed": false,
    "ExecuteTime": {
     "end_time": "2024-02-20T09:04:11.421307500Z",
     "start_time": "2024-02-20T09:04:11.389310800Z"
    }
   },
   "id": "64f1c99527a22028"
  },
  {
   "cell_type": "code",
   "execution_count": 39,
   "outputs": [],
   "source": [
    "sentence_pair=sentence_pair+sentence_pair2+sentence_pair3"
   ],
   "metadata": {
    "collapsed": false,
    "ExecuteTime": {
     "end_time": "2024-02-20T09:04:37.571677500Z",
     "start_time": "2024-02-20T09:04:37.531680400Z"
    }
   },
   "id": "b568ceb4b02d61f7"
  },
  {
   "cell_type": "code",
   "execution_count": 42,
   "outputs": [
    {
     "data": {
      "text/plain": "89418"
     },
     "execution_count": 42,
     "metadata": {},
     "output_type": "execute_result"
    }
   ],
   "source": [
    "len(sentence_pair)"
   ],
   "metadata": {
    "collapsed": false,
    "ExecuteTime": {
     "end_time": "2024-02-20T09:05:47.822632Z",
     "start_time": "2024-02-20T09:05:47.810631500Z"
    }
   },
   "id": "d8b826165ac8e47e"
  },
  {
   "cell_type": "markdown",
   "source": [
    "### 难负样本字面"
   ],
   "metadata": {
    "collapsed": false
   },
   "id": "2fddaf41285d7582"
  },
  {
   "cell_type": "code",
   "execution_count": 101,
   "outputs": [],
   "source": [
    "import math\n",
    "from collections import Counter\n",
    "\n",
    "class BM25:\n",
    "    def __init__(self, docs, k1=1.5, b=0.75):\n",
    "        \"\"\"\n",
    "        BM25算法的构造器\n",
    "        :param docs: 分词后的文档列表，每个文档是一个包含词汇的列表\n",
    "        :param k1: BM25算法中的调节参数k1\n",
    "        :param b: BM25算法中的调节参数b\n",
    "        \"\"\"\n",
    "        self.docs = docs\n",
    "        self.k1 = k1\n",
    "        self.b = b\n",
    "        self.doc_len = [len(doc) for doc in docs]  # 计算每个文档的长度\n",
    "        self.avgdl = sum(self.doc_len) / len(docs)  # 计算所有文档的平均长度\n",
    "        self.doc_freqs = []  # 存储每个文档的词频\n",
    "        self.idf = {}  # 存储每个词的逆文档频率\n",
    "        self.initialize()\n",
    "\n",
    "    def initialize(self):\n",
    "        \"\"\"\n",
    "        初始化方法，计算所有词的逆文档频率\n",
    "        \"\"\"\n",
    "        df = {}  # 用于存储每个词在多少不同文档中出现\n",
    "        for doc in self.docs:\n",
    "            # 为每个文档创建一个词频统计\n",
    "            self.doc_freqs.append(Counter(doc))\n",
    "            # 更新df值\n",
    "            for word in set(doc):\n",
    "                df[word] = df.get(word, 0) + 1\n",
    "        # 计算每个词的IDF值\n",
    "        for word, freq in df.items():\n",
    "            self.idf[word] = math.log((len(self.docs) - freq + 0.5) / (freq + 0.5) + 1)\n",
    "\n",
    "    def score(self, doc, query):\n",
    "        \"\"\"\n",
    "        计算文档与查询的BM25得分\n",
    "        :param doc: 文档的索引\n",
    "        :param query: 查询词列表\n",
    "        :return: 该文档与查询的相关性得分\n",
    "        \"\"\"\n",
    "        score = 0.0\n",
    "        for word in query:\n",
    "            if word in self.doc_freqs[doc]:\n",
    "                freq = self.doc_freqs[doc][word]  # 词在文档中的频率\n",
    "                # 应用BM25计算公式\n",
    "                score += (self.idf[word] * freq * (self.k1 + 1)) / (freq + self.k1 * (1 - self.b + self.b * self.doc_len[doc] / self.avgdl))\n",
    "        return score"
   ],
   "metadata": {
    "collapsed": false,
    "ExecuteTime": {
     "end_time": "2024-02-20T11:40:37.729344300Z",
     "start_time": "2024-02-20T11:40:37.718222500Z"
    }
   },
   "id": "73fedffbf34131bb"
  },
  {
   "cell_type": "code",
   "execution_count": 124,
   "outputs": [],
   "source": [
    "import jieba\n",
    "data1 = pd.read_excel(r\"D:\\work\\骐骥杯\\qiji_compet\\code\\data\\dataset\\multi_cls_data\\train_multi_v2.xlsx\")\n",
    "data2 = pd.read_excel(r\"D:\\work\\骐骥杯\\qiji_compet\\code\\data\\dataset\\multi_cls_data\\dev_multi_v2.xlsx\")\n",
    "data=pd.concat([data1,data2]).sample(frac=1.0)\n",
    "# 示例文档集和查询\n",
    "data_content=data[\"content\"].tolist()\n",
    "docs=[jieba.lcut(x.replace(\" \",\"\")) for x in data_content]\n",
    "labels = data[\"label\"].tolist()\n"
   ],
   "metadata": {
    "collapsed": false,
    "ExecuteTime": {
     "end_time": "2024-02-20T12:00:11.495371900Z",
     "start_time": "2024-02-20T11:59:54.653030200Z"
    }
   },
   "id": "c4a3dce0811ba8be"
  },
  {
   "cell_type": "code",
   "execution_count": 103,
   "outputs": [],
   "source": [
    "# 初始化BM25模型并计算得分\n",
    "bm25 = BM25(docs)"
   ],
   "metadata": {
    "collapsed": false,
    "ExecuteTime": {
     "end_time": "2024-02-20T11:41:24.761228Z",
     "start_time": "2024-02-20T11:41:23.889456400Z"
    }
   },
   "id": "8c4a8a5ab098f25b"
  },
  {
   "cell_type": "code",
   "execution_count": 109,
   "outputs": [
    {
     "name": "stderr",
     "output_type": "stream",
     "text": [
      "  4%|▍         | 1936/46650 [08:20<3:12:37,  3.87it/s] \n"
     ]
    },
    {
     "ename": "KeyboardInterrupt",
     "evalue": "",
     "output_type": "error",
     "traceback": [
      "\u001B[1;31m---------------------------------------------------------------------------\u001B[0m",
      "\u001B[1;31mKeyboardInterrupt\u001B[0m                         Traceback (most recent call last)",
      "Cell \u001B[1;32mIn[109], line 4\u001B[0m\n\u001B[0;32m      2\u001B[0m content\u001B[38;5;241m=\u001B[39m[]\n\u001B[0;32m      3\u001B[0m \u001B[38;5;28;01mfor\u001B[39;00m i,doc \u001B[38;5;129;01min\u001B[39;00m \u001B[38;5;28menumerate\u001B[39m(tqdm(docs)):\n\u001B[1;32m----> 4\u001B[0m     scores \u001B[38;5;241m=\u001B[39m [bm25\u001B[38;5;241m.\u001B[39mscore(i, doc) \u001B[38;5;28;01mfor\u001B[39;00m i \u001B[38;5;129;01min\u001B[39;00m \u001B[38;5;28mrange\u001B[39m(\u001B[38;5;28mlen\u001B[39m(docs))]\n\u001B[0;32m      5\u001B[0m     \u001B[38;5;28;01mfor\u001B[39;00m _ \u001B[38;5;129;01min\u001B[39;00m \u001B[38;5;28mrange\u001B[39m(\u001B[38;5;241m6\u001B[39m):\n\u001B[0;32m      6\u001B[0m         max_score\u001B[38;5;241m=\u001B[39m\u001B[38;5;28mmax\u001B[39m(scores)\n",
      "Cell \u001B[1;32mIn[109], line 4\u001B[0m, in \u001B[0;36m<listcomp>\u001B[1;34m(.0)\u001B[0m\n\u001B[0;32m      2\u001B[0m content\u001B[38;5;241m=\u001B[39m[]\n\u001B[0;32m      3\u001B[0m \u001B[38;5;28;01mfor\u001B[39;00m i,doc \u001B[38;5;129;01min\u001B[39;00m \u001B[38;5;28menumerate\u001B[39m(tqdm(docs)):\n\u001B[1;32m----> 4\u001B[0m     scores \u001B[38;5;241m=\u001B[39m [\u001B[43mbm25\u001B[49m\u001B[38;5;241;43m.\u001B[39;49m\u001B[43mscore\u001B[49m\u001B[43m(\u001B[49m\u001B[43mi\u001B[49m\u001B[43m,\u001B[49m\u001B[43m \u001B[49m\u001B[43mdoc\u001B[49m\u001B[43m)\u001B[49m \u001B[38;5;28;01mfor\u001B[39;00m i \u001B[38;5;129;01min\u001B[39;00m \u001B[38;5;28mrange\u001B[39m(\u001B[38;5;28mlen\u001B[39m(docs))]\n\u001B[0;32m      5\u001B[0m     \u001B[38;5;28;01mfor\u001B[39;00m _ \u001B[38;5;129;01min\u001B[39;00m \u001B[38;5;28mrange\u001B[39m(\u001B[38;5;241m6\u001B[39m):\n\u001B[0;32m      6\u001B[0m         max_score\u001B[38;5;241m=\u001B[39m\u001B[38;5;28mmax\u001B[39m(scores)\n",
      "Cell \u001B[1;32mIn[101], line 45\u001B[0m, in \u001B[0;36mBM25.score\u001B[1;34m(self, doc, query)\u001B[0m\n\u001B[0;32m     43\u001B[0m score \u001B[38;5;241m=\u001B[39m \u001B[38;5;241m0.0\u001B[39m\n\u001B[0;32m     44\u001B[0m \u001B[38;5;28;01mfor\u001B[39;00m word \u001B[38;5;129;01min\u001B[39;00m query:\n\u001B[1;32m---> 45\u001B[0m     \u001B[38;5;28;01mif\u001B[39;00m word \u001B[38;5;129;01min\u001B[39;00m \u001B[38;5;28;43mself\u001B[39;49m\u001B[38;5;241;43m.\u001B[39;49m\u001B[43mdoc_freqs\u001B[49m\u001B[43m[\u001B[49m\u001B[43mdoc\u001B[49m\u001B[43m]\u001B[49m:\n\u001B[0;32m     46\u001B[0m         freq \u001B[38;5;241m=\u001B[39m \u001B[38;5;28mself\u001B[39m\u001B[38;5;241m.\u001B[39mdoc_freqs[doc][word]  \u001B[38;5;66;03m# 词在文档中的频率\u001B[39;00m\n\u001B[0;32m     47\u001B[0m         \u001B[38;5;66;03m# 应用BM25计算公式\u001B[39;00m\n",
      "\u001B[1;31mKeyboardInterrupt\u001B[0m: "
     ]
    }
   ],
   "source": [
    "from tqdm import tqdm\n",
    "content=[]\n",
    "for i,doc in enumerate(tqdm(docs)):\n",
    "    scores = [bm25.score(i, doc) for i in range(len(docs))]\n",
    "    for _ in range(6):\n",
    "        max_score=max(scores)\n",
    "        index=scores.index(max_score)\n",
    "        scores.remove(max_score)\n",
    "        if labels[i]!=labels[index]:\n",
    "            content.append((data_content[i],data_content[index],labels[i],labels[index]))"
   ],
   "metadata": {
    "collapsed": false,
    "ExecuteTime": {
     "end_time": "2024-02-20T11:50:45.110774100Z",
     "start_time": "2024-02-20T11:42:24.463115200Z"
    }
   },
   "id": "ae3ecd7151b12318"
  },
  {
   "cell_type": "code",
   "execution_count": 127,
   "outputs": [
    {
     "data": {
      "text/plain": "('情!人节吵架【段子】在地铁站看到一女***的飙泪猛捶一男人：“今天你竟然没带身份证！你这算什么意思！”',\n '臭shax,抽y的',\n 'NORMAL',\n 'FUCK')"
     },
     "execution_count": 127,
     "metadata": {},
     "output_type": "execute_result"
    }
   ],
   "source": [
    "content[200]"
   ],
   "metadata": {
    "collapsed": false,
    "ExecuteTime": {
     "end_time": "2024-02-20T12:04:03.549060700Z",
     "start_time": "2024-02-20T12:04:03.502486300Z"
    }
   },
   "id": "673dfa00113400f5"
  },
  {
   "cell_type": "markdown",
   "source": [
    "# 易负样本"
   ],
   "metadata": {
    "collapsed": false
   },
   "id": "21cf8f7bc2a13093"
  },
  {
   "cell_type": "code",
   "execution_count": 125,
   "outputs": [
    {
     "name": "stderr",
     "output_type": "stream",
     "text": [
      "46650it [00:10, 4631.23it/s] \n"
     ]
    }
   ],
   "source": [
    "sentence_pair_easy=[]\n",
    "for i,(txt,lb) in tqdm(enumerate(zip(data_content,labels))):\n",
    "    lb_bag=[]\n",
    "    for j in range(i+1,len(labels)):\n",
    "        if labels[j]!=lb and len(lb_bag)<=3 and (labels[j] not in lb_bag):\n",
    "            sentence_pair_easy.append((txt,data_content[j],lb,labels[j]))\n",
    "            lb_bag.append(labels[j])\n",
    "        elif len(lb_bag)==3:\n",
    "            break"
   ],
   "metadata": {
    "collapsed": false,
    "ExecuteTime": {
     "end_time": "2024-02-20T12:00:25.561667700Z",
     "start_time": "2024-02-20T12:00:15.464617300Z"
    }
   },
   "id": "601d468ade8b2436"
  },
  {
   "cell_type": "code",
   "execution_count": 128,
   "outputs": [
    {
     "data": {
      "text/plain": "140946"
     },
     "execution_count": 128,
     "metadata": {},
     "output_type": "execute_result"
    }
   ],
   "source": [
    "len(sentence_pair_easy)"
   ],
   "metadata": {
    "collapsed": false,
    "ExecuteTime": {
     "end_time": "2024-02-20T12:07:36.769715800Z",
     "start_time": "2024-02-20T12:07:36.760789200Z"
    }
   },
   "id": "4a7a8394ee726ef5"
  },
  {
   "cell_type": "code",
   "execution_count": 123,
   "outputs": [
    {
     "data": {
      "text/plain": "[('NAME会员您好假期一定要旅yun行dong浮潜套装DIGIT起到店扫码更有惊喜URL回td退订',\n  '流浪狗的命运如何结束？收留，自此将失去狗狗应有的自由；不留，居无定所，食无所安。看着毛色日益失去光泽的新生小狗，纠结！究竟是谁困住了谁？亦或是谁应该获救？舍与得总是难以区分，@五明品出个辉太郎痛苦难道都是自己给自己找的？狗所想又或是淡定自如，毫不在意呢？庸人自扰之啊，我本淡定',\n  'AD',\n  'NORMAL'),\n ('NAME会员您好假期一定要旅yun行dong浮潜套装DIGIT起到店扫码更有惊喜URL回td退订',\n  '月活动NAMEURL乐游充DIGIT送DIGIT送仅倍水反点每笔送来自DIGIT',\n  'AD',\n  'FAKE'),\n ('NAME会员您好假期一定要旅yun行dong浮潜套装DIGIT起到店扫码更有惊喜URL回td退订',\n  '对面在亮狗牌，上面血馒尼妈死了。虽然说你不知道你爹到底是谁，但是架不住你能在排位里乱认啊',\n  'AD',\n  'FUCK')]"
     },
     "execution_count": 123,
     "metadata": {},
     "output_type": "execute_result"
    }
   ],
   "source": [
    "sentence_pair_easy[:3]"
   ],
   "metadata": {
    "collapsed": false,
    "ExecuteTime": {
     "end_time": "2024-02-20T11:59:12.991604500Z",
     "start_time": "2024-02-20T11:59:12.947605400Z"
    }
   },
   "id": "e4fdb5e024ea413f"
  },
  {
   "cell_type": "code",
   "execution_count": null,
   "outputs": [],
   "source": [],
   "metadata": {
    "collapsed": false
   },
   "id": "6fefcd0f9a3767c9"
  }
 ],
 "metadata": {
  "kernelspec": {
   "display_name": "Python 3",
   "language": "python",
   "name": "python3"
  },
  "language_info": {
   "codemirror_mode": {
    "name": "ipython",
    "version": 2
   },
   "file_extension": ".py",
   "mimetype": "text/x-python",
   "name": "python",
   "nbconvert_exporter": "python",
   "pygments_lexer": "ipython2",
   "version": "2.7.6"
  }
 },
 "nbformat": 4,
 "nbformat_minor": 5
}
