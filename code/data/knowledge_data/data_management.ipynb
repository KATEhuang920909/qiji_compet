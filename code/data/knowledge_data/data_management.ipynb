{
 "cells": [
  {
   "cell_type": "code",
   "execution_count": 9,
   "id": "initial_id",
   "metadata": {
    "collapsed": true,
    "ExecuteTime": {
     "end_time": "2024-03-11T14:07:14.715834Z",
     "start_time": "2024-03-11T14:06:58.943834Z"
    }
   },
   "outputs": [],
   "source": [
    "import pandas as pd\n",
    "data1=pd.read_excel(\"sensitive_dicts.xlsx\")\n",
    "data2=pd.read_excel(\"train_multi.xlsx\")\n",
    "data3=pd.read_excel(\"dev_multi.xlsx\")"
   ]
  },
  {
   "cell_type": "code",
   "execution_count": 10,
   "outputs": [
    {
     "data": {
      "text/plain": "   Unnamed: 0    0     1\n0           0  爱女人   SEX\n1           1   爱液   SEX\n2           2  按摩棒   SEX\n3           3  拔出来   SEX\n4           4   爆草  FUCK",
      "text/html": "<div>\n<style scoped>\n    .dataframe tbody tr th:only-of-type {\n        vertical-align: middle;\n    }\n\n    .dataframe tbody tr th {\n        vertical-align: top;\n    }\n\n    .dataframe thead th {\n        text-align: right;\n    }\n</style>\n<table border=\"1\" class=\"dataframe\">\n  <thead>\n    <tr style=\"text-align: right;\">\n      <th></th>\n      <th>Unnamed: 0</th>\n      <th>0</th>\n      <th>1</th>\n    </tr>\n  </thead>\n  <tbody>\n    <tr>\n      <th>0</th>\n      <td>0</td>\n      <td>爱女人</td>\n      <td>SEX</td>\n    </tr>\n    <tr>\n      <th>1</th>\n      <td>1</td>\n      <td>爱液</td>\n      <td>SEX</td>\n    </tr>\n    <tr>\n      <th>2</th>\n      <td>2</td>\n      <td>按摩棒</td>\n      <td>SEX</td>\n    </tr>\n    <tr>\n      <th>3</th>\n      <td>3</td>\n      <td>拔出来</td>\n      <td>SEX</td>\n    </tr>\n    <tr>\n      <th>4</th>\n      <td>4</td>\n      <td>爆草</td>\n      <td>FUCK</td>\n    </tr>\n  </tbody>\n</table>\n</div>"
     },
     "execution_count": 10,
     "metadata": {},
     "output_type": "execute_result"
    }
   ],
   "source": [
    "data1.head()"
   ],
   "metadata": {
    "collapsed": false,
    "ExecuteTime": {
     "end_time": "2024-03-11T14:07:38.246820Z",
     "start_time": "2024-03-11T14:07:38.216821Z"
    }
   },
   "id": "de63c3ddcc5df1f0"
  },
  {
   "cell_type": "code",
   "execution_count": 13,
   "outputs": [
    {
     "data": {
      "text/plain": "   Unnamed: 0                                            content  labels\n0       61378                                             _again  NORMAL\n1       46709  _jack_the_rapper亻尔要真这么较真那我也说寄狗屎给别人不是也算违法舌忝屁股可以...    FUCK\n2       20731  _jack_the_rapper你要真这么较真那我也说寄狗屎给别人不是也算违法舔pi股可以别...    FUCK\n3       16367  _jack_the_rapper你要真这么较真那我也说寄狗屎给别人不是也算违法舔屁888股可...    FUCK\n4       26626  _jack_the_rapper你要真这么较真那我也说寄狗屎给别人不是也算违法舔屁股可以别那...    FUCK\n5        3931  _jack_the_rapper你要真这么较真那我也说寄狗屎给别人不是也算违法舔辟谷可以别那...    FUCK\n6       12462                               _不得不很惆怅的说县医院这边的路快完工了  NORMAL\n7       64432                                     _好强的名字老大你学的是啥啊  NORMAL\n8       27435                                             _没饭要等熟  NORMAL\n9       70280                                             _你写诗我晕  NORMAL",
      "text/html": "<div>\n<style scoped>\n    .dataframe tbody tr th:only-of-type {\n        vertical-align: middle;\n    }\n\n    .dataframe tbody tr th {\n        vertical-align: top;\n    }\n\n    .dataframe thead th {\n        text-align: right;\n    }\n</style>\n<table border=\"1\" class=\"dataframe\">\n  <thead>\n    <tr style=\"text-align: right;\">\n      <th></th>\n      <th>Unnamed: 0</th>\n      <th>content</th>\n      <th>labels</th>\n    </tr>\n  </thead>\n  <tbody>\n    <tr>\n      <th>0</th>\n      <td>61378</td>\n      <td>_again</td>\n      <td>NORMAL</td>\n    </tr>\n    <tr>\n      <th>1</th>\n      <td>46709</td>\n      <td>_jack_the_rapper亻尔要真这么较真那我也说寄狗屎给别人不是也算违法舌忝屁股可以...</td>\n      <td>FUCK</td>\n    </tr>\n    <tr>\n      <th>2</th>\n      <td>20731</td>\n      <td>_jack_the_rapper你要真这么较真那我也说寄狗屎给别人不是也算违法舔pi股可以别...</td>\n      <td>FUCK</td>\n    </tr>\n    <tr>\n      <th>3</th>\n      <td>16367</td>\n      <td>_jack_the_rapper你要真这么较真那我也说寄狗屎给别人不是也算违法舔屁888股可...</td>\n      <td>FUCK</td>\n    </tr>\n    <tr>\n      <th>4</th>\n      <td>26626</td>\n      <td>_jack_the_rapper你要真这么较真那我也说寄狗屎给别人不是也算违法舔屁股可以别那...</td>\n      <td>FUCK</td>\n    </tr>\n    <tr>\n      <th>5</th>\n      <td>3931</td>\n      <td>_jack_the_rapper你要真这么较真那我也说寄狗屎给别人不是也算违法舔辟谷可以别那...</td>\n      <td>FUCK</td>\n    </tr>\n    <tr>\n      <th>6</th>\n      <td>12462</td>\n      <td>_不得不很惆怅的说县医院这边的路快完工了</td>\n      <td>NORMAL</td>\n    </tr>\n    <tr>\n      <th>7</th>\n      <td>64432</td>\n      <td>_好强的名字老大你学的是啥啊</td>\n      <td>NORMAL</td>\n    </tr>\n    <tr>\n      <th>8</th>\n      <td>27435</td>\n      <td>_没饭要等熟</td>\n      <td>NORMAL</td>\n    </tr>\n    <tr>\n      <th>9</th>\n      <td>70280</td>\n      <td>_你写诗我晕</td>\n      <td>NORMAL</td>\n    </tr>\n  </tbody>\n</table>\n</div>"
     },
     "execution_count": 13,
     "metadata": {},
     "output_type": "execute_result"
    }
   ],
   "source": [
    "data2.head(10)"
   ],
   "metadata": {
    "collapsed": false,
    "ExecuteTime": {
     "end_time": "2024-03-11T14:08:16.583961Z",
     "start_time": "2024-03-11T14:08:16.547964Z"
    }
   },
   "id": "5564db00f458e3e6"
  },
  {
   "cell_type": "code",
   "execution_count": 12,
   "outputs": [
    {
     "data": {
      "text/plain": "   Unnamed: 0                                            content  labels\n0       73593                                              在忙明天说  NORMAL\n1       73595                                         明天下午有空没去打球  NORMAL\n2       73596                                                操你吗    FUCK\n3       73597  你他妈才生活能力弱写这种不负责任文章的人大脑被门挤了吗我们独生子女因为家里就一个从小就肩负着...    FUCK\n4       73598                                             电脑收到了么  NORMAL",
      "text/html": "<div>\n<style scoped>\n    .dataframe tbody tr th:only-of-type {\n        vertical-align: middle;\n    }\n\n    .dataframe tbody tr th {\n        vertical-align: top;\n    }\n\n    .dataframe thead th {\n        text-align: right;\n    }\n</style>\n<table border=\"1\" class=\"dataframe\">\n  <thead>\n    <tr style=\"text-align: right;\">\n      <th></th>\n      <th>Unnamed: 0</th>\n      <th>content</th>\n      <th>labels</th>\n    </tr>\n  </thead>\n  <tbody>\n    <tr>\n      <th>0</th>\n      <td>73593</td>\n      <td>在忙明天说</td>\n      <td>NORMAL</td>\n    </tr>\n    <tr>\n      <th>1</th>\n      <td>73595</td>\n      <td>明天下午有空没去打球</td>\n      <td>NORMAL</td>\n    </tr>\n    <tr>\n      <th>2</th>\n      <td>73596</td>\n      <td>操你吗</td>\n      <td>FUCK</td>\n    </tr>\n    <tr>\n      <th>3</th>\n      <td>73597</td>\n      <td>你他妈才生活能力弱写这种不负责任文章的人大脑被门挤了吗我们独生子女因为家里就一个从小就肩负着...</td>\n      <td>FUCK</td>\n    </tr>\n    <tr>\n      <th>4</th>\n      <td>73598</td>\n      <td>电脑收到了么</td>\n      <td>NORMAL</td>\n    </tr>\n  </tbody>\n</table>\n</div>"
     },
     "execution_count": 12,
     "metadata": {},
     "output_type": "execute_result"
    }
   ],
   "source": [
    "data3.head()"
   ],
   "metadata": {
    "collapsed": false,
    "ExecuteTime": {
     "end_time": "2024-03-11T14:07:48.157667Z",
     "start_time": "2024-03-11T14:07:48.133650Z"
    }
   },
   "id": "53b1c78dc75526f1"
  },
  {
   "cell_type": "code",
   "outputs": [],
   "source": [
    "knowledge_base=pd.DataFrame(data1[[0,1]].values.tolist()+data2[[\"content\",\"labels\"]].values.tolist()+data3[[\"content\",\"labels\"]].values.tolist()).sample(frac=1.0)"
   ],
   "metadata": {
    "collapsed": false,
    "ExecuteTime": {
     "end_time": "2024-03-11T14:14:34.058501Z",
     "start_time": "2024-03-11T14:14:33.680377Z"
    }
   },
   "id": "5ff7660673ea9aa5",
   "execution_count": 21
  },
  {
   "cell_type": "code",
   "outputs": [
    {
     "data": {
      "text/plain": "(64456, 2)"
     },
     "execution_count": 22,
     "metadata": {},
     "output_type": "execute_result"
    }
   ],
   "source": [
    "knowledge_base.shape"
   ],
   "metadata": {
    "collapsed": false,
    "ExecuteTime": {
     "end_time": "2024-03-11T14:14:34.846613Z",
     "start_time": "2024-03-11T14:14:34.820613Z"
    }
   },
   "id": "6ec7f9ba41a1de8f",
   "execution_count": 22
  },
  {
   "cell_type": "code",
   "outputs": [],
   "source": [
    "knowledge_base.columns=[\"content\",\"label\"]\n",
    "knowledge_base.to_excel(\"knowledge_base.xlsx\")"
   ],
   "metadata": {
    "collapsed": false,
    "ExecuteTime": {
     "end_time": "2024-03-11T14:18:41.261535Z",
     "start_time": "2024-03-11T14:18:13.068245Z"
    }
   },
   "id": "f13ae96d5d409eb0",
   "execution_count": 24
  },
  {
   "cell_type": "code",
   "outputs": [],
   "source": [],
   "metadata": {
    "collapsed": false
   },
   "id": "79cd51dc46c4d41d"
  }
 ],
 "metadata": {
  "kernelspec": {
   "display_name": "Python 3",
   "language": "python",
   "name": "python3"
  },
  "language_info": {
   "codemirror_mode": {
    "name": "ipython",
    "version": 2
   },
   "file_extension": ".py",
   "mimetype": "text/x-python",
   "name": "python",
   "nbconvert_exporter": "python",
   "pygments_lexer": "ipython2",
   "version": "2.7.6"
  }
 },
 "nbformat": 4,
 "nbformat_minor": 5
}
