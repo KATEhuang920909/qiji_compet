{
 "cells": [
  {
   "cell_type": "code",
   "execution_count": 1,
   "id": "initial_id",
   "metadata": {
    "collapsed": true,
    "ExecuteTime": {
     "end_time": "2024-03-09T14:43:32.710903200Z",
     "start_time": "2024-03-09T14:43:30.349238100Z"
    }
   },
   "outputs": [],
   "source": [
    "import pandas as pd\n",
    "data=pd.read_excel(\"dics_df.xlsx\")"
   ]
  },
  {
   "cell_type": "code",
   "execution_count": 8,
   "outputs": [],
   "source": [
    "data[\"len\"]=data[0].apply(lambda x:len(x))"
   ],
   "metadata": {
    "collapsed": false,
    "ExecuteTime": {
     "end_time": "2024-03-09T14:47:20.499252500Z",
     "start_time": "2024-03-09T14:47:20.480253800Z"
    }
   },
   "id": "de63c3ddcc5df1f0"
  },
  {
   "cell_type": "code",
   "execution_count": 19,
   "outputs": [
    {
     "data": {
      "text/plain": "                  0          1  len\n1171  googleblogger  POLITICAL   13\n3142  买卖高考落榜生资料名单qq       FAKE   13\n3367  供应手机号码随意显软件qq       FAKE   13\n3726  出售手机号码任意改软件qq       FAKE   13\n3732  出售收藏品进线面单数据qq       FAKE   13\n3759  出售潜伏者手机监听软件qq       FAKE   13\n3781  出售移动vip用户资料qq       FAKE   13\n3799  出售联通vip用户资料qq       FAKE   13\n4318  手机号码任意改软件下载qq       FAKE   13\n4367  批发手机号码随意显软件qq       FAKE   13\n4477  提供手机去电任意显软件qq       FAKE   13\n4541  提供高考落榜生资料名单qq       FAKE   13\n4775  潜伏者手机监听软件出售qq       FAKE   13\n4789  特洛伊远程窃听软件供应qq       FAKE   13\n4844  直销高考落榜生资料名单qq       FAKE   13\n5185  身份证复印件制作器下载qq       FAKE   13\n5253  重庆兼职妹妹h美女上门服务        SEX   13\n5374  销售潜伏者手机监听软件qq       FAKE   13",
      "text/html": "<div>\n<style scoped>\n    .dataframe tbody tr th:only-of-type {\n        vertical-align: middle;\n    }\n\n    .dataframe tbody tr th {\n        vertical-align: top;\n    }\n\n    .dataframe thead th {\n        text-align: right;\n    }\n</style>\n<table border=\"1\" class=\"dataframe\">\n  <thead>\n    <tr style=\"text-align: right;\">\n      <th></th>\n      <th>0</th>\n      <th>1</th>\n      <th>len</th>\n    </tr>\n  </thead>\n  <tbody>\n    <tr>\n      <th>1171</th>\n      <td>googleblogger</td>\n      <td>POLITICAL</td>\n      <td>13</td>\n    </tr>\n    <tr>\n      <th>3142</th>\n      <td>买卖高考落榜生资料名单qq</td>\n      <td>FAKE</td>\n      <td>13</td>\n    </tr>\n    <tr>\n      <th>3367</th>\n      <td>供应手机号码随意显软件qq</td>\n      <td>FAKE</td>\n      <td>13</td>\n    </tr>\n    <tr>\n      <th>3726</th>\n      <td>出售手机号码任意改软件qq</td>\n      <td>FAKE</td>\n      <td>13</td>\n    </tr>\n    <tr>\n      <th>3732</th>\n      <td>出售收藏品进线面单数据qq</td>\n      <td>FAKE</td>\n      <td>13</td>\n    </tr>\n    <tr>\n      <th>3759</th>\n      <td>出售潜伏者手机监听软件qq</td>\n      <td>FAKE</td>\n      <td>13</td>\n    </tr>\n    <tr>\n      <th>3781</th>\n      <td>出售移动vip用户资料qq</td>\n      <td>FAKE</td>\n      <td>13</td>\n    </tr>\n    <tr>\n      <th>3799</th>\n      <td>出售联通vip用户资料qq</td>\n      <td>FAKE</td>\n      <td>13</td>\n    </tr>\n    <tr>\n      <th>4318</th>\n      <td>手机号码任意改软件下载qq</td>\n      <td>FAKE</td>\n      <td>13</td>\n    </tr>\n    <tr>\n      <th>4367</th>\n      <td>批发手机号码随意显软件qq</td>\n      <td>FAKE</td>\n      <td>13</td>\n    </tr>\n    <tr>\n      <th>4477</th>\n      <td>提供手机去电任意显软件qq</td>\n      <td>FAKE</td>\n      <td>13</td>\n    </tr>\n    <tr>\n      <th>4541</th>\n      <td>提供高考落榜生资料名单qq</td>\n      <td>FAKE</td>\n      <td>13</td>\n    </tr>\n    <tr>\n      <th>4775</th>\n      <td>潜伏者手机监听软件出售qq</td>\n      <td>FAKE</td>\n      <td>13</td>\n    </tr>\n    <tr>\n      <th>4789</th>\n      <td>特洛伊远程窃听软件供应qq</td>\n      <td>FAKE</td>\n      <td>13</td>\n    </tr>\n    <tr>\n      <th>4844</th>\n      <td>直销高考落榜生资料名单qq</td>\n      <td>FAKE</td>\n      <td>13</td>\n    </tr>\n    <tr>\n      <th>5185</th>\n      <td>身份证复印件制作器下载qq</td>\n      <td>FAKE</td>\n      <td>13</td>\n    </tr>\n    <tr>\n      <th>5253</th>\n      <td>重庆兼职妹妹h美女上门服务</td>\n      <td>SEX</td>\n      <td>13</td>\n    </tr>\n    <tr>\n      <th>5374</th>\n      <td>销售潜伏者手机监听软件qq</td>\n      <td>FAKE</td>\n      <td>13</td>\n    </tr>\n  </tbody>\n</table>\n</div>"
     },
     "execution_count": 19,
     "metadata": {},
     "output_type": "execute_result"
    }
   ],
   "source": [
    "data[data.len==13]"
   ],
   "metadata": {
    "collapsed": false,
    "ExecuteTime": {
     "end_time": "2024-03-09T14:49:49.265570600Z",
     "start_time": "2024-03-09T14:49:49.248540400Z"
    }
   },
   "id": "5564db00f458e3e6"
  },
  {
   "cell_type": "code",
   "execution_count": null,
   "outputs": [],
   "source": [],
   "metadata": {
    "collapsed": false
   },
   "id": "53b1c78dc75526f1"
  }
 ],
 "metadata": {
  "kernelspec": {
   "display_name": "Python 3",
   "language": "python",
   "name": "python3"
  },
  "language_info": {
   "codemirror_mode": {
    "name": "ipython",
    "version": 2
   },
   "file_extension": ".py",
   "mimetype": "text/x-python",
   "name": "python",
   "nbconvert_exporter": "python",
   "pygments_lexer": "ipython2",
   "version": "2.7.6"
  }
 },
 "nbformat": 4,
 "nbformat_minor": 5
}
