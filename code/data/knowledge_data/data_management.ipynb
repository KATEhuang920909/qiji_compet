{
 "cells": [
  {
   "cell_type": "code",
   "execution_count": 1,
   "id": "initial_id",
   "metadata": {
    "collapsed": true,
    "ExecuteTime": {
     "end_time": "2024-03-13T04:33:47.607012Z",
     "start_time": "2024-03-13T04:33:32.456700Z"
    }
   },
   "outputs": [],
   "source": [
    "import pandas as pd\n",
    "data1=pd.read_excel(\"sensitive_dicts.xlsx\")\n",
    "data2=pd.read_excel(\"train_multi.xlsx\")\n",
    "data3=pd.read_excel(\"dev_multi.xlsx\")"
   ]
  },
  {
   "cell_type": "code",
   "execution_count": 7,
   "outputs": [
    {
     "data": {
      "text/plain": "(   Unnamed: 0    0     1\n 0           0  爱女人   SEX\n 1           1   爱液   SEX\n 2           2  按摩棒   SEX\n 3           3  拔出来   SEX\n 4           4   爆草  FUCK,\n (52797, 3))"
     },
     "execution_count": 7,
     "metadata": {},
     "output_type": "execute_result"
    }
   ],
   "source": [
    "data1.head(),data2.shape"
   ],
   "metadata": {
    "collapsed": false,
    "ExecuteTime": {
     "end_time": "2024-03-13T04:34:27.655276Z",
     "start_time": "2024-03-13T04:34:27.626281Z"
    }
   },
   "id": "de63c3ddcc5df1f0"
  },
  {
   "cell_type": "code",
   "execution_count": 3,
   "outputs": [
    {
     "data": {
      "text/plain": "   Unnamed: 0                                            content  labels\n0           0  冰雪若相依雁飞mo相弃独舞指尖de流年你似一缕花香悠悠坠落红尘又一年祝我最最亲爱的的姐妹张冰...  NORMAL\n1           1                                 我还在弄一个PPT好了叫你大概十分钟  NORMAL\n2           2                                                路政科  NORMAL\n3           3     王_政知道人家为什么比你高两级了吧看看人家再看看你你觉得整天打网球能找到那个她吗好好反思一下  NORMAL\n4           4                     因为我的号被消了还不让我补回来小白跟他女朋友出去被飞车抢劫了  NORMAL\n5           5                                            高端大气上档次  NORMAL\n6           6                           上帝8失11手摔下来的旧洗衣机能思考的无脑袋生物    FUCK\n7           7                              flamme下午紁环境很舒服聊得很开心哈哈  NORMAL\n8           8                                            我头疼要去医院  NORMAL\n9           9  红莓这种水果细看下来简直就是密集物品恐惧症果萼像塞子一样拔下来之后果实就是密集的小蜂窝排列成...  NORMAL",
      "text/html": "<div>\n<style scoped>\n    .dataframe tbody tr th:only-of-type {\n        vertical-align: middle;\n    }\n\n    .dataframe tbody tr th {\n        vertical-align: top;\n    }\n\n    .dataframe thead th {\n        text-align: right;\n    }\n</style>\n<table border=\"1\" class=\"dataframe\">\n  <thead>\n    <tr style=\"text-align: right;\">\n      <th></th>\n      <th>Unnamed: 0</th>\n      <th>content</th>\n      <th>labels</th>\n    </tr>\n  </thead>\n  <tbody>\n    <tr>\n      <th>0</th>\n      <td>0</td>\n      <td>冰雪若相依雁飞mo相弃独舞指尖de流年你似一缕花香悠悠坠落红尘又一年祝我最最亲爱的的姐妹张冰...</td>\n      <td>NORMAL</td>\n    </tr>\n    <tr>\n      <th>1</th>\n      <td>1</td>\n      <td>我还在弄一个PPT好了叫你大概十分钟</td>\n      <td>NORMAL</td>\n    </tr>\n    <tr>\n      <th>2</th>\n      <td>2</td>\n      <td>路政科</td>\n      <td>NORMAL</td>\n    </tr>\n    <tr>\n      <th>3</th>\n      <td>3</td>\n      <td>王_政知道人家为什么比你高两级了吧看看人家再看看你你觉得整天打网球能找到那个她吗好好反思一下</td>\n      <td>NORMAL</td>\n    </tr>\n    <tr>\n      <th>4</th>\n      <td>4</td>\n      <td>因为我的号被消了还不让我补回来小白跟他女朋友出去被飞车抢劫了</td>\n      <td>NORMAL</td>\n    </tr>\n    <tr>\n      <th>5</th>\n      <td>5</td>\n      <td>高端大气上档次</td>\n      <td>NORMAL</td>\n    </tr>\n    <tr>\n      <th>6</th>\n      <td>6</td>\n      <td>上帝8失11手摔下来的旧洗衣机能思考的无脑袋生物</td>\n      <td>FUCK</td>\n    </tr>\n    <tr>\n      <th>7</th>\n      <td>7</td>\n      <td>flamme下午紁环境很舒服聊得很开心哈哈</td>\n      <td>NORMAL</td>\n    </tr>\n    <tr>\n      <th>8</th>\n      <td>8</td>\n      <td>我头疼要去医院</td>\n      <td>NORMAL</td>\n    </tr>\n    <tr>\n      <th>9</th>\n      <td>9</td>\n      <td>红莓这种水果细看下来简直就是密集物品恐惧症果萼像塞子一样拔下来之后果实就是密集的小蜂窝排列成...</td>\n      <td>NORMAL</td>\n    </tr>\n  </tbody>\n</table>\n</div>"
     },
     "execution_count": 3,
     "metadata": {},
     "output_type": "execute_result"
    }
   ],
   "source": [
    "data2.head(10)"
   ],
   "metadata": {
    "collapsed": false,
    "ExecuteTime": {
     "end_time": "2024-03-13T04:33:52.391398Z",
     "start_time": "2024-03-13T04:33:52.350400Z"
    }
   },
   "id": "5564db00f458e3e6"
  },
  {
   "cell_type": "code",
   "execution_count": 4,
   "outputs": [
    {
     "data": {
      "text/plain": "   Unnamed: 0                                            content  labels\n0       73624                                       什么日不落5帝国日不死吧  NORMAL\n1       73626                                               要吃什么  NORMAL\n2       73627  你的赞比亚婊子妈昨天跪着求我强奸她被我拒绝因为我曾亲眼看见你biao子妈在马路上同时被888...    FUCK\n3       73628                 你梅毒婊妈给我开着装甲碾成滩烂泥竟然组合成了副精美的拼图拼好后上写着    FUCK\n4       73629                                          你说你怎么这么沙比    FUCK",
      "text/html": "<div>\n<style scoped>\n    .dataframe tbody tr th:only-of-type {\n        vertical-align: middle;\n    }\n\n    .dataframe tbody tr th {\n        vertical-align: top;\n    }\n\n    .dataframe thead th {\n        text-align: right;\n    }\n</style>\n<table border=\"1\" class=\"dataframe\">\n  <thead>\n    <tr style=\"text-align: right;\">\n      <th></th>\n      <th>Unnamed: 0</th>\n      <th>content</th>\n      <th>labels</th>\n    </tr>\n  </thead>\n  <tbody>\n    <tr>\n      <th>0</th>\n      <td>73624</td>\n      <td>什么日不落5帝国日不死吧</td>\n      <td>NORMAL</td>\n    </tr>\n    <tr>\n      <th>1</th>\n      <td>73626</td>\n      <td>要吃什么</td>\n      <td>NORMAL</td>\n    </tr>\n    <tr>\n      <th>2</th>\n      <td>73627</td>\n      <td>你的赞比亚婊子妈昨天跪着求我强奸她被我拒绝因为我曾亲眼看见你biao子妈在马路上同时被888...</td>\n      <td>FUCK</td>\n    </tr>\n    <tr>\n      <th>3</th>\n      <td>73628</td>\n      <td>你梅毒婊妈给我开着装甲碾成滩烂泥竟然组合成了副精美的拼图拼好后上写着</td>\n      <td>FUCK</td>\n    </tr>\n    <tr>\n      <th>4</th>\n      <td>73629</td>\n      <td>你说你怎么这么沙比</td>\n      <td>FUCK</td>\n    </tr>\n  </tbody>\n</table>\n</div>"
     },
     "execution_count": 4,
     "metadata": {},
     "output_type": "execute_result"
    }
   ],
   "source": [
    "data3.head()"
   ],
   "metadata": {
    "collapsed": false,
    "ExecuteTime": {
     "end_time": "2024-03-13T04:33:54.675814Z",
     "start_time": "2024-03-13T04:33:54.648819Z"
    }
   },
   "id": "53b1c78dc75526f1"
  },
  {
   "cell_type": "code",
   "outputs": [],
   "source": [
    "knowledge_base=pd.DataFrame(data1[[0,1]].values.tolist()+data2[[\"content\",\"labels\"]].values.tolist()+data3[[\"content\",\"labels\"]].values.tolist()).sample(frac=1.0)"
   ],
   "metadata": {
    "collapsed": false,
    "ExecuteTime": {
     "end_time": "2024-03-13T04:34:08.091511Z",
     "start_time": "2024-03-13T04:34:07.951495Z"
    }
   },
   "id": "5ff7660673ea9aa5",
   "execution_count": 5
  },
  {
   "cell_type": "code",
   "outputs": [
    {
     "data": {
      "text/plain": "(64546, 2)"
     },
     "execution_count": 6,
     "metadata": {},
     "output_type": "execute_result"
    }
   ],
   "source": [
    "knowledge_base.shape"
   ],
   "metadata": {
    "collapsed": false,
    "ExecuteTime": {
     "end_time": "2024-03-13T04:34:09.479748Z",
     "start_time": "2024-03-13T04:34:09.451754Z"
    }
   },
   "id": "6ec7f9ba41a1de8f",
   "execution_count": 6
  },
  {
   "cell_type": "code",
   "outputs": [],
   "source": [
    "knowledge_base.columns=[\"content\",\"label\"]\n",
    "knowledge_base.to_excel(\"knowledge_base.xlsx\")"
   ],
   "metadata": {
    "collapsed": false,
    "ExecuteTime": {
     "end_time": "2024-03-13T04:35:02.983036Z",
     "start_time": "2024-03-13T04:34:35.266770Z"
    }
   },
   "id": "f13ae96d5d409eb0",
   "execution_count": 8
  },
  {
   "cell_type": "code",
   "outputs": [],
   "source": [
    "import pandas as pd\n",
    "data=pd.read_excel(\"knowledge_base.xlsx\")"
   ],
   "metadata": {
    "collapsed": false,
    "ExecuteTime": {
     "end_time": "2024-03-15T03:07:00.044920Z",
     "start_time": "2024-03-15T03:06:44.885669Z"
    }
   },
   "id": "79cd51dc46c4d41d",
   "execution_count": 1
  },
  {
   "cell_type": "code",
   "outputs": [
    {
     "data": {
      "text/plain": "   Unnamed: 0                                            content        label\n0       54835  NAMEURL足球采票倍率高好平台充值一百送八元一倍流水可以提款赛事全三分钟到账小时诚心服务...  IL_Gambling\n1       56942        关sir我那同学说她在那等一下午他们一直在开会她问我有小光哥电话吗跟他说声明天上午再去       NORMAL\n2       49636              第一次微电影匆忙策划匆忙设计在品牌推广上做的还有太多不足不过下次一定会更好       NORMAL\n3       52177                                       我给你买了好东西快下来看       NORMAL\n4        2279                                                 烂逼         FUCK",
      "text/html": "<div>\n<style scoped>\n    .dataframe tbody tr th:only-of-type {\n        vertical-align: middle;\n    }\n\n    .dataframe tbody tr th {\n        vertical-align: top;\n    }\n\n    .dataframe thead th {\n        text-align: right;\n    }\n</style>\n<table border=\"1\" class=\"dataframe\">\n  <thead>\n    <tr style=\"text-align: right;\">\n      <th></th>\n      <th>Unnamed: 0</th>\n      <th>content</th>\n      <th>label</th>\n    </tr>\n  </thead>\n  <tbody>\n    <tr>\n      <th>0</th>\n      <td>54835</td>\n      <td>NAMEURL足球采票倍率高好平台充值一百送八元一倍流水可以提款赛事全三分钟到账小时诚心服务...</td>\n      <td>IL_Gambling</td>\n    </tr>\n    <tr>\n      <th>1</th>\n      <td>56942</td>\n      <td>关sir我那同学说她在那等一下午他们一直在开会她问我有小光哥电话吗跟他说声明天上午再去</td>\n      <td>NORMAL</td>\n    </tr>\n    <tr>\n      <th>2</th>\n      <td>49636</td>\n      <td>第一次微电影匆忙策划匆忙设计在品牌推广上做的还有太多不足不过下次一定会更好</td>\n      <td>NORMAL</td>\n    </tr>\n    <tr>\n      <th>3</th>\n      <td>52177</td>\n      <td>我给你买了好东西快下来看</td>\n      <td>NORMAL</td>\n    </tr>\n    <tr>\n      <th>4</th>\n      <td>2279</td>\n      <td>烂逼</td>\n      <td>FUCK</td>\n    </tr>\n  </tbody>\n</table>\n</div>"
     },
     "execution_count": 2,
     "metadata": {},
     "output_type": "execute_result"
    }
   ],
   "source": [
    "data.head()"
   ],
   "metadata": {
    "collapsed": false,
    "ExecuteTime": {
     "end_time": "2024-03-15T03:07:00.137694Z",
     "start_time": "2024-03-15T03:07:00.049863Z"
    }
   },
   "id": "c868edb40e845fe2",
   "execution_count": 2
  },
  {
   "cell_type": "code",
   "outputs": [],
   "source": [
    "data010=data[data.content.apply(lambda x: True if len(x)>0 and len(x)<=10 else False)]\n",
    "data1020=data[data.content.apply(lambda x: True if len(x)>10 and len(x)<=20 else False)]\n",
    "data2040=data[data.content.apply(lambda x: True if len(x)>20 and len(x)<=40 else False)]\n",
    "data40100=data[data.content.apply(lambda x: True if len(x)>40 and len(x)<=100 else False)]\n",
    "data100=data[data.content.apply(lambda x: True if len(x)>100 and len(x)<=1e8 else False)]"
   ],
   "metadata": {
    "collapsed": false,
    "ExecuteTime": {
     "end_time": "2024-03-15T03:09:42.503726Z",
     "start_time": "2024-03-15T03:09:42.259720Z"
    }
   },
   "id": "32ed441322e51d01",
   "execution_count": 3
  },
  {
   "cell_type": "code",
   "outputs": [
    {
     "data": {
      "text/plain": "((21657, 3), (13211, 3), (10612, 3), (15829, 3), (3223, 3))"
     },
     "execution_count": 5,
     "metadata": {},
     "output_type": "execute_result"
    }
   ],
   "source": [
    "data010.shape,data1020.shape,data2040.shape,data40100.shape,data100.shape"
   ],
   "metadata": {
    "collapsed": false,
    "ExecuteTime": {
     "end_time": "2024-03-15T03:10:19.648684Z",
     "start_time": "2024-03-15T03:10:19.622669Z"
    }
   },
   "id": "8ca175122773f506",
   "execution_count": 5
  },
  {
   "cell_type": "code",
   "outputs": [],
   "source": [
    "data[\"length\"] = data.content.apply(lambda x: len(x))"
   ],
   "metadata": {
    "collapsed": false,
    "ExecuteTime": {
     "end_time": "2024-03-15T03:16:24.037043Z",
     "start_time": "2024-03-15T03:16:23.962705Z"
    }
   },
   "id": "a8c6802558e45840",
   "execution_count": 6
  },
  {
   "cell_type": "code",
   "outputs": [
    {
     "data": {
      "text/plain": "   Unnamed: 0                                            content        label  \\\n0       54835  NAMEURL足球采票倍率高好平台充值一百送八元一倍流水可以提款赛事全三分钟到账小时诚心服务...  IL_Gambling   \n1       56942        关sir我那同学说她在那等一下午他们一直在开会她问我有小光哥电话吗跟他说声明天上午再去       NORMAL   \n2       49636              第一次微电影匆忙策划匆忙设计在品牌推广上做的还有太多不足不过下次一定会更好       NORMAL   \n3       52177                                       我给你买了好东西快下来看       NORMAL   \n4        2279                                                 烂逼         FUCK   \n\n   length  \n0      51  \n1      43  \n2      37  \n3      12  \n4       2  ",
      "text/html": "<div>\n<style scoped>\n    .dataframe tbody tr th:only-of-type {\n        vertical-align: middle;\n    }\n\n    .dataframe tbody tr th {\n        vertical-align: top;\n    }\n\n    .dataframe thead th {\n        text-align: right;\n    }\n</style>\n<table border=\"1\" class=\"dataframe\">\n  <thead>\n    <tr style=\"text-align: right;\">\n      <th></th>\n      <th>Unnamed: 0</th>\n      <th>content</th>\n      <th>label</th>\n      <th>length</th>\n    </tr>\n  </thead>\n  <tbody>\n    <tr>\n      <th>0</th>\n      <td>54835</td>\n      <td>NAMEURL足球采票倍率高好平台充值一百送八元一倍流水可以提款赛事全三分钟到账小时诚心服务...</td>\n      <td>IL_Gambling</td>\n      <td>51</td>\n    </tr>\n    <tr>\n      <th>1</th>\n      <td>56942</td>\n      <td>关sir我那同学说她在那等一下午他们一直在开会她问我有小光哥电话吗跟他说声明天上午再去</td>\n      <td>NORMAL</td>\n      <td>43</td>\n    </tr>\n    <tr>\n      <th>2</th>\n      <td>49636</td>\n      <td>第一次微电影匆忙策划匆忙设计在品牌推广上做的还有太多不足不过下次一定会更好</td>\n      <td>NORMAL</td>\n      <td>37</td>\n    </tr>\n    <tr>\n      <th>3</th>\n      <td>52177</td>\n      <td>我给你买了好东西快下来看</td>\n      <td>NORMAL</td>\n      <td>12</td>\n    </tr>\n    <tr>\n      <th>4</th>\n      <td>2279</td>\n      <td>烂逼</td>\n      <td>FUCK</td>\n      <td>2</td>\n    </tr>\n  </tbody>\n</table>\n</div>"
     },
     "execution_count": 7,
     "metadata": {},
     "output_type": "execute_result"
    }
   ],
   "source": [
    "data.head()"
   ],
   "metadata": {
    "collapsed": false,
    "ExecuteTime": {
     "end_time": "2024-03-15T03:16:28.695760Z",
     "start_time": "2024-03-15T03:16:28.664640Z"
    }
   },
   "id": "7ef1a9dbf4d54609",
   "execution_count": 7
  },
  {
   "cell_type": "code",
   "outputs": [],
   "source": [
    "data[[\"content\",\"label\",\"length\"]].to_excel(\"knowledge_base.xlsx\")"
   ],
   "metadata": {
    "collapsed": false,
    "ExecuteTime": {
     "end_time": "2024-03-15T03:18:30.099577Z",
     "start_time": "2024-03-15T03:17:59.993846Z"
    }
   },
   "id": "90efb0626f054297",
   "execution_count": 8
  },
  {
   "cell_type": "code",
   "outputs": [],
   "source": [
    "data[[\"content\",\"label\",\"length\"]].drop_duplicates(\"content\").to_excel(\"knowledge_base.xlsx\")"
   ],
   "metadata": {
    "collapsed": false,
    "ExecuteTime": {
     "end_time": "2024-03-15T03:30:04.329512Z",
     "start_time": "2024-03-15T03:29:33.642260Z"
    }
   },
   "id": "4a3a18d32ff2170",
   "execution_count": 12
  },
  {
   "cell_type": "code",
   "outputs": [],
   "source": [],
   "metadata": {
    "collapsed": false
   },
   "id": "59d82c19ecaa44d7"
  }
 ],
 "metadata": {
  "kernelspec": {
   "display_name": "Python 3",
   "language": "python",
   "name": "python3"
  },
  "language_info": {
   "codemirror_mode": {
    "name": "ipython",
    "version": 2
   },
   "file_extension": ".py",
   "mimetype": "text/x-python",
   "name": "python",
   "nbconvert_exporter": "python",
   "pygments_lexer": "ipython2",
   "version": "2.7.6"
  }
 },
 "nbformat": 4,
 "nbformat_minor": 5
}
