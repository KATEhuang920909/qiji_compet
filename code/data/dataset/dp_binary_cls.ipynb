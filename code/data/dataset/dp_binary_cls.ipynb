{
 "cells": [
  {
   "cell_type": "markdown",
   "id": "cd2a2138-1226-4099-87d8-45889c9bf4df",
   "metadata": {},
   "source": [
    "## 辱骂"
   ]
  },
  {
   "cell_type": "code",
   "execution_count": 97,
   "id": "6617ec58-be17-4d70-8c10-126dba29f804",
   "metadata": {},
   "outputs": [],
   "source": [
    "train=open(\"train.txt\",encoding=\"utf8\").readlines()\n",
    "dev=open(\"dev.txt\",encoding=\"utf8\").readlines()\n",
    "test=open(\"test.txt\",encoding=\"utf8\").readlines()"
   ]
  },
  {
   "cell_type": "code",
   "execution_count": 98,
   "id": "d7d6c06c-9f06-4fa7-b338-ffaf5ea823d5",
   "metadata": {},
   "outputs": [],
   "source": [
    "train=[k.strip().split(\"\\t\") for k in train]\n",
    "dev=[k.strip().split(\"\\t\") for k in dev]\n",
    "test=[k.strip().split(\"\\t\") for k in test]"
   ]
  },
  {
   "cell_type": "code",
   "execution_count": 99,
   "id": "69231c6b-b256-49e6-8aaa-aacc95ed1aa7",
   "metadata": {},
   "outputs": [],
   "source": [
    "import pandas as pd\n",
    "data=pd.concat([pd.DataFrame(train),pd.DataFrame(dev),pd.DataFrame(test)])\n",
    "data=data[data[2].apply(lambda x:True if pd.isna(x) else False)][[0,1]]\n",
    "data[1]=data[1].apply(lambda x:x.replace(\" \",\"\" ))"
   ]
  },
  {
   "cell_type": "code",
   "execution_count": 109,
   "id": "252d9a8b-5157-47ac-8a3d-732a5fd2499e",
   "metadata": {},
   "outputs": [
    {
     "name": "stderr",
     "output_type": "stream",
     "text": [
      "C:\\Users\\huangkai\\AppData\\Local\\Temp\\ipykernel_10184\\4127443145.py:3: SettingWithCopyWarning: \n",
      "A value is trying to be set on a copy of a slice from a DataFrame.\n",
      "Try using .loc[row_indexer,col_indexer] = value instead\n",
      "\n",
      "See the caveats in the documentation: https://pandas.pydata.org/pandas-docs/stable/user_guide/indexing.html#returning-a-view-versus-a-copy\n",
      "  data_fuck[\"label\"]=\"FUCK\"\n"
     ]
    }
   ],
   "source": [
    "# data#.sample\n",
    "data_fuck=data[data[0]==\"__label__1\"]\n",
    "data_fuck[\"label\"]=\"FUCK\"\n",
    "data_fuck[[1,\"label\"]].to_excel(\"脏话.xlsx\")"
   ]
  },
  {
   "cell_type": "code",
   "execution_count": 34,
   "id": "e139fe90-06f8-4d5f-87a5-305da08ee9e2",
   "metadata": {},
   "outputs": [],
   "source": [
    "data[data[0]==\"__label__1\"].to_excel(\"脏话待审核.xlsx\")"
   ]
  },
  {
   "cell_type": "code",
   "execution_count": 31,
   "id": "78b3cb53-b1f0-4740-99b0-84ce225f9666",
   "metadata": {},
   "outputs": [
    {
     "data": {
      "text/plain": [
       "'早安，又见周五，愉快的一天到来了。'"
      ]
     },
     "execution_count": 31,
     "metadata": {},
     "output_type": "execute_result"
    }
   ],
   "source": [
    "string=\"早安 ， 又 见 周五 ， 愉快 的 一天 到来 了 。\"\n",
    "string.replace(\" \",\"\" )"
   ]
  },
  {
   "cell_type": "markdown",
   "id": "74fff636-eea5-438c-b1c1-a92a8ef72c1f",
   "metadata": {},
   "source": [
    "## 广告"
   ]
  },
  {
   "cell_type": "code",
   "execution_count": 38,
   "id": "c6f184ab-69a7-42ac-bbf6-0c27db72654f",
   "metadata": {},
   "outputs": [],
   "source": [
    "AD_Loan=open(\"AD_Loan\",encoding=\"utf-8\").readlines()\n",
    "AD_Network_service=open(\"AD_Network_service\",encoding=\"utf-8\").readlines()\n",
    "AD_Other=open(\"AD_Other\",encoding=\"utf-8\").readlines()\n",
    "AD_Real_estate=open(\"AD_Real_estate\",encoding=\"utf-8\").readlines()\n",
    "AD_Retail=open(\"AD_Retail\",encoding=\"utf-8\").readlines()"
   ]
  },
  {
   "cell_type": "code",
   "execution_count": 40,
   "id": "ee34e050-0122-4e5c-bb3f-095a8918ed92",
   "metadata": {},
   "outputs": [],
   "source": [
    "AD_Loan=[k.strip().replace(\" \",\"\") for k in AD_Loan]\n",
    "AD_Network_service=[k.strip().replace(\" \",\"\") for k in AD_Network_service]\n",
    "AD_Other=[k.strip().replace(\" \",\"\") for k in AD_Other]\n",
    "AD_Real_estate=[k.strip().replace(\" \",\"\") for k in AD_Real_estate]\n",
    "AD_Retail=[k.strip().replace(\" \",\"\") for k in AD_Retail]"
   ]
  },
  {
   "cell_type": "code",
   "execution_count": 45,
   "id": "095c3955-84df-45ad-94c4-dfdd25d01864",
   "metadata": {},
   "outputs": [],
   "source": [
    "data_ad=pd.DataFrame(AD_Loan+AD_Network_service+AD_Other+AD_Real_estate+AD_Retail,columns=[\"content\"])\n",
    "data_ad[\"label\"]=\"AD\""
   ]
  },
  {
   "cell_type": "code",
   "execution_count": 53,
   "id": "5d794337-1c58-45d2-adfd-80bf1fbb88e8",
   "metadata": {},
   "outputs": [],
   "source": [
    "data_ad.to_excel(\"广告.xlsx\")"
   ]
  },
  {
   "cell_type": "markdown",
   "id": "afb0ca4b-a2b9-4da0-930d-a71bf5459642",
   "metadata": {},
   "source": [
    "## 诈骗赌博"
   ]
  },
  {
   "cell_type": "code",
   "execution_count": 54,
   "id": "c7c22e4d-dfd8-410d-a62c-d99e22739a86",
   "metadata": {},
   "outputs": [],
   "source": [
    "IL_Gambling=open(\"IL_Gambling\",encoding=\"utf-8\").readlines()\n",
    "IL_Fake_ID_and_invoice=open(\"IL_Fake_ID_and_invoice\",encoding=\"utf-8\").readlines()"
   ]
  },
  {
   "cell_type": "code",
   "execution_count": 55,
   "id": "8a7b9131-053d-4890-bad5-0d76c44efa3a",
   "metadata": {},
   "outputs": [],
   "source": [
    "IL_Gambling=[k.strip().replace(\" \",\"\") for k in IL_Gambling]\n",
    "IL_Fake_ID_and_invoice=[k.strip().replace(\" \",\"\") for k in IL_Fake_ID_and_invoice]"
   ]
  },
  {
   "cell_type": "code",
   "execution_count": 56,
   "id": "6e7e80da-0fca-4a2a-af2d-3d0b8fd45089",
   "metadata": {},
   "outputs": [],
   "source": [
    "data_fake=pd.DataFrame(IL_Gambling+IL_Fake_ID_and_invoice,columns=[\"content\"])\n",
    "data_fake[\"label\"]=\"FAKE\""
   ]
  },
  {
   "cell_type": "code",
   "execution_count": 58,
   "id": "1473be4a-d829-4ec6-bf6e-59eeb81d1aac",
   "metadata": {},
   "outputs": [],
   "source": [
    "data_fake.to_excel(\"诈骗赌博.xlsx\")"
   ]
  },
  {
   "cell_type": "markdown",
   "id": "c188e12d-1acd-4518-a19b-1ad6ff6c78f0",
   "metadata": {},
   "source": [
    "## 涉政"
   ]
  },
  {
   "cell_type": "code",
   "execution_count": 59,
   "id": "69ff832a-0bfe-40f1-8c4b-2934c583cd0f",
   "metadata": {},
   "outputs": [],
   "source": [
    "IL_Political_propaganda=open(\"IL_Political_propaganda\",encoding=\"utf-8\").readlines()\n",
    "IL_Political_propaganda=[k.strip().replace(\" \",\"\") for k in IL_Political_propaganda]"
   ]
  },
  {
   "cell_type": "code",
   "execution_count": 62,
   "id": "67bf490e-405e-4819-8f5d-410c2a60f46a",
   "metadata": {
    "scrolled": true
   },
   "outputs": [],
   "source": [
    "data_political=pd.DataFrame(IL_Political_propaganda,columns=[\"content\"])\n",
    "data_political[\"label\"]=\"POLITICAL\"\n",
    "data_political.to_excel(\"涉政.xlsx\")"
   ]
  },
  {
   "cell_type": "markdown",
   "id": "d14d519a-9dbc-4a09-ba26-0dc603aec3bd",
   "metadata": {},
   "source": [
    "## 色情"
   ]
  },
  {
   "cell_type": "code",
   "execution_count": 63,
   "id": "c62d2019-7445-4577-a246-57ad890f5358",
   "metadata": {},
   "outputs": [],
   "source": [
    "IL_Escort_service=open(\"IL_Escort_service\",encoding=\"utf-8\").readlines()\n",
    "IL_Escort_service=[k.strip().replace(\" \",\"\") for k in IL_Escort_service]"
   ]
  },
  {
   "cell_type": "code",
   "execution_count": 64,
   "id": "bf2753d0-71b0-43e7-ba5f-6cadf26e6ee9",
   "metadata": {},
   "outputs": [],
   "source": [
    "IL_Escort_service=pd.DataFrame(IL_Escort_service,columns=[\"content\"])\n",
    "IL_Escort_service[\"label\"]=\"SEX\"\n",
    "IL_Escort_service.to_excel(\"色情.xlsx\")"
   ]
  },
  {
   "cell_type": "markdown",
   "id": "8f2d2c56-106b-47cb-b51e-8f832a74fffd",
   "metadata": {},
   "source": [
    "## 正常"
   ]
  },
  {
   "cell_type": "code",
   "execution_count": 111,
   "id": "147f47cb-6d7d-416f-89a1-76534f20c857",
   "metadata": {},
   "outputs": [],
   "source": [
    "Other=open(\"Other\",encoding=\"utf-8\").readlines()\n",
    "Other=[k.strip().replace(\" \",\"\") for k in Other]"
   ]
  },
  {
   "cell_type": "code",
   "execution_count": 112,
   "id": "c721edde-6d50-4119-8191-6dfdd2a9d243",
   "metadata": {
    "scrolled": true
   },
   "outputs": [],
   "source": [
    "Other=pd.DataFrame(Other,columns=[\"content\"])"
   ]
  },
  {
   "cell_type": "code",
   "execution_count": 113,
   "id": "84c3a834-39c2-4db6-b202-c85d830efff4",
   "metadata": {},
   "outputs": [],
   "source": [
    "\n",
    "data2=data[data[0]==\"__label__0\"]\n",
    "data2.columns=[\"label\",\"content\"]"
   ]
  },
  {
   "cell_type": "code",
   "execution_count": 114,
   "id": "5717cbdc-222c-48d8-8ca4-07a8b2342f99",
   "metadata": {},
   "outputs": [
    {
     "data": {
      "text/html": [
       "<div>\n",
       "<style scoped>\n",
       "    .dataframe tbody tr th:only-of-type {\n",
       "        vertical-align: middle;\n",
       "    }\n",
       "\n",
       "    .dataframe tbody tr th {\n",
       "        vertical-align: top;\n",
       "    }\n",
       "\n",
       "    .dataframe thead th {\n",
       "        text-align: right;\n",
       "    }\n",
       "</style>\n",
       "<table border=\"1\" class=\"dataframe\">\n",
       "  <thead>\n",
       "    <tr style=\"text-align: right;\">\n",
       "      <th></th>\n",
       "      <th>content</th>\n",
       "    </tr>\n",
       "  </thead>\n",
       "  <tbody>\n",
       "    <tr>\n",
       "      <th>30</th>\n",
       "      <td>去不去east吃饭啊</td>\n",
       "    </tr>\n",
       "    <tr>\n",
       "      <th>31</th>\n",
       "      <td>不是吧 我刚刚竟然看到他了</td>\n",
       "    </tr>\n",
       "    <tr>\n",
       "      <th>32</th>\n",
       "      <td>我去不了了 还有好多作业呢 sorry啦～～～</td>\n",
       "    </tr>\n",
       "    <tr>\n",
       "      <th>33</th>\n",
       "      <td>你下课来找我哈</td>\n",
       "    </tr>\n",
       "    <tr>\n",
       "      <th>34</th>\n",
       "      <td>烦死了 老师讲课真没劲</td>\n",
       "    </tr>\n",
       "  </tbody>\n",
       "</table>\n",
       "</div>"
      ],
      "text/plain": [
       "                    content\n",
       "30               去不去east吃饭啊\n",
       "31            不是吧 我刚刚竟然看到他了\n",
       "32  我去不了了 还有好多作业呢 sorry啦～～～\n",
       "33                  你下课来找我哈\n",
       "34              烦死了 老师讲课真没劲"
      ]
     },
     "execution_count": 114,
     "metadata": {},
     "output_type": "execute_result"
    }
   ],
   "source": [
    "data3=pd.read_excel(\"SMS.xlsx\",index_col=0)\n",
    "data3.columns=[\"content\"]\n",
    "data3.head()"
   ]
  },
  {
   "cell_type": "code",
   "execution_count": 115,
   "id": "6d0dce10-80ac-4504-b331-7b52072c4949",
   "metadata": {},
   "outputs": [],
   "source": [
    "data_normal=pd.concat([data2[[\"content\"]],data3,Other]).sample(frac=0.4)"
   ]
  },
  {
   "cell_type": "code",
   "execution_count": 117,
   "id": "fd398914-f118-49d7-b54d-f11ac9b3d027",
   "metadata": {},
   "outputs": [],
   "source": [
    "data_normal.to_excel(\"正常.xlsx\")"
   ]
  },
  {
   "cell_type": "code",
   "execution_count": 132,
   "id": "58b05590-5c11-464b-bb63-d546847d8167",
   "metadata": {},
   "outputs": [],
   "source": [
    "data_fuck.columns=[0,\"content\",\"label\"]\n",
    "data_fuck=data_fuck[[\"content\",\"label\"]]"
   ]
  },
  {
   "cell_type": "code",
   "execution_count": 133,
   "id": "1bc9f63d-a894-458a-bc8c-0faf8d3a39ea",
   "metadata": {},
   "outputs": [
    {
     "data": {
      "text/plain": [
       "((14975, 2), (8327, 2), (290, 2), (111, 2), (2176, 2), (20787, 2))"
      ]
     },
     "execution_count": 133,
     "metadata": {},
     "output_type": "execute_result"
    }
   ],
   "source": [
    "data_fuck.shape,data_ad.shape,data_political.shape,IL_Escort_service.shape,data_fake.shape,data_normal.shape"
   ]
  },
  {
   "cell_type": "code",
   "execution_count": 135,
   "id": "2b763f96-6202-46b7-96c8-f6d8369a994d",
   "metadata": {},
   "outputs": [],
   "source": [
    "data_neg=pd.concat([data_fuck[[\"content\",\"label\"]],data_ad,data_political,IL_Escort_service,data_fake]).sample(frac=1.0)\n",
    "data_pos=data_normal"
   ]
  },
  {
   "cell_type": "code",
   "execution_count": 136,
   "id": "7561eafa-b2da-45c4-8aea-8d3db25d1de5",
   "metadata": {},
   "outputs": [
    {
     "data": {
      "text/plain": [
       "((25879, 2), (20787, 2))"
      ]
     },
     "execution_count": 136,
     "metadata": {},
     "output_type": "execute_result"
    }
   ],
   "source": [
    "data_neg.shape,data_pos.shape"
   ]
  },
  {
   "cell_type": "code",
   "execution_count": 137,
   "id": "ad6fd8c6-a70d-4407-84f1-1ccb2e2de25c",
   "metadata": {},
   "outputs": [
    {
     "data": {
      "text/plain": [
       "((37332, 2), (4667, 2), (4667, 2))"
      ]
     },
     "execution_count": 137,
     "metadata": {},
     "output_type": "execute_result"
    }
   ],
   "source": [
    "# 二分类：\n",
    "data_pos[\"label\"]=1\n",
    "data_neg[\"label\"]=0\n",
    "data_binary=pd.concat([data_pos,data_neg]).sample(frac=1.0)\n",
    "train_binary=data_binary[:int(0.8*len(data_binary))]\n",
    "dev_binary=data_binary[int(0.8*len(data_binary)):int(0.9*len(data_binary))]\n",
    "test_binary=data_binary[int(0.9*len(data_binary)):]\n",
    "train_binary.shape,dev_binary.shape,test_binary.shape"
   ]
  },
  {
   "cell_type": "code",
   "execution_count": 151,
   "id": "4dd2cb54-64ea-4541-a539-8a6638992321",
   "metadata": {},
   "outputs": [],
   "source": [
    "train_binary.to_excel(\"binary_cls_data/train_binary.xlsx\")\n",
    "dev_binary.to_excel(\"binary_cls_data/dev_binary.xlsx\")\n",
    "test_binary.to_excel(\"binary_cls_data/test_binary.xlsx\")"
   ]
  },
  {
   "cell_type": "code",
   "execution_count": 142,
   "id": "f12f6e94-4a4b-42f9-b5ef-51340fb306ae",
   "metadata": {
    "jp-MarkdownHeadingCollapsed": true
   },
   "outputs": [],
   "source": [
    "#多分类\n",
    "data_multi=pd.concat([data_fuck[[\"content\",\"label\"]],data_ad,data_political,IL_Escort_service,data_fake]).sample(frac=1.0)"
   ]
  },
  {
   "cell_type": "code",
   "execution_count": 146,
   "id": "adc22ab2-b3fe-44de-879d-c146422c151f",
   "metadata": {},
   "outputs": [],
   "source": [
    "train_multi=data_multi[:int(0.8*len(data_multi))]\n",
    "dev_multi=data_multi[int(0.8*len(data_multi)):]"
   ]
  },
  {
   "cell_type": "code",
   "execution_count": 152,
   "id": "ff52587d-079e-4edc-98c3-884df13cc2d1",
   "metadata": {},
   "outputs": [],
   "source": [
    "train_multi.to_excel(\"multi_cls_data/train_multi.xlsx\")\n",
    "dev_multi.to_excel(\"multi_cls_data/dev_multi.xlsx\")"
   ]
  },
  {
   "cell_type": "code",
   "execution_count": 14,
   "id": "5e6632b4-3f40-4cff-a256-743b1d56e97e",
   "metadata": {},
   "outputs": [],
   "source": [
    "import pandas as pd\n",
    "train_binary=pd.read_excel(\"binary_cls_data/train_binary.xlsx\")\n",
    "dev_binary=pd.read_excel(\"binary_cls_data/dev_binary.xlsx\")\n",
    "test_binary=pd.read_excel(\"binary_cls_data/test_binary.xlsx\")\n",
    "train_multi=pd.read_excel(\"multi_cls_data/train_multi.xlsx\")\n",
    "dev_multi=pd.read_excel(\"multi_cls_data/dev_multi.xlsx\")"
   ]
  },
  {
   "cell_type": "code",
   "execution_count": 15,
   "id": "1aec9328-e56d-4ea9-b817-088a89ba3248",
   "metadata": {},
   "outputs": [],
   "source": [
    "data_binary=pd.concat([train_binary,dev_binary,test_binary])\n",
    "data_multi=pd.concat([train_multi,dev_multi])"
   ]
  },
  {
   "cell_type": "code",
   "execution_count": 16,
   "id": "ac6860fb-dae2-4460-ae31-20bf20a49a7f",
   "metadata": {},
   "outputs": [
    {
     "name": "stderr",
     "output_type": "stream",
     "text": [
      "C:\\Users\\huangkai\\AppData\\Local\\Temp\\ipykernel_11700\\1611994438.py:2: SettingWithCopyWarning: \n",
      "A value is trying to be set on a copy of a slice from a DataFrame.\n",
      "Try using .loc[row_indexer,col_indexer] = value instead\n",
      "\n",
      "See the caveats in the documentation: https://pandas.pydata.org/pandas-docs/stable/user_guide/indexing.html#returning-a-view-versus-a-copy\n",
      "  data_normal[\"label\"]=\"NORMAL\"\n"
     ]
    }
   ],
   "source": [
    "data_normal=data_binary[data_binary.label==1]\n",
    "data_normal[\"label\"]=\"NORMAL\""
   ]
  },
  {
   "cell_type": "code",
   "execution_count": 17,
   "id": "afc33bdc-a1c7-4de9-8a37-c30cde4aae22",
   "metadata": {},
   "outputs": [],
   "source": [
    "data_multi_v2=pd.concat([data_multi,data_normal])\n",
    "data_multi_v2=data_multi_v2[[\"content\",\"label\"]]"
   ]
  },
  {
   "cell_type": "code",
   "execution_count": 18,
   "id": "302cee28-e8cb-47ff-89cd-aa697b0e9606",
   "metadata": {},
   "outputs": [
    {
     "data": {
      "text/plain": [
       "'__label__0\\t这一 屋子 ?\\n'"
      ]
     },
     "execution_count": 18,
     "metadata": {},
     "output_type": "execute_result"
    }
   ],
   "source": [
    "test=open(\"D:\\work\\骐骥杯\\qiji_compet\\code\\data\\dataset\\dev.txt\",encoding=\"utf8\").readlines()\n",
    "test[0]"
   ]
  },
  {
   "cell_type": "code",
   "execution_count": 19,
   "id": "8f20a17d-aad8-4175-bf24-f7adc1dfbd16",
   "metadata": {},
   "outputs": [],
   "source": [
    "import numpy as np\n",
    "dicts=dict(zip(data_multi_v2.label.unique(),[\"__label__\"+str(i) for i in np.arange(6)]))"
   ]
  },
  {
   "cell_type": "code",
   "execution_count": 20,
   "id": "e46d333b-d9f7-4f2e-b4e0-2a7f02aaea62",
   "metadata": {},
   "outputs": [
    {
     "data": {
      "text/plain": [
       "{'FUCK': '__label__0',\n",
       " 'AD': '__label__1',\n",
       " 'SEX': '__label__2',\n",
       " 'FAKE': '__label__3',\n",
       " 'POLITICAL': '__label__4',\n",
       " 'NORMAL': '__label__5'}"
      ]
     },
     "execution_count": 20,
     "metadata": {},
     "output_type": "execute_result"
    }
   ],
   "source": [
    "dicts"
   ]
  },
  {
   "cell_type": "code",
   "execution_count": 21,
   "id": "7d7c62df-95ea-44d9-8746-d078e8f165aa",
   "metadata": {
    "scrolled": true
   },
   "outputs": [],
   "source": [
    "data_multi_v2[\"label_fasttext\"] = data_multi_v2.label.apply(lambda x:dicts[x])"
   ]
  },
  {
   "cell_type": "code",
   "execution_count": 22,
   "id": "7be307c0-91d2-4f9c-868c-9ba1c6eabc36",
   "metadata": {},
   "outputs": [
    {
     "data": {
      "text/plain": [
       "label\n",
       "NORMAL       20773\n",
       "FUCK         14974\n",
       "AD            8327\n",
       "FAKE          2176\n",
       "POLITICAL      290\n",
       "SEX            111\n",
       "Name: count, dtype: int64"
      ]
     },
     "execution_count": 22,
     "metadata": {},
     "output_type": "execute_result"
    }
   ],
   "source": [
    "data_multi_v2.label.value_counts()"
   ]
  },
  {
   "cell_type": "code",
   "execution_count": 23,
   "id": "eb42e728-98c0-490a-83c9-615ab2e88827",
   "metadata": {},
   "outputs": [],
   "source": [
    "for k in data_multi_v2[[\"content\",\"label_fasttext\"]].values:\n",
    "    \"\\t\".join(k) "
   ]
  },
  {
   "cell_type": "code",
   "execution_count": 28,
   "id": "4c9c039e-5302-4156-81a0-ee3acf0bb026",
   "metadata": {},
   "outputs": [],
   "source": [
    "data_multi_v2=data_multi_v2.sample(frac=1.0)\n",
    "train_multi_v2=[\"\\t\".join(k[::-1]) for k in data_multi_v2[:int(0.8*len(data_multi_v2))][[\"content\",\"label_fasttext\"]].values]\n",
    "dev_multi_v2=[\"\\t\".join(k[::-1]) for k in data_multi_v2[int(0.8*len(data_multi_v2)):int(0.9*len(data_multi_v2))][[\"content\",\"label_fasttext\"]].values]\n",
    "test_multi_v2=[\"\\t\".join(k[::-1]) for k in data_multi_v2[int(0.9*len(data_multi_v2)):][[\"content\",\"label_fasttext\"]].values]"
   ]
  },
  {
   "cell_type": "code",
   "execution_count": 32,
   "id": "fd07f274-b38b-4247-be1e-12a275a67ed2",
   "metadata": {},
   "outputs": [],
   "source": [
    "with open(\"fasttext_data/train.txt\",\"w\",encoding=\"utf8\") as f:\n",
    "    for unit in train_multi_v2:\n",
    "        f.write(unit)\n",
    "        f.write(\"\\n\")\n",
    "with open(\"fasttext_data/dev.txt\",\"w\",encoding=\"utf8\") as f:\n",
    "    for unit in dev_multi_v2:\n",
    "        f.write(unit)\n",
    "        f.write(\"\\n\")\n",
    "with open(\"fasttext_data/test.txt\",\"w\",encoding=\"utf8\") as f:\n",
    "    for unit in test_multi_v2:\n",
    "        f.write(unit)\n",
    "        f.write(\"\\n\")"
   ]
  },
  {
   "cell_type": "code",
   "execution_count": 29,
   "id": "a3cd5bd0-44fa-412c-90e0-3892b4742a7e",
   "metadata": {},
   "outputs": [
    {
     "data": {
      "text/plain": [
       "'__label__0\\t要是能合法砍人我第一个砍死楼上王八蛋蹦ni麻痹啊'"
      ]
     },
     "execution_count": 29,
     "metadata": {},
     "output_type": "execute_result"
    }
   ],
   "source": [
    "train_multi_v2[0]"
   ]
  },
  {
   "cell_type": "code",
   "execution_count": 37,
   "id": "980317e7-9601-47ca-b884-3055b07ba0ae",
   "metadata": {},
   "outputs": [],
   "source": [
    "import numpy as np\n",
    "dicts1=dict(zip(data_multi.label.unique(),[\"__label__\"+str(i) for i in np.arange(len(data_multi.label.unique()))]))\n",
    "dicts2=dict(zip(data_binary.label.unique(),[\"__label__\"+str(i) for i in np.arange(len(data_binary.label.unique()))]))"
   ]
  },
  {
   "cell_type": "code",
   "execution_count": 40,
   "id": "82fbd92a-18be-4ed0-ab3c-81f5a49f06f6",
   "metadata": {},
   "outputs": [
    {
     "data": {
      "text/plain": [
       "array([8848,\n",
       "       '亻尔这词穷土狗复习了大半年亻尔的小学造句对爹也是毫无伤害殊不知亻尔婊子妈逼水四射的莲花火兰辶畐早已衤皮爹肆意践踏变得干枯无力',\n",
       "       'FUCK'], dtype=object)"
      ]
     },
     "execution_count": 40,
     "metadata": {},
     "output_type": "execute_result"
    }
   ],
   "source": [
    "train_multi.values[0]"
   ]
  },
  {
   "cell_type": "code",
   "execution_count": 43,
   "id": "bd5bc47e-471e-424a-bdab-d116d41618e3",
   "metadata": {},
   "outputs": [
    {
     "data": {
      "text/plain": [
       "1"
      ]
     },
     "execution_count": 43,
     "metadata": {},
     "output_type": "execute_result"
    }
   ],
   "source": [
    "unit[2]"
   ]
  },
  {
   "cell_type": "code",
   "execution_count": 44,
   "id": "02f5666b-eac2-4467-9e0c-2ebf51ce7635",
   "metadata": {},
   "outputs": [],
   "source": [
    "train_binary=pd.read_excel(\"binary_cls_data/train_binary.xlsx\")\n",
    "dev_binary=pd.read_excel(\"binary_cls_data/dev_binary.xlsx\")\n",
    "test_binary=pd.read_excel(\"binary_cls_data/test_binary.xlsx\")\n",
    "train_multi=pd.read_excel(\"multi_cls_data/train_multi.xlsx\")\n",
    "dev_multi=pd.read_excel(\"multi_cls_data/dev_multi.xlsx\")\n",
    "with open(\"fasttext_data/multi_cls_data/train.txt\",\"w\",encoding=\"utf8\") as f:\n",
    "    for unit in train_multi.values:\n",
    "        f.write(dicts1[unit[2]]+\"\\t\"+unit[1])\n",
    "        f.write(\"\\n\")\n",
    "with open(\"fasttext_data/multi_cls_data/dev.txt\",\"w\",encoding=\"utf8\") as f:\n",
    "    for unit in dev_multi.values:\n",
    "        f.write(dicts1[unit[2]]+\"\\t\"+unit[1])\n",
    "        f.write(\"\\n\")\n",
    "with open(\"fasttext_data/binary_cls_data/train.txt\",\"w\",encoding=\"utf8\") as f:\n",
    "    for unit in train_binary.values:\n",
    "        f.write(dicts2[unit[2]]+\"\\t\"+unit[1])\n",
    "        f.write(\"\\n\")\n",
    "with open(\"fasttext_data/binary_cls_data/dev.txt\",\"w\",encoding=\"utf8\") as f:\n",
    "    for unit in dev_binary.values:\n",
    "        f.write(dicts2[unit[2]]+\"\\t\"+unit[1])\n",
    "        f.write(\"\\n\")\n",
    "with open(\"fasttext_data/binary_cls_data/test.txt\",\"w\",encoding=\"utf8\") as f:\n",
    "    for unit in test_binary.values:\n",
    "        f.write(dicts2[unit[2]]+\"\\t\"+unit[1])\n",
    "        f.write(\"\\n\")"
   ]
  },
  {
   "cell_type": "code",
   "execution_count": null,
   "id": "583dbaee-4445-4502-be55-291cbf1a7b3e",
   "metadata": {},
   "outputs": [],
   "source": []
  }
 ],
 "metadata": {
  "kernelspec": {
   "display_name": "Python 3 (ipykernel)",
   "language": "python",
   "name": "python3"
  },
  "language_info": {
   "codemirror_mode": {
    "name": "ipython",
    "version": 3
   },
   "file_extension": ".py",
   "mimetype": "text/x-python",
   "name": "python",
   "nbconvert_exporter": "python",
   "pygments_lexer": "ipython3",
   "version": "3.9.13"
  }
 },
 "nbformat": 4,
 "nbformat_minor": 5
}
