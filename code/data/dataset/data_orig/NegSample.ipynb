{
 "cells": [
  {
   "cell_type": "code",
   "execution_count": null,
   "outputs": [],
   "source": [
    "#负样本：\n",
    "# normal  里面挑选非normal\n",
    "#非normal 里面挑选normal\n",
    "#正样本：\n",
    "#非normal标签语料对应"
   ],
   "metadata": {
    "collapsed": false
   },
   "id": "9212aefafb6041ad"
  },
  {
   "cell_type": "markdown",
   "source": [
    "## 负样本构建"
   ],
   "metadata": {
    "collapsed": false
   },
   "id": "4c1e43a4e3d510de"
  },
  {
   "cell_type": "markdown",
   "source": [
    "### 难负样本语义"
   ],
   "metadata": {
    "collapsed": false
   },
   "id": "15188400e5d45c3d"
  },
  {
   "cell_type": "code",
   "execution_count": 111,
   "outputs": [],
   "source": [
    "import pandas as pd\n",
    "\n",
    "data = pd.read_excel(r\"D:\\code\\qiji_compet\\code\\data\\match_data\\final_data_v2.xlsx\")"
   ],
   "metadata": {
    "collapsed": false,
    "ExecuteTime": {
     "end_time": "2024-03-10T07:20:22.132836600Z",
     "start_time": "2024-03-10T07:20:20.803828500Z"
    }
   },
   "id": "initial_id"
  },
  {
   "cell_type": "code",
   "execution_count": 112,
   "outputs": [],
   "source": [
    "def len_sep(text1, text2):\n",
    "    if len(text1) < 10 and len(text2) < 10:\n",
    "        return True\n",
    "    if 10 <= len(text1) <= 20 and 10 <= len(text2) <= 20:\n",
    "        return True\n",
    "    if 20 <= len(text1) <= 40 and 20 <= len(text2) <= 40:\n",
    "        return True\n",
    "    if 40 <= len(text1) <= 100 and 40 <= len(text2) <= 100:\n",
    "        return True\n",
    "    if 100 <= len(text1) and 100 <= len(text2):\n",
    "        return True\n",
    "    return False\n"
   ],
   "metadata": {
    "collapsed": false,
    "ExecuteTime": {
     "end_time": "2024-03-10T07:20:22.145834900Z",
     "start_time": "2024-03-10T07:20:22.126839Z"
    }
   },
   "id": "43f7b36ed88082dc"
  },
  {
   "cell_type": "code",
   "execution_count": 113,
   "outputs": [],
   "source": [
    "import re\n",
    "data=data[~data[\"text\"].apply(lambda x:True if pd.isna(x) else False)]\n",
    "data[\"text\"]=data[\"text\"].apply(lambda x:str(x).replace(\" \",\"\" ))\n",
    "data[\"text\"]=data[\"text\"].apply(lambda x:re.sub(r'[\\W]','',x))"
   ],
   "metadata": {
    "collapsed": false,
    "ExecuteTime": {
     "end_time": "2024-03-10T07:20:24.619623600Z",
     "start_time": "2024-03-10T07:20:24.574625800Z"
    }
   },
   "id": "68f1b66d75b97ba4"
  },
  {
   "cell_type": "code",
   "execution_count": 114,
   "outputs": [
    {
     "data": {
      "text/plain": "      Unnamed: 0                                               text  \\\n0              0      亻尔女马阴道里长了一颗毒瘤待我一颗手雷扔进去瞬间可以把亻尔女马阴道开拓成宽阔无涯的大黑辶畐   \n1              1  你这废物鸡巴跟牙签一样插到你母狗妈的水缸逼里都搅不动天天在这对太阳乱吠也不会有三眼怪过来捡你...   \n2              2                                操你妈的半夜瞎jb吹还发鬼吓我黑名单见   \n3              3                                 我在你妈逼里自由翱翔你妈哭着夸我真强   \n4              4                         人本初性本善锅里煮个大鸡蛋给我吃我就干不给我吃咱就散   \n...          ...                                                ...   \n7132        7132                                              cao你妈   \n7133        7133  这期时尚旅游杂志确实有点内个坐办公室看完全身未动心已远这班眼瞅没法上了雷达太多你们是要闹哪样...   \n7134        7134                                     今天到龙海坐浙三轮车台拉风了   \n7135        7135                                有在看澳网男单决赛的吗看比赛需要吼起来   \n7136        7136       我不是几年我是亻尔爸爸亻囟儿夂逼真的会判刑口马亻尔是几年傻逼判几年强奸判几年急的很在线等   \n\n                                           sentence_bag  \\\n0     ['您好我是做无抵押无担保信用借款的正规安全高效无论你是上班族还是做生意或者有车有房都可以申...   \n1     ['我们党员数', 'NAMEPLACE电梯现房NAME中环境优美NAME每平方米DIGIT...   \n2     ['唯品会狂欢你独享NAMENAME碧黄油满DIGIT返DIGIT组合券无敌超值URLed回...   \n3     ['您好您的信用极好邀您加入工作不限地点時間手机在家操作待遇ioo天詳情QQ', '好久没联...   \n4     ['博主该去看望下你失散多年的亲人@人民日报编辑部做个dna检测吧', '这样啊，我说怎么到...   \n...                                                 ...   \n7132  ['你在我⾯前玩次会简直就是班⻔弄斧我随随便便打出⼀个字你婊⼦妈都能爆体⽽亡', '移动手机...   \n7133  ['世纪百悦月至日DIGIT枚钻戒折黄金每克最高优惠DIGIT内衣折后满再送会员双倍积分PL...   \n7134  ['@远源的小背篓你这个垃圾粉，你也不看看尼加主子去年宣传小王子没，心机boy你好意思说，我...   \n7135  ['惊喜周末满DIGIT返DIGIT元包邮亿会员DIGIT亿回馈狂欢尽在URL回td退订唯品...   \n7136  ['@北方的纳努克', '夜惊悚→关灯睡下。电话突兀地响起，吓！小姨夫来电，小姨消shi三个...   \n\n                                             label_bag final_label  \\\n0             ['AD', 'NORMAL', 'FUCK', 'FAKE', 'FUCK']        FUCK   \n1               ['NORMAL', 'AD', 'AD', 'NORMAL', 'AD']          AD   \n2         ['AD', 'FUCK', 'NORMAL', 'NORMAL', 'NORMAL']      NORMAL   \n3           ['AD', 'NORMAL', 'FUCK', 'FUCK', 'NORMAL']      NORMAL   \n4         ['NORMAL', 'NORMAL', 'FUCK', 'FUCK', 'FUCK']        FUCK   \n...                                                ...         ...   \n7132   ['FUCK', 'AD', 'POLITICAL', 'NORMAL', 'NORMAL']      NORMAL   \n7133    ['AD', 'NORMAL', 'NORMAL', 'NORMAL', 'NORMAL']      NORMAL   \n7134        ['FUCK', 'NORMAL', 'FUCK', 'NORMAL', 'AD']        FUCK   \n7135         ['AD', 'NORMAL', 'POLITICAL', 'AD', 'AD']          AD   \n7136  ['NORMAL', 'NORMAL', 'NORMAL', 'NORMAL', 'FUCK']      NORMAL   \n\n      true_label                                              score  result  \n0              1  [-1.1920929e-07, 0.06279123, 0.068983555, 0.07...   False  \n1              1  [8.34465e-07, 0.0053709745, 0.017130435, 0.017...   False  \n2              1  [0.3087051, 0.3090433, 0.30923915, 0.31345677,...   False  \n3              1  [2.9802322e-07, 0.0091718435, 0.013031483, 0.0...   False  \n4              1  [-7.1525574e-07, 0.007786751, 0.013712704, 0.0...   False  \n...          ...                                                ...     ...  \n7132           1  [0.0, 0.22793674, 0.24371147, 0.26400894, 0.27...   False  \n7133           0  [-1.1920929e-06, 0.18689656, 0.18857586, 0.189...   False  \n7134           0  [-9.536743e-07, 0.3445171, 0.35620058, 0.39621...   False  \n7135           0  [0.3886714, 0.39686632, 0.39831716, 0.40285844...   False  \n7136           1  [0.10774624, 0.14443272, 0.18840015, 0.2384377...   False  \n\n[7137 rows x 8 columns]",
      "text/html": "<div>\n<style scoped>\n    .dataframe tbody tr th:only-of-type {\n        vertical-align: middle;\n    }\n\n    .dataframe tbody tr th {\n        vertical-align: top;\n    }\n\n    .dataframe thead th {\n        text-align: right;\n    }\n</style>\n<table border=\"1\" class=\"dataframe\">\n  <thead>\n    <tr style=\"text-align: right;\">\n      <th></th>\n      <th>Unnamed: 0</th>\n      <th>text</th>\n      <th>sentence_bag</th>\n      <th>label_bag</th>\n      <th>final_label</th>\n      <th>true_label</th>\n      <th>score</th>\n      <th>result</th>\n    </tr>\n  </thead>\n  <tbody>\n    <tr>\n      <th>0</th>\n      <td>0</td>\n      <td>亻尔女马阴道里长了一颗毒瘤待我一颗手雷扔进去瞬间可以把亻尔女马阴道开拓成宽阔无涯的大黑辶畐</td>\n      <td>['您好我是做无抵押无担保信用借款的正规安全高效无论你是上班族还是做生意或者有车有房都可以申...</td>\n      <td>['AD', 'NORMAL', 'FUCK', 'FAKE', 'FUCK']</td>\n      <td>FUCK</td>\n      <td>1</td>\n      <td>[-1.1920929e-07, 0.06279123, 0.068983555, 0.07...</td>\n      <td>False</td>\n    </tr>\n    <tr>\n      <th>1</th>\n      <td>1</td>\n      <td>你这废物鸡巴跟牙签一样插到你母狗妈的水缸逼里都搅不动天天在这对太阳乱吠也不会有三眼怪过来捡你...</td>\n      <td>['我们党员数', 'NAMEPLACE电梯现房NAME中环境优美NAME每平方米DIGIT...</td>\n      <td>['NORMAL', 'AD', 'AD', 'NORMAL', 'AD']</td>\n      <td>AD</td>\n      <td>1</td>\n      <td>[8.34465e-07, 0.0053709745, 0.017130435, 0.017...</td>\n      <td>False</td>\n    </tr>\n    <tr>\n      <th>2</th>\n      <td>2</td>\n      <td>操你妈的半夜瞎jb吹还发鬼吓我黑名单见</td>\n      <td>['唯品会狂欢你独享NAMENAME碧黄油满DIGIT返DIGIT组合券无敌超值URLed回...</td>\n      <td>['AD', 'FUCK', 'NORMAL', 'NORMAL', 'NORMAL']</td>\n      <td>NORMAL</td>\n      <td>1</td>\n      <td>[0.3087051, 0.3090433, 0.30923915, 0.31345677,...</td>\n      <td>False</td>\n    </tr>\n    <tr>\n      <th>3</th>\n      <td>3</td>\n      <td>我在你妈逼里自由翱翔你妈哭着夸我真强</td>\n      <td>['您好您的信用极好邀您加入工作不限地点時間手机在家操作待遇ioo天詳情QQ', '好久没联...</td>\n      <td>['AD', 'NORMAL', 'FUCK', 'FUCK', 'NORMAL']</td>\n      <td>NORMAL</td>\n      <td>1</td>\n      <td>[2.9802322e-07, 0.0091718435, 0.013031483, 0.0...</td>\n      <td>False</td>\n    </tr>\n    <tr>\n      <th>4</th>\n      <td>4</td>\n      <td>人本初性本善锅里煮个大鸡蛋给我吃我就干不给我吃咱就散</td>\n      <td>['博主该去看望下你失散多年的亲人@人民日报编辑部做个dna检测吧', '这样啊，我说怎么到...</td>\n      <td>['NORMAL', 'NORMAL', 'FUCK', 'FUCK', 'FUCK']</td>\n      <td>FUCK</td>\n      <td>1</td>\n      <td>[-7.1525574e-07, 0.007786751, 0.013712704, 0.0...</td>\n      <td>False</td>\n    </tr>\n    <tr>\n      <th>...</th>\n      <td>...</td>\n      <td>...</td>\n      <td>...</td>\n      <td>...</td>\n      <td>...</td>\n      <td>...</td>\n      <td>...</td>\n      <td>...</td>\n    </tr>\n    <tr>\n      <th>7132</th>\n      <td>7132</td>\n      <td>cao你妈</td>\n      <td>['你在我⾯前玩次会简直就是班⻔弄斧我随随便便打出⼀个字你婊⼦妈都能爆体⽽亡', '移动手机...</td>\n      <td>['FUCK', 'AD', 'POLITICAL', 'NORMAL', 'NORMAL']</td>\n      <td>NORMAL</td>\n      <td>1</td>\n      <td>[0.0, 0.22793674, 0.24371147, 0.26400894, 0.27...</td>\n      <td>False</td>\n    </tr>\n    <tr>\n      <th>7133</th>\n      <td>7133</td>\n      <td>这期时尚旅游杂志确实有点内个坐办公室看完全身未动心已远这班眼瞅没法上了雷达太多你们是要闹哪样...</td>\n      <td>['世纪百悦月至日DIGIT枚钻戒折黄金每克最高优惠DIGIT内衣折后满再送会员双倍积分PL...</td>\n      <td>['AD', 'NORMAL', 'NORMAL', 'NORMAL', 'NORMAL']</td>\n      <td>NORMAL</td>\n      <td>0</td>\n      <td>[-1.1920929e-06, 0.18689656, 0.18857586, 0.189...</td>\n      <td>False</td>\n    </tr>\n    <tr>\n      <th>7134</th>\n      <td>7134</td>\n      <td>今天到龙海坐浙三轮车台拉风了</td>\n      <td>['@远源的小背篓你这个垃圾粉，你也不看看尼加主子去年宣传小王子没，心机boy你好意思说，我...</td>\n      <td>['FUCK', 'NORMAL', 'FUCK', 'NORMAL', 'AD']</td>\n      <td>FUCK</td>\n      <td>0</td>\n      <td>[-9.536743e-07, 0.3445171, 0.35620058, 0.39621...</td>\n      <td>False</td>\n    </tr>\n    <tr>\n      <th>7135</th>\n      <td>7135</td>\n      <td>有在看澳网男单决赛的吗看比赛需要吼起来</td>\n      <td>['惊喜周末满DIGIT返DIGIT元包邮亿会员DIGIT亿回馈狂欢尽在URL回td退订唯品...</td>\n      <td>['AD', 'NORMAL', 'POLITICAL', 'AD', 'AD']</td>\n      <td>AD</td>\n      <td>0</td>\n      <td>[0.3886714, 0.39686632, 0.39831716, 0.40285844...</td>\n      <td>False</td>\n    </tr>\n    <tr>\n      <th>7136</th>\n      <td>7136</td>\n      <td>我不是几年我是亻尔爸爸亻囟儿夂逼真的会判刑口马亻尔是几年傻逼判几年强奸判几年急的很在线等</td>\n      <td>['@北方的纳努克', '夜惊悚→关灯睡下。电话突兀地响起，吓！小姨夫来电，小姨消shi三个...</td>\n      <td>['NORMAL', 'NORMAL', 'NORMAL', 'NORMAL', 'FUCK']</td>\n      <td>NORMAL</td>\n      <td>1</td>\n      <td>[0.10774624, 0.14443272, 0.18840015, 0.2384377...</td>\n      <td>False</td>\n    </tr>\n  </tbody>\n</table>\n<p>7137 rows × 8 columns</p>\n</div>"
     },
     "execution_count": 114,
     "metadata": {},
     "output_type": "execute_result"
    }
   ],
   "source": [
    "data"
   ],
   "metadata": {
    "collapsed": false,
    "ExecuteTime": {
     "end_time": "2024-03-10T07:20:25.348994200Z",
     "start_time": "2024-03-10T07:20:25.252996200Z"
    }
   },
   "id": "308657d2d19a8e4d"
  },
  {
   "cell_type": "code",
   "execution_count": 115,
   "outputs": [],
   "source": [
    "data_normal = data[data.true_label == 0]\n",
    "data_nonormal = data[data.true_label == 1]\n"
   ],
   "metadata": {
    "collapsed": false,
    "ExecuteTime": {
     "end_time": "2024-03-10T07:20:26.804264Z",
     "start_time": "2024-03-10T07:20:26.778264200Z"
    }
   },
   "id": "94dd40111d677b31"
  },
  {
   "cell_type": "code",
   "execution_count": 116,
   "outputs": [
    {
     "data": {
      "text/plain": "      Unnamed: 0                                               text  \\\n5              5  新款到每日一新特的曲剪裁鞋面充知性典雅的古息吸睛指破表背完美合的曲彷量身般不需害怕扭到好走又...   \n6              6  在开学的前一日里我会求佛祖保佑老师重新安排的座位是靠墙或靠窗这样就有了一个相对独立的私密空间...   \n8              8                            然后妈妈自己剪了头发现在看起来好像eason啊   \n12            12  我曾经拍摄过两部反应法国华人艺术家以及在威尼斯双年展上中国当代艺术家的纪录片就我所接触的诸如...   \n13            13                                      买了个山寨手机开机我就哭了   \n...          ...                                                ...   \n7130        7130                    今天胃口不好买了个冰激凌某品牌朗姆酒葡萄干的ms有一股皮鞋味儿   \n7131        7131                   huang金100秒微直播恭喜辣妈姜蕾可以和儿子tong场表演咯   \n7133        7133  这期时尚旅游杂志确实有点内个坐办公室看完全身未动心已远这班眼瞅没法上了雷达太多你们是要闹哪样...   \n7134        7134                                     今天到龙海坐浙三轮车台拉风了   \n7135        7135                                有在看澳网男单决赛的吗看比赛需要吼起来   \n\n                                           sentence_bag  \\\n5     ['烟台移动送惊喜啦拿起手机参与PLACE豪礼大作战活动即有机会赢取缤纷话费和DIGIT个流...   \n6     ['靠！这年头骗子太嚣张，盗用我的qq号之后明目张胆的骗钱！太缺德了，但骗子终究是骗子，漏出...   \n8     ['你的长相真1是不敢恭维……衰的都拖网速…', '通知:今天晚自习在宿舍上，整理好内务，相...   \n12    ['你在天国和五名乌干达黑人同时拳33交致死的亲妈都决定为你起尸鼓掌', '#早安、沃阁#沃...   \n13    ['你爹我操你吗鍀时候怎么没把你射墙上呢', '良品铺子旗舰店辛苦一年任性一回今天良品品牌团...   \n...                                                 ...   \n7130  ['我晚上开会', '马上到了', '#新闺蜜时代##cottonpink北京三里屯店#新闺...   \n7131  ['泪水曾经愤怒地掉落', '逼自己吃了两枣粽子两鸡蛋一大袋玻璃海苔强制自己补血补蛋白。免得...   \n7133  ['世纪百悦月至日DIGIT枚钻戒折黄金每克最高优惠DIGIT内衣折后满再送会员双倍积分PL...   \n7134  ['@远源的小背篓你这个垃圾粉，你也不看看尼加主子去年宣传小王子没，心机boy你好意思说，我...   \n7135  ['惊喜周末满DIGIT返DIGIT元包邮亿会员DIGIT亿回馈狂欢尽在URL回td退订唯品...   \n\n                                             label_bag final_label  \\\n5             ['AD', 'NORMAL', 'AD', 'NORMAL', 'FAKE']          AD   \n6       ['NORMAL', 'AD', 'NORMAL', 'NORMAL', 'NORMAL']      NORMAL   \n8           ['FUCK', 'NORMAL', 'FUCK', 'FUCK', 'FUCK']        FUCK   \n12              ['FUCK', 'NORMAL', 'FAKE', 'AD', 'AD']          AD   \n13              ['FUCK', 'AD', 'FUCK', 'NORMAL', 'AD']        FUCK   \n...                                                ...         ...   \n7130  ['NORMAL', 'NORMAL', 'NORMAL', 'NORMAL', 'FUCK']      NORMAL   \n7131  ['NORMAL', 'NORMAL', 'FUCK', 'NORMAL', 'NORMAL']      NORMAL   \n7133    ['AD', 'NORMAL', 'NORMAL', 'NORMAL', 'NORMAL']      NORMAL   \n7134        ['FUCK', 'NORMAL', 'FUCK', 'NORMAL', 'AD']        FUCK   \n7135         ['AD', 'NORMAL', 'POLITICAL', 'AD', 'AD']          AD   \n\n      true_label                                              score  result  \n5              0  [0.25075668, 0.2641062, 0.2700566, 0.2785626, ...   False  \n6              0  [0.23004353, 0.25039077, 0.25298703, 0.2594892...   False  \n8              0  [7.748604e-07, 0.27663082, 0.28557074, 0.33199...   False  \n12             0  [0.004813373, 0.28591937, 0.29133403, 0.292331...   False  \n13             0  [0.05755824, 0.31656075, 0.33119917, 0.3485463...   False  \n...          ...                                                ...     ...  \n7130           0  [0.013285756, 0.29031032, 0.2905413, 0.2946975...   False  \n7131           0  [0.046549976, 0.31177866, 0.31525707, 0.320399...   False  \n7133           0  [-1.1920929e-06, 0.18689656, 0.18857586, 0.189...   False  \n7134           0  [-9.536743e-07, 0.3445171, 0.35620058, 0.39621...   False  \n7135           0  [0.3886714, 0.39686632, 0.39831716, 0.40285844...   False  \n\n[4112 rows x 8 columns]",
      "text/html": "<div>\n<style scoped>\n    .dataframe tbody tr th:only-of-type {\n        vertical-align: middle;\n    }\n\n    .dataframe tbody tr th {\n        vertical-align: top;\n    }\n\n    .dataframe thead th {\n        text-align: right;\n    }\n</style>\n<table border=\"1\" class=\"dataframe\">\n  <thead>\n    <tr style=\"text-align: right;\">\n      <th></th>\n      <th>Unnamed: 0</th>\n      <th>text</th>\n      <th>sentence_bag</th>\n      <th>label_bag</th>\n      <th>final_label</th>\n      <th>true_label</th>\n      <th>score</th>\n      <th>result</th>\n    </tr>\n  </thead>\n  <tbody>\n    <tr>\n      <th>5</th>\n      <td>5</td>\n      <td>新款到每日一新特的曲剪裁鞋面充知性典雅的古息吸睛指破表背完美合的曲彷量身般不需害怕扭到好走又...</td>\n      <td>['烟台移动送惊喜啦拿起手机参与PLACE豪礼大作战活动即有机会赢取缤纷话费和DIGIT个流...</td>\n      <td>['AD', 'NORMAL', 'AD', 'NORMAL', 'FAKE']</td>\n      <td>AD</td>\n      <td>0</td>\n      <td>[0.25075668, 0.2641062, 0.2700566, 0.2785626, ...</td>\n      <td>False</td>\n    </tr>\n    <tr>\n      <th>6</th>\n      <td>6</td>\n      <td>在开学的前一日里我会求佛祖保佑老师重新安排的座位是靠墙或靠窗这样就有了一个相对独立的私密空间...</td>\n      <td>['靠！这年头骗子太嚣张，盗用我的qq号之后明目张胆的骗钱！太缺德了，但骗子终究是骗子，漏出...</td>\n      <td>['NORMAL', 'AD', 'NORMAL', 'NORMAL', 'NORMAL']</td>\n      <td>NORMAL</td>\n      <td>0</td>\n      <td>[0.23004353, 0.25039077, 0.25298703, 0.2594892...</td>\n      <td>False</td>\n    </tr>\n    <tr>\n      <th>8</th>\n      <td>8</td>\n      <td>然后妈妈自己剪了头发现在看起来好像eason啊</td>\n      <td>['你的长相真1是不敢恭维……衰的都拖网速…', '通知:今天晚自习在宿舍上，整理好内务，相...</td>\n      <td>['FUCK', 'NORMAL', 'FUCK', 'FUCK', 'FUCK']</td>\n      <td>FUCK</td>\n      <td>0</td>\n      <td>[7.748604e-07, 0.27663082, 0.28557074, 0.33199...</td>\n      <td>False</td>\n    </tr>\n    <tr>\n      <th>12</th>\n      <td>12</td>\n      <td>我曾经拍摄过两部反应法国华人艺术家以及在威尼斯双年展上中国当代艺术家的纪录片就我所接触的诸如...</td>\n      <td>['你在天国和五名乌干达黑人同时拳33交致死的亲妈都决定为你起尸鼓掌', '#早安、沃阁#沃...</td>\n      <td>['FUCK', 'NORMAL', 'FAKE', 'AD', 'AD']</td>\n      <td>AD</td>\n      <td>0</td>\n      <td>[0.004813373, 0.28591937, 0.29133403, 0.292331...</td>\n      <td>False</td>\n    </tr>\n    <tr>\n      <th>13</th>\n      <td>13</td>\n      <td>买了个山寨手机开机我就哭了</td>\n      <td>['你爹我操你吗鍀时候怎么没把你射墙上呢', '良品铺子旗舰店辛苦一年任性一回今天良品品牌团...</td>\n      <td>['FUCK', 'AD', 'FUCK', 'NORMAL', 'AD']</td>\n      <td>FUCK</td>\n      <td>0</td>\n      <td>[0.05755824, 0.31656075, 0.33119917, 0.3485463...</td>\n      <td>False</td>\n    </tr>\n    <tr>\n      <th>...</th>\n      <td>...</td>\n      <td>...</td>\n      <td>...</td>\n      <td>...</td>\n      <td>...</td>\n      <td>...</td>\n      <td>...</td>\n      <td>...</td>\n    </tr>\n    <tr>\n      <th>7130</th>\n      <td>7130</td>\n      <td>今天胃口不好买了个冰激凌某品牌朗姆酒葡萄干的ms有一股皮鞋味儿</td>\n      <td>['我晚上开会', '马上到了', '#新闺蜜时代##cottonpink北京三里屯店#新闺...</td>\n      <td>['NORMAL', 'NORMAL', 'NORMAL', 'NORMAL', 'FUCK']</td>\n      <td>NORMAL</td>\n      <td>0</td>\n      <td>[0.013285756, 0.29031032, 0.2905413, 0.2946975...</td>\n      <td>False</td>\n    </tr>\n    <tr>\n      <th>7131</th>\n      <td>7131</td>\n      <td>huang金100秒微直播恭喜辣妈姜蕾可以和儿子tong场表演咯</td>\n      <td>['泪水曾经愤怒地掉落', '逼自己吃了两枣粽子两鸡蛋一大袋玻璃海苔强制自己补血补蛋白。免得...</td>\n      <td>['NORMAL', 'NORMAL', 'FUCK', 'NORMAL', 'NORMAL']</td>\n      <td>NORMAL</td>\n      <td>0</td>\n      <td>[0.046549976, 0.31177866, 0.31525707, 0.320399...</td>\n      <td>False</td>\n    </tr>\n    <tr>\n      <th>7133</th>\n      <td>7133</td>\n      <td>这期时尚旅游杂志确实有点内个坐办公室看完全身未动心已远这班眼瞅没法上了雷达太多你们是要闹哪样...</td>\n      <td>['世纪百悦月至日DIGIT枚钻戒折黄金每克最高优惠DIGIT内衣折后满再送会员双倍积分PL...</td>\n      <td>['AD', 'NORMAL', 'NORMAL', 'NORMAL', 'NORMAL']</td>\n      <td>NORMAL</td>\n      <td>0</td>\n      <td>[-1.1920929e-06, 0.18689656, 0.18857586, 0.189...</td>\n      <td>False</td>\n    </tr>\n    <tr>\n      <th>7134</th>\n      <td>7134</td>\n      <td>今天到龙海坐浙三轮车台拉风了</td>\n      <td>['@远源的小背篓你这个垃圾粉，你也不看看尼加主子去年宣传小王子没，心机boy你好意思说，我...</td>\n      <td>['FUCK', 'NORMAL', 'FUCK', 'NORMAL', 'AD']</td>\n      <td>FUCK</td>\n      <td>0</td>\n      <td>[-9.536743e-07, 0.3445171, 0.35620058, 0.39621...</td>\n      <td>False</td>\n    </tr>\n    <tr>\n      <th>7135</th>\n      <td>7135</td>\n      <td>有在看澳网男单决赛的吗看比赛需要吼起来</td>\n      <td>['惊喜周末满DIGIT返DIGIT元包邮亿会员DIGIT亿回馈狂欢尽在URL回td退订唯品...</td>\n      <td>['AD', 'NORMAL', 'POLITICAL', 'AD', 'AD']</td>\n      <td>AD</td>\n      <td>0</td>\n      <td>[0.3886714, 0.39686632, 0.39831716, 0.40285844...</td>\n      <td>False</td>\n    </tr>\n  </tbody>\n</table>\n<p>4112 rows × 8 columns</p>\n</div>"
     },
     "execution_count": 116,
     "metadata": {},
     "output_type": "execute_result"
    }
   ],
   "source": [
    "data_normal"
   ],
   "metadata": {
    "collapsed": false,
    "ExecuteTime": {
     "end_time": "2024-03-10T07:20:27.508386700Z",
     "start_time": "2024-03-10T07:20:27.476991200Z"
    }
   },
   "id": "1f49b908c2951617"
  },
  {
   "cell_type": "code",
   "execution_count": 117,
   "outputs": [],
   "source": [
    "sentence_pair = []\n",
    "count1, count2 = 0, 0\n",
    "for unit in data_normal.values:\n",
    "    text = unit[1]\n",
    "    sentence_bag = eval(unit[2])\n",
    "    label_bag = eval(unit[3])\n",
    "    for sentence, label in zip(sentence_bag, label_bag):\n",
    "        sentence=re.sub(r'[\\W]','',sentence)\n",
    "        if label != \"NORMAL\" and len_sep(sentence, text):\n",
    "            count1 += 1\n",
    "            sentence_pair.append((text, sentence))\n",
    "for unit in data_nonormal.values:\n",
    "    text = unit[1]\n",
    "    sentence_bag = eval(unit[2])\n",
    "    label_bag = eval(unit[3])\n",
    "    for sentence, label in zip(sentence_bag, label_bag):\n",
    "        sentence=re.sub(r'[\\W]','',sentence)\n",
    "        if label == \"NORMAL\" and len_sep(sentence, text):\n",
    "            count2 += 1\n",
    "            sentence_pair.append((text, sentence))"
   ],
   "metadata": {
    "collapsed": false,
    "ExecuteTime": {
     "end_time": "2024-03-10T07:20:29.038557600Z",
     "start_time": "2024-03-10T07:20:28.699442200Z"
    }
   },
   "id": "197f6f469f2e6ca6"
  },
  {
   "cell_type": "code",
   "execution_count": 118,
   "outputs": [
    {
     "data": {
      "text/plain": "(2682, 1272, False)"
     },
     "execution_count": 118,
     "metadata": {},
     "output_type": "execute_result"
    }
   ],
   "source": [
    "count1, count2,len_sep(sentence, text)"
   ],
   "metadata": {
    "collapsed": false,
    "ExecuteTime": {
     "end_time": "2024-03-10T07:20:30.731048100Z",
     "start_time": "2024-03-10T07:20:30.710733Z"
    }
   },
   "id": "7324af43a8a3dbc4"
  },
  {
   "cell_type": "code",
   "execution_count": 119,
   "outputs": [
    {
     "data": {
      "text/plain": "('严重声讨黑兔爷_荷包兔子对一颗好不容易平静之不太衰老的童心吃骡勾引', '您好您在同城游戏代练投的简历已查阅咨询详情联系QQ如有打扰请见谅勿回')"
     },
     "execution_count": 119,
     "metadata": {},
     "output_type": "execute_result"
    }
   ],
   "source": [
    "sentence_pair[10]"
   ],
   "metadata": {
    "collapsed": false,
    "ExecuteTime": {
     "end_time": "2024-03-10T07:20:31.589602800Z",
     "start_time": "2024-03-10T07:20:31.565604300Z"
    }
   },
   "id": "e07bec8569240f5a"
  },
  {
   "cell_type": "code",
   "execution_count": 120,
   "outputs": [
    {
     "data": {
      "text/plain": "(2682, 1272, 3954)"
     },
     "execution_count": 120,
     "metadata": {},
     "output_type": "execute_result"
    }
   ],
   "source": [
    "count1, count2,len(sentence_pair)"
   ],
   "metadata": {
    "collapsed": false,
    "ExecuteTime": {
     "end_time": "2024-03-10T07:20:32.568039900Z",
     "start_time": "2024-03-10T07:20:32.516604300Z"
    }
   },
   "id": "1037c70ad632ad82"
  },
  {
   "cell_type": "code",
   "execution_count": 121,
   "outputs": [],
   "source": [
    "import pandas as pd\n",
    "\n",
    "data2 = pd.read_excel(r\"D:\\code\\qiji_compet\\code\\data\\match_data\\final_data_v3.xlsx\")"
   ],
   "metadata": {
    "collapsed": false,
    "ExecuteTime": {
     "end_time": "2024-03-10T07:20:36.278943500Z",
     "start_time": "2024-03-10T07:20:33.188514400Z"
    }
   },
   "id": "4ef810496dd0fc7f"
  },
  {
   "cell_type": "code",
   "execution_count": 122,
   "outputs": [
    {
     "data": {
      "text/plain": "       Unnamed: 0                                               text  \\\n0               0  哇晒这999个不错试睡嘻嘻我来招募嘉宾步步动心菲律宾走起兔头带不了火锅底料木有问题嘻嘻还可以...   \n1               1  成都到昆明只需10小时26日上午全长6358公里de云南省武定至昆明高速公路建成通车从昆明经...   \n2               2  去年cj亻故的最有意思的一件事是奔向一个领了满身礼品的小伙面前满脸苦相说某某道具已经衤皮领光...   \n3               3  我扌察刚发现原来我已经衤皮这么彻底的拉口丷土灬了拉的太特么全面了这将是人生载入史册的一天没法...   \n4               4              那就去解救啊把那些爹妈和那个磁暴步兵抓起来啊都他女马快成邪教了思考思考思考   \n...           ...                                                ...   \n24973       24973                     深夜发吃按老例吃过十来种浇头之后扌奂一家续摊再来碗上海辣肉面   \n24974       24974                        希望不要同一时段播出否则可苦le我们的电视机和遥控器了   \n24975       24975                                           7怎么个情况这是   \n24976       24976  下午茶日本火车的豪华便当据不完全统计日本至少有5000种列车便当常见的有墨鱼饭黑猪肉章鱼鳟鱼...   \n24977       24977  全球热门搜罗有钱人才能叫宅亻尔那口丩宅口马亻尔那口丩蜗居有钱人才能口丩忧郁亻尔那口丩忧郁口马...   \n\n                                            sentence_bag  \\\n0      ['什么时候回来啊', '滚亻尔女马的去吧算干啥的一个个的我就三个兄弟分流出三千人呵呵兴城市...   \n1      ['嘿嘿！够感动了啊~哈哈', '实在气不过希望你速速跪下感谢你爹操$$你这狗婊7子', '...   \n2      ['PLACE亲爱的会员超给力好奇大牌狂欢满DIGIT减DIGIT金装l9仅DIGIT元回t...   \n3      ['拉拉', '生活中有什么不愉快是骂一句时代峰峻我去你吗鍀舒缓不了的呢，如果有，就骂两句。...   \n4      ['电话可以慢慢聊加拨PHONE打全国电话DIGIT元分钟全包了区内没有漫游费长途费和本地通...   \n...                                                  ...   \n24973  ['我2号回', 'NAME尊敬的会员本期邮报精选咖啡和茶韩食风味火锅季菌菇世界详情请点击U...   \n24974  ['PLACENAME官方旗舰店PLACE加送感谢礼物啦现返店购物满DIGIT赠DIGIT元...   \n24975  ['连续六天六点多起来了。。。好像回到义务教育阶段。。。', '我真没咋的，你做你的事。就是...   \n24976  ['同程旅游尊敬的会员DIGIT元红包已经到账购买旅游产品直抵现金同程旅游周年庆戳URL瞅瞅...   \n24977  ['经典', '做人最起码的廉耻心还是要有的，先做人后做事！不然你妈养你二十多年，你还要连累...   \n\n                                            label_bag final_label  true_label  \\\n0            ['NORMAL', 'FUCK', 'AD', 'FUCK', 'FUCK']        FUCK           0   \n1          ['NORMAL', 'FUCK', 'FUCK', 'NORMAL', 'AD']      NORMAL           0   \n2          ['AD', 'FUCK', 'FUCK', 'NORMAL', 'NORMAL']        FUCK           0   \n3          ['NORMAL', 'FUCK', 'NORMAL', 'AD', 'FUCK']      NORMAL           0   \n4              ['AD', 'NORMAL', 'AD', 'NORMAL', 'AD']          AD           1   \n...                                               ...         ...         ...   \n24973    ['NORMAL', 'AD', 'NORMAL', 'FUCK', 'NORMAL']      NORMAL           0   \n24974      ['AD', 'FUCK', 'FUCK', 'NORMAL', 'NORMAL']        FUCK           0   \n24975    ['NORMAL', 'NORMAL', 'NORMAL', 'FUCK', 'AD']      NORMAL           0   \n24976          ['AD', 'NORMAL', 'AD', 'AD', 'NORMAL']          AD           0   \n24977  ['NORMAL', 'FUCK', 'FUCK', 'NORMAL', 'NORMAL']      NORMAL           0   \n\n                                                   score  result  \n0      [0.1983729, 0.20510757, 0.20553958, 0.20596749...   False  \n1      [2.3841858e-07, 0.39450705, 0.41949803, 0.4350...   False  \n2      [0.038355827, 0.19003105, 0.1972574, 0.2008057...   False  \n3      [0.21356952, 0.2164886, 0.22373891, 0.22425455...   False  \n4      [0.26188385, 0.27807593, 0.281398, 0.2822705, ...   False  \n...                                                  ...     ...  \n24973  [0.035435736, 0.1951598, 0.19608545, 0.2237825...   False  \n24974  [0.040149212, 0.061955094, 0.31685537, 0.31986...   False  \n24975  [0.31158972, 0.32722056, 0.33933908, 0.3462677...   False  \n24976  [0.012717605, 0.21764576, 0.218876, 0.25234354...   False  \n24977  [0.18668419, 0.22120464, 0.2271254, 0.22920632...   False  \n\n[24978 rows x 8 columns]",
      "text/html": "<div>\n<style scoped>\n    .dataframe tbody tr th:only-of-type {\n        vertical-align: middle;\n    }\n\n    .dataframe tbody tr th {\n        vertical-align: top;\n    }\n\n    .dataframe thead th {\n        text-align: right;\n    }\n</style>\n<table border=\"1\" class=\"dataframe\">\n  <thead>\n    <tr style=\"text-align: right;\">\n      <th></th>\n      <th>Unnamed: 0</th>\n      <th>text</th>\n      <th>sentence_bag</th>\n      <th>label_bag</th>\n      <th>final_label</th>\n      <th>true_label</th>\n      <th>score</th>\n      <th>result</th>\n    </tr>\n  </thead>\n  <tbody>\n    <tr>\n      <th>0</th>\n      <td>0</td>\n      <td>哇晒这999个不错试睡嘻嘻我来招募嘉宾步步动心菲律宾走起兔头带不了火锅底料木有问题嘻嘻还可以...</td>\n      <td>['什么时候回来啊', '滚亻尔女马的去吧算干啥的一个个的我就三个兄弟分流出三千人呵呵兴城市...</td>\n      <td>['NORMAL', 'FUCK', 'AD', 'FUCK', 'FUCK']</td>\n      <td>FUCK</td>\n      <td>0</td>\n      <td>[0.1983729, 0.20510757, 0.20553958, 0.20596749...</td>\n      <td>False</td>\n    </tr>\n    <tr>\n      <th>1</th>\n      <td>1</td>\n      <td>成都到昆明只需10小时26日上午全长6358公里de云南省武定至昆明高速公路建成通车从昆明经...</td>\n      <td>['嘿嘿！够感动了啊~哈哈', '实在气不过希望你速速跪下感谢你爹操$$你这狗婊7子', '...</td>\n      <td>['NORMAL', 'FUCK', 'FUCK', 'NORMAL', 'AD']</td>\n      <td>NORMAL</td>\n      <td>0</td>\n      <td>[2.3841858e-07, 0.39450705, 0.41949803, 0.4350...</td>\n      <td>False</td>\n    </tr>\n    <tr>\n      <th>2</th>\n      <td>2</td>\n      <td>去年cj亻故的最有意思的一件事是奔向一个领了满身礼品的小伙面前满脸苦相说某某道具已经衤皮领光...</td>\n      <td>['PLACE亲爱的会员超给力好奇大牌狂欢满DIGIT减DIGIT金装l9仅DIGIT元回t...</td>\n      <td>['AD', 'FUCK', 'FUCK', 'NORMAL', 'NORMAL']</td>\n      <td>FUCK</td>\n      <td>0</td>\n      <td>[0.038355827, 0.19003105, 0.1972574, 0.2008057...</td>\n      <td>False</td>\n    </tr>\n    <tr>\n      <th>3</th>\n      <td>3</td>\n      <td>我扌察刚发现原来我已经衤皮这么彻底的拉口丷土灬了拉的太特么全面了这将是人生载入史册的一天没法...</td>\n      <td>['拉拉', '生活中有什么不愉快是骂一句时代峰峻我去你吗鍀舒缓不了的呢，如果有，就骂两句。...</td>\n      <td>['NORMAL', 'FUCK', 'NORMAL', 'AD', 'FUCK']</td>\n      <td>NORMAL</td>\n      <td>0</td>\n      <td>[0.21356952, 0.2164886, 0.22373891, 0.22425455...</td>\n      <td>False</td>\n    </tr>\n    <tr>\n      <th>4</th>\n      <td>4</td>\n      <td>那就去解救啊把那些爹妈和那个磁暴步兵抓起来啊都他女马快成邪教了思考思考思考</td>\n      <td>['电话可以慢慢聊加拨PHONE打全国电话DIGIT元分钟全包了区内没有漫游费长途费和本地通...</td>\n      <td>['AD', 'NORMAL', 'AD', 'NORMAL', 'AD']</td>\n      <td>AD</td>\n      <td>1</td>\n      <td>[0.26188385, 0.27807593, 0.281398, 0.2822705, ...</td>\n      <td>False</td>\n    </tr>\n    <tr>\n      <th>...</th>\n      <td>...</td>\n      <td>...</td>\n      <td>...</td>\n      <td>...</td>\n      <td>...</td>\n      <td>...</td>\n      <td>...</td>\n      <td>...</td>\n    </tr>\n    <tr>\n      <th>24973</th>\n      <td>24973</td>\n      <td>深夜发吃按老例吃过十来种浇头之后扌奂一家续摊再来碗上海辣肉面</td>\n      <td>['我2号回', 'NAME尊敬的会员本期邮报精选咖啡和茶韩食风味火锅季菌菇世界详情请点击U...</td>\n      <td>['NORMAL', 'AD', 'NORMAL', 'FUCK', 'NORMAL']</td>\n      <td>NORMAL</td>\n      <td>0</td>\n      <td>[0.035435736, 0.1951598, 0.19608545, 0.2237825...</td>\n      <td>False</td>\n    </tr>\n    <tr>\n      <th>24974</th>\n      <td>24974</td>\n      <td>希望不要同一时段播出否则可苦le我们的电视机和遥控器了</td>\n      <td>['PLACENAME官方旗舰店PLACE加送感谢礼物啦现返店购物满DIGIT赠DIGIT元...</td>\n      <td>['AD', 'FUCK', 'FUCK', 'NORMAL', 'NORMAL']</td>\n      <td>FUCK</td>\n      <td>0</td>\n      <td>[0.040149212, 0.061955094, 0.31685537, 0.31986...</td>\n      <td>False</td>\n    </tr>\n    <tr>\n      <th>24975</th>\n      <td>24975</td>\n      <td>7怎么个情况这是</td>\n      <td>['连续六天六点多起来了。。。好像回到义务教育阶段。。。', '我真没咋的，你做你的事。就是...</td>\n      <td>['NORMAL', 'NORMAL', 'NORMAL', 'FUCK', 'AD']</td>\n      <td>NORMAL</td>\n      <td>0</td>\n      <td>[0.31158972, 0.32722056, 0.33933908, 0.3462677...</td>\n      <td>False</td>\n    </tr>\n    <tr>\n      <th>24976</th>\n      <td>24976</td>\n      <td>下午茶日本火车的豪华便当据不完全统计日本至少有5000种列车便当常见的有墨鱼饭黑猪肉章鱼鳟鱼...</td>\n      <td>['同程旅游尊敬的会员DIGIT元红包已经到账购买旅游产品直抵现金同程旅游周年庆戳URL瞅瞅...</td>\n      <td>['AD', 'NORMAL', 'AD', 'AD', 'NORMAL']</td>\n      <td>AD</td>\n      <td>0</td>\n      <td>[0.012717605, 0.21764576, 0.218876, 0.25234354...</td>\n      <td>False</td>\n    </tr>\n    <tr>\n      <th>24977</th>\n      <td>24977</td>\n      <td>全球热门搜罗有钱人才能叫宅亻尔那口丩宅口马亻尔那口丩蜗居有钱人才能口丩忧郁亻尔那口丩忧郁口马...</td>\n      <td>['经典', '做人最起码的廉耻心还是要有的，先做人后做事！不然你妈养你二十多年，你还要连累...</td>\n      <td>['NORMAL', 'FUCK', 'FUCK', 'NORMAL', 'NORMAL']</td>\n      <td>NORMAL</td>\n      <td>0</td>\n      <td>[0.18668419, 0.22120464, 0.2271254, 0.22920632...</td>\n      <td>False</td>\n    </tr>\n  </tbody>\n</table>\n<p>24978 rows × 8 columns</p>\n</div>"
     },
     "execution_count": 122,
     "metadata": {},
     "output_type": "execute_result"
    }
   ],
   "source": [
    "data2=data2[~data2[\"text\"].apply(lambda x:True if pd.isna(x) else False)]\n",
    "data2[\"text\"]=data2[\"text\"].apply(lambda x:str(x).replace(\" \",\"\" ))\n",
    "data2[\"text\"]=data2[\"text\"].apply(lambda x:re.sub(r'[\\W]','',x))\n",
    "data2"
   ],
   "metadata": {
    "collapsed": false,
    "ExecuteTime": {
     "end_time": "2024-03-10T07:20:36.924013200Z",
     "start_time": "2024-03-10T07:20:36.791015Z"
    }
   },
   "id": "af547732e62d39db"
  },
  {
   "cell_type": "code",
   "execution_count": 123,
   "outputs": [],
   "source": [
    "data_normal = data2[data2.true_label == 0]\n",
    "data_nonormal = data2[data2.true_label == 1]\n",
    "sentence_pair2 = []\n",
    "count1, count2 = 0, 0\n",
    "for unit in data_normal.values:\n",
    "    text = unit[1]\n",
    "    sentence_bag = eval(unit[2])\n",
    "    label_bag = eval(unit[3])\n",
    "    for sentence, label in zip(sentence_bag, label_bag):\n",
    "        sentence=re.sub(r'[\\W]','',sentence)\n",
    "        if label != \"NORMAL\" and len_sep(sentence, text):\n",
    "            count1 += 1\n",
    "            sentence_pair2.append((text, sentence))\n",
    "for unit in data_nonormal.values:\n",
    "    text = unit[1]\n",
    "    sentence_bag = eval(unit[2])\n",
    "    label_bag = eval(unit[3])\n",
    "    for sentence, label in zip(sentence_bag, label_bag):\n",
    "        sentence=re.sub(r'[\\W]','',sentence)\n",
    "        if label == \"NORMAL\" and len_sep(sentence, text):\n",
    "            count2 += 1\n",
    "            sentence_pair2.append((text, sentence))"
   ],
   "metadata": {
    "collapsed": false,
    "ExecuteTime": {
     "end_time": "2024-03-10T07:20:39.152605100Z",
     "start_time": "2024-03-10T07:20:37.963571500Z"
    }
   },
   "id": "6f44e1e851c57aa"
  },
  {
   "cell_type": "code",
   "execution_count": 124,
   "outputs": [
    {
     "data": {
      "text/plain": "(14115, 9518, 4597)"
     },
     "execution_count": 124,
     "metadata": {},
     "output_type": "execute_result"
    }
   ],
   "source": [
    "len(sentence_pair2), count1, count2"
   ],
   "metadata": {
    "collapsed": false,
    "ExecuteTime": {
     "end_time": "2024-03-10T07:20:39.169605400Z",
     "start_time": "2024-03-10T07:20:39.154607300Z"
    }
   },
   "id": "2440dc8130fd6a4b"
  },
  {
   "cell_type": "code",
   "execution_count": 125,
   "outputs": [
    {
     "data": {
      "text/plain": "('成都到昆明只需10小时26日上午全长6358公里de云南省武定至昆明高速公路建成通车从昆明经武定攀枝花前往成都的出滇入川大通道shi现全程高速10小时左右可以到达以后去耍更方便啦',\n '你妈东莞卖逼黑直肠烂子宫生了你这么个梅毒三期红斑狼疮烂全身滥交操坏脑子艾滋没救的便宜女儿脑子里装了多少阴沟里下三滥的龌龊思想被蛆蛀的天天意淫精神高潮')"
     },
     "execution_count": 125,
     "metadata": {},
     "output_type": "execute_result"
    }
   ],
   "source": [
    "sentence_pair2[1]"
   ],
   "metadata": {
    "collapsed": false,
    "ExecuteTime": {
     "end_time": "2024-03-10T07:20:40.238597100Z",
     "start_time": "2024-03-10T07:20:40.208567400Z"
    }
   },
   "id": "d0334e65ed62122e"
  },
  {
   "cell_type": "code",
   "execution_count": 126,
   "outputs": [
    {
     "data": {
      "text/plain": "      Unnamed: 0                                               text  \\\n0              0                                               这一屋子   \n1              1                    你要不要脸啊被包养很光荣啊滚吧你裴多酱强奸还拿钱拿了30万行了   \n2              2         天呐我是在一个什么样的教学楼里面呢刚才语音室给人热一夕匕现在的教室给人冻死整死我算了   \n3              3  刚看了一个微博是卖狗肉的该不该吃狗肉的问题上开始了无休止的谩骂大家都吃素吧才能结束争论只抽半...   \n4              4                              我家的狗狗得过细小了单又拉血了怎么办啊急啊   \n...          ...                                                ...   \n3564        3564                那些沙比营销号是怎么做到有这么多沙比脑残粉的互相吸引吗文盲都看不下去了   \n3565        3565  现在的社会真是被一群忘恩负义的疯子占据忘记自己得国家忘记自己的家乡跟畜生没什么区别作为一个垃...   \n3566        3566                             某浪亻尔的节操呢这是想亻故征婚觅基友平台口马   \n3567        3567  真有意思还不敢让人转发评论微博了活成你这样也够丢人的没脑子又不要脸无敌了做人做成你这样我都替...   \n3568        3568  天生脑残与田径无关练田径把脑子也跑没了是么你这个狗做的再敬业跪天的再厉害这飞机还是不能超音速...   \n\n                                           sentence_bag  \\\n0     ['星期五见吧', '诚信招聘圆您百万梦想全球诚招代理邀您注册即送元彩金欢迎您及时参与共享申...   \n1     ['可怜兮兮的杂种狗000送来亲妈不知珍惜被我一招暴雨梨花针击穿大脑鲜红地血液洒满大地;',...   \n2     ['你妈才是狗，你妈死了？算个什么狗东西，么人看得起你，也么人待见你。像狗一样的粘人，贱的也...   \n3     ['宝贝，晚安！睡个好觉', '⽼⼦游戏菜嘴巴⼜不菜不服对喷啊傻缺', 'PLACE家电月D...   \n4     ['雨停了再做。', '宝贝，晚安！睡个好觉', '张老师，我们孩子有点着凉了，今天就在家休...   \n...                                                 ...   \n3564  ['这类货也能混迹大学，也能称作教！授，实在是一个悲哀。教授？呵...呵', '免税香烟批发...   \n3565  ['刚打完，基本上都是被说', '你不是又睡过去了吧?', '为什么天要灭中共中共在DIGI...   \n3566  ['PLACE月日至日PLACEPLACE万人空巷抢冰洗震撼登场全场折起来PLACE门店凉茶...   \n3567  ['知道了啦', '从“你这个废柴你这辈子就这样lan泥了你怎么不去死”到真的qu死。要走多...   \n3568  ['世博结束那么久9了，我还没去过中22国馆呢每，次地铁路过，都好想出站去看，可惜每次都是晚...   \n\n                                            label_bag final_label  true_label  \\\n0        ['NORMAL', 'FAKE', 'NORMAL', 'AD', 'NORMAL']      NORMAL           0   \n1            ['FUCK', 'AD', 'FUCK', 'FUCK', 'NORMAL']        FUCK           1   \n2        ['FUCK', 'FUCK', 'NORMAL', 'NORMAL', 'FUCK']        FUCK           0   \n3          ['NORMAL', 'FUCK', 'AD', 'FAKE', 'NORMAL']      NORMAL           0   \n4          ['NORMAL', 'NORMAL', 'NORMAL', 'AD', 'AD']      NORMAL           0   \n...                                               ...         ...         ...   \n3564       ['FUCK', 'AD', 'NORMAL', 'NORMAL', 'FUCK']        FUCK           1   \n3565  ['NORMAL', 'NORMAL', 'POLITICAL', 'AD', 'FUCK']      NORMAL           1   \n3566         ['AD', 'AD', 'NORMAL', 'NORMAL', 'FUCK']          AD           0   \n3567         ['NORMAL', 'FUCK', 'AD', 'FUCK', 'FUCK']        FUCK           1   \n3568   ['NORMAL', 'NORMAL', 'NORMAL', 'NORMAL', 'AD']      NORMAL           1   \n\n                                                  score  result  \n0     [-2.3841858e-07, 0.32237124, 0.3498764, 0.3571...   False  \n1     [6.556511e-07, 0.057133794, 0.14088333, 0.2660...   False  \n2     [-3.5762787e-07, 0.026480436, 0.23668945, 0.26...   False  \n3     [0.24951386, 0.2968135, 0.301713, 0.30177128, ...   False  \n4     [3.5762787e-07, 0.27890158, 0.28155792, 0.2822...   False  \n...                                                 ...     ...  \n3564  [0.12113118, 0.124705315, 0.18558967, 0.215743...   False  \n3565  [1.1920929e-07, 0.0007300973, 0.025551677, 0.0...   False  \n3566  [0.26037455, 0.26106888, 0.2681309, 0.27215016...   False  \n3567  [0.006465137, 0.0071576834, 0.047884762, 0.152...   False  \n3568  [-3.5762787e-07, 0.005571842, 0.008822918, 0.0...   False  \n\n[3569 rows x 8 columns]",
      "text/html": "<div>\n<style scoped>\n    .dataframe tbody tr th:only-of-type {\n        vertical-align: middle;\n    }\n\n    .dataframe tbody tr th {\n        vertical-align: top;\n    }\n\n    .dataframe thead th {\n        text-align: right;\n    }\n</style>\n<table border=\"1\" class=\"dataframe\">\n  <thead>\n    <tr style=\"text-align: right;\">\n      <th></th>\n      <th>Unnamed: 0</th>\n      <th>text</th>\n      <th>sentence_bag</th>\n      <th>label_bag</th>\n      <th>final_label</th>\n      <th>true_label</th>\n      <th>score</th>\n      <th>result</th>\n    </tr>\n  </thead>\n  <tbody>\n    <tr>\n      <th>0</th>\n      <td>0</td>\n      <td>这一屋子</td>\n      <td>['星期五见吧', '诚信招聘圆您百万梦想全球诚招代理邀您注册即送元彩金欢迎您及时参与共享申...</td>\n      <td>['NORMAL', 'FAKE', 'NORMAL', 'AD', 'NORMAL']</td>\n      <td>NORMAL</td>\n      <td>0</td>\n      <td>[-2.3841858e-07, 0.32237124, 0.3498764, 0.3571...</td>\n      <td>False</td>\n    </tr>\n    <tr>\n      <th>1</th>\n      <td>1</td>\n      <td>你要不要脸啊被包养很光荣啊滚吧你裴多酱强奸还拿钱拿了30万行了</td>\n      <td>['可怜兮兮的杂种狗000送来亲妈不知珍惜被我一招暴雨梨花针击穿大脑鲜红地血液洒满大地;',...</td>\n      <td>['FUCK', 'AD', 'FUCK', 'FUCK', 'NORMAL']</td>\n      <td>FUCK</td>\n      <td>1</td>\n      <td>[6.556511e-07, 0.057133794, 0.14088333, 0.2660...</td>\n      <td>False</td>\n    </tr>\n    <tr>\n      <th>2</th>\n      <td>2</td>\n      <td>天呐我是在一个什么样的教学楼里面呢刚才语音室给人热一夕匕现在的教室给人冻死整死我算了</td>\n      <td>['你妈才是狗，你妈死了？算个什么狗东西，么人看得起你，也么人待见你。像狗一样的粘人，贱的也...</td>\n      <td>['FUCK', 'FUCK', 'NORMAL', 'NORMAL', 'FUCK']</td>\n      <td>FUCK</td>\n      <td>0</td>\n      <td>[-3.5762787e-07, 0.026480436, 0.23668945, 0.26...</td>\n      <td>False</td>\n    </tr>\n    <tr>\n      <th>3</th>\n      <td>3</td>\n      <td>刚看了一个微博是卖狗肉的该不该吃狗肉的问题上开始了无休止的谩骂大家都吃素吧才能结束争论只抽半...</td>\n      <td>['宝贝，晚安！睡个好觉', '⽼⼦游戏菜嘴巴⼜不菜不服对喷啊傻缺', 'PLACE家电月D...</td>\n      <td>['NORMAL', 'FUCK', 'AD', 'FAKE', 'NORMAL']</td>\n      <td>NORMAL</td>\n      <td>0</td>\n      <td>[0.24951386, 0.2968135, 0.301713, 0.30177128, ...</td>\n      <td>False</td>\n    </tr>\n    <tr>\n      <th>4</th>\n      <td>4</td>\n      <td>我家的狗狗得过细小了单又拉血了怎么办啊急啊</td>\n      <td>['雨停了再做。', '宝贝，晚安！睡个好觉', '张老师，我们孩子有点着凉了，今天就在家休...</td>\n      <td>['NORMAL', 'NORMAL', 'NORMAL', 'AD', 'AD']</td>\n      <td>NORMAL</td>\n      <td>0</td>\n      <td>[3.5762787e-07, 0.27890158, 0.28155792, 0.2822...</td>\n      <td>False</td>\n    </tr>\n    <tr>\n      <th>...</th>\n      <td>...</td>\n      <td>...</td>\n      <td>...</td>\n      <td>...</td>\n      <td>...</td>\n      <td>...</td>\n      <td>...</td>\n      <td>...</td>\n    </tr>\n    <tr>\n      <th>3564</th>\n      <td>3564</td>\n      <td>那些沙比营销号是怎么做到有这么多沙比脑残粉的互相吸引吗文盲都看不下去了</td>\n      <td>['这类货也能混迹大学，也能称作教！授，实在是一个悲哀。教授？呵...呵', '免税香烟批发...</td>\n      <td>['FUCK', 'AD', 'NORMAL', 'NORMAL', 'FUCK']</td>\n      <td>FUCK</td>\n      <td>1</td>\n      <td>[0.12113118, 0.124705315, 0.18558967, 0.215743...</td>\n      <td>False</td>\n    </tr>\n    <tr>\n      <th>3565</th>\n      <td>3565</td>\n      <td>现在的社会真是被一群忘恩负义的疯子占据忘记自己得国家忘记自己的家乡跟畜生没什么区别作为一个垃...</td>\n      <td>['刚打完，基本上都是被说', '你不是又睡过去了吧?', '为什么天要灭中共中共在DIGI...</td>\n      <td>['NORMAL', 'NORMAL', 'POLITICAL', 'AD', 'FUCK']</td>\n      <td>NORMAL</td>\n      <td>1</td>\n      <td>[1.1920929e-07, 0.0007300973, 0.025551677, 0.0...</td>\n      <td>False</td>\n    </tr>\n    <tr>\n      <th>3566</th>\n      <td>3566</td>\n      <td>某浪亻尔的节操呢这是想亻故征婚觅基友平台口马</td>\n      <td>['PLACE月日至日PLACEPLACE万人空巷抢冰洗震撼登场全场折起来PLACE门店凉茶...</td>\n      <td>['AD', 'AD', 'NORMAL', 'NORMAL', 'FUCK']</td>\n      <td>AD</td>\n      <td>0</td>\n      <td>[0.26037455, 0.26106888, 0.2681309, 0.27215016...</td>\n      <td>False</td>\n    </tr>\n    <tr>\n      <th>3567</th>\n      <td>3567</td>\n      <td>真有意思还不敢让人转发评论微博了活成你这样也够丢人的没脑子又不要脸无敌了做人做成你这样我都替...</td>\n      <td>['知道了啦', '从“你这个废柴你这辈子就这样lan泥了你怎么不去死”到真的qu死。要走多...</td>\n      <td>['NORMAL', 'FUCK', 'AD', 'FUCK', 'FUCK']</td>\n      <td>FUCK</td>\n      <td>1</td>\n      <td>[0.006465137, 0.0071576834, 0.047884762, 0.152...</td>\n      <td>False</td>\n    </tr>\n    <tr>\n      <th>3568</th>\n      <td>3568</td>\n      <td>天生脑残与田径无关练田径把脑子也跑没了是么你这个狗做的再敬业跪天的再厉害这飞机还是不能超音速...</td>\n      <td>['世博结束那么久9了，我还没去过中22国馆呢每，次地铁路过，都好想出站去看，可惜每次都是晚...</td>\n      <td>['NORMAL', 'NORMAL', 'NORMAL', 'NORMAL', 'AD']</td>\n      <td>NORMAL</td>\n      <td>1</td>\n      <td>[-3.5762787e-07, 0.005571842, 0.008822918, 0.0...</td>\n      <td>False</td>\n    </tr>\n  </tbody>\n</table>\n<p>3569 rows × 8 columns</p>\n</div>"
     },
     "execution_count": 126,
     "metadata": {},
     "output_type": "execute_result"
    }
   ],
   "source": [
    "import pandas as pd\n",
    "\n",
    "data3 = pd.read_excel(r\"D:\\code\\qiji_compet\\code\\data\\match_data\\final_data_v4.xlsx\")\n",
    "data3=data3[~data3[\"text\"].apply(lambda x:True if pd.isna(x) else False)]\n",
    "data3[\"text\"]=data3[\"text\"].apply(lambda x:str(x).replace(\" \",\"\" ))\n",
    "data3[\"text\"]=data3[\"text\"].apply(lambda x:re.sub(r'[\\W]','',x))\n",
    "data3"
   ],
   "metadata": {
    "collapsed": false,
    "ExecuteTime": {
     "end_time": "2024-03-10T07:20:41.508395700Z",
     "start_time": "2024-03-10T07:20:40.981357800Z"
    }
   },
   "id": "2f49535412b60fb8"
  },
  {
   "cell_type": "code",
   "execution_count": 127,
   "outputs": [],
   "source": [
    "data_normal = data3[data3.true_label == 0]\n",
    "data_nonormal = data3[data3.true_label == 1]\n",
    "sentence_pair3 = []\n",
    "count1, count2 = 0, 0\n",
    "for unit in data_normal.values:\n",
    "    text = unit[1]\n",
    "    sentence_bag = eval(unit[2])\n",
    "    label_bag = eval(unit[3])\n",
    "    for sentence, label in zip(sentence_bag, label_bag):\n",
    "        sentence=re.sub(r'[\\W]','',sentence)\n",
    "        if label != \"NORMAL\" and len_sep(sentence, text):\n",
    "            count1 += 1\n",
    "            sentence_pair3.append((text, sentence))\n",
    "for unit in data_nonormal.values:\n",
    "    text = unit[1]\n",
    "    sentence_bag = eval(unit[2])\n",
    "    label_bag = eval(unit[3])\n",
    "    for sentence, label in zip(sentence_bag, label_bag):\n",
    "        sentence=re.sub(r'[\\W]','',sentence)\n",
    "        if label == \"NORMAL\" and len_sep(sentence, text):\n",
    "            count2 += 1\n",
    "            sentence_pair3.append((text, sentence))"
   ],
   "metadata": {
    "collapsed": false,
    "ExecuteTime": {
     "end_time": "2024-03-10T07:20:44.044682400Z",
     "start_time": "2024-03-10T07:20:43.876681400Z"
    }
   },
   "id": "253eeed470c17816"
  },
  {
   "cell_type": "code",
   "execution_count": 128,
   "outputs": [
    {
     "data": {
      "text/plain": "(1991, 1336, 655)"
     },
     "execution_count": 128,
     "metadata": {},
     "output_type": "execute_result"
    }
   ],
   "source": [
    "len(sentence_pair3), count1, count2"
   ],
   "metadata": {
    "collapsed": false,
    "ExecuteTime": {
     "end_time": "2024-03-10T07:20:45.172084200Z",
     "start_time": "2024-03-10T07:20:45.141675400Z"
    }
   },
   "id": "64f1c99527a22028"
  },
  {
   "cell_type": "code",
   "execution_count": 129,
   "outputs": [],
   "source": [
    "sentence_pair = sentence_pair + sentence_pair2 + sentence_pair3"
   ],
   "metadata": {
    "collapsed": false,
    "ExecuteTime": {
     "end_time": "2024-03-10T07:20:46.002266Z",
     "start_time": "2024-03-10T07:20:45.981259100Z"
    }
   },
   "id": "b568ceb4b02d61f7"
  },
  {
   "cell_type": "code",
   "execution_count": 130,
   "outputs": [
    {
     "data": {
      "text/plain": "20060"
     },
     "execution_count": 130,
     "metadata": {},
     "output_type": "execute_result"
    }
   ],
   "source": [
    "len(sentence_pair)"
   ],
   "metadata": {
    "collapsed": false,
    "ExecuteTime": {
     "end_time": "2024-03-10T07:20:46.425423100Z",
     "start_time": "2024-03-10T07:20:46.401420800Z"
    }
   },
   "id": "d8b826165ac8e47e"
  },
  {
   "cell_type": "code",
   "execution_count": 132,
   "outputs": [
    {
     "name": "stderr",
     "output_type": "stream",
     "text": [
      "100%|██████████| 20060/20060 [00:02<00:00, 7804.59it/s]\n"
     ]
    }
   ],
   "source": [
    "data2 = pd.read_excel(r\"D:\\code\\qiji_compet\\code\\data\\dataset\\multi_cls_data\\test_multi.xlsx\")\n",
    "final_semantic_sentence_pair = []\n",
    "test_content=data2.content.tolist()\n",
    "for unit in tqdm(sentence_pair):\n",
    "    if unit[0] not in test_content and unit[1] not in test_content:\n",
    "        final_semantic_sentence_pair.append(unit)"
   ],
   "metadata": {
    "collapsed": false,
    "ExecuteTime": {
     "end_time": "2024-03-10T07:22:44.410395600Z",
     "start_time": "2024-03-10T07:22:41.505035900Z"
    }
   },
   "id": "4d34e983fdd77b9d"
  },
  {
   "cell_type": "code",
   "execution_count": 133,
   "outputs": [
    {
     "data": {
      "text/plain": "17338"
     },
     "execution_count": 133,
     "metadata": {},
     "output_type": "execute_result"
    }
   ],
   "source": [
    "len(final_semantic_sentence_pair)"
   ],
   "metadata": {
    "collapsed": false,
    "ExecuteTime": {
     "end_time": "2024-03-10T07:22:51.214496200Z",
     "start_time": "2024-03-10T07:22:51.156495500Z"
    }
   },
   "id": "99ed2bd93975d0a3"
  },
  {
   "cell_type": "markdown",
   "source": [
    "### 难负样本字面"
   ],
   "metadata": {
    "collapsed": false
   },
   "id": "2fddaf41285d7582"
  },
  {
   "cell_type": "code",
   "execution_count": 37,
   "outputs": [],
   "source": [
    "# with open(\"stopword.txt\", 'r', encoding='utf-8') as g:\n",
    "#     words = g.readlines()\n",
    "#     stopwords = [i.strip() for i in words]\n",
    "#     stopwords.extend(['.', '（', '）', '-'])"
   ],
   "metadata": {
    "collapsed": false,
    "ExecuteTime": {
     "end_time": "2024-03-10T03:16:52.901946400Z",
     "start_time": "2024-03-10T03:16:52.863947Z"
    }
   },
   "id": "48bbabbbcc2dbffc"
  },
  {
   "cell_type": "code",
   "execution_count": 153,
   "outputs": [],
   "source": [
    "import jieba\n",
    "import pandas as pd\n",
    "data1 = pd.read_excel(r\"D:\\code\\qiji_compet\\code\\data\\dataset\\multi_cls_data\\train_multi.xlsx\")\n",
    "data2 = pd.read_excel(r\"D:\\code\\qiji_compet\\code\\data\\dataset\\multi_cls_data\\dev_multi.xlsx\")\n",
    "data = pd.concat([data1, data2]).sample(frac=1.0)\n",
    "# 示例文档集和查询\n",
    "data_content = data[\"content\"].tolist()\n",
    "docs = [jieba.lcut(x.replace(\" \", \"\")) for x in data_content]\n",
    "labels = data[\"labels\"].tolist()\n"
   ],
   "metadata": {
    "collapsed": false,
    "ExecuteTime": {
     "end_time": "2024-03-10T07:30:49.627596100Z",
     "start_time": "2024-03-10T07:30:38.318052Z"
    }
   },
   "id": "c4a3dce0811ba8be"
  },
  {
   "cell_type": "code",
   "execution_count": 32,
   "outputs": [
    {
     "data": {
      "text/plain": "['NAME',\n '女鞋',\n '尊敬',\n '的',\n '会员',\n '大牌',\n '女鞋',\n '开仓',\n '特卖',\n '超低价',\n '疯',\n '抢',\n '仅剩',\n '一天',\n '买鞋',\n '送礼',\n '会员',\n '再',\n '享满',\n 'DIGIT',\n '减',\n 'DIGIT',\n '售完',\n '不补',\n 'URL',\n '回复',\n '退订']"
     },
     "execution_count": 32,
     "metadata": {},
     "output_type": "execute_result"
    }
   ],
   "source": [
    "docs[2]"
   ],
   "metadata": {
    "collapsed": false,
    "ExecuteTime": {
     "end_time": "2024-03-10T03:02:21.638498200Z",
     "start_time": "2024-03-10T03:02:21.559465700Z"
    }
   },
   "id": "f2941908c55fd17b"
  },
  {
   "cell_type": "code",
   "execution_count": 3,
   "outputs": [],
   "source": [
    "from lmir import LMIR"
   ],
   "metadata": {
    "collapsed": false,
    "ExecuteTime": {
     "end_time": "2024-03-10T03:05:52.249704200Z",
     "start_time": "2024-03-10T03:05:52.232706Z"
    }
   },
   "id": "18872267f0206132"
  },
  {
   "cell_type": "code",
   "execution_count": 4,
   "outputs": [],
   "source": [
    "lmir_bag=LMIR(docs)"
   ],
   "metadata": {
    "collapsed": false,
    "ExecuteTime": {
     "end_time": "2024-03-10T03:05:54.000564300Z",
     "start_time": "2024-03-10T03:05:53.145565700Z"
    }
   },
   "id": "5deee54753dc5def"
  },
  {
   "cell_type": "code",
   "execution_count": 33,
   "outputs": [
    {
     "data": {
      "text/plain": "59307"
     },
     "execution_count": 33,
     "metadata": {},
     "output_type": "execute_result"
    }
   ],
   "source": [
    "lmir_bag.N"
   ],
   "metadata": {
    "collapsed": false,
    "ExecuteTime": {
     "end_time": "2024-03-10T03:02:47.056401300Z",
     "start_time": "2024-03-10T03:02:47.035366600Z"
    }
   },
   "id": "13a44064adbe78e5"
  },
  {
   "cell_type": "code",
   "execution_count": 27,
   "outputs": [],
   "source": [
    "import numpy as np\n",
    "raw_rank_index = np.array(lmir_bag.jelinek_mercer(docs[1])).argsort().tolist()  # lc的结果\n",
    "result = [data_content[i] for i in raw_rank_index]"
   ],
   "metadata": {
    "collapsed": false,
    "ExecuteTime": {
     "end_time": "2024-03-10T03:13:01.639038300Z",
     "start_time": "2024-03-10T03:13:01.339038600Z"
    }
   },
   "id": "ced9698f63696718"
  },
  {
   "cell_type": "code",
   "execution_count": 29,
   "outputs": [
    {
     "data": {
      "text/plain": "'师哥woshi该乐呢还是ku呢目前还没有网友要弄死你'"
     },
     "execution_count": 29,
     "metadata": {},
     "output_type": "execute_result"
    }
   ],
   "source": [
    "data_content[1]"
   ],
   "metadata": {
    "collapsed": false,
    "ExecuteTime": {
     "end_time": "2024-03-10T03:13:13.926415900Z",
     "start_time": "2024-03-10T03:13:13.888415600Z"
    }
   },
   "id": "ecd8a41949f04adc"
  },
  {
   "cell_type": "code",
   "execution_count": 54,
   "outputs": [],
   "source": [
    "from gensim.summarization import bm25\n",
    "bm25Model = bm25.BM25(docs) "
   ],
   "metadata": {
    "collapsed": false,
    "ExecuteTime": {
     "end_time": "2024-03-10T03:26:34.564070100Z",
     "start_time": "2024-03-10T03:26:34.157085200Z"
    }
   },
   "id": "de66ad528c38d4bd"
  },
  {
   "cell_type": "code",
   "execution_count": null,
   "outputs": [],
   "source": [
    "from tqdm import tqdm\n",
    "content = []\n",
    "# \n",
    "for j,doc in tqdm(enumerate(docs)):\n",
    "    raw_rank_index = np.array(bm25Model.get_scores(doc)).argsort().tolist()[::-1][1:21]  # bm25的结果  # lc的结果\n",
    "    result = [data_content[i] for i in raw_rank_index][1:21]\n",
    "    for idx,cont in zip(raw_rank_index,result):\n",
    "        if len_sep(data_content[j], data_content[idx]) and labels[j]!=labels[idx]:\n",
    "\n",
    "            content.append((data_content[j], data_content[idx], labels[j], labels[idx]))\n",
    "\n",
    "            if len(content)%1000==0:\n",
    "                print(len(content))"
   ],
   "metadata": {
    "collapsed": false
   },
   "id": "ae3ecd7151b12318"
  },
  {
   "cell_type": "code",
   "execution_count": 65,
   "outputs": [
    {
     "data": {
      "text/plain": "('玩抢红包遇到一个凑不要脸的还没玩完到她发就说没钱没绑定银行卡那你玩你麻痹抢的跟真的一样cnm',\n '那你帮忙说一下她是觉得今天说去没去怕觉得不好她在派出所等到五点半还没开完然后马上就跟说了我就跟你在群里说了你没回',\n 'FUCK',\n 'NORMAL')"
     },
     "execution_count": 65,
     "metadata": {},
     "output_type": "execute_result"
    }
   ],
   "source": [
    "content[3]"
   ],
   "metadata": {
    "collapsed": false,
    "ExecuteTime": {
     "end_time": "2024-03-10T07:04:58.248786300Z",
     "start_time": "2024-03-10T07:04:58.171787800Z"
    }
   },
   "id": "413abc81649bdd21"
  },
  {
   "cell_type": "code",
   "execution_count": 91,
   "outputs": [
    {
     "data": {
      "text/plain": "0"
     },
     "execution_count": 91,
     "metadata": {},
     "output_type": "execute_result"
    }
   ],
   "source": [
    "\n",
    "choice(ls)"
   ],
   "metadata": {
    "collapsed": false,
    "ExecuteTime": {
     "end_time": "2024-03-10T07:10:10.392540800Z",
     "start_time": "2024-03-10T07:10:10.363528800Z"
    }
   },
   "id": "c90298ca9b11e67b"
  },
  {
   "cell_type": "markdown",
   "source": [
    "# 易负样本"
   ],
   "metadata": {
    "collapsed": false
   },
   "id": "21cf8f7bc2a13093"
  },
  {
   "cell_type": "code",
   "execution_count": 138,
   "outputs": [
    {
     "name": "stderr",
     "output_type": "stream",
     "text": [
      "5091it [00:11, 478.89it/s]"
     ]
    },
    {
     "name": "stdout",
     "output_type": "stream",
     "text": [
      "10000\n"
     ]
    },
    {
     "name": "stderr",
     "output_type": "stream",
     "text": [
      "10196it [00:22, 426.17it/s]"
     ]
    },
    {
     "name": "stdout",
     "output_type": "stream",
     "text": [
      "20000\n"
     ]
    },
    {
     "name": "stderr",
     "output_type": "stream",
     "text": [
      "15253it [00:32, 512.89it/s]"
     ]
    },
    {
     "name": "stdout",
     "output_type": "stream",
     "text": [
      "30000\n"
     ]
    },
    {
     "name": "stderr",
     "output_type": "stream",
     "text": [
      "20342it [00:43, 497.38it/s]"
     ]
    },
    {
     "name": "stdout",
     "output_type": "stream",
     "text": [
      "40000\n"
     ]
    },
    {
     "name": "stderr",
     "output_type": "stream",
     "text": [
      "25505it [00:54, 504.22it/s]"
     ]
    },
    {
     "name": "stdout",
     "output_type": "stream",
     "text": [
      "50000\n"
     ]
    },
    {
     "name": "stderr",
     "output_type": "stream",
     "text": [
      "30668it [01:04, 542.15it/s]"
     ]
    },
    {
     "name": "stdout",
     "output_type": "stream",
     "text": [
      "60000\n"
     ]
    },
    {
     "name": "stderr",
     "output_type": "stream",
     "text": [
      "35966it [01:13, 678.54it/s]"
     ]
    },
    {
     "name": "stdout",
     "output_type": "stream",
     "text": [
      "70000\n"
     ]
    },
    {
     "name": "stderr",
     "output_type": "stream",
     "text": [
      "41218it [01:21, 731.27it/s]"
     ]
    },
    {
     "name": "stdout",
     "output_type": "stream",
     "text": [
      "80000\n"
     ]
    },
    {
     "name": "stderr",
     "output_type": "stream",
     "text": [
      "46614it [01:27, 913.72it/s]"
     ]
    },
    {
     "name": "stdout",
     "output_type": "stream",
     "text": [
      "90000\n"
     ]
    },
    {
     "name": "stderr",
     "output_type": "stream",
     "text": [
      "52039it [01:32, 1112.00it/s]"
     ]
    },
    {
     "name": "stdout",
     "output_type": "stream",
     "text": [
      "100000\n"
     ]
    },
    {
     "name": "stderr",
     "output_type": "stream",
     "text": [
      "58002it [01:35, 3221.12it/s]"
     ]
    },
    {
     "name": "stdout",
     "output_type": "stream",
     "text": [
      "110000\n"
     ]
    },
    {
     "name": "stderr",
     "output_type": "stream",
     "text": [
      "59307it [01:35, 619.89it/s] \n"
     ]
    }
   ],
   "source": [
    "from tqdm import tqdm\n",
    "from  random import choice\n",
    "ls=[0,0,0,0,0,0,0,0,0,1]\n",
    "sentence_pair_easy = []\n",
    "for i, (txt, lb) in tqdm(enumerate(zip(data_content, labels))):\n",
    "    lb_bag = []\n",
    "    for j in range(i + 1, len(labels)):\n",
    "        if labels[j] != lb  and (labels[j] not in lb_bag) and len_sep(txt,data_content[j]) and choice(ls):\n",
    "            sentence_pair_easy.append((txt, data_content[j], lb, labels[j]))\n",
    "            lb_bag.append(labels[j])\n",
    "            if len(sentence_pair_easy)%10000==0:\n",
    "                print(len(sentence_pair_easy))\n",
    "        elif len(lb_bag) == 2:\n",
    "            break"
   ],
   "metadata": {
    "collapsed": false,
    "ExecuteTime": {
     "end_time": "2024-03-10T07:25:48.074976Z",
     "start_time": "2024-03-10T07:24:12.384059900Z"
    }
   },
   "id": "601d468ade8b2436"
  },
  {
   "cell_type": "code",
   "execution_count": 106,
   "outputs": [
    {
     "data": {
      "text/plain": "156302"
     },
     "execution_count": 106,
     "metadata": {},
     "output_type": "execute_result"
    }
   ],
   "source": [
    "len(sentence_pair_easy)"
   ],
   "metadata": {
    "collapsed": false,
    "ExecuteTime": {
     "end_time": "2024-03-10T07:18:21.686867Z",
     "start_time": "2024-03-10T07:18:21.638761500Z"
    }
   },
   "id": "4a7a8394ee726ef5"
  },
  {
   "cell_type": "code",
   "execution_count": 139,
   "outputs": [],
   "source": [
    "sentence_pair_neg = final_semantic_sentence_pair + content + sentence_pair_easy"
   ],
   "metadata": {
    "collapsed": false,
    "ExecuteTime": {
     "end_time": "2024-03-10T07:26:12.367966400Z",
     "start_time": "2024-03-10T07:26:12.319925800Z"
    }
   },
   "id": "e4fdb5e024ea413f"
  },
  {
   "cell_type": "code",
   "execution_count": 150,
   "outputs": [
    {
     "data": {
      "text/plain": "('電訊數碼sunmobile現客提升至高速mbps數據服務計劃即送額外DIGITgb數據量體驗上網睇片更快更流暢受條款及細則約束URL查詢PHONE',\n '客户恭喜您的会员账号获得PLACE官方幸运采NAME烦请联系微信客服pja领取官网combyx',\n 'AD_Network_service',\n 'IL_Gambling')"
     },
     "execution_count": 150,
     "metadata": {},
     "output_type": "execute_result"
    }
   ],
   "source": [
    "sentence_pair_neg[0]"
   ],
   "metadata": {
    "collapsed": false,
    "ExecuteTime": {
     "end_time": "2024-03-10T07:29:10.849848800Z",
     "start_time": "2024-03-10T07:29:10.820354400Z"
    }
   },
   "id": "83fc0060deba597e"
  },
  {
   "cell_type": "code",
   "execution_count": 149,
   "outputs": [],
   "source": [
    "from random import shuffle\n",
    "shuffle(sentence_pair_neg)"
   ],
   "metadata": {
    "collapsed": false,
    "ExecuteTime": {
     "end_time": "2024-03-10T07:29:09.756967400Z",
     "start_time": "2024-03-10T07:29:09.676968100Z"
    }
   },
   "id": "636e1695fb957661"
  },
  {
   "cell_type": "code",
   "execution_count": 151,
   "outputs": [],
   "source": [
    "\n",
    "with open(r\"D:\\code\\qiji_compet\\code\\data\\match_data\\0310\\data_neg.txt\", \"w\", encoding=\"utf8\") as f:\n",
    "    for unit in sentence_pair_neg:\n",
    "        f.write(str(unit[0]) + \"\\t\" + unit[1]+\"\\n\")"
   ],
   "metadata": {
    "collapsed": false,
    "ExecuteTime": {
     "end_time": "2024-03-10T07:29:19.223015500Z",
     "start_time": "2024-03-10T07:29:18.896001Z"
    }
   },
   "id": "e27a69bb64ed1fd3"
  },
  {
   "cell_type": "code",
   "execution_count": 42,
   "outputs": [
    {
     "data": {
      "text/plain": "(0, '你的词汇量也是让我不想与你纠缠毕竟你100个爹并没有给！！你快乐的童年')"
     },
     "execution_count": 42,
     "metadata": {},
     "output_type": "execute_result"
    }
   ],
   "source": [
    "unit"
   ],
   "metadata": {
    "collapsed": false,
    "ExecuteTime": {
     "end_time": "2024-02-21T06:12:22.471245200Z",
     "start_time": "2024-02-21T06:12:22.408755500Z"
    }
   },
   "id": "6d42a8190497d937"
  },
  {
   "cell_type": "markdown",
   "source": [
    "# 正样本构建"
   ],
   "metadata": {
    "collapsed": false
   },
   "id": "9dbc3c81f47c2c10"
  },
  {
   "cell_type": "code",
   "execution_count": 154,
   "outputs": [
    {
     "data": {
      "text/plain": "       Unnamed: 0                                            content  \\\n31309        9759                                    人家说不定去找帮手了男的怎么办   \n4908        83125                                                唉算了   \n42672       66588                                              向亻尔叩首   \n31980        3256                                               傻的你啊   \n45387        1510  应用推荐PLACE移动手机营业厅办加油包最高送DIGITmb流量充值DIGIT折首次充值再送...   \n\n                   labels  \n31309              NORMAL  \n4908               NORMAL  \n42672              NORMAL  \n31980              NORMAL  \n45387  AD_Network_service  ",
      "text/html": "<div>\n<style scoped>\n    .dataframe tbody tr th:only-of-type {\n        vertical-align: middle;\n    }\n\n    .dataframe tbody tr th {\n        vertical-align: top;\n    }\n\n    .dataframe thead th {\n        text-align: right;\n    }\n</style>\n<table border=\"1\" class=\"dataframe\">\n  <thead>\n    <tr style=\"text-align: right;\">\n      <th></th>\n      <th>Unnamed: 0</th>\n      <th>content</th>\n      <th>labels</th>\n    </tr>\n  </thead>\n  <tbody>\n    <tr>\n      <th>31309</th>\n      <td>9759</td>\n      <td>人家说不定去找帮手了男的怎么办</td>\n      <td>NORMAL</td>\n    </tr>\n    <tr>\n      <th>4908</th>\n      <td>83125</td>\n      <td>唉算了</td>\n      <td>NORMAL</td>\n    </tr>\n    <tr>\n      <th>42672</th>\n      <td>66588</td>\n      <td>向亻尔叩首</td>\n      <td>NORMAL</td>\n    </tr>\n    <tr>\n      <th>31980</th>\n      <td>3256</td>\n      <td>傻的你啊</td>\n      <td>NORMAL</td>\n    </tr>\n    <tr>\n      <th>45387</th>\n      <td>1510</td>\n      <td>应用推荐PLACE移动手机营业厅办加油包最高送DIGITmb流量充值DIGIT折首次充值再送...</td>\n      <td>AD_Network_service</td>\n    </tr>\n  </tbody>\n</table>\n</div>"
     },
     "execution_count": 154,
     "metadata": {},
     "output_type": "execute_result"
    }
   ],
   "source": [
    "data.head()"
   ],
   "metadata": {
    "collapsed": false,
    "ExecuteTime": {
     "end_time": "2024-03-10T07:30:49.645595400Z",
     "start_time": "2024-03-10T07:30:49.629598Z"
    }
   },
   "id": "701420d604bc1274"
  },
  {
   "cell_type": "code",
   "execution_count": 156,
   "outputs": [],
   "source": [
    "data_pos = data[data.labels != \"NORMAL\"]\n",
    "data_content_pos = data_pos[\"content\"].tolist()\n",
    "labels_pos = data_pos[\"labels\"].tolist()"
   ],
   "metadata": {
    "collapsed": false,
    "ExecuteTime": {
     "end_time": "2024-03-10T07:32:03.127951500Z",
     "start_time": "2024-03-10T07:32:03.069949800Z"
    }
   },
   "id": "e6a3598b51853d39"
  },
  {
   "cell_type": "code",
   "execution_count": 157,
   "outputs": [
    {
     "data": {
      "text/plain": "(20283, 3)"
     },
     "execution_count": 157,
     "metadata": {},
     "output_type": "execute_result"
    }
   ],
   "source": [
    "data_pos.shape"
   ],
   "metadata": {
    "collapsed": false,
    "ExecuteTime": {
     "end_time": "2024-03-10T07:32:04.559016300Z",
     "start_time": "2024-03-10T07:32:04.536017Z"
    }
   },
   "id": "24e645b860bc5400"
  },
  {
   "cell_type": "code",
   "execution_count": 159,
   "outputs": [],
   "source": [
    "label_dic = data_pos.labels.value_counts().to_dict()"
   ],
   "metadata": {
    "collapsed": false,
    "ExecuteTime": {
     "end_time": "2024-03-10T07:32:15.263331300Z",
     "start_time": "2024-03-10T07:32:15.207389600Z"
    }
   },
   "id": "b6c76cb3df95cf69"
  },
  {
   "cell_type": "code",
   "execution_count": 160,
   "outputs": [
    {
     "name": "stderr",
     "output_type": "stream",
     "text": [
      "20283it [00:42, 478.00it/s] \n"
     ]
    }
   ],
   "source": [
    "from tqdm import tqdm\n",
    "\n",
    "sentence_pair_pos = []\n",
    "import random\n",
    "\n",
    "x = [0, 1]\n",
    "# print(random.choices(x, weights = [10, 1, 1], k = 3))\n",
    "for i, (txt, lb) in tqdm(enumerate(zip(data_content_pos, labels_pos))):\n",
    "    lb_bag = []\n",
    "    for j in range(i + 1, len(labels_pos)):\n",
    "        if labels_pos[j] == lb and random.choices(x, weights=[label_dic[lb] - 50, 50], k=2)[0]:\n",
    "            sentence_pair_pos.append((txt, data_content_pos[j], lb, labels_pos[j]))\n",
    "            lb_bag.append(labels_pos[j])\n",
    "        elif len(lb_bag) == 10:\n",
    "            break"
   ],
   "metadata": {
    "collapsed": false,
    "ExecuteTime": {
     "end_time": "2024-03-10T07:33:20.465681700Z",
     "start_time": "2024-03-10T07:32:38.021604200Z"
    }
   },
   "id": "bda38cb6e6328025"
  },
  {
   "cell_type": "code",
   "execution_count": 161,
   "outputs": [
    {
     "data": {
      "text/plain": "181181"
     },
     "execution_count": 161,
     "metadata": {},
     "output_type": "execute_result"
    }
   ],
   "source": [
    "len(sentence_pair_pos)"
   ],
   "metadata": {
    "collapsed": false,
    "ExecuteTime": {
     "end_time": "2024-03-10T07:33:24.223804300Z",
     "start_time": "2024-03-10T07:33:24.180774700Z"
    }
   },
   "id": "68ad6285bec812"
  },
  {
   "cell_type": "code",
   "execution_count": 59,
   "outputs": [
    {
     "data": {
      "text/plain": "0"
     },
     "execution_count": 59,
     "metadata": {},
     "output_type": "execute_result"
    }
   ],
   "source": [
    "random.choices(x, weights=[label_dic[lb] - 6, 6])[0]"
   ],
   "metadata": {
    "collapsed": false,
    "ExecuteTime": {
     "end_time": "2024-02-20T16:17:11.165058600Z",
     "start_time": "2024-02-20T16:17:11.150068900Z"
    }
   },
   "id": "2db42154b7a56908"
  },
  {
   "cell_type": "markdown",
   "source": [
    "# 外部语料正样本"
   ],
   "metadata": {
    "collapsed": false
   },
   "id": "7b661f3eaea0dd0f"
  },
  {
   "cell_type": "code",
   "execution_count": 168,
   "outputs": [],
   "source": [
    "import json\n",
    "\n",
    "d1 = json.load(open(r\"D:\\code\\qiji_compet\\code\\ir\\pos_gen\\cmnli.json\", encoding=\"utf8\"))\n",
    "d2 = json.load(open(r\"D:\\code\\qiji_compet\\code\\ir\\pos_gen\\cstsb.json\", encoding=\"utf8\"))\n",
    "d3 = json.load(open(r\"D:\\code\\qiji_compet\\code\\ir\\pos_gen\\gaiic2021.json\", encoding=\"utf8\"))\n",
    "d4 = json.load(open(r\"D:\\code\\qiji_compet\\code\\ir\\pos_gen\\lcqmc.json\", encoding=\"utf8\"))\n",
    "d5 = json.load(open(r\"D:\\code\\qiji_compet\\code\\ir\\pos_gen\\ocnli.json\", encoding=\"utf8\"))\n"
   ],
   "metadata": {
    "collapsed": false,
    "ExecuteTime": {
     "end_time": "2024-03-10T07:44:24.442671600Z",
     "start_time": "2024-03-10T07:44:22.536140800Z"
    }
   },
   "id": "a43d3e99cdc35ae9"
  },
  {
   "cell_type": "code",
   "execution_count": 178,
   "outputs": [],
   "source": [
    "d = pd.concat([pd.DataFrame(d1[\"data\"]),\n",
    "               pd.DataFrame(d2[\"data\"]),\n",
    "               pd.DataFrame(d3[\"data\"]),\n",
    "               pd.DataFrame(d4[\"data\"]),\n",
    "               pd.DataFrame(d5[\"data\"])])\n",
    "d_pos = d[d.label == 1].sample(frac=1.0)"
   ],
   "metadata": {
    "collapsed": false,
    "ExecuteTime": {
     "end_time": "2024-03-10T07:50:41.998155700Z",
     "start_time": "2024-03-10T07:50:40.942147200Z"
    }
   },
   "id": "11c0617f65378fdc"
  },
  {
   "cell_type": "code",
   "execution_count": 170,
   "outputs": [
    {
     "data": {
      "text/plain": "                                                     sen1  \\\n275117  是的，我知道，这是另一件事，苏联的新闻媒体，我也不会相信他们，你知道，我不会相信他们把关于美...   \n114979                              我们大多数人-上帝保佑美国-对此毫不关心。   \n13262                          下决心砸了不合格产品,只能说明企业杜绝劣质产品的勇气   \n62129                                          我不知道你会开火车。   \n315012                             关于洗衣房的礼节，有一件事我从来没有弄清楚。   \n...                                                   ...   \n85050                  我当然不会投票给安·理查兹当州长，我也不能说我现在会投票给一位女总统   \n127182  不要错过楼上的小教堂，欣赏贝诺佐·戈佐利(Benozzo Gozzoli)15世纪的麦琪到伯...   \n395342                                      韦克尔还没有宣布他的意图。   \n108077                     但布朗克斯法律服务部的汤普森并没有从这些让步中得到什么安慰。   \n272527      “…就是这样。”德鲁坐在凳子上，这是浴室隔间里唯一的其他家具，而安斯则在浴盆里溅水和打滚。   \n\n                                 sen2 label  \n275117             苏联的媒体会操纵一个关于美国的报道。     1  \n114979                    我们大多数人都不在乎。     1  \n13262                          企业很有勇气     1  \n62129                    我不知道你能指挥火车头。     1  \n315012              洗衣房的礼仪还有一些不知道的地方。     1  \n...                               ...   ...  \n85050    我不会投票给安·理查兹当州长，我也不会投票给一位女总统。     1  \n127182  在楼上的小礼拜堂里可以看到一幅描绘法师到伯利恒之旅的壁画。     1  \n395342                   威克尔的意图还没有宣布。     1  \n108077                    汤普森不喜欢这些让步。     1  \n272527                德鲁坐在凳子上，安斯在浴缸里。     1  \n\n[153016 rows x 3 columns]",
      "text/html": "<div>\n<style scoped>\n    .dataframe tbody tr th:only-of-type {\n        vertical-align: middle;\n    }\n\n    .dataframe tbody tr th {\n        vertical-align: top;\n    }\n\n    .dataframe thead th {\n        text-align: right;\n    }\n</style>\n<table border=\"1\" class=\"dataframe\">\n  <thead>\n    <tr style=\"text-align: right;\">\n      <th></th>\n      <th>sen1</th>\n      <th>sen2</th>\n      <th>label</th>\n    </tr>\n  </thead>\n  <tbody>\n    <tr>\n      <th>275117</th>\n      <td>是的，我知道，这是另一件事，苏联的新闻媒体，我也不会相信他们，你知道，我不会相信他们把关于美...</td>\n      <td>苏联的媒体会操纵一个关于美国的报道。</td>\n      <td>1</td>\n    </tr>\n    <tr>\n      <th>114979</th>\n      <td>我们大多数人-上帝保佑美国-对此毫不关心。</td>\n      <td>我们大多数人都不在乎。</td>\n      <td>1</td>\n    </tr>\n    <tr>\n      <th>13262</th>\n      <td>下决心砸了不合格产品,只能说明企业杜绝劣质产品的勇气</td>\n      <td>企业很有勇气</td>\n      <td>1</td>\n    </tr>\n    <tr>\n      <th>62129</th>\n      <td>我不知道你会开火车。</td>\n      <td>我不知道你能指挥火车头。</td>\n      <td>1</td>\n    </tr>\n    <tr>\n      <th>315012</th>\n      <td>关于洗衣房的礼节，有一件事我从来没有弄清楚。</td>\n      <td>洗衣房的礼仪还有一些不知道的地方。</td>\n      <td>1</td>\n    </tr>\n    <tr>\n      <th>...</th>\n      <td>...</td>\n      <td>...</td>\n      <td>...</td>\n    </tr>\n    <tr>\n      <th>85050</th>\n      <td>我当然不会投票给安·理查兹当州长，我也不能说我现在会投票给一位女总统</td>\n      <td>我不会投票给安·理查兹当州长，我也不会投票给一位女总统。</td>\n      <td>1</td>\n    </tr>\n    <tr>\n      <th>127182</th>\n      <td>不要错过楼上的小教堂，欣赏贝诺佐·戈佐利(Benozzo Gozzoli)15世纪的麦琪到伯...</td>\n      <td>在楼上的小礼拜堂里可以看到一幅描绘法师到伯利恒之旅的壁画。</td>\n      <td>1</td>\n    </tr>\n    <tr>\n      <th>395342</th>\n      <td>韦克尔还没有宣布他的意图。</td>\n      <td>威克尔的意图还没有宣布。</td>\n      <td>1</td>\n    </tr>\n    <tr>\n      <th>108077</th>\n      <td>但布朗克斯法律服务部的汤普森并没有从这些让步中得到什么安慰。</td>\n      <td>汤普森不喜欢这些让步。</td>\n      <td>1</td>\n    </tr>\n    <tr>\n      <th>272527</th>\n      <td>“…就是这样。”德鲁坐在凳子上，这是浴室隔间里唯一的其他家具，而安斯则在浴盆里溅水和打滚。</td>\n      <td>德鲁坐在凳子上，安斯在浴缸里。</td>\n      <td>1</td>\n    </tr>\n  </tbody>\n</table>\n<p>153016 rows × 3 columns</p>\n</div>"
     },
     "execution_count": 170,
     "metadata": {},
     "output_type": "execute_result"
    }
   ],
   "source": [
    "d"
   ],
   "metadata": {
    "collapsed": false,
    "ExecuteTime": {
     "end_time": "2024-03-10T07:44:28.348503200Z",
     "start_time": "2024-03-10T07:44:28.293507400Z"
    }
   },
   "id": "480d515a079f8671"
  },
  {
   "cell_type": "code",
   "execution_count": 173,
   "outputs": [],
   "source": [
    "sentence_pair_pos = [list(k[:2]) for k in sentence_pair_pos]"
   ],
   "metadata": {
    "collapsed": false,
    "ExecuteTime": {
     "end_time": "2024-03-10T07:45:00.040284800Z",
     "start_time": "2024-03-10T07:44:59.553285100Z"
    }
   },
   "id": "7738c6b20ffe1ac5"
  },
  {
   "cell_type": "code",
   "execution_count": 174,
   "outputs": [
    {
     "data": {
      "text/plain": "181181"
     },
     "execution_count": 174,
     "metadata": {},
     "output_type": "execute_result"
    }
   ],
   "source": [
    "len(sentence_pair_pos)"
   ],
   "metadata": {
    "collapsed": false,
    "ExecuteTime": {
     "end_time": "2024-03-10T07:45:00.995984700Z",
     "start_time": "2024-03-10T07:45:00.972986600Z"
    }
   },
   "id": "b5d4e73c899daae4"
  },
  {
   "cell_type": "code",
   "execution_count": 175,
   "outputs": [
    {
     "data": {
      "text/plain": "334197"
     },
     "execution_count": 175,
     "metadata": {},
     "output_type": "execute_result"
    }
   ],
   "source": [
    "len(sentence_pair_pos + d[[\"sen1\", \"sen2\"]].values.tolist())"
   ],
   "metadata": {
    "collapsed": false,
    "ExecuteTime": {
     "end_time": "2024-03-10T07:45:29.439085Z",
     "start_time": "2024-03-10T07:45:29.120472700Z"
    }
   },
   "id": "97bf381ddefea3d8"
  },
  {
   "cell_type": "code",
   "execution_count": 179,
   "outputs": [],
   "source": [
    "with open(r\"D:\\code\\qiji_compet\\code\\data\\match_data\\0310\\data_pos.txt\", \"w\", encoding=\"utf8\") as f:\n",
    "    for unit in sentence_pair_pos + d_pos[[\"sen1\", \"sen2\"]].values.tolist()[:140000]:\n",
    "        f.write(unit[0] + \"\\t\" + unit[1]+\"\\n\")"
   ],
   "metadata": {
    "collapsed": false,
    "ExecuteTime": {
     "end_time": "2024-03-10T07:51:03.905110300Z",
     "start_time": "2024-03-10T07:51:02.733110700Z"
    }
   },
   "id": "43eb0d0d57d04044"
  },
  {
   "cell_type": "code",
   "execution_count": 180,
   "outputs": [
    {
     "data": {
      "text/plain": "                                                     sen1  \\\n34178                                         每小时花费在Y中的值。   \n251695                                     我很想那样做，但他们那边有蛇   \n167904                                    我不知道，卡丹，但你现在这里。   \n377031           当阿道夫·蒂耶斯领导下的新第三共和国政府就投降条件进行谈判时，工人公社拒绝让步。   \n86185                               侍者们小心翼翼地端着一瓶古老而高贵的佳酿。   \n...                                                   ...   \n163579  美国人贾斯汀·伦纳德在第17洞的45英尺长的小鸟推杆在他的欧洲对手结束比赛之前在球场上引发了...   \n281749  该文件已于1998年12月提交委员会，并于1999年6月修订，纳入了1997年进行的“家庭日...   \n188551                                      -为农村小型航母提供豁免，   \n240826  考虑到类似的销量，维京向书店运送了27，000份“奥德赛”和1万份演员伊恩·麦凯伦(IanM...   \n61832   所以，是的，对，嗯，我印象深刻的事实是，嗯，它不是那么幼稚，你知道，我的意思是，这不是我女儿...   \n\n                                                     sen2 label  \n34178                             每小时花费的时间值与前一晚的休息时间直接相关。     0  \n251695                                               我怕蛇。     0  \n167904                                           卡丹到了村子里。     0  \n377031  阿道夫·蒂尔(AdolpheThiers)的政府试图继续保持这种局面，希望工人的公社能够保持稳定。     0  \n86185                                    侍者们用漂亮的橙色手套拿着瓶子。     0  \n...                                                   ...   ...  \n163579                       贾斯汀·伦纳德的对手由于果岭上的人群而无法完成他的比赛。     0  \n281749                                         这篇论文从未修改过。     0  \n188551                                         承运人没有免责条款，     0  \n240826          维京人确信“奥德赛”会失败，所以他们只印了5，000份，这样他们就可以摸清市场了。     0  \n61832                              这件事太幼稚了，连我5岁的孩子都觉得它很蠢。     0  \n\n[13016 rows x 3 columns]",
      "text/html": "<div>\n<style scoped>\n    .dataframe tbody tr th:only-of-type {\n        vertical-align: middle;\n    }\n\n    .dataframe tbody tr th {\n        vertical-align: top;\n    }\n\n    .dataframe thead th {\n        text-align: right;\n    }\n</style>\n<table border=\"1\" class=\"dataframe\">\n  <thead>\n    <tr style=\"text-align: right;\">\n      <th></th>\n      <th>sen1</th>\n      <th>sen2</th>\n      <th>label</th>\n    </tr>\n  </thead>\n  <tbody>\n    <tr>\n      <th>34178</th>\n      <td>每小时花费在Y中的值。</td>\n      <td>每小时花费的时间值与前一晚的休息时间直接相关。</td>\n      <td>0</td>\n    </tr>\n    <tr>\n      <th>251695</th>\n      <td>我很想那样做，但他们那边有蛇</td>\n      <td>我怕蛇。</td>\n      <td>0</td>\n    </tr>\n    <tr>\n      <th>167904</th>\n      <td>我不知道，卡丹，但你现在这里。</td>\n      <td>卡丹到了村子里。</td>\n      <td>0</td>\n    </tr>\n    <tr>\n      <th>377031</th>\n      <td>当阿道夫·蒂耶斯领导下的新第三共和国政府就投降条件进行谈判时，工人公社拒绝让步。</td>\n      <td>阿道夫·蒂尔(AdolpheThiers)的政府试图继续保持这种局面，希望工人的公社能够保持稳定。</td>\n      <td>0</td>\n    </tr>\n    <tr>\n      <th>86185</th>\n      <td>侍者们小心翼翼地端着一瓶古老而高贵的佳酿。</td>\n      <td>侍者们用漂亮的橙色手套拿着瓶子。</td>\n      <td>0</td>\n    </tr>\n    <tr>\n      <th>...</th>\n      <td>...</td>\n      <td>...</td>\n      <td>...</td>\n    </tr>\n    <tr>\n      <th>163579</th>\n      <td>美国人贾斯汀·伦纳德在第17洞的45英尺长的小鸟推杆在他的欧洲对手结束比赛之前在球场上引发了...</td>\n      <td>贾斯汀·伦纳德的对手由于果岭上的人群而无法完成他的比赛。</td>\n      <td>0</td>\n    </tr>\n    <tr>\n      <th>281749</th>\n      <td>该文件已于1998年12月提交委员会，并于1999年6月修订，纳入了1997年进行的“家庭日...</td>\n      <td>这篇论文从未修改过。</td>\n      <td>0</td>\n    </tr>\n    <tr>\n      <th>188551</th>\n      <td>-为农村小型航母提供豁免，</td>\n      <td>承运人没有免责条款，</td>\n      <td>0</td>\n    </tr>\n    <tr>\n      <th>240826</th>\n      <td>考虑到类似的销量，维京向书店运送了27，000份“奥德赛”和1万份演员伊恩·麦凯伦(IanM...</td>\n      <td>维京人确信“奥德赛”会失败，所以他们只印了5，000份，这样他们就可以摸清市场了。</td>\n      <td>0</td>\n    </tr>\n    <tr>\n      <th>61832</th>\n      <td>所以，是的，对，嗯，我印象深刻的事实是，嗯，它不是那么幼稚，你知道，我的意思是，这不是我女儿...</td>\n      <td>这件事太幼稚了，连我5岁的孩子都觉得它很蠢。</td>\n      <td>0</td>\n    </tr>\n  </tbody>\n</table>\n<p>13016 rows × 3 columns</p>\n</div>"
     },
     "execution_count": 180,
     "metadata": {},
     "output_type": "execute_result"
    }
   ],
   "source": [],
   "metadata": {
    "collapsed": false,
    "ExecuteTime": {
     "end_time": "2024-03-10T07:51:54.027447800Z",
     "start_time": "2024-03-10T07:51:53.957449300Z"
    }
   },
   "id": "3ea4cf1be9163bf1"
  },
  {
   "cell_type": "code",
   "execution_count": 182,
   "outputs": [],
   "source": [
    "with open(r\"D:\\code\\qiji_compet\\code\\data\\dataset\\binary_cls_data\\test_binary2.txt\", \"w\", encoding=\"utf8\") as f:\n",
    "    for unit in  d_pos[[\"sen1\", \"sen2\",\"label\"]].values.tolist()[140000:]:\n",
    "        f.write(unit[0] + \"\\t\" + unit[1]+\"\\n\")"
   ],
   "metadata": {
    "collapsed": false,
    "ExecuteTime": {
     "end_time": "2024-03-10T07:54:46.135543700Z",
     "start_time": "2024-03-10T07:54:45.770394500Z"
    }
   },
   "id": "e44e8e84b181c4f4"
  },
  {
   "cell_type": "code",
   "execution_count": null,
   "outputs": [],
   "source": [],
   "metadata": {
    "collapsed": false
   },
   "id": "ac85a6d901b795ad"
  }
 ],
 "metadata": {
  "kernelspec": {
   "display_name": "Python 3",
   "language": "python",
   "name": "python3"
  },
  "language_info": {
   "codemirror_mode": {
    "name": "ipython",
    "version": 2
   },
   "file_extension": ".py",
   "mimetype": "text/x-python",
   "name": "python",
   "nbconvert_exporter": "python",
   "pygments_lexer": "ipython2",
   "version": "2.7.6"
  }
 },
 "nbformat": 4,
 "nbformat_minor": 5
}
