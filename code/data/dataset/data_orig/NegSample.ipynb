{
 "cells": [
  {
   "cell_type": "code",
   "execution_count": null,
   "outputs": [],
   "source": [
    "#负样本：\n",
    "# normal  里面挑选非normal\n",
    "#非normal 里面挑选normal\n",
    "#正样本：\n",
    "#非normal标签语料对应"
   ],
   "metadata": {
    "collapsed": false
   },
   "id": "9212aefafb6041ad"
  },
  {
   "cell_type": "markdown",
   "source": [
    "## 负样本构建"
   ],
   "metadata": {
    "collapsed": false
   },
   "id": "4c1e43a4e3d510de"
  },
  {
   "cell_type": "markdown",
   "source": [
    "### 难负样本语义"
   ],
   "metadata": {
    "collapsed": false
   },
   "id": "15188400e5d45c3d"
  },
  {
   "cell_type": "code",
   "execution_count": 6,
   "outputs": [],
   "source": [
    "import pandas as pd\n",
    "\n",
    "data = pd.read_excel(r\"D:\\work\\qiji_compet\\code\\data\\match_data\\final_data_v2.xlsx\")"
   ],
   "metadata": {
    "collapsed": false,
    "ExecuteTime": {
     "end_time": "2024-03-12T17:00:54.666111Z",
     "start_time": "2024-03-12T17:00:51.104793Z"
    }
   },
   "id": "initial_id"
  },
  {
   "cell_type": "code",
   "execution_count": 7,
   "outputs": [],
   "source": [
    "def len_sep(text1, text2):\n",
    "    if len(text1) < 10 and len(text2) < 10:\n",
    "        return True\n",
    "    if 10 <= len(text1) <= 20 and 10 <= len(text2) <= 20:\n",
    "        return True\n",
    "    if 20 <= len(text1) <= 40 and 20 <= len(text2) <= 40:\n",
    "        return True\n",
    "    if 40 <= len(text1) <= 100 and 40 <= len(text2) <= 100:\n",
    "        return True\n",
    "    if 100 <= len(text1) and 100 <= len(text2):\n",
    "        return True\n",
    "    return False\n"
   ],
   "metadata": {
    "collapsed": false,
    "ExecuteTime": {
     "end_time": "2024-03-12T17:00:55.623371Z",
     "start_time": "2024-03-12T17:00:55.608373Z"
    }
   },
   "id": "43f7b36ed88082dc"
  },
  {
   "cell_type": "code",
   "execution_count": 8,
   "outputs": [],
   "source": [
    "import re\n",
    "data=data[~data[\"text\"].apply(lambda x:True if pd.isna(x) else False)]\n",
    "data[\"text\"]=data[\"text\"].apply(lambda x:str(x).replace(\" \",\"\" ))\n",
    "data[\"text\"]=data[\"text\"].apply(lambda x:re.sub(r'[\\W]','',x))"
   ],
   "metadata": {
    "collapsed": false,
    "ExecuteTime": {
     "end_time": "2024-03-12T17:00:56.868493Z",
     "start_time": "2024-03-12T17:00:56.723485Z"
    }
   },
   "id": "68f1b66d75b97ba4"
  },
  {
   "cell_type": "code",
   "execution_count": 9,
   "outputs": [
    {
     "data": {
      "text/plain": "      Unnamed: 0                                               text  \\\n0              0      亻尔女马阴道里长了一颗毒瘤待我一颗手雷扔进去瞬间可以把亻尔女马阴道开拓成宽阔无涯的大黑辶畐   \n1              1  你这废物鸡巴跟牙签一样插到你母狗妈的水缸逼里都搅不动天天在这对太阳乱吠也不会有三眼怪过来捡你...   \n2              2                                操你妈的半夜瞎jb吹还发鬼吓我黑名单见   \n3              3                                 我在你妈逼里自由翱翔你妈哭着夸我真强   \n4              4                         人本初性本善锅里煮个大鸡蛋给我吃我就干不给我吃咱就散   \n...          ...                                                ...   \n7132        7132                                              cao你妈   \n7133        7133  这期时尚旅游杂志确实有点内个坐办公室看完全身未动心已远这班眼瞅没法上了雷达太多你们是要闹哪样...   \n7134        7134                                     今天到龙海坐浙三轮车台拉风了   \n7135        7135                                有在看澳网男单决赛的吗看比赛需要吼起来   \n7136        7136       我不是几年我是亻尔爸爸亻囟儿夂逼真的会判刑口马亻尔是几年傻逼判几年强奸判几年急的很在线等   \n\n                                           sentence_bag  \\\n0     ['您好我是做无抵押无担保信用借款的正规安全高效无论你是上班族还是做生意或者有车有房都可以申...   \n1     ['我们党员数', 'NAMEPLACE电梯现房NAME中环境优美NAME每平方米DIGIT...   \n2     ['唯品会狂欢你独享NAMENAME碧黄油满DIGIT返DIGIT组合券无敌超值URLed回...   \n3     ['您好您的信用极好邀您加入工作不限地点時間手机在家操作待遇ioo天詳情QQ', '好久没联...   \n4     ['博主该去看望下你失散多年的亲人@人民日报编辑部做个dna检测吧', '这样啊，我说怎么到...   \n...                                                 ...   \n7132  ['你在我⾯前玩次会简直就是班⻔弄斧我随随便便打出⼀个字你婊⼦妈都能爆体⽽亡', '移动手机...   \n7133  ['世纪百悦月至日DIGIT枚钻戒折黄金每克最高优惠DIGIT内衣折后满再送会员双倍积分PL...   \n7134  ['@远源的小背篓你这个垃圾粉，你也不看看尼加主子去年宣传小王子没，心机boy你好意思说，我...   \n7135  ['惊喜周末满DIGIT返DIGIT元包邮亿会员DIGIT亿回馈狂欢尽在URL回td退订唯品...   \n7136  ['@北方的纳努克', '夜惊悚→关灯睡下。电话突兀地响起，吓！小姨夫来电，小姨消shi三个...   \n\n                                             label_bag final_label  \\\n0             ['AD', 'NORMAL', 'FUCK', 'FAKE', 'FUCK']        FUCK   \n1               ['NORMAL', 'AD', 'AD', 'NORMAL', 'AD']          AD   \n2         ['AD', 'FUCK', 'NORMAL', 'NORMAL', 'NORMAL']      NORMAL   \n3           ['AD', 'NORMAL', 'FUCK', 'FUCK', 'NORMAL']      NORMAL   \n4         ['NORMAL', 'NORMAL', 'FUCK', 'FUCK', 'FUCK']        FUCK   \n...                                                ...         ...   \n7132   ['FUCK', 'AD', 'POLITICAL', 'NORMAL', 'NORMAL']      NORMAL   \n7133    ['AD', 'NORMAL', 'NORMAL', 'NORMAL', 'NORMAL']      NORMAL   \n7134        ['FUCK', 'NORMAL', 'FUCK', 'NORMAL', 'AD']        FUCK   \n7135         ['AD', 'NORMAL', 'POLITICAL', 'AD', 'AD']          AD   \n7136  ['NORMAL', 'NORMAL', 'NORMAL', 'NORMAL', 'FUCK']      NORMAL   \n\n      true_label                                              score  result  \n0              1  [-1.1920929e-07, 0.06279123, 0.068983555, 0.07...   False  \n1              1  [8.34465e-07, 0.0053709745, 0.017130435, 0.017...   False  \n2              1  [0.3087051, 0.3090433, 0.30923915, 0.31345677,...   False  \n3              1  [2.9802322e-07, 0.0091718435, 0.013031483, 0.0...   False  \n4              1  [-7.1525574e-07, 0.007786751, 0.013712704, 0.0...   False  \n...          ...                                                ...     ...  \n7132           1  [0.0, 0.22793674, 0.24371147, 0.26400894, 0.27...   False  \n7133           0  [-1.1920929e-06, 0.18689656, 0.18857586, 0.189...   False  \n7134           0  [-9.536743e-07, 0.3445171, 0.35620058, 0.39621...   False  \n7135           0  [0.3886714, 0.39686632, 0.39831716, 0.40285844...   False  \n7136           1  [0.10774624, 0.14443272, 0.18840015, 0.2384377...   False  \n\n[7137 rows x 8 columns]",
      "text/html": "<div>\n<style scoped>\n    .dataframe tbody tr th:only-of-type {\n        vertical-align: middle;\n    }\n\n    .dataframe tbody tr th {\n        vertical-align: top;\n    }\n\n    .dataframe thead th {\n        text-align: right;\n    }\n</style>\n<table border=\"1\" class=\"dataframe\">\n  <thead>\n    <tr style=\"text-align: right;\">\n      <th></th>\n      <th>Unnamed: 0</th>\n      <th>text</th>\n      <th>sentence_bag</th>\n      <th>label_bag</th>\n      <th>final_label</th>\n      <th>true_label</th>\n      <th>score</th>\n      <th>result</th>\n    </tr>\n  </thead>\n  <tbody>\n    <tr>\n      <th>0</th>\n      <td>0</td>\n      <td>亻尔女马阴道里长了一颗毒瘤待我一颗手雷扔进去瞬间可以把亻尔女马阴道开拓成宽阔无涯的大黑辶畐</td>\n      <td>['您好我是做无抵押无担保信用借款的正规安全高效无论你是上班族还是做生意或者有车有房都可以申...</td>\n      <td>['AD', 'NORMAL', 'FUCK', 'FAKE', 'FUCK']</td>\n      <td>FUCK</td>\n      <td>1</td>\n      <td>[-1.1920929e-07, 0.06279123, 0.068983555, 0.07...</td>\n      <td>False</td>\n    </tr>\n    <tr>\n      <th>1</th>\n      <td>1</td>\n      <td>你这废物鸡巴跟牙签一样插到你母狗妈的水缸逼里都搅不动天天在这对太阳乱吠也不会有三眼怪过来捡你...</td>\n      <td>['我们党员数', 'NAMEPLACE电梯现房NAME中环境优美NAME每平方米DIGIT...</td>\n      <td>['NORMAL', 'AD', 'AD', 'NORMAL', 'AD']</td>\n      <td>AD</td>\n      <td>1</td>\n      <td>[8.34465e-07, 0.0053709745, 0.017130435, 0.017...</td>\n      <td>False</td>\n    </tr>\n    <tr>\n      <th>2</th>\n      <td>2</td>\n      <td>操你妈的半夜瞎jb吹还发鬼吓我黑名单见</td>\n      <td>['唯品会狂欢你独享NAMENAME碧黄油满DIGIT返DIGIT组合券无敌超值URLed回...</td>\n      <td>['AD', 'FUCK', 'NORMAL', 'NORMAL', 'NORMAL']</td>\n      <td>NORMAL</td>\n      <td>1</td>\n      <td>[0.3087051, 0.3090433, 0.30923915, 0.31345677,...</td>\n      <td>False</td>\n    </tr>\n    <tr>\n      <th>3</th>\n      <td>3</td>\n      <td>我在你妈逼里自由翱翔你妈哭着夸我真强</td>\n      <td>['您好您的信用极好邀您加入工作不限地点時間手机在家操作待遇ioo天詳情QQ', '好久没联...</td>\n      <td>['AD', 'NORMAL', 'FUCK', 'FUCK', 'NORMAL']</td>\n      <td>NORMAL</td>\n      <td>1</td>\n      <td>[2.9802322e-07, 0.0091718435, 0.013031483, 0.0...</td>\n      <td>False</td>\n    </tr>\n    <tr>\n      <th>4</th>\n      <td>4</td>\n      <td>人本初性本善锅里煮个大鸡蛋给我吃我就干不给我吃咱就散</td>\n      <td>['博主该去看望下你失散多年的亲人@人民日报编辑部做个dna检测吧', '这样啊，我说怎么到...</td>\n      <td>['NORMAL', 'NORMAL', 'FUCK', 'FUCK', 'FUCK']</td>\n      <td>FUCK</td>\n      <td>1</td>\n      <td>[-7.1525574e-07, 0.007786751, 0.013712704, 0.0...</td>\n      <td>False</td>\n    </tr>\n    <tr>\n      <th>...</th>\n      <td>...</td>\n      <td>...</td>\n      <td>...</td>\n      <td>...</td>\n      <td>...</td>\n      <td>...</td>\n      <td>...</td>\n      <td>...</td>\n    </tr>\n    <tr>\n      <th>7132</th>\n      <td>7132</td>\n      <td>cao你妈</td>\n      <td>['你在我⾯前玩次会简直就是班⻔弄斧我随随便便打出⼀个字你婊⼦妈都能爆体⽽亡', '移动手机...</td>\n      <td>['FUCK', 'AD', 'POLITICAL', 'NORMAL', 'NORMAL']</td>\n      <td>NORMAL</td>\n      <td>1</td>\n      <td>[0.0, 0.22793674, 0.24371147, 0.26400894, 0.27...</td>\n      <td>False</td>\n    </tr>\n    <tr>\n      <th>7133</th>\n      <td>7133</td>\n      <td>这期时尚旅游杂志确实有点内个坐办公室看完全身未动心已远这班眼瞅没法上了雷达太多你们是要闹哪样...</td>\n      <td>['世纪百悦月至日DIGIT枚钻戒折黄金每克最高优惠DIGIT内衣折后满再送会员双倍积分PL...</td>\n      <td>['AD', 'NORMAL', 'NORMAL', 'NORMAL', 'NORMAL']</td>\n      <td>NORMAL</td>\n      <td>0</td>\n      <td>[-1.1920929e-06, 0.18689656, 0.18857586, 0.189...</td>\n      <td>False</td>\n    </tr>\n    <tr>\n      <th>7134</th>\n      <td>7134</td>\n      <td>今天到龙海坐浙三轮车台拉风了</td>\n      <td>['@远源的小背篓你这个垃圾粉，你也不看看尼加主子去年宣传小王子没，心机boy你好意思说，我...</td>\n      <td>['FUCK', 'NORMAL', 'FUCK', 'NORMAL', 'AD']</td>\n      <td>FUCK</td>\n      <td>0</td>\n      <td>[-9.536743e-07, 0.3445171, 0.35620058, 0.39621...</td>\n      <td>False</td>\n    </tr>\n    <tr>\n      <th>7135</th>\n      <td>7135</td>\n      <td>有在看澳网男单决赛的吗看比赛需要吼起来</td>\n      <td>['惊喜周末满DIGIT返DIGIT元包邮亿会员DIGIT亿回馈狂欢尽在URL回td退订唯品...</td>\n      <td>['AD', 'NORMAL', 'POLITICAL', 'AD', 'AD']</td>\n      <td>AD</td>\n      <td>0</td>\n      <td>[0.3886714, 0.39686632, 0.39831716, 0.40285844...</td>\n      <td>False</td>\n    </tr>\n    <tr>\n      <th>7136</th>\n      <td>7136</td>\n      <td>我不是几年我是亻尔爸爸亻囟儿夂逼真的会判刑口马亻尔是几年傻逼判几年强奸判几年急的很在线等</td>\n      <td>['@北方的纳努克', '夜惊悚→关灯睡下。电话突兀地响起，吓！小姨夫来电，小姨消shi三个...</td>\n      <td>['NORMAL', 'NORMAL', 'NORMAL', 'NORMAL', 'FUCK']</td>\n      <td>NORMAL</td>\n      <td>1</td>\n      <td>[0.10774624, 0.14443272, 0.18840015, 0.2384377...</td>\n      <td>False</td>\n    </tr>\n  </tbody>\n</table>\n<p>7137 rows × 8 columns</p>\n</div>"
     },
     "execution_count": 9,
     "metadata": {},
     "output_type": "execute_result"
    }
   ],
   "source": [
    "data"
   ],
   "metadata": {
    "collapsed": false,
    "ExecuteTime": {
     "end_time": "2024-03-12T17:00:57.451694Z",
     "start_time": "2024-03-12T17:00:57.419307Z"
    }
   },
   "id": "308657d2d19a8e4d"
  },
  {
   "cell_type": "code",
   "execution_count": 10,
   "outputs": [],
   "source": [
    "data_normal = data[data.true_label == 0]\n",
    "data_nonormal = data[data.true_label == 1]\n"
   ],
   "metadata": {
    "collapsed": false,
    "ExecuteTime": {
     "end_time": "2024-03-12T17:00:58.210607Z",
     "start_time": "2024-03-12T17:00:58.184733Z"
    }
   },
   "id": "94dd40111d677b31"
  },
  {
   "cell_type": "code",
   "execution_count": 11,
   "outputs": [
    {
     "data": {
      "text/plain": "      Unnamed: 0                                               text  \\\n5              5  新款到每日一新特的曲剪裁鞋面充知性典雅的古息吸睛指破表背完美合的曲彷量身般不需害怕扭到好走又...   \n6              6  在开学的前一日里我会求佛祖保佑老师重新安排的座位是靠墙或靠窗这样就有了一个相对独立的私密空间...   \n8              8                            然后妈妈自己剪了头发现在看起来好像eason啊   \n12            12  我曾经拍摄过两部反应法国华人艺术家以及在威尼斯双年展上中国当代艺术家的纪录片就我所接触的诸如...   \n13            13                                      买了个山寨手机开机我就哭了   \n...          ...                                                ...   \n7130        7130                    今天胃口不好买了个冰激凌某品牌朗姆酒葡萄干的ms有一股皮鞋味儿   \n7131        7131                   huang金100秒微直播恭喜辣妈姜蕾可以和儿子tong场表演咯   \n7133        7133  这期时尚旅游杂志确实有点内个坐办公室看完全身未动心已远这班眼瞅没法上了雷达太多你们是要闹哪样...   \n7134        7134                                     今天到龙海坐浙三轮车台拉风了   \n7135        7135                                有在看澳网男单决赛的吗看比赛需要吼起来   \n\n                                           sentence_bag  \\\n5     ['烟台移动送惊喜啦拿起手机参与PLACE豪礼大作战活动即有机会赢取缤纷话费和DIGIT个流...   \n6     ['靠！这年头骗子太嚣张，盗用我的qq号之后明目张胆的骗钱！太缺德了，但骗子终究是骗子，漏出...   \n8     ['你的长相真1是不敢恭维……衰的都拖网速…', '通知:今天晚自习在宿舍上，整理好内务，相...   \n12    ['你在天国和五名乌干达黑人同时拳33交致死的亲妈都决定为你起尸鼓掌', '#早安、沃阁#沃...   \n13    ['你爹我操你吗鍀时候怎么没把你射墙上呢', '良品铺子旗舰店辛苦一年任性一回今天良品品牌团...   \n...                                                 ...   \n7130  ['我晚上开会', '马上到了', '#新闺蜜时代##cottonpink北京三里屯店#新闺...   \n7131  ['泪水曾经愤怒地掉落', '逼自己吃了两枣粽子两鸡蛋一大袋玻璃海苔强制自己补血补蛋白。免得...   \n7133  ['世纪百悦月至日DIGIT枚钻戒折黄金每克最高优惠DIGIT内衣折后满再送会员双倍积分PL...   \n7134  ['@远源的小背篓你这个垃圾粉，你也不看看尼加主子去年宣传小王子没，心机boy你好意思说，我...   \n7135  ['惊喜周末满DIGIT返DIGIT元包邮亿会员DIGIT亿回馈狂欢尽在URL回td退订唯品...   \n\n                                             label_bag final_label  \\\n5             ['AD', 'NORMAL', 'AD', 'NORMAL', 'FAKE']          AD   \n6       ['NORMAL', 'AD', 'NORMAL', 'NORMAL', 'NORMAL']      NORMAL   \n8           ['FUCK', 'NORMAL', 'FUCK', 'FUCK', 'FUCK']        FUCK   \n12              ['FUCK', 'NORMAL', 'FAKE', 'AD', 'AD']          AD   \n13              ['FUCK', 'AD', 'FUCK', 'NORMAL', 'AD']        FUCK   \n...                                                ...         ...   \n7130  ['NORMAL', 'NORMAL', 'NORMAL', 'NORMAL', 'FUCK']      NORMAL   \n7131  ['NORMAL', 'NORMAL', 'FUCK', 'NORMAL', 'NORMAL']      NORMAL   \n7133    ['AD', 'NORMAL', 'NORMAL', 'NORMAL', 'NORMAL']      NORMAL   \n7134        ['FUCK', 'NORMAL', 'FUCK', 'NORMAL', 'AD']        FUCK   \n7135         ['AD', 'NORMAL', 'POLITICAL', 'AD', 'AD']          AD   \n\n      true_label                                              score  result  \n5              0  [0.25075668, 0.2641062, 0.2700566, 0.2785626, ...   False  \n6              0  [0.23004353, 0.25039077, 0.25298703, 0.2594892...   False  \n8              0  [7.748604e-07, 0.27663082, 0.28557074, 0.33199...   False  \n12             0  [0.004813373, 0.28591937, 0.29133403, 0.292331...   False  \n13             0  [0.05755824, 0.31656075, 0.33119917, 0.3485463...   False  \n...          ...                                                ...     ...  \n7130           0  [0.013285756, 0.29031032, 0.2905413, 0.2946975...   False  \n7131           0  [0.046549976, 0.31177866, 0.31525707, 0.320399...   False  \n7133           0  [-1.1920929e-06, 0.18689656, 0.18857586, 0.189...   False  \n7134           0  [-9.536743e-07, 0.3445171, 0.35620058, 0.39621...   False  \n7135           0  [0.3886714, 0.39686632, 0.39831716, 0.40285844...   False  \n\n[4112 rows x 8 columns]",
      "text/html": "<div>\n<style scoped>\n    .dataframe tbody tr th:only-of-type {\n        vertical-align: middle;\n    }\n\n    .dataframe tbody tr th {\n        vertical-align: top;\n    }\n\n    .dataframe thead th {\n        text-align: right;\n    }\n</style>\n<table border=\"1\" class=\"dataframe\">\n  <thead>\n    <tr style=\"text-align: right;\">\n      <th></th>\n      <th>Unnamed: 0</th>\n      <th>text</th>\n      <th>sentence_bag</th>\n      <th>label_bag</th>\n      <th>final_label</th>\n      <th>true_label</th>\n      <th>score</th>\n      <th>result</th>\n    </tr>\n  </thead>\n  <tbody>\n    <tr>\n      <th>5</th>\n      <td>5</td>\n      <td>新款到每日一新特的曲剪裁鞋面充知性典雅的古息吸睛指破表背完美合的曲彷量身般不需害怕扭到好走又...</td>\n      <td>['烟台移动送惊喜啦拿起手机参与PLACE豪礼大作战活动即有机会赢取缤纷话费和DIGIT个流...</td>\n      <td>['AD', 'NORMAL', 'AD', 'NORMAL', 'FAKE']</td>\n      <td>AD</td>\n      <td>0</td>\n      <td>[0.25075668, 0.2641062, 0.2700566, 0.2785626, ...</td>\n      <td>False</td>\n    </tr>\n    <tr>\n      <th>6</th>\n      <td>6</td>\n      <td>在开学的前一日里我会求佛祖保佑老师重新安排的座位是靠墙或靠窗这样就有了一个相对独立的私密空间...</td>\n      <td>['靠！这年头骗子太嚣张，盗用我的qq号之后明目张胆的骗钱！太缺德了，但骗子终究是骗子，漏出...</td>\n      <td>['NORMAL', 'AD', 'NORMAL', 'NORMAL', 'NORMAL']</td>\n      <td>NORMAL</td>\n      <td>0</td>\n      <td>[0.23004353, 0.25039077, 0.25298703, 0.2594892...</td>\n      <td>False</td>\n    </tr>\n    <tr>\n      <th>8</th>\n      <td>8</td>\n      <td>然后妈妈自己剪了头发现在看起来好像eason啊</td>\n      <td>['你的长相真1是不敢恭维……衰的都拖网速…', '通知:今天晚自习在宿舍上，整理好内务，相...</td>\n      <td>['FUCK', 'NORMAL', 'FUCK', 'FUCK', 'FUCK']</td>\n      <td>FUCK</td>\n      <td>0</td>\n      <td>[7.748604e-07, 0.27663082, 0.28557074, 0.33199...</td>\n      <td>False</td>\n    </tr>\n    <tr>\n      <th>12</th>\n      <td>12</td>\n      <td>我曾经拍摄过两部反应法国华人艺术家以及在威尼斯双年展上中国当代艺术家的纪录片就我所接触的诸如...</td>\n      <td>['你在天国和五名乌干达黑人同时拳33交致死的亲妈都决定为你起尸鼓掌', '#早安、沃阁#沃...</td>\n      <td>['FUCK', 'NORMAL', 'FAKE', 'AD', 'AD']</td>\n      <td>AD</td>\n      <td>0</td>\n      <td>[0.004813373, 0.28591937, 0.29133403, 0.292331...</td>\n      <td>False</td>\n    </tr>\n    <tr>\n      <th>13</th>\n      <td>13</td>\n      <td>买了个山寨手机开机我就哭了</td>\n      <td>['你爹我操你吗鍀时候怎么没把你射墙上呢', '良品铺子旗舰店辛苦一年任性一回今天良品品牌团...</td>\n      <td>['FUCK', 'AD', 'FUCK', 'NORMAL', 'AD']</td>\n      <td>FUCK</td>\n      <td>0</td>\n      <td>[0.05755824, 0.31656075, 0.33119917, 0.3485463...</td>\n      <td>False</td>\n    </tr>\n    <tr>\n      <th>...</th>\n      <td>...</td>\n      <td>...</td>\n      <td>...</td>\n      <td>...</td>\n      <td>...</td>\n      <td>...</td>\n      <td>...</td>\n      <td>...</td>\n    </tr>\n    <tr>\n      <th>7130</th>\n      <td>7130</td>\n      <td>今天胃口不好买了个冰激凌某品牌朗姆酒葡萄干的ms有一股皮鞋味儿</td>\n      <td>['我晚上开会', '马上到了', '#新闺蜜时代##cottonpink北京三里屯店#新闺...</td>\n      <td>['NORMAL', 'NORMAL', 'NORMAL', 'NORMAL', 'FUCK']</td>\n      <td>NORMAL</td>\n      <td>0</td>\n      <td>[0.013285756, 0.29031032, 0.2905413, 0.2946975...</td>\n      <td>False</td>\n    </tr>\n    <tr>\n      <th>7131</th>\n      <td>7131</td>\n      <td>huang金100秒微直播恭喜辣妈姜蕾可以和儿子tong场表演咯</td>\n      <td>['泪水曾经愤怒地掉落', '逼自己吃了两枣粽子两鸡蛋一大袋玻璃海苔强制自己补血补蛋白。免得...</td>\n      <td>['NORMAL', 'NORMAL', 'FUCK', 'NORMAL', 'NORMAL']</td>\n      <td>NORMAL</td>\n      <td>0</td>\n      <td>[0.046549976, 0.31177866, 0.31525707, 0.320399...</td>\n      <td>False</td>\n    </tr>\n    <tr>\n      <th>7133</th>\n      <td>7133</td>\n      <td>这期时尚旅游杂志确实有点内个坐办公室看完全身未动心已远这班眼瞅没法上了雷达太多你们是要闹哪样...</td>\n      <td>['世纪百悦月至日DIGIT枚钻戒折黄金每克最高优惠DIGIT内衣折后满再送会员双倍积分PL...</td>\n      <td>['AD', 'NORMAL', 'NORMAL', 'NORMAL', 'NORMAL']</td>\n      <td>NORMAL</td>\n      <td>0</td>\n      <td>[-1.1920929e-06, 0.18689656, 0.18857586, 0.189...</td>\n      <td>False</td>\n    </tr>\n    <tr>\n      <th>7134</th>\n      <td>7134</td>\n      <td>今天到龙海坐浙三轮车台拉风了</td>\n      <td>['@远源的小背篓你这个垃圾粉，你也不看看尼加主子去年宣传小王子没，心机boy你好意思说，我...</td>\n      <td>['FUCK', 'NORMAL', 'FUCK', 'NORMAL', 'AD']</td>\n      <td>FUCK</td>\n      <td>0</td>\n      <td>[-9.536743e-07, 0.3445171, 0.35620058, 0.39621...</td>\n      <td>False</td>\n    </tr>\n    <tr>\n      <th>7135</th>\n      <td>7135</td>\n      <td>有在看澳网男单决赛的吗看比赛需要吼起来</td>\n      <td>['惊喜周末满DIGIT返DIGIT元包邮亿会员DIGIT亿回馈狂欢尽在URL回td退订唯品...</td>\n      <td>['AD', 'NORMAL', 'POLITICAL', 'AD', 'AD']</td>\n      <td>AD</td>\n      <td>0</td>\n      <td>[0.3886714, 0.39686632, 0.39831716, 0.40285844...</td>\n      <td>False</td>\n    </tr>\n  </tbody>\n</table>\n<p>4112 rows × 8 columns</p>\n</div>"
     },
     "execution_count": 11,
     "metadata": {},
     "output_type": "execute_result"
    }
   ],
   "source": [
    "data_normal"
   ],
   "metadata": {
    "collapsed": false,
    "ExecuteTime": {
     "end_time": "2024-03-12T17:01:00.508039Z",
     "start_time": "2024-03-12T17:01:00.473561Z"
    }
   },
   "id": "1f49b908c2951617"
  },
  {
   "cell_type": "code",
   "execution_count": 12,
   "outputs": [],
   "source": [
    "sentence_pair = []\n",
    "count1, count2 = 0, 0\n",
    "for unit in data_normal.values:\n",
    "    text = unit[1]\n",
    "    sentence_bag = eval(unit[2])\n",
    "    label_bag = eval(unit[3])\n",
    "    for sentence, label in zip(sentence_bag, label_bag):\n",
    "        sentence=re.sub(r'[\\W]','',sentence)\n",
    "        if label != \"NORMAL\" and len_sep(sentence, text):\n",
    "            count1 += 1\n",
    "            sentence_pair.append((text, sentence))\n",
    "for unit in data_nonormal.values:\n",
    "    text = unit[1]\n",
    "    sentence_bag = eval(unit[2])\n",
    "    label_bag = eval(unit[3])\n",
    "    for sentence, label in zip(sentence_bag, label_bag):\n",
    "        sentence=re.sub(r'[\\W]','',sentence)\n",
    "        if label == \"NORMAL\" and len_sep(sentence, text):\n",
    "            count2 += 1\n",
    "            sentence_pair.append((text, sentence))"
   ],
   "metadata": {
    "collapsed": false,
    "ExecuteTime": {
     "end_time": "2024-03-12T17:01:04.231817Z",
     "start_time": "2024-03-12T17:01:02.772666Z"
    }
   },
   "id": "197f6f469f2e6ca6"
  },
  {
   "cell_type": "code",
   "execution_count": 13,
   "outputs": [
    {
     "data": {
      "text/plain": "(2682, 1272, False)"
     },
     "execution_count": 13,
     "metadata": {},
     "output_type": "execute_result"
    }
   ],
   "source": [
    "count1, count2,len_sep(sentence, text)"
   ],
   "metadata": {
    "collapsed": false,
    "ExecuteTime": {
     "end_time": "2024-03-12T17:01:05.321979Z",
     "start_time": "2024-03-12T17:01:05.292479Z"
    }
   },
   "id": "7324af43a8a3dbc4"
  },
  {
   "cell_type": "code",
   "execution_count": 14,
   "outputs": [
    {
     "data": {
      "text/plain": "('严重声讨黑兔爷_荷包兔子对一颗好不容易平静之不太衰老的童心吃骡勾引', '您好您在同城游戏代练投的简历已查阅咨询详情联系QQ如有打扰请见谅勿回')"
     },
     "execution_count": 14,
     "metadata": {},
     "output_type": "execute_result"
    }
   ],
   "source": [
    "sentence_pair[10]"
   ],
   "metadata": {
    "collapsed": false,
    "ExecuteTime": {
     "end_time": "2024-03-12T17:01:06.849838Z",
     "start_time": "2024-03-12T17:01:06.827699Z"
    }
   },
   "id": "e07bec8569240f5a"
  },
  {
   "cell_type": "code",
   "execution_count": 15,
   "outputs": [
    {
     "data": {
      "text/plain": "(2682, 1272, 3954)"
     },
     "execution_count": 15,
     "metadata": {},
     "output_type": "execute_result"
    }
   ],
   "source": [
    "count1, count2,len(sentence_pair)"
   ],
   "metadata": {
    "collapsed": false,
    "ExecuteTime": {
     "end_time": "2024-03-12T17:01:07.316435Z",
     "start_time": "2024-03-12T17:01:07.299113Z"
    }
   },
   "id": "1037c70ad632ad82"
  },
  {
   "cell_type": "code",
   "execution_count": 17,
   "outputs": [],
   "source": [
    "import pandas as pd\n",
    "\n",
    "data2 = pd.read_excel(r\"D:\\work\\qiji_compet\\code\\data\\match_data\\final_data_v3.xlsx\")"
   ],
   "metadata": {
    "collapsed": false,
    "ExecuteTime": {
     "end_time": "2024-03-12T17:01:27.087189Z",
     "start_time": "2024-03-12T17:01:14.855418Z"
    }
   },
   "id": "4ef810496dd0fc7f"
  },
  {
   "cell_type": "code",
   "execution_count": 18,
   "outputs": [
    {
     "data": {
      "text/plain": "       Unnamed: 0                                               text  \\\n0               0  哇晒这999个不错试睡嘻嘻我来招募嘉宾步步动心菲律宾走起兔头带不了火锅底料木有问题嘻嘻还可以...   \n1               1  成都到昆明只需10小时26日上午全长6358公里de云南省武定至昆明高速公路建成通车从昆明经...   \n2               2  去年cj亻故的最有意思的一件事是奔向一个领了满身礼品的小伙面前满脸苦相说某某道具已经衤皮领光...   \n3               3  我扌察刚发现原来我已经衤皮这么彻底的拉口丷土灬了拉的太特么全面了这将是人生载入史册的一天没法...   \n4               4              那就去解救啊把那些爹妈和那个磁暴步兵抓起来啊都他女马快成邪教了思考思考思考   \n...           ...                                                ...   \n24973       24973                     深夜发吃按老例吃过十来种浇头之后扌奂一家续摊再来碗上海辣肉面   \n24974       24974                        希望不要同一时段播出否则可苦le我们的电视机和遥控器了   \n24975       24975                                           7怎么个情况这是   \n24976       24976  下午茶日本火车的豪华便当据不完全统计日本至少有5000种列车便当常见的有墨鱼饭黑猪肉章鱼鳟鱼...   \n24977       24977  全球热门搜罗有钱人才能叫宅亻尔那口丩宅口马亻尔那口丩蜗居有钱人才能口丩忧郁亻尔那口丩忧郁口马...   \n\n                                            sentence_bag  \\\n0      ['什么时候回来啊', '滚亻尔女马的去吧算干啥的一个个的我就三个兄弟分流出三千人呵呵兴城市...   \n1      ['嘿嘿！够感动了啊~哈哈', '实在气不过希望你速速跪下感谢你爹操$$你这狗婊7子', '...   \n2      ['PLACE亲爱的会员超给力好奇大牌狂欢满DIGIT减DIGIT金装l9仅DIGIT元回t...   \n3      ['拉拉', '生活中有什么不愉快是骂一句时代峰峻我去你吗鍀舒缓不了的呢，如果有，就骂两句。...   \n4      ['电话可以慢慢聊加拨PHONE打全国电话DIGIT元分钟全包了区内没有漫游费长途费和本地通...   \n...                                                  ...   \n24973  ['我2号回', 'NAME尊敬的会员本期邮报精选咖啡和茶韩食风味火锅季菌菇世界详情请点击U...   \n24974  ['PLACENAME官方旗舰店PLACE加送感谢礼物啦现返店购物满DIGIT赠DIGIT元...   \n24975  ['连续六天六点多起来了。。。好像回到义务教育阶段。。。', '我真没咋的，你做你的事。就是...   \n24976  ['同程旅游尊敬的会员DIGIT元红包已经到账购买旅游产品直抵现金同程旅游周年庆戳URL瞅瞅...   \n24977  ['经典', '做人最起码的廉耻心还是要有的，先做人后做事！不然你妈养你二十多年，你还要连累...   \n\n                                            label_bag final_label  true_label  \\\n0            ['NORMAL', 'FUCK', 'AD', 'FUCK', 'FUCK']        FUCK           0   \n1          ['NORMAL', 'FUCK', 'FUCK', 'NORMAL', 'AD']      NORMAL           0   \n2          ['AD', 'FUCK', 'FUCK', 'NORMAL', 'NORMAL']        FUCK           0   \n3          ['NORMAL', 'FUCK', 'NORMAL', 'AD', 'FUCK']      NORMAL           0   \n4              ['AD', 'NORMAL', 'AD', 'NORMAL', 'AD']          AD           1   \n...                                               ...         ...         ...   \n24973    ['NORMAL', 'AD', 'NORMAL', 'FUCK', 'NORMAL']      NORMAL           0   \n24974      ['AD', 'FUCK', 'FUCK', 'NORMAL', 'NORMAL']        FUCK           0   \n24975    ['NORMAL', 'NORMAL', 'NORMAL', 'FUCK', 'AD']      NORMAL           0   \n24976          ['AD', 'NORMAL', 'AD', 'AD', 'NORMAL']          AD           0   \n24977  ['NORMAL', 'FUCK', 'FUCK', 'NORMAL', 'NORMAL']      NORMAL           0   \n\n                                                   score  result  \n0      [0.1983729, 0.20510757, 0.20553958, 0.20596749...   False  \n1      [2.3841858e-07, 0.39450705, 0.41949803, 0.4350...   False  \n2      [0.038355827, 0.19003105, 0.1972574, 0.2008057...   False  \n3      [0.21356952, 0.2164886, 0.22373891, 0.22425455...   False  \n4      [0.26188385, 0.27807593, 0.281398, 0.2822705, ...   False  \n...                                                  ...     ...  \n24973  [0.035435736, 0.1951598, 0.19608545, 0.2237825...   False  \n24974  [0.040149212, 0.061955094, 0.31685537, 0.31986...   False  \n24975  [0.31158972, 0.32722056, 0.33933908, 0.3462677...   False  \n24976  [0.012717605, 0.21764576, 0.218876, 0.25234354...   False  \n24977  [0.18668419, 0.22120464, 0.2271254, 0.22920632...   False  \n\n[24978 rows x 8 columns]",
      "text/html": "<div>\n<style scoped>\n    .dataframe tbody tr th:only-of-type {\n        vertical-align: middle;\n    }\n\n    .dataframe tbody tr th {\n        vertical-align: top;\n    }\n\n    .dataframe thead th {\n        text-align: right;\n    }\n</style>\n<table border=\"1\" class=\"dataframe\">\n  <thead>\n    <tr style=\"text-align: right;\">\n      <th></th>\n      <th>Unnamed: 0</th>\n      <th>text</th>\n      <th>sentence_bag</th>\n      <th>label_bag</th>\n      <th>final_label</th>\n      <th>true_label</th>\n      <th>score</th>\n      <th>result</th>\n    </tr>\n  </thead>\n  <tbody>\n    <tr>\n      <th>0</th>\n      <td>0</td>\n      <td>哇晒这999个不错试睡嘻嘻我来招募嘉宾步步动心菲律宾走起兔头带不了火锅底料木有问题嘻嘻还可以...</td>\n      <td>['什么时候回来啊', '滚亻尔女马的去吧算干啥的一个个的我就三个兄弟分流出三千人呵呵兴城市...</td>\n      <td>['NORMAL', 'FUCK', 'AD', 'FUCK', 'FUCK']</td>\n      <td>FUCK</td>\n      <td>0</td>\n      <td>[0.1983729, 0.20510757, 0.20553958, 0.20596749...</td>\n      <td>False</td>\n    </tr>\n    <tr>\n      <th>1</th>\n      <td>1</td>\n      <td>成都到昆明只需10小时26日上午全长6358公里de云南省武定至昆明高速公路建成通车从昆明经...</td>\n      <td>['嘿嘿！够感动了啊~哈哈', '实在气不过希望你速速跪下感谢你爹操$$你这狗婊7子', '...</td>\n      <td>['NORMAL', 'FUCK', 'FUCK', 'NORMAL', 'AD']</td>\n      <td>NORMAL</td>\n      <td>0</td>\n      <td>[2.3841858e-07, 0.39450705, 0.41949803, 0.4350...</td>\n      <td>False</td>\n    </tr>\n    <tr>\n      <th>2</th>\n      <td>2</td>\n      <td>去年cj亻故的最有意思的一件事是奔向一个领了满身礼品的小伙面前满脸苦相说某某道具已经衤皮领光...</td>\n      <td>['PLACE亲爱的会员超给力好奇大牌狂欢满DIGIT减DIGIT金装l9仅DIGIT元回t...</td>\n      <td>['AD', 'FUCK', 'FUCK', 'NORMAL', 'NORMAL']</td>\n      <td>FUCK</td>\n      <td>0</td>\n      <td>[0.038355827, 0.19003105, 0.1972574, 0.2008057...</td>\n      <td>False</td>\n    </tr>\n    <tr>\n      <th>3</th>\n      <td>3</td>\n      <td>我扌察刚发现原来我已经衤皮这么彻底的拉口丷土灬了拉的太特么全面了这将是人生载入史册的一天没法...</td>\n      <td>['拉拉', '生活中有什么不愉快是骂一句时代峰峻我去你吗鍀舒缓不了的呢，如果有，就骂两句。...</td>\n      <td>['NORMAL', 'FUCK', 'NORMAL', 'AD', 'FUCK']</td>\n      <td>NORMAL</td>\n      <td>0</td>\n      <td>[0.21356952, 0.2164886, 0.22373891, 0.22425455...</td>\n      <td>False</td>\n    </tr>\n    <tr>\n      <th>4</th>\n      <td>4</td>\n      <td>那就去解救啊把那些爹妈和那个磁暴步兵抓起来啊都他女马快成邪教了思考思考思考</td>\n      <td>['电话可以慢慢聊加拨PHONE打全国电话DIGIT元分钟全包了区内没有漫游费长途费和本地通...</td>\n      <td>['AD', 'NORMAL', 'AD', 'NORMAL', 'AD']</td>\n      <td>AD</td>\n      <td>1</td>\n      <td>[0.26188385, 0.27807593, 0.281398, 0.2822705, ...</td>\n      <td>False</td>\n    </tr>\n    <tr>\n      <th>...</th>\n      <td>...</td>\n      <td>...</td>\n      <td>...</td>\n      <td>...</td>\n      <td>...</td>\n      <td>...</td>\n      <td>...</td>\n      <td>...</td>\n    </tr>\n    <tr>\n      <th>24973</th>\n      <td>24973</td>\n      <td>深夜发吃按老例吃过十来种浇头之后扌奂一家续摊再来碗上海辣肉面</td>\n      <td>['我2号回', 'NAME尊敬的会员本期邮报精选咖啡和茶韩食风味火锅季菌菇世界详情请点击U...</td>\n      <td>['NORMAL', 'AD', 'NORMAL', 'FUCK', 'NORMAL']</td>\n      <td>NORMAL</td>\n      <td>0</td>\n      <td>[0.035435736, 0.1951598, 0.19608545, 0.2237825...</td>\n      <td>False</td>\n    </tr>\n    <tr>\n      <th>24974</th>\n      <td>24974</td>\n      <td>希望不要同一时段播出否则可苦le我们的电视机和遥控器了</td>\n      <td>['PLACENAME官方旗舰店PLACE加送感谢礼物啦现返店购物满DIGIT赠DIGIT元...</td>\n      <td>['AD', 'FUCK', 'FUCK', 'NORMAL', 'NORMAL']</td>\n      <td>FUCK</td>\n      <td>0</td>\n      <td>[0.040149212, 0.061955094, 0.31685537, 0.31986...</td>\n      <td>False</td>\n    </tr>\n    <tr>\n      <th>24975</th>\n      <td>24975</td>\n      <td>7怎么个情况这是</td>\n      <td>['连续六天六点多起来了。。。好像回到义务教育阶段。。。', '我真没咋的，你做你的事。就是...</td>\n      <td>['NORMAL', 'NORMAL', 'NORMAL', 'FUCK', 'AD']</td>\n      <td>NORMAL</td>\n      <td>0</td>\n      <td>[0.31158972, 0.32722056, 0.33933908, 0.3462677...</td>\n      <td>False</td>\n    </tr>\n    <tr>\n      <th>24976</th>\n      <td>24976</td>\n      <td>下午茶日本火车的豪华便当据不完全统计日本至少有5000种列车便当常见的有墨鱼饭黑猪肉章鱼鳟鱼...</td>\n      <td>['同程旅游尊敬的会员DIGIT元红包已经到账购买旅游产品直抵现金同程旅游周年庆戳URL瞅瞅...</td>\n      <td>['AD', 'NORMAL', 'AD', 'AD', 'NORMAL']</td>\n      <td>AD</td>\n      <td>0</td>\n      <td>[0.012717605, 0.21764576, 0.218876, 0.25234354...</td>\n      <td>False</td>\n    </tr>\n    <tr>\n      <th>24977</th>\n      <td>24977</td>\n      <td>全球热门搜罗有钱人才能叫宅亻尔那口丩宅口马亻尔那口丩蜗居有钱人才能口丩忧郁亻尔那口丩忧郁口马...</td>\n      <td>['经典', '做人最起码的廉耻心还是要有的，先做人后做事！不然你妈养你二十多年，你还要连累...</td>\n      <td>['NORMAL', 'FUCK', 'FUCK', 'NORMAL', 'NORMAL']</td>\n      <td>NORMAL</td>\n      <td>0</td>\n      <td>[0.18668419, 0.22120464, 0.2271254, 0.22920632...</td>\n      <td>False</td>\n    </tr>\n  </tbody>\n</table>\n<p>24978 rows × 8 columns</p>\n</div>"
     },
     "execution_count": 18,
     "metadata": {},
     "output_type": "execute_result"
    }
   ],
   "source": [
    "data2=data2[~data2[\"text\"].apply(lambda x:True if pd.isna(x) else False)]\n",
    "data2[\"text\"]=data2[\"text\"].apply(lambda x:str(x).replace(\" \",\"\" ))\n",
    "data2[\"text\"]=data2[\"text\"].apply(lambda x:re.sub(r'[\\W]','',x))\n",
    "data2"
   ],
   "metadata": {
    "collapsed": false,
    "ExecuteTime": {
     "end_time": "2024-03-12T17:01:36.975847Z",
     "start_time": "2024-03-12T17:01:36.513409Z"
    }
   },
   "id": "af547732e62d39db"
  },
  {
   "cell_type": "code",
   "execution_count": 19,
   "outputs": [],
   "source": [
    "data_normal = data2[data2.true_label == 0]\n",
    "data_nonormal = data2[data2.true_label == 1]\n",
    "sentence_pair2 = []\n",
    "count1, count2 = 0, 0\n",
    "for unit in data_normal.values:\n",
    "    text = unit[1]\n",
    "    sentence_bag = eval(unit[2])\n",
    "    label_bag = eval(unit[3])\n",
    "    for sentence, label in zip(sentence_bag, label_bag):\n",
    "        sentence=re.sub(r'[\\W]','',sentence)\n",
    "        if label != \"NORMAL\" and len_sep(sentence, text):\n",
    "            count1 += 1\n",
    "            sentence_pair2.append((text, sentence))\n",
    "for unit in data_nonormal.values:\n",
    "    text = unit[1]\n",
    "    sentence_bag = eval(unit[2])\n",
    "    label_bag = eval(unit[3])\n",
    "    for sentence, label in zip(sentence_bag, label_bag):\n",
    "        sentence=re.sub(r'[\\W]','',sentence)\n",
    "        if label == \"NORMAL\" and len_sep(sentence, text):\n",
    "            count2 += 1\n",
    "            sentence_pair2.append((text, sentence))"
   ],
   "metadata": {
    "collapsed": false,
    "ExecuteTime": {
     "end_time": "2024-03-12T17:01:45.571999Z",
     "start_time": "2024-03-12T17:01:40.858870Z"
    }
   },
   "id": "6f44e1e851c57aa"
  },
  {
   "cell_type": "code",
   "execution_count": 20,
   "outputs": [
    {
     "data": {
      "text/plain": "(14115, 9518, 4597)"
     },
     "execution_count": 20,
     "metadata": {},
     "output_type": "execute_result"
    }
   ],
   "source": [
    "len(sentence_pair2), count1, count2"
   ],
   "metadata": {
    "collapsed": false,
    "ExecuteTime": {
     "end_time": "2024-03-12T17:01:47.347291Z",
     "start_time": "2024-03-12T17:01:47.328894Z"
    }
   },
   "id": "2440dc8130fd6a4b"
  },
  {
   "cell_type": "code",
   "execution_count": 21,
   "outputs": [
    {
     "data": {
      "text/plain": "('成都到昆明只需10小时26日上午全长6358公里de云南省武定至昆明高速公路建成通车从昆明经武定攀枝花前往成都的出滇入川大通道shi现全程高速10小时左右可以到达以后去耍更方便啦',\n '你妈东莞卖逼黑直肠烂子宫生了你这么个梅毒三期红斑狼疮烂全身滥交操坏脑子艾滋没救的便宜女儿脑子里装了多少阴沟里下三滥的龌龊思想被蛆蛀的天天意淫精神高潮')"
     },
     "execution_count": 21,
     "metadata": {},
     "output_type": "execute_result"
    }
   ],
   "source": [
    "sentence_pair2[1]"
   ],
   "metadata": {
    "collapsed": false,
    "ExecuteTime": {
     "end_time": "2024-03-12T17:01:48.717216Z",
     "start_time": "2024-03-12T17:01:48.690752Z"
    }
   },
   "id": "d0334e65ed62122e"
  },
  {
   "cell_type": "code",
   "execution_count": 23,
   "outputs": [
    {
     "data": {
      "text/plain": "      Unnamed: 0                                               text  \\\n0              0                                               这一屋子   \n1              1                    你要不要脸啊被包养很光荣啊滚吧你裴多酱强奸还拿钱拿了30万行了   \n2              2         天呐我是在一个什么样的教学楼里面呢刚才语音室给人热一夕匕现在的教室给人冻死整死我算了   \n3              3  刚看了一个微博是卖狗肉的该不该吃狗肉的问题上开始了无休止的谩骂大家都吃素吧才能结束争论只抽半...   \n4              4                              我家的狗狗得过细小了单又拉血了怎么办啊急啊   \n...          ...                                                ...   \n3564        3564                那些沙比营销号是怎么做到有这么多沙比脑残粉的互相吸引吗文盲都看不下去了   \n3565        3565  现在的社会真是被一群忘恩负义的疯子占据忘记自己得国家忘记自己的家乡跟畜生没什么区别作为一个垃...   \n3566        3566                             某浪亻尔的节操呢这是想亻故征婚觅基友平台口马   \n3567        3567  真有意思还不敢让人转发评论微博了活成你这样也够丢人的没脑子又不要脸无敌了做人做成你这样我都替...   \n3568        3568  天生脑残与田径无关练田径把脑子也跑没了是么你这个狗做的再敬业跪天的再厉害这飞机还是不能超音速...   \n\n                                           sentence_bag  \\\n0     ['星期五见吧', '诚信招聘圆您百万梦想全球诚招代理邀您注册即送元彩金欢迎您及时参与共享申...   \n1     ['可怜兮兮的杂种狗000送来亲妈不知珍惜被我一招暴雨梨花针击穿大脑鲜红地血液洒满大地;',...   \n2     ['你妈才是狗，你妈死了？算个什么狗东西，么人看得起你，也么人待见你。像狗一样的粘人，贱的也...   \n3     ['宝贝，晚安！睡个好觉', '⽼⼦游戏菜嘴巴⼜不菜不服对喷啊傻缺', 'PLACE家电月D...   \n4     ['雨停了再做。', '宝贝，晚安！睡个好觉', '张老师，我们孩子有点着凉了，今天就在家休...   \n...                                                 ...   \n3564  ['这类货也能混迹大学，也能称作教！授，实在是一个悲哀。教授？呵...呵', '免税香烟批发...   \n3565  ['刚打完，基本上都是被说', '你不是又睡过去了吧?', '为什么天要灭中共中共在DIGI...   \n3566  ['PLACE月日至日PLACEPLACE万人空巷抢冰洗震撼登场全场折起来PLACE门店凉茶...   \n3567  ['知道了啦', '从“你这个废柴你这辈子就这样lan泥了你怎么不去死”到真的qu死。要走多...   \n3568  ['世博结束那么久9了，我还没去过中22国馆呢每，次地铁路过，都好想出站去看，可惜每次都是晚...   \n\n                                            label_bag final_label  true_label  \\\n0        ['NORMAL', 'FAKE', 'NORMAL', 'AD', 'NORMAL']      NORMAL           0   \n1            ['FUCK', 'AD', 'FUCK', 'FUCK', 'NORMAL']        FUCK           1   \n2        ['FUCK', 'FUCK', 'NORMAL', 'NORMAL', 'FUCK']        FUCK           0   \n3          ['NORMAL', 'FUCK', 'AD', 'FAKE', 'NORMAL']      NORMAL           0   \n4          ['NORMAL', 'NORMAL', 'NORMAL', 'AD', 'AD']      NORMAL           0   \n...                                               ...         ...         ...   \n3564       ['FUCK', 'AD', 'NORMAL', 'NORMAL', 'FUCK']        FUCK           1   \n3565  ['NORMAL', 'NORMAL', 'POLITICAL', 'AD', 'FUCK']      NORMAL           1   \n3566         ['AD', 'AD', 'NORMAL', 'NORMAL', 'FUCK']          AD           0   \n3567         ['NORMAL', 'FUCK', 'AD', 'FUCK', 'FUCK']        FUCK           1   \n3568   ['NORMAL', 'NORMAL', 'NORMAL', 'NORMAL', 'AD']      NORMAL           1   \n\n                                                  score  result  \n0     [-2.3841858e-07, 0.32237124, 0.3498764, 0.3571...   False  \n1     [6.556511e-07, 0.057133794, 0.14088333, 0.2660...   False  \n2     [-3.5762787e-07, 0.026480436, 0.23668945, 0.26...   False  \n3     [0.24951386, 0.2968135, 0.301713, 0.30177128, ...   False  \n4     [3.5762787e-07, 0.27890158, 0.28155792, 0.2822...   False  \n...                                                 ...     ...  \n3564  [0.12113118, 0.124705315, 0.18558967, 0.215743...   False  \n3565  [1.1920929e-07, 0.0007300973, 0.025551677, 0.0...   False  \n3566  [0.26037455, 0.26106888, 0.2681309, 0.27215016...   False  \n3567  [0.006465137, 0.0071576834, 0.047884762, 0.152...   False  \n3568  [-3.5762787e-07, 0.005571842, 0.008822918, 0.0...   False  \n\n[3569 rows x 8 columns]",
      "text/html": "<div>\n<style scoped>\n    .dataframe tbody tr th:only-of-type {\n        vertical-align: middle;\n    }\n\n    .dataframe tbody tr th {\n        vertical-align: top;\n    }\n\n    .dataframe thead th {\n        text-align: right;\n    }\n</style>\n<table border=\"1\" class=\"dataframe\">\n  <thead>\n    <tr style=\"text-align: right;\">\n      <th></th>\n      <th>Unnamed: 0</th>\n      <th>text</th>\n      <th>sentence_bag</th>\n      <th>label_bag</th>\n      <th>final_label</th>\n      <th>true_label</th>\n      <th>score</th>\n      <th>result</th>\n    </tr>\n  </thead>\n  <tbody>\n    <tr>\n      <th>0</th>\n      <td>0</td>\n      <td>这一屋子</td>\n      <td>['星期五见吧', '诚信招聘圆您百万梦想全球诚招代理邀您注册即送元彩金欢迎您及时参与共享申...</td>\n      <td>['NORMAL', 'FAKE', 'NORMAL', 'AD', 'NORMAL']</td>\n      <td>NORMAL</td>\n      <td>0</td>\n      <td>[-2.3841858e-07, 0.32237124, 0.3498764, 0.3571...</td>\n      <td>False</td>\n    </tr>\n    <tr>\n      <th>1</th>\n      <td>1</td>\n      <td>你要不要脸啊被包养很光荣啊滚吧你裴多酱强奸还拿钱拿了30万行了</td>\n      <td>['可怜兮兮的杂种狗000送来亲妈不知珍惜被我一招暴雨梨花针击穿大脑鲜红地血液洒满大地;',...</td>\n      <td>['FUCK', 'AD', 'FUCK', 'FUCK', 'NORMAL']</td>\n      <td>FUCK</td>\n      <td>1</td>\n      <td>[6.556511e-07, 0.057133794, 0.14088333, 0.2660...</td>\n      <td>False</td>\n    </tr>\n    <tr>\n      <th>2</th>\n      <td>2</td>\n      <td>天呐我是在一个什么样的教学楼里面呢刚才语音室给人热一夕匕现在的教室给人冻死整死我算了</td>\n      <td>['你妈才是狗，你妈死了？算个什么狗东西，么人看得起你，也么人待见你。像狗一样的粘人，贱的也...</td>\n      <td>['FUCK', 'FUCK', 'NORMAL', 'NORMAL', 'FUCK']</td>\n      <td>FUCK</td>\n      <td>0</td>\n      <td>[-3.5762787e-07, 0.026480436, 0.23668945, 0.26...</td>\n      <td>False</td>\n    </tr>\n    <tr>\n      <th>3</th>\n      <td>3</td>\n      <td>刚看了一个微博是卖狗肉的该不该吃狗肉的问题上开始了无休止的谩骂大家都吃素吧才能结束争论只抽半...</td>\n      <td>['宝贝，晚安！睡个好觉', '⽼⼦游戏菜嘴巴⼜不菜不服对喷啊傻缺', 'PLACE家电月D...</td>\n      <td>['NORMAL', 'FUCK', 'AD', 'FAKE', 'NORMAL']</td>\n      <td>NORMAL</td>\n      <td>0</td>\n      <td>[0.24951386, 0.2968135, 0.301713, 0.30177128, ...</td>\n      <td>False</td>\n    </tr>\n    <tr>\n      <th>4</th>\n      <td>4</td>\n      <td>我家的狗狗得过细小了单又拉血了怎么办啊急啊</td>\n      <td>['雨停了再做。', '宝贝，晚安！睡个好觉', '张老师，我们孩子有点着凉了，今天就在家休...</td>\n      <td>['NORMAL', 'NORMAL', 'NORMAL', 'AD', 'AD']</td>\n      <td>NORMAL</td>\n      <td>0</td>\n      <td>[3.5762787e-07, 0.27890158, 0.28155792, 0.2822...</td>\n      <td>False</td>\n    </tr>\n    <tr>\n      <th>...</th>\n      <td>...</td>\n      <td>...</td>\n      <td>...</td>\n      <td>...</td>\n      <td>...</td>\n      <td>...</td>\n      <td>...</td>\n      <td>...</td>\n    </tr>\n    <tr>\n      <th>3564</th>\n      <td>3564</td>\n      <td>那些沙比营销号是怎么做到有这么多沙比脑残粉的互相吸引吗文盲都看不下去了</td>\n      <td>['这类货也能混迹大学，也能称作教！授，实在是一个悲哀。教授？呵...呵', '免税香烟批发...</td>\n      <td>['FUCK', 'AD', 'NORMAL', 'NORMAL', 'FUCK']</td>\n      <td>FUCK</td>\n      <td>1</td>\n      <td>[0.12113118, 0.124705315, 0.18558967, 0.215743...</td>\n      <td>False</td>\n    </tr>\n    <tr>\n      <th>3565</th>\n      <td>3565</td>\n      <td>现在的社会真是被一群忘恩负义的疯子占据忘记自己得国家忘记自己的家乡跟畜生没什么区别作为一个垃...</td>\n      <td>['刚打完，基本上都是被说', '你不是又睡过去了吧?', '为什么天要灭中共中共在DIGI...</td>\n      <td>['NORMAL', 'NORMAL', 'POLITICAL', 'AD', 'FUCK']</td>\n      <td>NORMAL</td>\n      <td>1</td>\n      <td>[1.1920929e-07, 0.0007300973, 0.025551677, 0.0...</td>\n      <td>False</td>\n    </tr>\n    <tr>\n      <th>3566</th>\n      <td>3566</td>\n      <td>某浪亻尔的节操呢这是想亻故征婚觅基友平台口马</td>\n      <td>['PLACE月日至日PLACEPLACE万人空巷抢冰洗震撼登场全场折起来PLACE门店凉茶...</td>\n      <td>['AD', 'AD', 'NORMAL', 'NORMAL', 'FUCK']</td>\n      <td>AD</td>\n      <td>0</td>\n      <td>[0.26037455, 0.26106888, 0.2681309, 0.27215016...</td>\n      <td>False</td>\n    </tr>\n    <tr>\n      <th>3567</th>\n      <td>3567</td>\n      <td>真有意思还不敢让人转发评论微博了活成你这样也够丢人的没脑子又不要脸无敌了做人做成你这样我都替...</td>\n      <td>['知道了啦', '从“你这个废柴你这辈子就这样lan泥了你怎么不去死”到真的qu死。要走多...</td>\n      <td>['NORMAL', 'FUCK', 'AD', 'FUCK', 'FUCK']</td>\n      <td>FUCK</td>\n      <td>1</td>\n      <td>[0.006465137, 0.0071576834, 0.047884762, 0.152...</td>\n      <td>False</td>\n    </tr>\n    <tr>\n      <th>3568</th>\n      <td>3568</td>\n      <td>天生脑残与田径无关练田径把脑子也跑没了是么你这个狗做的再敬业跪天的再厉害这飞机还是不能超音速...</td>\n      <td>['世博结束那么久9了，我还没去过中22国馆呢每，次地铁路过，都好想出站去看，可惜每次都是晚...</td>\n      <td>['NORMAL', 'NORMAL', 'NORMAL', 'NORMAL', 'AD']</td>\n      <td>NORMAL</td>\n      <td>1</td>\n      <td>[-3.5762787e-07, 0.005571842, 0.008822918, 0.0...</td>\n      <td>False</td>\n    </tr>\n  </tbody>\n</table>\n<p>3569 rows × 8 columns</p>\n</div>"
     },
     "execution_count": 23,
     "metadata": {},
     "output_type": "execute_result"
    }
   ],
   "source": [
    "import pandas as pd\n",
    "\n",
    "data3 = pd.read_excel(r\"D:\\work\\qiji_compet\\code\\data\\match_data\\final_data_v4.xlsx\")\n",
    "data3=data3[~data3[\"text\"].apply(lambda x:True if pd.isna(x) else False)]\n",
    "data3[\"text\"]=data3[\"text\"].apply(lambda x:str(x).replace(\" \",\"\" ))\n",
    "data3[\"text\"]=data3[\"text\"].apply(lambda x:re.sub(r'[\\W]','',x))\n",
    "data3"
   ],
   "metadata": {
    "collapsed": false,
    "ExecuteTime": {
     "end_time": "2024-03-12T17:01:59.457625Z",
     "start_time": "2024-03-12T17:01:56.826521Z"
    }
   },
   "id": "2f49535412b60fb8"
  },
  {
   "cell_type": "code",
   "execution_count": 24,
   "outputs": [],
   "source": [
    "data_normal = data3[data3.true_label == 0]\n",
    "data_nonormal = data3[data3.true_label == 1]\n",
    "sentence_pair3 = []\n",
    "count1, count2 = 0, 0\n",
    "for unit in data_normal.values:\n",
    "    text = unit[1]\n",
    "    sentence_bag = eval(unit[2])\n",
    "    label_bag = eval(unit[3])\n",
    "    for sentence, label in zip(sentence_bag, label_bag):\n",
    "        sentence=re.sub(r'[\\W]','',sentence)\n",
    "        if label != \"NORMAL\" and len_sep(sentence, text):\n",
    "            count1 += 1\n",
    "            sentence_pair3.append((text, sentence))\n",
    "for unit in data_nonormal.values:\n",
    "    text = unit[1]\n",
    "    sentence_bag = eval(unit[2])\n",
    "    label_bag = eval(unit[3])\n",
    "    for sentence, label in zip(sentence_bag, label_bag):\n",
    "        sentence=re.sub(r'[\\W]','',sentence)\n",
    "        if label == \"NORMAL\" and len_sep(sentence, text):\n",
    "            count2 += 1\n",
    "            sentence_pair3.append((text, sentence))"
   ],
   "metadata": {
    "collapsed": false,
    "ExecuteTime": {
     "end_time": "2024-03-12T17:02:06.461812Z",
     "start_time": "2024-03-12T17:02:05.874053Z"
    }
   },
   "id": "253eeed470c17816"
  },
  {
   "cell_type": "code",
   "execution_count": 25,
   "outputs": [
    {
     "data": {
      "text/plain": "(1991, 1336, 655)"
     },
     "execution_count": 25,
     "metadata": {},
     "output_type": "execute_result"
    }
   ],
   "source": [
    "len(sentence_pair3), count1, count2"
   ],
   "metadata": {
    "collapsed": false,
    "ExecuteTime": {
     "end_time": "2024-03-12T17:02:09.617378Z",
     "start_time": "2024-03-12T17:02:09.589936Z"
    }
   },
   "id": "64f1c99527a22028"
  },
  {
   "cell_type": "code",
   "execution_count": 26,
   "outputs": [],
   "source": [
    "sentence_pair = sentence_pair + sentence_pair2 + sentence_pair3"
   ],
   "metadata": {
    "collapsed": false,
    "ExecuteTime": {
     "end_time": "2024-03-12T17:02:10.971256Z",
     "start_time": "2024-03-12T17:02:10.948047Z"
    }
   },
   "id": "b568ceb4b02d61f7"
  },
  {
   "cell_type": "code",
   "execution_count": 27,
   "outputs": [
    {
     "data": {
      "text/plain": "20060"
     },
     "execution_count": 27,
     "metadata": {},
     "output_type": "execute_result"
    }
   ],
   "source": [
    "len(sentence_pair)"
   ],
   "metadata": {
    "collapsed": false,
    "ExecuteTime": {
     "end_time": "2024-03-12T17:02:12.174031Z",
     "start_time": "2024-03-12T17:02:12.145936Z"
    }
   },
   "id": "d8b826165ac8e47e"
  },
  {
   "cell_type": "code",
   "execution_count": 29,
   "outputs": [
    {
     "name": "stderr",
     "output_type": "stream",
     "text": [
      "100%|██████████| 20060/20060 [00:13<00:00, 1522.93it/s]\n"
     ]
    }
   ],
   "source": [
    "from tqdm import tqdm\n",
    "data2 = pd.read_excel(r\"D:\\work\\qiji_compet\\code\\data\\dataset\\multi_cls_data\\test_multi.xlsx\")\n",
    "final_semantic_sentence_pair = []\n",
    "test_content=data2.content.tolist()\n",
    "for unit in tqdm(sentence_pair):\n",
    "    if unit[0] not in test_content and unit[1] not in test_content:\n",
    "        final_semantic_sentence_pair.append(unit)"
   ],
   "metadata": {
    "collapsed": false,
    "ExecuteTime": {
     "end_time": "2024-03-12T17:02:56.098526Z",
     "start_time": "2024-03-12T17:02:40.828919Z"
    }
   },
   "id": "4d34e983fdd77b9d"
  },
  {
   "cell_type": "code",
   "execution_count": 30,
   "outputs": [
    {
     "data": {
      "text/plain": "17271"
     },
     "execution_count": 30,
     "metadata": {},
     "output_type": "execute_result"
    }
   ],
   "source": [
    "len(final_semantic_sentence_pair)"
   ],
   "metadata": {
    "collapsed": false,
    "ExecuteTime": {
     "end_time": "2024-03-12T17:03:09.726112Z",
     "start_time": "2024-03-12T17:03:09.710984Z"
    }
   },
   "id": "99ed2bd93975d0a3"
  },
  {
   "cell_type": "markdown",
   "source": [
    "### 难负样本字面"
   ],
   "metadata": {
    "collapsed": false
   },
   "id": "2fddaf41285d7582"
  },
  {
   "cell_type": "code",
   "execution_count": 31,
   "outputs": [],
   "source": [
    "# with open(\"stopword.txt\", 'r', encoding='utf-8') as g:\n",
    "#     words = g.readlines()\n",
    "#     stopwords = [i.strip() for i in words]\n",
    "#     stopwords.extend(['.', '（', '）', '-'])"
   ],
   "metadata": {
    "collapsed": false,
    "ExecuteTime": {
     "end_time": "2024-03-12T17:03:13.846838Z",
     "start_time": "2024-03-12T17:03:13.828714Z"
    }
   },
   "id": "48bbabbbcc2dbffc"
  },
  {
   "cell_type": "code",
   "execution_count": 34,
   "outputs": [],
   "source": [
    "import jieba\n",
    "import pandas as pd\n",
    "data1 = pd.read_excel(r\"D:\\work\\qiji_compet\\code\\data\\dataset\\multi_cls_data\\train_multi.xlsx\")\n",
    "data2 = pd.read_excel(r\"D:\\work\\qiji_compet\\code\\data\\dataset\\multi_cls_data\\dev_multi.xlsx\")\n",
    "data = pd.concat([data1, data2]).sample(frac=1.0)\n",
    "# 示例文档集和查询\n",
    "data_content = data[\"content\"].tolist()\n",
    "docs = [jieba.lcut(str(x).replace(\" \", \"\")) for x in data_content]\n",
    "labels = data[\"labels\"].tolist()\n"
   ],
   "metadata": {
    "collapsed": false,
    "ExecuteTime": {
     "end_time": "2024-03-12T17:06:06.631518Z",
     "start_time": "2024-03-12T17:05:34.252864Z"
    }
   },
   "id": "c4a3dce0811ba8be"
  },
  {
   "cell_type": "code",
   "execution_count": 32,
   "outputs": [
    {
     "data": {
      "text/plain": "['NAME',\n '女鞋',\n '尊敬',\n '的',\n '会员',\n '大牌',\n '女鞋',\n '开仓',\n '特卖',\n '超低价',\n '疯',\n '抢',\n '仅剩',\n '一天',\n '买鞋',\n '送礼',\n '会员',\n '再',\n '享满',\n 'DIGIT',\n '减',\n 'DIGIT',\n '售完',\n '不补',\n 'URL',\n '回复',\n '退订']"
     },
     "execution_count": 32,
     "metadata": {},
     "output_type": "execute_result"
    }
   ],
   "source": [
    "docs[2]"
   ],
   "metadata": {
    "collapsed": false,
    "ExecuteTime": {
     "end_time": "2024-03-10T03:02:21.638498200Z",
     "start_time": "2024-03-10T03:02:21.559465700Z"
    }
   },
   "id": "f2941908c55fd17b"
  },
  {
   "cell_type": "code",
   "execution_count": 29,
   "outputs": [
    {
     "data": {
      "text/plain": "'师哥woshi该乐呢还是ku呢目前还没有网友要弄死你'"
     },
     "execution_count": 29,
     "metadata": {},
     "output_type": "execute_result"
    }
   ],
   "source": [
    "data_content[1]"
   ],
   "metadata": {
    "collapsed": false,
    "ExecuteTime": {
     "end_time": "2024-03-10T03:13:13.926415900Z",
     "start_time": "2024-03-10T03:13:13.888415600Z"
    }
   },
   "id": "ecd8a41949f04adc"
  },
  {
   "cell_type": "code",
   "execution_count": 35,
   "outputs": [],
   "source": [
    "from gensim.summarization import bm25\n",
    "bm25Model = bm25.BM25(docs) "
   ],
   "metadata": {
    "collapsed": false,
    "ExecuteTime": {
     "end_time": "2024-03-12T17:06:15.681957Z",
     "start_time": "2024-03-12T17:06:10.952636Z"
    }
   },
   "id": "de66ad528c38d4bd"
  },
  {
   "cell_type": "code",
   "execution_count": 37,
   "outputs": [
    {
     "name": "stderr",
     "output_type": "stream",
     "text": [
      "1465it [05:36,  3.72it/s]"
     ]
    },
    {
     "name": "stdout",
     "output_type": "stream",
     "text": [
      "1000\n"
     ]
    },
    {
     "name": "stderr",
     "output_type": "stream",
     "text": [
      "2989it [11:39,  7.39it/s]"
     ]
    },
    {
     "name": "stdout",
     "output_type": "stream",
     "text": [
      "2000\n"
     ]
    },
    {
     "name": "stderr",
     "output_type": "stream",
     "text": [
      "4073it [15:29,  4.62it/s]"
     ]
    },
    {
     "name": "stdout",
     "output_type": "stream",
     "text": [
      "3000\n"
     ]
    },
    {
     "name": "stderr",
     "output_type": "stream",
     "text": [
      "5075it [19:00,  4.45it/s]\n"
     ]
    },
    {
     "ename": "TypeError",
     "evalue": "object of type 'float' has no len()",
     "output_type": "error",
     "traceback": [
      "\u001B[1;31m---------------------------------------------------------------------------\u001B[0m",
      "\u001B[1;31mTypeError\u001B[0m                                 Traceback (most recent call last)",
      "Cell \u001B[1;32mIn[37], line 9\u001B[0m\n\u001B[0;32m      7\u001B[0m result \u001B[38;5;241m=\u001B[39m [data_content[i] \u001B[38;5;28;01mfor\u001B[39;00m i \u001B[38;5;129;01min\u001B[39;00m raw_rank_index][\u001B[38;5;241m1\u001B[39m:\u001B[38;5;241m21\u001B[39m]\n\u001B[0;32m      8\u001B[0m \u001B[38;5;28;01mfor\u001B[39;00m idx,cont \u001B[38;5;129;01min\u001B[39;00m \u001B[38;5;28mzip\u001B[39m(raw_rank_index,result):\n\u001B[1;32m----> 9\u001B[0m     \u001B[38;5;28;01mif\u001B[39;00m \u001B[43mlen_sep\u001B[49m\u001B[43m(\u001B[49m\u001B[43mdata_content\u001B[49m\u001B[43m[\u001B[49m\u001B[43mj\u001B[49m\u001B[43m]\u001B[49m\u001B[43m,\u001B[49m\u001B[43m \u001B[49m\u001B[43mdata_content\u001B[49m\u001B[43m[\u001B[49m\u001B[43midx\u001B[49m\u001B[43m]\u001B[49m\u001B[43m)\u001B[49m \u001B[38;5;129;01mand\u001B[39;00m labels[j]\u001B[38;5;241m!=\u001B[39mlabels[idx]:\n\u001B[0;32m     10\u001B[0m         content\u001B[38;5;241m.\u001B[39mappend((data_content[j], data_content[idx], labels[j], labels[idx]))\n\u001B[0;32m     12\u001B[0m         \u001B[38;5;28;01mif\u001B[39;00m \u001B[38;5;28mlen\u001B[39m(content)\u001B[38;5;241m%\u001B[39m\u001B[38;5;241m1000\u001B[39m\u001B[38;5;241m==\u001B[39m\u001B[38;5;241m0\u001B[39m:\n",
      "Cell \u001B[1;32mIn[7], line 6\u001B[0m, in \u001B[0;36mlen_sep\u001B[1;34m(text1, text2)\u001B[0m\n\u001B[0;32m      4\u001B[0m \u001B[38;5;28;01mif\u001B[39;00m \u001B[38;5;241m10\u001B[39m \u001B[38;5;241m<\u001B[39m\u001B[38;5;241m=\u001B[39m \u001B[38;5;28mlen\u001B[39m(text1) \u001B[38;5;241m<\u001B[39m\u001B[38;5;241m=\u001B[39m \u001B[38;5;241m20\u001B[39m \u001B[38;5;129;01mand\u001B[39;00m \u001B[38;5;241m10\u001B[39m \u001B[38;5;241m<\u001B[39m\u001B[38;5;241m=\u001B[39m \u001B[38;5;28mlen\u001B[39m(text2) \u001B[38;5;241m<\u001B[39m\u001B[38;5;241m=\u001B[39m \u001B[38;5;241m20\u001B[39m:\n\u001B[0;32m      5\u001B[0m     \u001B[38;5;28;01mreturn\u001B[39;00m \u001B[38;5;28;01mTrue\u001B[39;00m\n\u001B[1;32m----> 6\u001B[0m \u001B[38;5;28;01mif\u001B[39;00m \u001B[38;5;241m20\u001B[39m \u001B[38;5;241m<\u001B[39m\u001B[38;5;241m=\u001B[39m \u001B[38;5;28mlen\u001B[39m(text1) \u001B[38;5;241m<\u001B[39m\u001B[38;5;241m=\u001B[39m \u001B[38;5;241m40\u001B[39m \u001B[38;5;129;01mand\u001B[39;00m \u001B[38;5;241m20\u001B[39m \u001B[38;5;241m<\u001B[39m\u001B[38;5;241m=\u001B[39m \u001B[38;5;28;43mlen\u001B[39;49m\u001B[43m(\u001B[49m\u001B[43mtext2\u001B[49m\u001B[43m)\u001B[49m \u001B[38;5;241m<\u001B[39m\u001B[38;5;241m=\u001B[39m \u001B[38;5;241m40\u001B[39m:\n\u001B[0;32m      7\u001B[0m     \u001B[38;5;28;01mreturn\u001B[39;00m \u001B[38;5;28;01mTrue\u001B[39;00m\n\u001B[0;32m      8\u001B[0m \u001B[38;5;28;01mif\u001B[39;00m \u001B[38;5;241m40\u001B[39m \u001B[38;5;241m<\u001B[39m\u001B[38;5;241m=\u001B[39m \u001B[38;5;28mlen\u001B[39m(text1) \u001B[38;5;241m<\u001B[39m\u001B[38;5;241m=\u001B[39m \u001B[38;5;241m100\u001B[39m \u001B[38;5;129;01mand\u001B[39;00m \u001B[38;5;241m40\u001B[39m \u001B[38;5;241m<\u001B[39m\u001B[38;5;241m=\u001B[39m \u001B[38;5;28mlen\u001B[39m(text2) \u001B[38;5;241m<\u001B[39m\u001B[38;5;241m=\u001B[39m \u001B[38;5;241m100\u001B[39m:\n",
      "\u001B[1;31mTypeError\u001B[0m: object of type 'float' has no len()"
     ]
    }
   ],
   "source": [
    "from tqdm import tqdm\n",
    "import numpy as np\n",
    "content = []\n",
    "# \n",
    "for j,doc in tqdm(enumerate(docs)):\n",
    "    raw_rank_index = np.array(bm25Model.get_scores(doc)).argsort().tolist()[::-1][1:21]  # bm25的结果  # lc的结果\n",
    "    result = [data_content[i] for i in raw_rank_index][1:21]\n",
    "    for idx,cont in zip(raw_rank_index,result):\n",
    "        if len_sep(data_content[j], data_content[idx]) and labels[j]!=labels[idx]:\n",
    "            content.append((data_content[j], data_content[idx], labels[j], labels[idx]))\n",
    "\n",
    "            if len(content)%1000==0:\n",
    "                print(len(content))"
   ],
   "metadata": {
    "collapsed": false,
    "ExecuteTime": {
     "end_time": "2024-03-12T17:26:28.094905Z",
     "start_time": "2024-03-12T17:07:26.667688Z"
    }
   },
   "id": "ae3ecd7151b12318"
  },
  {
   "cell_type": "code",
   "execution_count": 65,
   "outputs": [
    {
     "data": {
      "text/plain": "('玩抢红包遇到一个凑不要脸的还没玩完到她发就说没钱没绑定银行卡那你玩你麻痹抢的跟真的一样cnm',\n '那你帮忙说一下她是觉得今天说去没去怕觉得不好她在派出所等到五点半还没开完然后马上就跟说了我就跟你在群里说了你没回',\n 'FUCK',\n 'NORMAL')"
     },
     "execution_count": 65,
     "metadata": {},
     "output_type": "execute_result"
    }
   ],
   "source": [
    "content[3]"
   ],
   "metadata": {
    "collapsed": false,
    "ExecuteTime": {
     "end_time": "2024-03-10T07:04:58.248786300Z",
     "start_time": "2024-03-10T07:04:58.171787800Z"
    }
   },
   "id": "413abc81649bdd21"
  },
  {
   "cell_type": "markdown",
   "source": [
    "# 易负样本"
   ],
   "metadata": {
    "collapsed": false
   },
   "id": "21cf8f7bc2a13093"
  },
  {
   "cell_type": "code",
   "execution_count": null,
   "outputs": [],
   "source": [
    "from tqdm import tqdm\n",
    "from  random import choice\n",
    "ls=[0,0,0,0,0,0,0,0,0,1]\n",
    "sentence_pair_easy = []\n",
    "for i, (txt, lb) in tqdm(enumerate(zip(data_content, labels))):\n",
    "    lb_bag = []\n",
    "    for j in range(i + 1, len(labels)):\n",
    "        if labels[j] != lb  and (labels[j] not in lb_bag) and len_sep(txt,data_content[j]) and choice(ls):\n",
    "            sentence_pair_easy.append((txt, data_content[j], lb, labels[j]))\n",
    "            lb_bag.append(labels[j])\n",
    "            if len(sentence_pair_easy)%10000==0:\n",
    "                print(len(sentence_pair_easy))\n",
    "        elif len(lb_bag) == 2:\n",
    "            break"
   ],
   "metadata": {
    "collapsed": false,
    "ExecuteTime": {
     "end_time": "2024-03-12T17:26:28.105909Z",
     "start_time": "2024-03-12T17:26:28.103892Z"
    }
   },
   "id": "601d468ade8b2436"
  },
  {
   "cell_type": "code",
   "execution_count": 33,
   "outputs": [
    {
     "data": {
      "text/plain": "112337"
     },
     "execution_count": 33,
     "metadata": {},
     "output_type": "execute_result"
    }
   ],
   "source": [
    "len(sentence_pair_easy)"
   ],
   "metadata": {
    "collapsed": false,
    "ExecuteTime": {
     "end_time": "2024-03-10T15:58:34.373009400Z",
     "start_time": "2024-03-10T15:58:34.362009900Z"
    }
   },
   "id": "4a7a8394ee726ef5"
  },
  {
   "cell_type": "code",
   "execution_count": 139,
   "outputs": [],
   "source": [
    "# sentence_pair_neg = final_semantic_sentence_pair + content + sentence_pair_easy"
   ],
   "metadata": {
    "collapsed": false,
    "ExecuteTime": {
     "end_time": "2024-03-10T07:26:12.367966400Z",
     "start_time": "2024-03-10T07:26:12.319925800Z"
    }
   },
   "id": "e4fdb5e024ea413f"
  },
  {
   "cell_type": "code",
   "execution_count": 34,
   "outputs": [
    {
     "ename": "NameError",
     "evalue": "name 'sentence_pair_neg' is not defined",
     "output_type": "error",
     "traceback": [
      "\u001B[1;31m---------------------------------------------------------------------------\u001B[0m",
      "\u001B[1;31mNameError\u001B[0m                                 Traceback (most recent call last)",
      "Cell \u001B[1;32mIn[34], line 1\u001B[0m\n\u001B[1;32m----> 1\u001B[0m \u001B[43msentence_pair_neg\u001B[49m[\u001B[38;5;241m0\u001B[39m]\n",
      "\u001B[1;31mNameError\u001B[0m: name 'sentence_pair_neg' is not defined"
     ]
    }
   ],
   "source": [
    "sentence_pair_neg[0]"
   ],
   "metadata": {
    "collapsed": false,
    "ExecuteTime": {
     "end_time": "2024-03-10T15:58:50.364670900Z",
     "start_time": "2024-03-10T15:58:50.126660300Z"
    }
   },
   "id": "83fc0060deba597e"
  },
  {
   "cell_type": "code",
   "execution_count": 149,
   "outputs": [],
   "source": [
    "# from random import shuffle\n",
    "# shuffle(sentence_pair_neg)"
   ],
   "metadata": {
    "collapsed": false,
    "ExecuteTime": {
     "end_time": "2024-03-10T07:29:09.756967400Z",
     "start_time": "2024-03-10T07:29:09.676968100Z"
    }
   },
   "id": "636e1695fb957661"
  },
  {
   "cell_type": "code",
   "execution_count": 151,
   "outputs": [],
   "source": [
    "\n",
    "# with open(r\"D:\\code\\qiji_compet\\code\\data\\match_data\\0310\\data_neg.txt\", \"w\", encoding=\"utf8\") as f:\n",
    "#     for unit in sentence_pair_neg:\n",
    "#         f.write(str(unit[0]) + \"\\t\" + unit[1]+\"\\n\")"
   ],
   "metadata": {
    "collapsed": false,
    "ExecuteTime": {
     "end_time": "2024-03-10T07:29:19.223015500Z",
     "start_time": "2024-03-10T07:29:18.896001Z"
    }
   },
   "id": "e27a69bb64ed1fd3"
  },
  {
   "cell_type": "code",
   "execution_count": null,
   "outputs": [],
   "source": [
    "data_dict=pd.read_excel(\"D:\\work\\qiji_compet\\code\\data\\dicts\\sensitive_dicts.xlsx\")\n",
    "data_dic_content = data_dict[0].tolist()\n",
    "docs_dict = [list(x) for x in data_dic_content]\n",
    "labels_dict = data_dict[1].tolist()"
   ],
   "metadata": {
    "collapsed": false
   },
   "id": "eb27e13c09c223eb"
  },
  {
   "cell_type": "code",
   "execution_count": 36,
   "outputs": [
    {
     "data": {
      "text/plain": "[['爱', '女', '人'],\n ['爱', '液'],\n ['按', '摩', '棒'],\n ['拔', '出', '来'],\n ['爆', '草'],\n ['包', '二', '奶'],\n ['暴', '干'],\n ['暴', '奸'],\n ['暴', '乳'],\n ['爆', '乳'],\n ['暴', '淫'],\n ['屄'],\n ['被', '操'],\n ['被', '插'],\n ['被', '干'],\n ['逼', '奸'],\n ['仓', '井', '空'],\n ['插', '暴'],\n ['操', '逼'],\n ['操', '黑'],\n ['操', '烂'],\n ['肏', '你'],\n ['肏', '死'],\n ['操', '死'],\n ['操', '我'],\n ['厕', '奴'],\n ['插', '比'],\n ['插', 'b'],\n ['插', '逼'],\n ['插', '进'],\n ['插', '你'],\n ['插', '我'],\n ['插', '阴'],\n ['潮', '吹'],\n ['潮', '喷'],\n ['成', '人', 'd', 'v'],\n ['成', '人', '电', '影'],\n ['成', '人', '论', '坛'],\n ['成', '人', '小', '说'],\n ['成', '人', '电'],\n ['成', '人', '卡', '通'],\n ['成', '人', '聊'],\n ['成', '人', '片'],\n ['成', '人', '视'],\n ['成', '人', '图'],\n ['成', '人', '文'],\n ['成', '人', '小'],\n ['成', '人', '色', '情'],\n ['成', '人', '网', '站'],\n ['成', '人', '文', '学'],\n ['艳', '情', '小', '说'],\n ['成', '人', '游', '戏'],\n ['吃', '精'],\n ['赤', '裸'],\n ['抽', '插'],\n ['扌', '由', '插'],\n ['抽', '一', '插'],\n ['春', '药'],\n ['大', '波'],\n ['大', '力', '抽', '送'],\n ['大', '乳'],\n ['荡', '妇'],\n ['荡', '女'],\n ['盗', '撮'],\n ['多', '人', '轮'],\n ['发', '浪'],\n ['放', '尿'],\n ['肥', '逼'],\n ['粉', '穴'],\n ['封', '面', '女', '郎'],\n ['风', '月', '大', '陆'],\n ['干', '死', '你'],\n ['干', '穴'],\n ['肛', '交'],\n ['龟', '头'],\n ['裹', '本'],\n ['国', '产', 'a', 'v'],\n ['好', '嫩'],\n ['豪', '乳'],\n ['黑', '逼'],\n ['后', '庭'],\n ['后', '穴'],\n ['虎', '骑'],\n ['花', '花', '公', '子'],\n ['换', '妻', '俱', '乐', '部'],\n ['黄', '片'],\n ['几', '吧'],\n ['鸡', '吧'],\n ['鸡', '巴'],\n ['鸡', '奸'],\n ['寂', '寞', '男'],\n ['寂', '寞', '女'],\n ['妓', '女'],\n ['激', '情'],\n ['集', '体', '淫'],\n ['奸', '情'],\n ['叫', '床'],\n ['脚', '交'],\n ['金', '鳞', '岂', '是', '池', '中', '物'],\n ['金', '麟', '岂', '是', '池', '中', '物'],\n ['精', '液'],\n ['就', '去', '日'],\n ['巨', '屌'],\n ['菊', '花', '洞'],\n ['菊', '门'],\n ['巨', '奶'],\n ['巨', '乳'],\n ['菊', '穴'],\n ['开', '苞'],\n ['口', '爆'],\n ['口', '活'],\n ['口', '交'],\n ['口', '射'],\n ['口', '淫'],\n ['裤', '袜'],\n ['狂', '操'],\n ['狂', '插'],\n ['浪', '逼'],\n ['浪', '妇'],\n ['浪', '叫'],\n ['浪', '女'],\n ['狼', '友'],\n ['聊', '性'],\n ['流', '淫'],\n ['铃', '木', '麻'],\n ['凌', '辱'],\n ['漏', '乳'],\n ['露', 'b'],\n ['乱', '交'],\n ['乱', '伦'],\n ['轮', '暴'],\n ['轮', '操'],\n ['轮', '奸'],\n ['裸', '陪'],\n ['买', '春'],\n ['美', '逼'],\n ['美', '少', '妇'],\n ['美', '乳'],\n ['美', '腿'],\n ['美', '穴'],\n ['美', '幼'],\n ['秘', '唇'],\n ['迷', '奸'],\n ['密', '穴'],\n ['蜜', '穴'],\n ['蜜', '液'],\n ['摸', '奶'],\n ['摸', '胸'],\n ['母', '奸'],\n ['奈', '美'],\n ['奶', '子'],\n ['男', '奴'],\n ['内', '射'],\n ['嫩', '逼'],\n ['嫩', '女'],\n ['嫩', '穴'],\n ['捏', '弄'],\n ['女', '优'],\n ['炮', '友'],\n ['砲', '友'],\n ['喷', '精'],\n ['品', '香', '堂'],\n ['前', '凸', '后', '翘'],\n ['强', 'j', 'i', 'a', 'n'],\n ['强', '暴'],\n ['强', '奸', '处', '女'],\n ['情', '趣', '用', '品'],\n ['情', '色'],\n ['拳', '交'],\n ['全', '裸'],\n ['群', '交'],\n ['惹', '火', '身', '材'],\n ['人', '妻'],\n ['人', '兽'],\n ['日', '逼'],\n ['日', '烂'],\n ['肉', '棒'],\n ['肉', '逼'],\n ['肉', '唇'],\n ['肉', '洞'],\n ['肉', '缝'],\n ['肉', '棍'],\n ['肉', '茎'],\n ['肉', '具'],\n ['揉', '乳'],\n ['肉', '穴'],\n ['肉', '欲'],\n ['乳', '爆'],\n ['乳', '房'],\n ['乳', '沟'],\n ['乳', '交'],\n ['乳', '头'],\n ['三', '级', '片'],\n ['骚', '逼'],\n ['骚', '比'],\n ['骚', '女'],\n ['骚', '水'],\n ['骚', '穴'],\n ['色', '逼'],\n ['色', '界'],\n ['色', '猫'],\n ['色', '盟'],\n ['色', '情', '网', '站'],\n ['色', '区'],\n ['色', '色'],\n ['色', '诱'],\n ['色', '欲'],\n ['色', 'b'],\n ['少', '年', '阿', '宾'],\n ['少', '修', '正'],\n ['射', '爽'],\n ['射', '颜'],\n ['食', '精'],\n ['释', '欲'],\n ['兽', '奸'],\n ['兽', '交'],\n ['手', '淫'],\n ['兽', '欲'],\n ['熟', '妇'],\n ['熟', '母'],\n ['熟', '女'],\n ['爽', '片'],\n ['爽', '死', '我', '了'],\n ['双', '臀'],\n ['死', '逼'],\n ['丝', '袜'],\n ['丝', '诱'],\n ['松', '岛', '枫'],\n ['酥', '痒'],\n ['汤', '加', '丽'],\n ['套', '弄'],\n ['体', '奸'],\n ['体', '位'],\n ['舔', '脚'],\n ['舔', '阴'],\n ['调', '教'],\n ['偷', '欢'],\n ['偷', '拍'],\n ['推', '油'],\n ['脱', '内', '裤'],\n ['文', '做'],\n ['我', '就', '色'],\n ['无', '码'],\n ['舞', '女'],\n ['无', '修', '正'],\n ['吸', '精'],\n ['夏', '川', '纯'],\n ['相', '奸'],\n ['小', '逼'],\n ['校', '鸡'],\n ['小', '穴'],\n ['小', 'x', 'u', 'e'],\n ['写', '真'],\n ['性', '感', '妖', '娆'],\n ['性', '感', '诱', '惑'],\n ['性', '虎'],\n ['性', '饥', '渴'],\n ['性', '技', '巧'],\n ['性', '交'],\n ['性', '奴'],\n ['性', '虐'],\n ['性', '息'],\n ['性', '欲'],\n ['胸', '推'],\n ['穴', '口'],\n ['学', '生', '妹'],\n ['穴', '图'],\n ['亚', '情'],\n ['颜', '射'],\n ['阳', '具'],\n ['杨', '思', '敏'],\n ['要', '射', '了'],\n ['夜', '勤', '病', '栋'],\n ['一', '本', '道'],\n ['一', '夜', '欢'],\n ['一', '夜', '情'],\n ['一', 'y', 'e', '情'],\n ['阴', '部'],\n ['淫', '虫'],\n ['阴', '唇'],\n ['淫', '荡'],\n ['阴', '道'],\n ['淫', '电', '影'],\n ['阴', '阜'],\n ['淫', '妇'],\n ['淫', '河'],\n ['阴', '核'],\n ['阴', '户'],\n ['淫', '贱'],\n ['淫', '叫'],\n ['淫', '教', '师'],\n ['阴', '精'],\n ['淫', '浪'],\n ['淫', '媚'],\n ['淫', '糜'],\n ['淫', '魔'],\n ['淫', '母'],\n ['淫', '女'],\n ['淫', '虐'],\n ['淫', '妻'],\n ['淫', '情'],\n ['淫', '色'],\n ['淫', '声', '浪', '语'],\n ['淫', '兽', '学', '园'],\n ['淫', '书'],\n ['淫', '术', '炼', '金', '士'],\n ['淫', '水'],\n ['淫', '娃'],\n ['淫', '威'],\n ['淫', '亵'],\n ['淫', '样'],\n ['淫', '液'],\n ['淫', '照'],\n ['阴', 'b'],\n ['应', '召'],\n ['幼', '交'],\n ['幼', '男'],\n ['幼', '女'],\n ['欲', '火'],\n ['欲', '女'],\n ['玉', '女', '心', '经'],\n ['玉', '蒲', '团'],\n ['玉', '乳'],\n ['欲', '仙', '欲', '死'],\n ['玉', '穴'],\n ['援', '交'],\n ['原', '味', '内', '衣'],\n ['援', '助', '交', '际'],\n ['张', '筱', '雨'],\n ['招', '鸡'],\n ['招', '妓'],\n ['中', '年', '美', '妇'],\n ['抓', '胸'],\n ['自', '拍'],\n ['自', '慰'],\n ['作', '爱'],\n ['1', '8', '禁'],\n ['9', '9', 'b', 'b'],\n ['a', '4', 'u'],\n ['a', '4', 'y'],\n ['a', 'm', 'a', 't', 'e', 'u', 'r'],\n ['a', 'n', 'a', 'l'],\n ['a', '片'],\n ['f', 'u', 'c', 'k'],\n ['g', 'a', 'y', '片'],\n ['g', '点'],\n ['g', '片'],\n ['h', 'a', 'r', 'd', 'c', 'o', 'r', 'e'],\n ['h', '动', '画'],\n ['h', '动', '漫'],\n ['i', 'n', 'c', 'e', 's', 't'],\n ['p', 'o', 'r', 'n'],\n ['s', 'e', 'c', 'o', 'm'],\n ['s', 'e', 'x', 'i', 'n', 's', 'e', 'x'],\n ['s', 'm', '女', '王'],\n ['x', 'i', 'a', 'o', '7', '7'],\n ['x', 'i', 'n', 'g', '伴', '侣'],\n ['t', 'o', 'k', 'y', 'o', 'h', 'o', 't'],\n ['y', 'i', 'n', '荡'],\n ['贱', '人'],\n ['装', 'b'],\n ['大', 's', 'b'],\n ['傻', '逼'],\n ['傻', 'b'],\n ['煞', '逼'],\n ['煞', '笔'],\n ['刹', '笔'],\n ['傻', '比'],\n ['沙', '比'],\n ['欠', '干'],\n ['婊', '子', '养', '的'],\n ['我', '日', '你'],\n ['我', '操'],\n ['我', '草'],\n ['卧', '艹'],\n ['卧', '槽'],\n ['爆', '你', '菊'],\n ['艹', '你'],\n ['c', 'a', 'o', '你'],\n ['你', '他', '妈'],\n ['真', '他', '妈'],\n ['别', '他', '吗'],\n ['草', '你', '吗'],\n ['草', '你', '丫'],\n ['操', '你', '妈'],\n ['擦', '你', '妈'],\n ['操', '你', '娘'],\n ['操', '他', '妈'],\n ['日', '你', '妈'],\n ['干', '你', '妈'],\n ['干', '你', '娘'],\n ['娘', '西', '皮'],\n ['狗', '操'],\n ['狗', '草'],\n ['狗', '杂', '种'],\n ['狗', '日', '的'],\n ['操', '你', '祖', '宗'],\n ['操', '你', '全', '家'],\n ['操', '你', '大', '爷'],\n ['妈', '逼'],\n ['你', '麻', '痹'],\n ['麻', '痹', '的'],\n ['妈', '了', '个', '逼'],\n ['马', '勒'],\n ['狗', '娘', '养'],\n ['贱', '比'],\n ['贱', 'b'],\n ['下', '贱'],\n ['死', '全', '家'],\n ['全', '家', '死', '光'],\n ['全', '家', '不', '得', '好', '死'],\n ['全', '家', '死', '绝'],\n ['白', '痴'],\n ['无', '耻'],\n ['s', 'b'],\n ['杀', 'b'],\n ['你', '吗', 'b'],\n ['你', '妈', '的'],\n ['婊', '子'],\n ['贱', '货'],\n ['人', '渣'],\n ['混', '蛋'],\n ['性', '伴', '侣'],\n ['男', '公', '关'],\n ['火', '辣'],\n ['精', '子'],\n ['射', '精'],\n ['诱', '奸'],\n ['强', '奸'],\n ['做', '爱'],\n ['性', '爱'],\n ['发', '生', '关', '系'],\n ['快', '感'],\n ['处', '男'],\n ['猛', '男'],\n ['少', '妇'],\n ['屌'],\n ['屁', '股'],\n ['下', '体'],\n ['咪', '咪'],\n ['发', '情'],\n ['兽', '性'],\n ['s', 'm'],\n ['阉', '割'],\n ['高', '潮'],\n ['裸', '露'],\n ['不', '穿'],\n ['一', '丝', '不', '挂'],\n ['脱', '光'],\n ['干', '你'],\n ['干', '死'],\n ['我', '干'],\n ['裙', '中', '性', '运', '动'],\n ['乱', '奸'],\n ['乱', '伦', '类'],\n ['乱', '伦', '小'],\n ['伦', '理', '大'],\n ['伦', '理', '电', '影'],\n ['伦', '理', '毛'],\n ['伦', '理', '片'],\n ['裸', '聊'],\n ['裸', '聊', '网'],\n ['裸', '体', '写', '真'],\n ['裸', '舞', '视'],\n ['裸', '照'],\n ['美', '女', '裸', '体'],\n ['美', '女', '写', '真'],\n ['美', '女', '上', '门'],\n ['美', '艳', '少', '妇'],\n ['妹', '按', '摩'],\n ['妹', '上', '门'],\n ['迷', '幻', '药'],\n ['迷', '幻', '藥'],\n ['迷', '昏', '口'],\n ['迷', '昏', '药'],\n ['迷', '昏', '藥'],\n ['迷', '魂', '香'],\n ['迷', '魂', '药'],\n ['迷', '魂', '藥'],\n ['迷', '奸', '粉'],\n ['迷', '奸', '药'],\n ['迷', '情', '粉'],\n ['迷', '情', '水'],\n ['迷', '情', '药'],\n ['迷', '药'],\n ['迷', '藥'],\n ['谜', '奸', '药'],\n ['骚', '妇'],\n ['骚', '货'],\n ['骚', '浪'],\n ['骚', '嘴'],\n ['色', '电', '影'],\n ['色', '妹', '妹'],\n ['色', '情', '表', '演'],\n ['色', '情', '电', '影'],\n ['色', '情', '服', '务'],\n ['色', '情', '图', '片'],\n ['色', '情', '小', '说'],\n ['色', '情', '影', '片'],\n ['色', '情', '片'],\n ['色', '视', '频'],\n ['色', '小', '说'],\n ['性', '服', '务'],\n ['性', '福', '情'],\n ['性', '感', '少'],\n ['性', '伙', '伴'],\n ['性', '交', '视', '频'],\n ['性', '交', '图', '片'],\n ['性', '奴', '集', '中', '营'],\n ['阴', '蒂'],\n ['阴', '间', '来', '电'],\n ['阴', '茎'],\n ['阴', '茎', '增', '大'],\n ['阴', '茎', '助', '勃'],\n ['阴', '毛'],\n ['陰', '唇'],\n ['陰', '道'],\n ['陰', '戶'],\n ['淫', '荡', '美', '女'],\n ['淫', '荡', '视', '频'],\n ['淫', '荡', '照', '片'],\n ['淫', '乱'],\n ['淫', '靡'],\n ['淫', '魔', '舞'],\n ['淫', '情', '女'],\n ['淫', '肉'],\n ['淫', '騷', '妹'],\n ['淫', '兽'],\n ['淫', '兽', '学'],\n ['淫', '穴'],\n ['m', 'o', 'r', 'p', 'h', 'i', 'n', 'e'],\n ['摇', '头', '丸'],\n ['乖', '乖', '粉'],\n ['n', 'a', 'r', 'c', 'o', 't', 'i', 'c'],\n ['麻', '醉', '药'],\n ['精', '神', '药', '品'],\n ['屁', '眼'],\n ['腐', '败', '中', '国'],\n ['三', '个', '呆', '婊'],\n ['你', '办', '事', '我', '放', '心'],\n ['社', '会', '主', '义', '灭', '亡'],\n ['打', '倒', '中', '国'],\n ['打', '倒', '共', '产', '党'],\n ['打', '倒', '共', '产', '主', '义'],\n ['打', '倒', '胡', '锦', '涛'],\n ['打', '倒', '江', '泽', '民'],\n ['打', '倒', '江', '主', '席'],\n ['打', '倒', '李', '鹏'],\n ['打', '倒', '罗', '干'],\n ['打', '倒', '温', '家', '宝'],\n ['打', '倒', '中', '共'],\n ['打', '倒', '朱', '镕'],\n ['抵', '制', '共', '产', '党'],\n ['抵', '制', '共', '产', '主', '义'],\n ['抵', '制', '胡', '锦', '涛'],\n ['抵', '制', '江', '泽', '民'],\n ['抵', '制', '江', '主', '席'],\n ['抵', '制', '李', '鹏'],\n ['抵', '制', '罗', '干'],\n ['抵', '制', '温', '家', '宝'],\n ['抵', '制', '中', '共'],\n ['抵', '制', '朱', '镕', '基'],\n ['灭', '亡', '中', '国'],\n ['亡', '党', '亡', '国'],\n ['粉', '碎', '四', '人', '帮'],\n ['激', '流', '中', '国'],\n ['特', '供'],\n ['特', '贡'],\n ['特', '共'],\n ['z', 'f', '大', '楼'],\n ['殃', '视'],\n ['贪', '污', '腐', '败'],\n ['强', '制', '拆', '除'],\n ['形', '式', '主', '义'],\n ['政', '治', '风', '波'],\n ['太', '子', '党'],\n ['上', '海', '帮'],\n ['北', '京', '帮'],\n ['清', '华', '帮'],\n ['红', '色', '贵', '族'],\n ['权', '贵', '集', '团'],\n ['河', '蟹', '社', '会'],\n ['喝', '血', '社', '会'],\n ['九', '风'],\n ['9', '风'],\n ['十', '七', '大'],\n ['十', '7', '大'],\n ['1', '7', 'd', 'a'],\n ['九', '学'],\n ['9', '学'],\n ['四', '风'],\n ['4', '风'],\n ['双', '规'],\n ['南', '街', '村'],\n ['最', '淫', '官', '员'],\n ['警', '匪'],\n ['官', '匪'],\n ['独', '夫', '民', '贼'],\n ['官', '商', '勾', '结'],\n ['城', '管', '暴', '力', '执', '法'],\n ['强', '制', '捐', '款'],\n ['毒', '豺'],\n ['一', '党', '执', '政'],\n ['一', '党', '专', '制'],\n ['一', '党', '专', '政'],\n ['专', '制', '政', '权'],\n ['宪', '法', '法', '院'],\n ['胡', '平'],\n ['苏', '晓', '康'],\n ['贺', '卫', '方'],\n ['谭', '作', '人'],\n ['焦', '国', '标'],\n ['万', '润', '南'],\n ['张', '志', '新'],\n ['辛', '灝', '年'],\n ['高', '勤', '荣'],\n ['王', '炳', '章'],\n ['高', '智', '晟'],\n ['司', '马', '璐'],\n ['刘', '晓', '竹'],\n ['刘', '宾', '雁'],\n ['魏', '京', '生'],\n ['寻', '找', '林', '昭', '的', '灵', '魂'],\n ['别', '梦', '成', '灰'],\n ['谁', '是', '新', '中', '国'],\n ['讨', '伐', '中', '宣', '部'],\n ['异', '议', '人', '士'],\n ['民', '运', '人', '士'],\n ['启', '蒙', '派'],\n ['选', '国', '家', '主', '席'],\n ['民', '一', '主'],\n ['m', 'i', 'n', '主'],\n ['民', '竹'],\n ['民', '珠'],\n ['民', '猪'],\n ['c',\n  'h',\n  'i',\n  'n',\n  'e',\n  's',\n  'e',\n  'd',\n  'e',\n  'm',\n  'o',\n  'c',\n  'r',\n  'a',\n  'c',\n  'y'],\n ['大', '赦', '国', '际'],\n ['国', '际', '特', '赦'],\n ['d', 'a', '选'],\n ['投', '公'],\n ['公', '头'],\n ['宪', '政'],\n ['平', '反'],\n ['党', '章'],\n ['维', '权'],\n ['昝', '爱', '宗'],\n ['宪', '章'],\n ['0', '8', '宪'],\n ['0', '8', 'x', 'z'],\n ['抿', '主'],\n ['敏', '主'],\n ['人', '拳'],\n ['人', '木', '又'],\n ['人', 'q', 'u', 'a', 'n'],\n ['r', 'e', 'n', 'q', 'u', 'a', 'n'],\n ['中', '国', '人', '权'],\n ['中', '国', '新', '民', '党'],\n ['群', '体', '事', '件'],\n ['群', '体', '性', '事', '件'],\n ['上', '中', '央'],\n ['去', '中', '央'],\n ['讨', '说', '法'],\n ['请', '愿'],\n ['请', '命'],\n ['公', '开', '信'],\n ['联', '名', '上', '书'],\n ['万', '人', '大', '签', '名'],\n ['万', '人', '骚', '动'],\n ['截', '访'],\n ['上', '访'],\n ['s', 'h', 'a', 'n', 'g', 'f', 'a', 'n', 'g'],\n ['信', '访'],\n ['访', '民'],\n ['集', '会'],\n ['组', '织', '集', '体'],\n ['静', '坐'],\n ['静', 'z', 'u', 'o'],\n ['j', 'i', 'n', 'g', '坐'],\n ['示', '威'],\n ['示', 'w', 'e', 'i'],\n ['游', '行'],\n ['y', 'o', 'u', '行'],\n ['油', '行'],\n ['游', 'x', 'i', 'n', 'g'],\n ['y', 'o', 'u', 'x', 'i', 'n', 'g'],\n ['官', '逼', '民', '反'],\n ['反', 'p', 'a', 'r', 't', 'y'],\n ['反', '共'],\n ['亢', '议'],\n ['低', '制'],\n ['抵', 'z', 'h', 'i'],\n ['b', 'o', 'y', 'c', 'o', 't', 't'],\n ['焚', '烧', '中', '国', '国', '旗'],\n ['b', 'a', 'o', 'l', 'u', 'a', 'n'],\n ['b', 'a', 'o', 'd', 'o', 'n', 'g'],\n ['灭', '共'],\n ['杀', '毙'],\n ['罢', '工'],\n ['霸', '工'],\n ['罢', '考'],\n ['罢', '餐'],\n ['霸', '餐'],\n ['罢', '参'],\n ['罢', '饭'],\n ['罢', '吃'],\n ['罢', '食'],\n ['罢', '课'],\n ['罢', 'k', 'e'],\n ['霸', '课'],\n ['b', 'a', '课'],\n ['罢', '教'],\n ['罢', '学'],\n ['罢', '运'],\n ['网', '特'],\n ['网', '评', '员'],\n ['网', '络', '评', '论', '员'],\n ['五', '毛', '党'],\n ['五', '毛', '们'],\n ['5', '毛', '党'],\n ['戒', '严'],\n ['j', 'i', 'e', 'y', 'a', 'n'],\n ['j', 'i', 'e', '严'],\n ['戒', 'y', 'a', 'n'],\n ['8', '的', '平', '方', '事', '件'],\n ['知', '道', '6', '4'],\n ['八', '九', '年'],\n ['贰', '拾', '年'],\n ['2', 'o', '年'],\n ['2', '0', '和', '谐', '年'],\n ['贰', '拾', '周', '年'],\n ['六', '四'],\n ['六', '河', '蟹', '四'],\n ['六', '百', '度', '四'],\n ['六', '和', '谐', '四'],\n ['陆', '四'],\n ['陆', '肆'],\n ['1', '9', '8', '9', '6', '4'],\n ['5', '月', '3', '5'],\n ['8', '9', '年', '春', '夏', '之', '交'],\n ['6', '4', '惨', '案'],\n ['6', '4', '时', '期'],\n ['6', '4', '运', '动'],\n ['4', '事', '件'],\n ['四', '事', '件'],\n ['北', '京', '风', '波'],\n ['学', '潮'],\n ['学', 'c', 'h', 'a', 'o'],\n ['x', 'u', 'e', 'c', 'h', 'a', 'o'],\n ['学', '百', '度', '潮'],\n ['门', '安', '天'],\n ['天', '按', '门'],\n ['坦', '克', '压', '大', '学', '生'],\n ['民', '主', '女', '神'],\n ['历', '史', '的', '伤', '口'],\n ['高', '自', '联'],\n ['北', '高', '联'],\n ['血', '洗', '京', '城'],\n ['四', '二', '六', '社', '论'],\n ['王', '丹'],\n ['柴', '玲'],\n ['沈', '彤'],\n ['封', '从', '德'],\n ['王', '超', '华'],\n ['王', '维', '林'],\n ['吾', '尔', '开', '希'],\n ['吾', '尔', '开', '西'],\n ['侯', '德', '健'],\n ['方', '励', '之'],\n ['丁', '子', '霖'],\n ['辛', '灏', '年'],\n ['严', '家', '其'],\n ['陈', '一', '咨'],\n ['中', '华', '局', '域', '网'],\n ['党', '的', '喉', '舌'],\n ['互', '联', '网', '审', '查'],\n ['当', '局', '严', '密', '封', '锁'],\n ['新', '闻', '封', '锁'],\n ['封', '锁', '消', '息'],\n ['爱', '国', '者', '同', '盟'],\n ['关', '闭', '所', '有', '论', '坛'],\n ['网', '络', '封', '锁'],\n ['金', '盾', '工', '程'],\n ['无', '界', '浏', '览'],\n ['无', '界', '网', '络'],\n ['自', '由', '门'],\n ['何', '清', '涟'],\n ['中', '国', '的', '陷', '阱'],\n ['汪', '兆', '钧'],\n ['记', '者', '无', '疆', '界'],\n ['境', '外', '媒', '体'],\n ['维', '基', '百', '科'],\n ['纽', '约', '时', '报'],\n ['b', 'b', 'c', '中', '文', '网'],\n ['华', '盛', '顿', '邮', '报'],\n ['世', '界', '日', '报'],\n ['东', '森', '新', '闻', '网'],\n ['东', '森', '电', '视'],\n ['星', '岛', '日', '报'],\n ['g', 'o', 'o', 'g', 'l', 'e', 'b', 'l', 'o', 'g', 'g', 'e', 'r'],\n ['美', '国', '广', '播', '公', '司'],\n ['英', '国', '金', '融', '时', '报'],\n ['自', '由', '亚', '洲'],\n ['自', '由', '时', '报'],\n ['中', '国', '时', '报'],\n ['反', '分', '裂'],\n ['威', '胁', '论'],\n ['左', '翼', '联', '盟'],\n ['钓', '鱼', '岛'],\n ['保', '钓', '组', '织'],\n ['主', '权'],\n ['弓', '单'],\n ['火', '乍'],\n ['木', '仓'],\n ['炸', 'y', 'a', 'o'],\n ['z', 'h', 'a', 'y', 'a', 'o'],\n ['h', 'm', 't', 'd'],\n ['三', '硝', '基', '甲', '苯'],\n ['六', '氟', '化', '铀'],\n ['炸', '药', '配', '方'],\n ['弹', '药', '配', '方'],\n ['炸', '弹', '配', '方'],\n ['皮', '箱', '炸', '弹'],\n ['火', '药', '配', '方'],\n ['人', '体', '炸', '弹'],\n ['人', '肉', '炸', '弹'],\n ['兵', '力', '部', '署'],\n ['军', '转'],\n ['军', '事', '社'],\n ['8', '3', '4', '1', '部', '队'],\n ['第', '2', '1', '集', '团', '军'],\n ['七', '大', '军', '区'],\n ['7', '大', '军', '区'],\n ['北', '京', '军', '区'],\n ['沈', '阳', '军', '区'],\n ['济', '南', '军', '区'],\n ['成', '都', '军', '区'],\n ['广', '州', '军', '区'],\n ['南', '京', '军', '区'],\n ['兰', '州', '军', '区'],\n ['颜', '色', '革', '命'],\n ['规', '模', '冲', '突'],\n ['塔', '利', '班'],\n ['基', '地', '组', '织'],\n ['恐', '怖', '分', '子'],\n ['恐', '怖', '份', '子'],\n ['三', '股', '势', '力'],\n ['印', '尼', '屠', '华'],\n ['印', '尼', '事', '件'],\n ['蒋', '公', '纪', '念', '歌'],\n ['马', '英', '九'],\n ['m', 'a', 'y', 'i', 'n', 'g', 'j', 'i', 'u'],\n ['李', '天', '羽'],\n ['苏', '贞', '昌'],\n ['林', '文', '漪'],\n ['陈', '水', '扁'],\n ['陈', 's', '扁'],\n ['陈', '随', '便'],\n ['阿', '扁'],\n ['a', '扁'],\n ['告', '全', '国', '同', '胞', '书'],\n ['台', '百', '度', '湾'],\n ['台', '完'],\n ['台', 'w', 'a', 'n'],\n ['t', 'a', 'i', 'w', 'a', 'n'],\n ['台', '弯'],\n ['湾', '台'],\n ['台', '湾', '国'],\n ['台', '湾', '共', '和', '国'],\n ['台', '军'],\n ['台', '独'],\n ['台', '毒'],\n ['台', 'd', 'u'],\n ['t', 'a', 'i', 'd', 'u'],\n ['t', 'w', 'd', 'l'],\n ['一', '中', '一', '台'],\n ['打', '台', '湾'],\n ['两', '岸', '战', '争'],\n ['攻', '占', '台', '湾'],\n ['支', '持', '台', '湾'],\n ['进', '攻', '台', '湾'],\n ['占', '领', '台', '湾'],\n ['统', '一', '台', '湾'],\n ['收', '复', '台', '湾'],\n ['登', '陆', '台', '湾'],\n ['解', '放', '台', '湾'],\n ['解', '放', 't', 'w'],\n ['解', '决', '台', '湾'],\n ['光', '复', '民', '国'],\n ['台', '湾', '独', '立'],\n ['台', '湾', '问', '题'],\n ['台', '海', '问', '题'],\n ['台', '海', '危', '机'],\n ['台', '海', '统', '一'],\n ['台', '海', '大', '战'],\n ['台', '海', '战', '争'],\n ['台', '海', '局', '势'],\n ['入', '联'],\n ['入', '耳', '关'],\n ['中', '华', '联', '邦'],\n ['国', '民', '党'],\n ['x', '民', '党'],\n ['民', '进', '党'],\n ['青', '天', '白', '日'],\n ['闹', '独', '立'],\n ['d', 'u', 'l', 'i'],\n ['f', 'e', 'n', 'l', 'i', 'e'],\n ['日', '本', '万', '岁'],\n ['小', '泽', '一', '郎'],\n ['劣', '等', '民', '族'],\n ['汉', '维'],\n ['维', '汉'],\n ['维', '吾'],\n ['吾', '尔'],\n ['热', '比', '娅'],\n ['伊', '力', '哈', '木'],\n ['疆', '独'],\n ['东', '突', '厥', '斯', '坦', '解', '放', '组', '织'],\n ['东', '突', '解', '放', '组', '织'],\n ['蒙', '古', '分', '裂', '分', '子'],\n ['列', '确'],\n ['阿', '旺', '晋', '美'],\n ['z', 'a', 'n', 'g', '人'],\n ['藏', '民'],\n ['藏', 'm'],\n ['达', '赖'],\n ['赖', '达'],\n ['d', 'a', 'l', 'a', 'i'],\n ['哒', '赖'],\n ['d', 'l', '喇', '嘛'],\n ['丹', '增', '嘉', '措'],\n ['打', '砸', '抢'],\n ['西', '独'],\n ['藏', '独'],\n ['葬', '独'],\n ['臧', '独'],\n ['藏', '毒'],\n ['藏', 'd', 'u'],\n ['z', 'a', 'n', 'g', 'd', 'u'],\n ['支', '持', 'z', 'd'],\n ['藏', '暴', '乱'],\n ['藏', '青', '会'],\n ['雪', '山', '狮', '子', '旗'],\n ['拉', '萨'],\n ['啦', '萨'],\n ['啦', '沙'],\n ['啦', '撒'],\n ['拉', 's', 'a'],\n ['l', 'a', 's', 'a'],\n ['l', 'a', '萨'],\n ['西', '藏'],\n ['藏', '西'],\n ['藏', '春', '阁'],\n ['藏', '獨'],\n ['藏', '独', '立'],\n ['藏', '妇', '会'],\n ['藏', '字', '石'],\n ['x', 'i', 'z', 'a', 'n', 'g'],\n ['x', 'i', '藏'],\n ['x', '藏'],\n ['西', 'z'],\n ['t', 'i', 'b', 'e', 't'],\n ['希', '葬'],\n ['希', '藏'],\n ['硒', '藏'],\n ['稀', '藏'],\n ['西', '脏'],\n ['西', '奘'],\n ['西', '葬'],\n ['西', '臧'],\n ['援', '藏'],\n ['b', 'j', 'o', 'r', 'k'],\n ['安', '拉'],\n ['回', '教'],\n ['回', '回'],\n ['穆', '斯', '林'],\n ['穆', '罕', '默', '德'],\n ['默', '罕', '默', '德'],\n ['伊', '斯', '兰'],\n ['圣', '战', '组', '织'],\n ['清', '真'],\n ['清', 'z', 'h', 'e', 'n'],\n ['q', 'i', 'n', 'g', 'z', 'h', 'e', 'n'],\n ['真', '主'],\n ['阿', '拉', '伯'],\n ['高', '丽', '棒', '子'],\n ['韩', '国', '狗'],\n ['满', '洲', '第', '三', '帝', '国'],\n ['满', '狗'],\n ['鞑', '子'],\n ['江', '丑', '闻'],\n ['江', '嫡', '系'],\n ['江', '毒'],\n ['江', '独', '裁'],\n ['江', '蛤', '蟆'],\n ['江', '核', '心'],\n ['江', '黑', '心'],\n ['江', '胡', '内', '斗'],\n ['江', '祸', '心'],\n ['江', '家', '帮'],\n ['江', '绵', '恒']]"
     },
     "execution_count": 36,
     "metadata": {},
     "output_type": "execute_result"
    }
   ],
   "source": [
    "docs_dict[:1000]"
   ],
   "metadata": {
    "collapsed": false,
    "ExecuteTime": {
     "end_time": "2024-03-10T15:58:55.990435300Z",
     "start_time": "2024-03-10T15:58:55.924435200Z"
    }
   },
   "id": "749def5691f9ea1"
  },
  {
   "cell_type": "code",
   "execution_count": null,
   "outputs": [],
   "source": [
    "bm25_dic_model= bm25.BM25(docs_dict)\n",
    "from tqdm import tqdm\n",
    "import numpy as np\n",
    "content_dic = []\n",
    "# \n",
    "for j,doc in tqdm(enumerate(docs_dict)):\n",
    "    raw_rank_index = np.array(bm25_dic_model.get_scores(doc)).argsort().tolist()[::-1][1:3]  # bm25的结果  # lc的结果\n",
    "    result = [data_dic_content[i] for i in raw_rank_index][1:3]\n",
    "    for idx,cont in zip(raw_rank_index,result):\n",
    "        if len_sep(data_dic_content[j], data_dic_content[idx]) and labels_dict[j]!=labels_dict[idx]:\n",
    "\n",
    "            content_dic.append((data_dic_content[j], data_dic_content[idx], labels_dict[j], labels_dict[idx]))\n",
    "\n",
    "            if len(content_dic)%1000==0:\n",
    "                print(len(content_dic))"
   ],
   "metadata": {
    "collapsed": false
   },
   "id": "3af85c3f8db24525"
  },
  {
   "cell_type": "code",
   "execution_count": 43,
   "outputs": [
    {
     "data": {
      "text/plain": "772"
     },
     "execution_count": 43,
     "metadata": {},
     "output_type": "execute_result"
    }
   ],
   "source": [
    "len(content_dic)"
   ],
   "metadata": {
    "collapsed": false,
    "ExecuteTime": {
     "end_time": "2024-03-10T16:01:38.129663100Z",
     "start_time": "2024-03-10T16:01:38.091616500Z"
    }
   },
   "id": "4fca59936d376b3a"
  },
  {
   "cell_type": "code",
   "execution_count": null,
   "outputs": [],
   "source": [
    "from tqdm import tqdm\n",
    "from  random import choice\n",
    "ls=[0,0,0,0,0,1]\n",
    "sentence_dic_pair_easy = []\n",
    "for i, (txt, lb) in tqdm(enumerate(zip(data_dic_content, labels_dict))):\n",
    "    lb_bag = []\n",
    "    for j in range(i + 1, len(labels_dict)):\n",
    "        if labels_dict[j] != lb  and (labels_dict[j] not in lb_bag) and len_sep(txt,data_dic_content[j]) and choice(ls):\n",
    "            sentence_dic_pair_easy.append((txt, data_dic_content[j], lb, labels_dict[j]))\n",
    "            lb_bag.append(labels_dict[j])\n",
    "            if len(sentence_dic_pair_easy)%10000==0:\n",
    "                print(len(sentence_dic_pair_easy))\n",
    "        elif len(lb_bag) == 1:\n",
    "            break"
   ],
   "metadata": {
    "collapsed": false
   },
   "id": "2bba0f1ee2846a86"
  },
  {
   "cell_type": "code",
   "execution_count": null,
   "outputs": [],
   "source": [
    "len(sentence_dic_pair_easy),sentence_dic_pair_easy[1030]"
   ],
   "metadata": {
    "collapsed": false
   },
   "id": "383c105f375679f0"
  },
  {
   "cell_type": "code",
   "execution_count": null,
   "outputs": [],
   "source": [
    "sentence_pair_neg = final_semantic_sentence_pair + content + sentence_pair_easy+content_dic+sentence_dic_pair_easy\n",
    "\n",
    "from random import shuffle\n",
    "\n",
    "shuffle(sentence_pair_neg)\n",
    "len(sentence_pair_neg)\n",
    "# exit()\n",
    "with open(r\"D:\\work\\qiji_compet\\code\\data\\match_data\\0313\\data_neg.txt\", \"w\", encoding=\"utf8\") as f:\n",
    "    for unit in tqdm(sentence_pair_neg):\n",
    "        f.write(str(unit[0]) + \"\\t\" + unit[1] + \"\\n\")"
   ],
   "metadata": {
    "collapsed": false
   },
   "id": "1d078a90b73d370f"
  },
  {
   "cell_type": "code",
   "execution_count": null,
   "outputs": [],
   "source": [
    "content_dic[0],sentence_pair_easy[1],content[2],final_semantic_sentence_pair[1],len(sentence_pair_neg)"
   ],
   "metadata": {
    "collapsed": false
   },
   "id": "af1e64464f13daaa"
  },
  {
   "cell_type": "markdown",
   "source": [
    "# 正样本构建"
   ],
   "metadata": {
    "collapsed": false
   },
   "id": "9dbc3c81f47c2c10"
  },
  {
   "cell_type": "code",
   "execution_count": 1,
   "outputs": [
    {
     "ename": "NameError",
     "evalue": "name 'data' is not defined",
     "output_type": "error",
     "traceback": [
      "\u001B[1;31m---------------------------------------------------------------------------\u001B[0m",
      "\u001B[1;31mNameError\u001B[0m                                 Traceback (most recent call last)",
      "Cell \u001B[1;32mIn[1], line 1\u001B[0m\n\u001B[1;32m----> 1\u001B[0m \u001B[43mdata\u001B[49m\u001B[38;5;241m.\u001B[39mhead()\n",
      "\u001B[1;31mNameError\u001B[0m: name 'data' is not defined"
     ]
    }
   ],
   "source": [
    "data.head()"
   ],
   "metadata": {
    "collapsed": false,
    "ExecuteTime": {
     "end_time": "2024-03-10T12:43:20.669028600Z",
     "start_time": "2024-03-10T12:43:20.393030600Z"
    }
   },
   "id": "701420d604bc1274"
  },
  {
   "cell_type": "code",
   "execution_count": null,
   "outputs": [],
   "source": [
    "data_pos = data[data.labels != \"NORMAL\"]\n",
    "data_content_pos = data_pos[\"content\"].tolist()\n",
    "labels_pos = data_pos[\"labels\"].tolist()"
   ],
   "metadata": {
    "collapsed": false
   },
   "id": "e6a3598b51853d39"
  },
  {
   "cell_type": "code",
   "execution_count": null,
   "outputs": [],
   "source": [
    "data_pos.shape"
   ],
   "metadata": {
    "collapsed": false
   },
   "id": "24e645b860bc5400"
  },
  {
   "cell_type": "code",
   "execution_count": null,
   "outputs": [],
   "source": [
    "label_dic = data_pos.labels.value_counts().to_dict()"
   ],
   "metadata": {
    "collapsed": false
   },
   "id": "b6c76cb3df95cf69"
  },
  {
   "cell_type": "code",
   "execution_count": null,
   "outputs": [],
   "source": [
    "len(labels_dict)"
   ],
   "metadata": {
    "collapsed": false,
    "ExecuteTime": {
     "start_time": "2024-03-12T17:26:28.133036Z"
    }
   },
   "id": "66222579539f419a"
  },
  {
   "cell_type": "code",
   "execution_count": null,
   "outputs": [],
   "source": [
    "from tqdm import tqdm\n",
    "from  random import choice\n",
    "ls=[0,0,0,0,0,0,0,0,0,0,0,0,0,0,0,0,0,0,1]\n",
    "sentence_dic_pair_pos = []\n",
    "for i, (txt, lb) in tqdm(enumerate(zip(data_dic_content, labels_dict))):\n",
    "    lb_bag = []\n",
    "    for j in range(i + 1, len(labels_dict)):\n",
    "        if labels_dict[j] == lb  and len_sep(txt,data_dic_content[j]) and choice(ls):\n",
    "            # print(i,j,len(lb_bag))\n",
    "            sentence_dic_pair_pos.append((txt, data_dic_content[j], lb, labels_dict[j]))\n",
    "            lb_bag.append(labels_dict[j])\n",
    "            if len(sentence_dic_pair_pos)%10000==0:\n",
    "                print(len(sentence_dic_pair_pos))\n",
    "        elif len(lb_bag) == 1:\n",
    "            break"
   ],
   "metadata": {
    "collapsed": false
   },
   "id": "bda38cb6e6328025"
  },
  {
   "cell_type": "code",
   "execution_count": null,
   "outputs": [],
   "source": [
    "len(sentence_dic_pair_pos)"
   ],
   "metadata": {
    "collapsed": false,
    "ExecuteTime": {
     "start_time": "2024-03-12T17:26:28.140050Z"
    }
   },
   "id": "dc4f14278ad70bbd"
  },
  {
   "cell_type": "code",
   "execution_count": null,
   "outputs": [],
   "source": [
    "sentence_pair_pos = []\n",
    "import random\n",
    "\n",
    "x = [0, 1]\n",
    "# print(random.choices(x, weights = [10, 1, 1], k = 3))\n",
    "for i, (txt, lb) in tqdm(enumerate(zip(data_content_pos, labels_pos))):\n",
    "    lb_bag = []\n",
    "    for j in range(i + 1, len(labels_pos)):\n",
    "        if labels_pos[j] == lb and random.choices(x, weights=[label_dic[lb] - 50, 50], k=2)[0]:\n",
    "            sentence_pair_pos.append((txt, data_content_pos[j], lb, labels_pos[j]))\n",
    "            lb_bag.append(labels_pos[j])\n",
    "        elif len(lb_bag) == 6:\n",
    "            break"
   ],
   "metadata": {
    "collapsed": false
   },
   "id": "2db42154b7a56908"
  },
  {
   "cell_type": "code",
   "execution_count": null,
   "outputs": [],
   "source": [
    "len(sentence_pair_pos)"
   ],
   "metadata": {
    "collapsed": false
   },
   "id": "12004542694d465b"
  },
  {
   "cell_type": "markdown",
   "source": [
    "# 外部语料正样本"
   ],
   "metadata": {
    "collapsed": false
   },
   "id": "7b661f3eaea0dd0f"
  },
  {
   "cell_type": "code",
   "execution_count": null,
   "outputs": [],
   "source": [
    "import json\n",
    "\n",
    "d1 = json.load(open(r\"D:\\code\\qiji_compet\\code\\ir\\pos_gen\\cmnli.json\", encoding=\"utf8\"))\n",
    "d2 = json.load(open(r\"D:\\code\\qiji_compet\\code\\ir\\pos_gen\\cstsb.json\", encoding=\"utf8\"))\n",
    "d3 = json.load(open(r\"D:\\code\\qiji_compet\\code\\ir\\pos_gen\\gaiic2021.json\", encoding=\"utf8\"))\n",
    "d4 = json.load(open(r\"D:\\code\\qiji_compet\\code\\ir\\pos_gen\\lcqmc.json\", encoding=\"utf8\"))\n",
    "d5 = json.load(open(r\"D:\\code\\qiji_compet\\code\\ir\\pos_gen\\ocnli.json\", encoding=\"utf8\"))\n"
   ],
   "metadata": {
    "collapsed": false
   },
   "id": "a43d3e99cdc35ae9"
  },
  {
   "cell_type": "code",
   "execution_count": null,
   "outputs": [],
   "source": [
    "d = pd.concat([pd.DataFrame(d1[\"data\"]),\n",
    "               pd.DataFrame(d2[\"data\"]),\n",
    "               pd.DataFrame(d3[\"data\"]),\n",
    "               pd.DataFrame(d4[\"data\"]),\n",
    "               pd.DataFrame(d5[\"data\"])])\n",
    "d_pos = d[d.label == 1].sample(frac=1.0)"
   ],
   "metadata": {
    "collapsed": false
   },
   "id": "11c0617f65378fdc"
  },
  {
   "cell_type": "code",
   "execution_count": 170,
   "outputs": [
    {
     "data": {
      "text/plain": "                                                     sen1  \\\n275117  是的，我知道，这是另一件事，苏联的新闻媒体，我也不会相信他们，你知道，我不会相信他们把关于美...   \n114979                              我们大多数人-上帝保佑美国-对此毫不关心。   \n13262                          下决心砸了不合格产品,只能说明企业杜绝劣质产品的勇气   \n62129                                          我不知道你会开火车。   \n315012                             关于洗衣房的礼节，有一件事我从来没有弄清楚。   \n...                                                   ...   \n85050                  我当然不会投票给安·理查兹当州长，我也不能说我现在会投票给一位女总统   \n127182  不要错过楼上的小教堂，欣赏贝诺佐·戈佐利(Benozzo Gozzoli)15世纪的麦琪到伯...   \n395342                                      韦克尔还没有宣布他的意图。   \n108077                     但布朗克斯法律服务部的汤普森并没有从这些让步中得到什么安慰。   \n272527      “…就是这样。”德鲁坐在凳子上，这是浴室隔间里唯一的其他家具，而安斯则在浴盆里溅水和打滚。   \n\n                                 sen2 label  \n275117             苏联的媒体会操纵一个关于美国的报道。     1  \n114979                    我们大多数人都不在乎。     1  \n13262                          企业很有勇气     1  \n62129                    我不知道你能指挥火车头。     1  \n315012              洗衣房的礼仪还有一些不知道的地方。     1  \n...                               ...   ...  \n85050    我不会投票给安·理查兹当州长，我也不会投票给一位女总统。     1  \n127182  在楼上的小礼拜堂里可以看到一幅描绘法师到伯利恒之旅的壁画。     1  \n395342                   威克尔的意图还没有宣布。     1  \n108077                    汤普森不喜欢这些让步。     1  \n272527                德鲁坐在凳子上，安斯在浴缸里。     1  \n\n[153016 rows x 3 columns]",
      "text/html": "<div>\n<style scoped>\n    .dataframe tbody tr th:only-of-type {\n        vertical-align: middle;\n    }\n\n    .dataframe tbody tr th {\n        vertical-align: top;\n    }\n\n    .dataframe thead th {\n        text-align: right;\n    }\n</style>\n<table border=\"1\" class=\"dataframe\">\n  <thead>\n    <tr style=\"text-align: right;\">\n      <th></th>\n      <th>sen1</th>\n      <th>sen2</th>\n      <th>label</th>\n    </tr>\n  </thead>\n  <tbody>\n    <tr>\n      <th>275117</th>\n      <td>是的，我知道，这是另一件事，苏联的新闻媒体，我也不会相信他们，你知道，我不会相信他们把关于美...</td>\n      <td>苏联的媒体会操纵一个关于美国的报道。</td>\n      <td>1</td>\n    </tr>\n    <tr>\n      <th>114979</th>\n      <td>我们大多数人-上帝保佑美国-对此毫不关心。</td>\n      <td>我们大多数人都不在乎。</td>\n      <td>1</td>\n    </tr>\n    <tr>\n      <th>13262</th>\n      <td>下决心砸了不合格产品,只能说明企业杜绝劣质产品的勇气</td>\n      <td>企业很有勇气</td>\n      <td>1</td>\n    </tr>\n    <tr>\n      <th>62129</th>\n      <td>我不知道你会开火车。</td>\n      <td>我不知道你能指挥火车头。</td>\n      <td>1</td>\n    </tr>\n    <tr>\n      <th>315012</th>\n      <td>关于洗衣房的礼节，有一件事我从来没有弄清楚。</td>\n      <td>洗衣房的礼仪还有一些不知道的地方。</td>\n      <td>1</td>\n    </tr>\n    <tr>\n      <th>...</th>\n      <td>...</td>\n      <td>...</td>\n      <td>...</td>\n    </tr>\n    <tr>\n      <th>85050</th>\n      <td>我当然不会投票给安·理查兹当州长，我也不能说我现在会投票给一位女总统</td>\n      <td>我不会投票给安·理查兹当州长，我也不会投票给一位女总统。</td>\n      <td>1</td>\n    </tr>\n    <tr>\n      <th>127182</th>\n      <td>不要错过楼上的小教堂，欣赏贝诺佐·戈佐利(Benozzo Gozzoli)15世纪的麦琪到伯...</td>\n      <td>在楼上的小礼拜堂里可以看到一幅描绘法师到伯利恒之旅的壁画。</td>\n      <td>1</td>\n    </tr>\n    <tr>\n      <th>395342</th>\n      <td>韦克尔还没有宣布他的意图。</td>\n      <td>威克尔的意图还没有宣布。</td>\n      <td>1</td>\n    </tr>\n    <tr>\n      <th>108077</th>\n      <td>但布朗克斯法律服务部的汤普森并没有从这些让步中得到什么安慰。</td>\n      <td>汤普森不喜欢这些让步。</td>\n      <td>1</td>\n    </tr>\n    <tr>\n      <th>272527</th>\n      <td>“…就是这样。”德鲁坐在凳子上，这是浴室隔间里唯一的其他家具，而安斯则在浴盆里溅水和打滚。</td>\n      <td>德鲁坐在凳子上，安斯在浴缸里。</td>\n      <td>1</td>\n    </tr>\n  </tbody>\n</table>\n<p>153016 rows × 3 columns</p>\n</div>"
     },
     "execution_count": 170,
     "metadata": {},
     "output_type": "execute_result"
    }
   ],
   "source": [
    "d"
   ],
   "metadata": {
    "collapsed": false,
    "ExecuteTime": {
     "end_time": "2024-03-10T07:44:28.348503200Z",
     "start_time": "2024-03-10T07:44:28.293507400Z"
    }
   },
   "id": "480d515a079f8671"
  },
  {
   "cell_type": "code",
   "execution_count": null,
   "outputs": [],
   "source": [
    "sentence_pair_pos = [list(k[:2]) for k in sentence_pair_pos]"
   ],
   "metadata": {
    "collapsed": false
   },
   "id": "7738c6b20ffe1ac5"
  },
  {
   "cell_type": "code",
   "execution_count": null,
   "outputs": [],
   "source": [
    "sentence_pair_dic_pos = [list(k[:2]) for k in sentence_dic_pair_pos]"
   ],
   "metadata": {
    "collapsed": false
   },
   "id": "e14be4f982857723"
  },
  {
   "cell_type": "code",
   "execution_count": null,
   "outputs": [],
   "source": [
    "len(sentence_pair_pos),len(sentence_pair_dic_pos)"
   ],
   "metadata": {
    "collapsed": false,
    "ExecuteTime": {
     "start_time": "2024-03-12T17:26:28.162296Z"
    }
   },
   "id": "b5d4e73c899daae4"
  },
  {
   "cell_type": "code",
   "execution_count": null,
   "outputs": [],
   "source": [
    "sentence_pair_pos_final = sentence_pair_pos + sentence_pair_dic_pos +d_pos[[\"sen1\", \"sen2\"]].values.tolist()[:100000]\n",
    "shuffle(sentence_pair_pos_final)"
   ],
   "metadata": {
    "collapsed": false
   },
   "id": "fbd128b29fa4f911"
  },
  {
   "cell_type": "code",
   "execution_count": null,
   "outputs": [],
   "source": [
    "with open(r\"D:\\code\\qiji_compet\\code\\data\\match_data\\0313\\data_pos.txt\", \"w\", encoding=\"utf8\") as f:\n",
    "    for unit in sentence_pair_pos_final:\n",
    "        f.write(unit[0] + \"\\t\" + unit[1]+\"\\n\")"
   ],
   "metadata": {
    "collapsed": false,
    "ExecuteTime": {
     "start_time": "2024-03-12T17:26:28.167409Z"
    }
   },
   "id": "43eb0d0d57d04044"
  },
  {
   "cell_type": "code",
   "execution_count": 180,
   "outputs": [
    {
     "data": {
      "text/plain": "                                                     sen1  \\\n34178                                         每小时花费在Y中的值。   \n251695                                     我很想那样做，但他们那边有蛇   \n167904                                    我不知道，卡丹，但你现在这里。   \n377031           当阿道夫·蒂耶斯领导下的新第三共和国政府就投降条件进行谈判时，工人公社拒绝让步。   \n86185                               侍者们小心翼翼地端着一瓶古老而高贵的佳酿。   \n...                                                   ...   \n163579  美国人贾斯汀·伦纳德在第17洞的45英尺长的小鸟推杆在他的欧洲对手结束比赛之前在球场上引发了...   \n281749  该文件已于1998年12月提交委员会，并于1999年6月修订，纳入了1997年进行的“家庭日...   \n188551                                      -为农村小型航母提供豁免，   \n240826  考虑到类似的销量，维京向书店运送了27，000份“奥德赛”和1万份演员伊恩·麦凯伦(IanM...   \n61832   所以，是的，对，嗯，我印象深刻的事实是，嗯，它不是那么幼稚，你知道，我的意思是，这不是我女儿...   \n\n                                                     sen2 label  \n34178                             每小时花费的时间值与前一晚的休息时间直接相关。     0  \n251695                                               我怕蛇。     0  \n167904                                           卡丹到了村子里。     0  \n377031  阿道夫·蒂尔(AdolpheThiers)的政府试图继续保持这种局面，希望工人的公社能够保持稳定。     0  \n86185                                    侍者们用漂亮的橙色手套拿着瓶子。     0  \n...                                                   ...   ...  \n163579                       贾斯汀·伦纳德的对手由于果岭上的人群而无法完成他的比赛。     0  \n281749                                         这篇论文从未修改过。     0  \n188551                                         承运人没有免责条款，     0  \n240826          维京人确信“奥德赛”会失败，所以他们只印了5，000份，这样他们就可以摸清市场了。     0  \n61832                              这件事太幼稚了，连我5岁的孩子都觉得它很蠢。     0  \n\n[13016 rows x 3 columns]",
      "text/html": "<div>\n<style scoped>\n    .dataframe tbody tr th:only-of-type {\n        vertical-align: middle;\n    }\n\n    .dataframe tbody tr th {\n        vertical-align: top;\n    }\n\n    .dataframe thead th {\n        text-align: right;\n    }\n</style>\n<table border=\"1\" class=\"dataframe\">\n  <thead>\n    <tr style=\"text-align: right;\">\n      <th></th>\n      <th>sen1</th>\n      <th>sen2</th>\n      <th>label</th>\n    </tr>\n  </thead>\n  <tbody>\n    <tr>\n      <th>34178</th>\n      <td>每小时花费在Y中的值。</td>\n      <td>每小时花费的时间值与前一晚的休息时间直接相关。</td>\n      <td>0</td>\n    </tr>\n    <tr>\n      <th>251695</th>\n      <td>我很想那样做，但他们那边有蛇</td>\n      <td>我怕蛇。</td>\n      <td>0</td>\n    </tr>\n    <tr>\n      <th>167904</th>\n      <td>我不知道，卡丹，但你现在这里。</td>\n      <td>卡丹到了村子里。</td>\n      <td>0</td>\n    </tr>\n    <tr>\n      <th>377031</th>\n      <td>当阿道夫·蒂耶斯领导下的新第三共和国政府就投降条件进行谈判时，工人公社拒绝让步。</td>\n      <td>阿道夫·蒂尔(AdolpheThiers)的政府试图继续保持这种局面，希望工人的公社能够保持稳定。</td>\n      <td>0</td>\n    </tr>\n    <tr>\n      <th>86185</th>\n      <td>侍者们小心翼翼地端着一瓶古老而高贵的佳酿。</td>\n      <td>侍者们用漂亮的橙色手套拿着瓶子。</td>\n      <td>0</td>\n    </tr>\n    <tr>\n      <th>...</th>\n      <td>...</td>\n      <td>...</td>\n      <td>...</td>\n    </tr>\n    <tr>\n      <th>163579</th>\n      <td>美国人贾斯汀·伦纳德在第17洞的45英尺长的小鸟推杆在他的欧洲对手结束比赛之前在球场上引发了...</td>\n      <td>贾斯汀·伦纳德的对手由于果岭上的人群而无法完成他的比赛。</td>\n      <td>0</td>\n    </tr>\n    <tr>\n      <th>281749</th>\n      <td>该文件已于1998年12月提交委员会，并于1999年6月修订，纳入了1997年进行的“家庭日...</td>\n      <td>这篇论文从未修改过。</td>\n      <td>0</td>\n    </tr>\n    <tr>\n      <th>188551</th>\n      <td>-为农村小型航母提供豁免，</td>\n      <td>承运人没有免责条款，</td>\n      <td>0</td>\n    </tr>\n    <tr>\n      <th>240826</th>\n      <td>考虑到类似的销量，维京向书店运送了27，000份“奥德赛”和1万份演员伊恩·麦凯伦(IanM...</td>\n      <td>维京人确信“奥德赛”会失败，所以他们只印了5，000份，这样他们就可以摸清市场了。</td>\n      <td>0</td>\n    </tr>\n    <tr>\n      <th>61832</th>\n      <td>所以，是的，对，嗯，我印象深刻的事实是，嗯，它不是那么幼稚，你知道，我的意思是，这不是我女儿...</td>\n      <td>这件事太幼稚了，连我5岁的孩子都觉得它很蠢。</td>\n      <td>0</td>\n    </tr>\n  </tbody>\n</table>\n<p>13016 rows × 3 columns</p>\n</div>"
     },
     "execution_count": 180,
     "metadata": {},
     "output_type": "execute_result"
    }
   ],
   "source": [],
   "metadata": {
    "collapsed": false,
    "ExecuteTime": {
     "end_time": "2024-03-10T07:51:54.027447800Z",
     "start_time": "2024-03-10T07:51:53.957449300Z"
    }
   },
   "id": "3ea4cf1be9163bf1"
  },
  {
   "cell_type": "code",
   "execution_count": null,
   "outputs": [],
   "source": [
    "with open(r\"D:\\code\\qiji_compet\\code\\data\\dataset\\binary_cls_data\\test_binary2.txt\", \"w\", encoding=\"utf8\") as f:\n",
    "    for unit in  d_pos[[\"sen1\", \"sen2\",\"label\"]].values.tolist()[100000:]:\n",
    "        f.write(unit[0] + \"\\t\" + unit[1]+\"\\n\")"
   ],
   "metadata": {
    "collapsed": false
   },
   "id": "e44e8e84b181c4f4"
  },
  {
   "cell_type": "code",
   "execution_count": null,
   "outputs": [],
   "source": [
    "import matplotlib.pyplot as plt\n",
    "plt.plot(pd.DataFrame(sentence_pair_pos_final)[0].apply(lambda x:len(x)).value_counts().sort_index())"
   ],
   "metadata": {
    "collapsed": false
   },
   "id": "ac85a6d901b795ad"
  },
  {
   "cell_type": "code",
   "execution_count": 72,
   "outputs": [
    {
     "data": {
      "text/plain": "0\n1       37\n2     2108\n3     2204\n4     2946\n5     2050\n6     2291\n7     3157\n8     3971\n9     3581\n10    3311\n11    3349\n12    3346\n13    3443\n14    3456\n15    3478\n16    3527\n17    3525\n18    3538\n19    3387\n20    3310\nName: count, dtype: int64"
     },
     "execution_count": 72,
     "metadata": {},
     "output_type": "execute_result"
    }
   ],
   "source": [
    "pd.DataFrame(sentence_pair_pos_final)[0].apply(lambda x:len(x)).value_counts().sort_index()[:20]"
   ],
   "metadata": {
    "collapsed": false,
    "ExecuteTime": {
     "end_time": "2024-03-10T16:07:07.786252700Z",
     "start_time": "2024-03-10T16:07:07.562254600Z"
    }
   },
   "id": "1978e440dad6730a"
  },
  {
   "cell_type": "code",
   "execution_count": null,
   "outputs": [],
   "source": [],
   "metadata": {
    "collapsed": false
   },
   "id": "ecdb37a9ba1bb537"
  }
 ],
 "metadata": {
  "kernelspec": {
   "display_name": "Python 3",
   "language": "python",
   "name": "python3"
  },
  "language_info": {
   "codemirror_mode": {
    "name": "ipython",
    "version": 2
   },
   "file_extension": ".py",
   "mimetype": "text/x-python",
   "name": "python",
   "nbconvert_exporter": "python",
   "pygments_lexer": "ipython2",
   "version": "2.7.6"
  }
 },
 "nbformat": 4,
 "nbformat_minor": 5
}
