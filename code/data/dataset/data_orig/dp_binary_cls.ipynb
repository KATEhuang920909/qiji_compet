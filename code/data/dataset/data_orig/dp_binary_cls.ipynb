{
 "cells": [
  {
   "cell_type": "markdown",
   "id": "cd2a2138-1226-4099-87d8-45889c9bf4df",
   "metadata": {},
   "source": [
    "## 辱骂"
   ]
  },
  {
   "cell_type": "code",
   "execution_count": 97,
   "id": "6617ec58-be17-4d70-8c10-126dba29f804",
   "metadata": {},
   "outputs": [],
   "source": [
    "train=open(\"train.txt\",encoding=\"utf8\").readlines()\n",
    "dev=open(\"dev.txt\",encoding=\"utf8\").readlines()\n",
    "test=open(\"test.txt\",encoding=\"utf8\").readlines()"
   ]
  },
  {
   "cell_type": "code",
   "execution_count": 98,
   "id": "d7d6c06c-9f06-4fa7-b338-ffaf5ea823d5",
   "metadata": {},
   "outputs": [],
   "source": [
    "train=[k.strip().split(\"\\t\") for k in train]\n",
    "dev=[k.strip().split(\"\\t\") for k in dev]\n",
    "test=[k.strip().split(\"\\t\") for k in test]"
   ]
  },
  {
   "cell_type": "code",
   "execution_count": 99,
   "id": "69231c6b-b256-49e6-8aaa-aacc95ed1aa7",
   "metadata": {},
   "outputs": [],
   "source": [
    "import pandas as pd\n",
    "data=pd.concat([pd.DataFrame(train),pd.DataFrame(dev),pd.DataFrame(test)])\n",
    "data=data[data[2].apply(lambda x:True if pd.isna(x) else False)][[0,1]]\n",
    "data[1]=data[1].apply(lambda x:x.replace(\" \",\"\" ))"
   ]
  },
  {
   "cell_type": "code",
   "execution_count": 109,
   "id": "252d9a8b-5157-47ac-8a3d-732a5fd2499e",
   "metadata": {},
   "outputs": [
    {
     "name": "stderr",
     "output_type": "stream",
     "text": [
      "C:\\Users\\huangkai\\AppData\\Local\\Temp\\ipykernel_10184\\4127443145.py:3: SettingWithCopyWarning: \n",
      "A value is trying to be set on a copy of a slice from a DataFrame.\n",
      "Try using .loc[row_indexer,col_indexer] = value instead\n",
      "\n",
      "See the caveats in the documentation: https://pandas.pydata.org/pandas-docs/stable/user_guide/indexing.html#returning-a-view-versus-a-copy\n",
      "  data_fuck[\"label\"]=\"FUCK\"\n"
     ]
    }
   ],
   "source": [
    "# data#.sample\n",
    "data_fuck=data[data[0]==\"__label__1\"]\n",
    "data_fuck[\"label\"]=\"FUCK\"\n",
    "data_fuck[[1,\"label\"]].to_excel(\"脏话.xlsx\")"
   ]
  },
  {
   "cell_type": "code",
   "execution_count": 34,
   "id": "e139fe90-06f8-4d5f-87a5-305da08ee9e2",
   "metadata": {},
   "outputs": [],
   "source": [
    "data[data[0]==\"__label__1\"].to_excel(\"脏话待审核.xlsx\")"
   ]
  },
  {
   "cell_type": "code",
   "execution_count": 31,
   "id": "78b3cb53-b1f0-4740-99b0-84ce225f9666",
   "metadata": {},
   "outputs": [
    {
     "data": {
      "text/plain": [
       "'早安，又见周五，愉快的一天到来了。'"
      ]
     },
     "execution_count": 31,
     "metadata": {},
     "output_type": "execute_result"
    }
   ],
   "source": [
    "string=\"早安 ， 又 见 周五 ， 愉快 的 一天 到来 了 。\"\n",
    "string.replace(\" \",\"\" )"
   ]
  },
  {
   "cell_type": "markdown",
   "id": "74fff636-eea5-438c-b1c1-a92a8ef72c1f",
   "metadata": {},
   "source": [
    "## 广告"
   ]
  },
  {
   "cell_type": "code",
   "execution_count": 12,
   "outputs": [],
   "source": [
    "import pandas as pd"
   ],
   "metadata": {
    "collapsed": false,
    "ExecuteTime": {
     "end_time": "2024-03-09T15:57:41.776879400Z",
     "start_time": "2024-03-09T15:57:41.284891300Z"
    }
   },
   "id": "5af36481bfef688"
  },
  {
   "cell_type": "code",
   "execution_count": 80,
   "id": "c6f184ab-69a7-42ac-bbf6-0c27db72654f",
   "metadata": {
    "ExecuteTime": {
     "end_time": "2024-03-09T17:37:04.727155700Z",
     "start_time": "2024-03-09T17:37:04.700194200Z"
    }
   },
   "outputs": [],
   "source": [
    "AD_Loan=open(\"AD_Loan\",encoding=\"utf-8\").readlines()\n",
    "AD_Network_service=open(\"AD_Network_service\",encoding=\"utf-8\").readlines()\n",
    "AD_Other=open(\"AD_Other\",encoding=\"utf-8\").readlines()\n",
    "AD_Real_estate=open(\"AD_Real_estate\",encoding=\"utf-8\").readlines()\n",
    "AD_Retail=open(\"AD_Retail\",encoding=\"utf-8\").readlines()"
   ]
  },
  {
   "cell_type": "code",
   "execution_count": 81,
   "id": "ee34e050-0122-4e5c-bb3f-095a8918ed92",
   "metadata": {
    "ExecuteTime": {
     "end_time": "2024-03-09T17:37:05.508947600Z",
     "start_time": "2024-03-09T17:37:05.465929500Z"
    }
   },
   "outputs": [],
   "source": [
    "AD_Loan=pd.DataFrame([k.strip().replace(\" \",\"\") for k in AD_Loan],columns=[\"content\"])\n",
    "\n",
    "AD_Network_service=pd.DataFrame([k.strip().replace(\" \",\"\") for k in AD_Network_service],columns=[\"content\"])\n",
    "AD_Other=pd.DataFrame([k.strip().replace(\" \",\"\") for k in AD_Other],columns=[\"content\"])\n",
    "AD_Real_estate=pd.DataFrame([k.strip().replace(\" \",\"\") for k in AD_Real_estate],columns=[\"content\"])\n",
    "AD_Retail=pd.DataFrame([k.strip().replace(\" \",\"\") for k in AD_Retail],columns=[\"content\"])\n",
    "\n",
    "AD_Loan[\"labels\"],AD_Network_service[\"labels\"],AD_Other[\"labels\"],AD_Real_estate[\"labels\"],AD_Retail[\"labels\"]=\"AD_Loan\",\"AD_Network_service\",\"AD_Other\",\"AD_Real_estate\",\"AD_Retail\""
   ]
  },
  {
   "cell_type": "code",
   "execution_count": 82,
   "id": "095c3955-84df-45ad-94c4-dfdd25d01864",
   "metadata": {
    "ExecuteTime": {
     "end_time": "2024-03-09T17:37:06.702795300Z",
     "start_time": "2024-03-09T17:37:06.651684500Z"
    }
   },
   "outputs": [],
   "source": [
    "data_ad=pd.concat([AD_Loan,AD_Network_service,AD_Other,AD_Real_estate,AD_Retail])\n",
    "# data_ad[\"label\"]=\"AD\""
   ]
  },
  {
   "cell_type": "code",
   "execution_count": 83,
   "id": "5d794337-1c58-45d2-adfd-80bf1fbb88e8",
   "metadata": {
    "ExecuteTime": {
     "end_time": "2024-03-09T17:37:07.387615700Z",
     "start_time": "2024-03-09T17:37:07.359615500Z"
    }
   },
   "outputs": [
    {
     "data": {
      "text/plain": "                                                content     labels\n0     手头紧找平安直通贷最快天放款月息最低DIGIT大平台有保证贷款成功送万个万里通积分详情点击U...    AD_Loan\n1     PLACE万穗贷款生意经营宅基地收租无抵押信用贷款DIGIT万物业抵押月息起放款快不上征信详...    AD_Loan\n2     全川企业公司个人信用贷款按揭房按揭车月供放大贷商业保险贷房子车子抵押贷款DIGIT万最快当天...    AD_Loan\n3           银行信用贷款按揭房按揭车利息厘分全款房抵押厘全款车利息厘生意贷详询常CELLPHONE    AD_Loan\n4     通知中国人民保险公司推出个人助贷险业务有房产有工作有信用记录就可申请借款年龄周岁电话CELL...    AD_Loan\n...                                                 ...        ...\n4664  途森运动专营店DIGIT月到日NAME聚划算品牌团全场低至折起日DIGIT点准时开抢亲记得领...  AD_Retail\n4665  淘宝NAME品牌自营店双来啦快来店铺抢DIGIT元红包啦百款NAME大衣羽绒服等你来抢前DI...  AD_Retail\n4666  淘宝DIGIT月日日long家女装店铺转型全店新品折NAME全年仅此一次搜索店铺关键词nur...  AD_Retail\n4667  淘宝NAMENAME邀你DIGIT元购全能眼唇卸妆液注册返利网新用户下单返全款真心的NAME...  AD_Retail\n4668           PLACE淘淘什么叫惊喜双狂欢汹涌来袭您有专属特权价更低货更快戳URL享特权退订  AD_Retail\n\n[8327 rows x 2 columns]",
      "text/html": "<div>\n<style scoped>\n    .dataframe tbody tr th:only-of-type {\n        vertical-align: middle;\n    }\n\n    .dataframe tbody tr th {\n        vertical-align: top;\n    }\n\n    .dataframe thead th {\n        text-align: right;\n    }\n</style>\n<table border=\"1\" class=\"dataframe\">\n  <thead>\n    <tr style=\"text-align: right;\">\n      <th></th>\n      <th>content</th>\n      <th>labels</th>\n    </tr>\n  </thead>\n  <tbody>\n    <tr>\n      <th>0</th>\n      <td>手头紧找平安直通贷最快天放款月息最低DIGIT大平台有保证贷款成功送万个万里通积分详情点击U...</td>\n      <td>AD_Loan</td>\n    </tr>\n    <tr>\n      <th>1</th>\n      <td>PLACE万穗贷款生意经营宅基地收租无抵押信用贷款DIGIT万物业抵押月息起放款快不上征信详...</td>\n      <td>AD_Loan</td>\n    </tr>\n    <tr>\n      <th>2</th>\n      <td>全川企业公司个人信用贷款按揭房按揭车月供放大贷商业保险贷房子车子抵押贷款DIGIT万最快当天...</td>\n      <td>AD_Loan</td>\n    </tr>\n    <tr>\n      <th>3</th>\n      <td>银行信用贷款按揭房按揭车利息厘分全款房抵押厘全款车利息厘生意贷详询常CELLPHONE</td>\n      <td>AD_Loan</td>\n    </tr>\n    <tr>\n      <th>4</th>\n      <td>通知中国人民保险公司推出个人助贷险业务有房产有工作有信用记录就可申请借款年龄周岁电话CELL...</td>\n      <td>AD_Loan</td>\n    </tr>\n    <tr>\n      <th>...</th>\n      <td>...</td>\n      <td>...</td>\n    </tr>\n    <tr>\n      <th>4664</th>\n      <td>途森运动专营店DIGIT月到日NAME聚划算品牌团全场低至折起日DIGIT点准时开抢亲记得领...</td>\n      <td>AD_Retail</td>\n    </tr>\n    <tr>\n      <th>4665</th>\n      <td>淘宝NAME品牌自营店双来啦快来店铺抢DIGIT元红包啦百款NAME大衣羽绒服等你来抢前DI...</td>\n      <td>AD_Retail</td>\n    </tr>\n    <tr>\n      <th>4666</th>\n      <td>淘宝DIGIT月日日long家女装店铺转型全店新品折NAME全年仅此一次搜索店铺关键词nur...</td>\n      <td>AD_Retail</td>\n    </tr>\n    <tr>\n      <th>4667</th>\n      <td>淘宝NAMENAME邀你DIGIT元购全能眼唇卸妆液注册返利网新用户下单返全款真心的NAME...</td>\n      <td>AD_Retail</td>\n    </tr>\n    <tr>\n      <th>4668</th>\n      <td>PLACE淘淘什么叫惊喜双狂欢汹涌来袭您有专属特权价更低货更快戳URL享特权退订</td>\n      <td>AD_Retail</td>\n    </tr>\n  </tbody>\n</table>\n<p>8327 rows × 2 columns</p>\n</div>"
     },
     "execution_count": 83,
     "metadata": {},
     "output_type": "execute_result"
    }
   ],
   "source": [
    "data_ad"
   ]
  },
  {
   "cell_type": "markdown",
   "id": "afb0ca4b-a2b9-4da0-930d-a71bf5459642",
   "metadata": {},
   "source": [
    "## 违规短信"
   ]
  },
  {
   "cell_type": "code",
   "execution_count": 84,
   "id": "c7c22e4d-dfd8-410d-a62c-d99e22739a86",
   "metadata": {
    "ExecuteTime": {
     "end_time": "2024-03-09T17:37:12.855100Z",
     "start_time": "2024-03-09T17:37:12.826925700Z"
    }
   },
   "outputs": [],
   "source": [
    "IL_Gambling=open(\"IL_Gambling\",encoding=\"utf-8\").readlines()\n",
    "IL_Fake_ID_and_invoice=open(\"IL_Fake_ID_and_invoice\",encoding=\"utf-8\").readlines()\n",
    "IL_Political_propaganda=open(\"IL_Political_propaganda\",encoding=\"utf-8\").readlines()\n",
    "IL_Escort_service=open(\"IL_Escort_service\",encoding=\"utf-8\").readlines()\n"
   ]
  },
  {
   "cell_type": "code",
   "execution_count": 85,
   "id": "8a7b9131-053d-4890-bad5-0d76c44efa3a",
   "metadata": {
    "ExecuteTime": {
     "end_time": "2024-03-09T17:38:40.136617400Z",
     "start_time": "2024-03-09T17:38:40.098568700Z"
    }
   },
   "outputs": [],
   "source": [
    "IL_Gambling=pd.DataFrame([k.strip().replace(\" \",\"\") for k in IL_Gambling],columns=[\"content\"])\n",
    "IL_Fake_ID_and_invoice=pd.DataFrame([k.strip().replace(\" \",\"\") for k in IL_Fake_ID_and_invoice],columns=[\"content\"])\n",
    "IL_Political_propaganda=pd.DataFrame([k.strip().replace(\" \",\"\") for k in IL_Political_propaganda],columns=[\"content\"])\n",
    "IL_Escort_service=pd.DataFrame([k.strip().replace(\" \",\"\") for k in IL_Escort_service],columns=[\"content\"])\n",
    "IL_Gambling[\"labels\"],IL_Fake_ID_and_invoice[\"labels\"],IL_Political_propaganda[\"labels\"],IL_Escort_service[\"labels\"]=\"IL_Gambling\",\"IL_Fake_ID_and_invoice\",\"IL_Political_propaganda\",\"IL_Escort_service\""
   ]
  },
  {
   "cell_type": "code",
   "execution_count": 86,
   "id": "6e7e80da-0fca-4a2a-af2d-3d0b8fd45089",
   "metadata": {
    "ExecuteTime": {
     "end_time": "2024-03-09T17:38:41.243273600Z",
     "start_time": "2024-03-09T17:38:41.220709600Z"
    }
   },
   "outputs": [],
   "source": [
    "data_illegal=pd.concat([IL_Gambling,IL_Fake_ID_and_invoice,IL_Political_propaganda])\n",
    "# data_fake[\"label\"]=\"FAKE\""
   ]
  },
  {
   "cell_type": "code",
   "execution_count": 87,
   "id": "1473be4a-d829-4ec6-bf6e-59eeb81d1aac",
   "metadata": {
    "ExecuteTime": {
     "end_time": "2024-03-09T17:38:45.038856100Z",
     "start_time": "2024-03-09T17:38:44.965855300Z"
    }
   },
   "outputs": [
    {
     "data": {
      "text/plain": "                                               content  \\\n0        NAME娱乐成wwwjcom已开通网络真人百家乐六合时时彩足球投注首次注册联系在线客服送元   \n1      尊敬的会员您好URL喜迎世界杯签到送豪礼人人均可参与详情请进入官网点击优惠专栏查阅恭候您的光临   \n2       用戶真人视讯游戏万大奖寻找赌神闯关活动关关都有奖励赠送专属客服微信jiajiaPHONEfn   \n3    你妈比先生您好恭喜您获得银PLACEvip厅NAME彩金元现在登录URL注册账号后凭验证码D...   \n4                   最给力的娱乐平台注册送DIGIT诚意邀请NAME小伙伴们都在玩URL   \n..                                                 ...   \n285  您曾举手把誓宣要为共产把身献誓言绝不打折扣天灭中共言兑现退党退团退少先党亡与您不相关中共必亡...   \n286  最邪恶的是在人活着的时候不打麻药从至少六万五千名法轮功学员的身上直接摘取鲜活的器官卖给需要做...   \n287                      常念NAME好法轮大法好九字吉言能保命真相网址URLddf   \n288  全世界PLACENAME一伙NAMENAMENAMENAME等也因迫害正信把自已推进了地狱一...   \n289  法轮功也叫法轮大法是一门佛家修炼大法要求修炼者按照NAME要求修心养性法轮功具有祛病健身的功...   \n\n                      labels  \n0                IL_Gambling  \n1                IL_Gambling  \n2                IL_Gambling  \n3                IL_Gambling  \n4                IL_Gambling  \n..                       ...  \n285  IL_Political_propaganda  \n286  IL_Political_propaganda  \n287  IL_Political_propaganda  \n288  IL_Political_propaganda  \n289  IL_Political_propaganda  \n\n[2466 rows x 2 columns]",
      "text/html": "<div>\n<style scoped>\n    .dataframe tbody tr th:only-of-type {\n        vertical-align: middle;\n    }\n\n    .dataframe tbody tr th {\n        vertical-align: top;\n    }\n\n    .dataframe thead th {\n        text-align: right;\n    }\n</style>\n<table border=\"1\" class=\"dataframe\">\n  <thead>\n    <tr style=\"text-align: right;\">\n      <th></th>\n      <th>content</th>\n      <th>labels</th>\n    </tr>\n  </thead>\n  <tbody>\n    <tr>\n      <th>0</th>\n      <td>NAME娱乐成wwwjcom已开通网络真人百家乐六合时时彩足球投注首次注册联系在线客服送元</td>\n      <td>IL_Gambling</td>\n    </tr>\n    <tr>\n      <th>1</th>\n      <td>尊敬的会员您好URL喜迎世界杯签到送豪礼人人均可参与详情请进入官网点击优惠专栏查阅恭候您的光临</td>\n      <td>IL_Gambling</td>\n    </tr>\n    <tr>\n      <th>2</th>\n      <td>用戶真人视讯游戏万大奖寻找赌神闯关活动关关都有奖励赠送专属客服微信jiajiaPHONEfn</td>\n      <td>IL_Gambling</td>\n    </tr>\n    <tr>\n      <th>3</th>\n      <td>你妈比先生您好恭喜您获得银PLACEvip厅NAME彩金元现在登录URL注册账号后凭验证码D...</td>\n      <td>IL_Gambling</td>\n    </tr>\n    <tr>\n      <th>4</th>\n      <td>最给力的娱乐平台注册送DIGIT诚意邀请NAME小伙伴们都在玩URL</td>\n      <td>IL_Gambling</td>\n    </tr>\n    <tr>\n      <th>...</th>\n      <td>...</td>\n      <td>...</td>\n    </tr>\n    <tr>\n      <th>285</th>\n      <td>您曾举手把誓宣要为共产把身献誓言绝不打折扣天灭中共言兑现退党退团退少先党亡与您不相关中共必亡...</td>\n      <td>IL_Political_propaganda</td>\n    </tr>\n    <tr>\n      <th>286</th>\n      <td>最邪恶的是在人活着的时候不打麻药从至少六万五千名法轮功学员的身上直接摘取鲜活的器官卖给需要做...</td>\n      <td>IL_Political_propaganda</td>\n    </tr>\n    <tr>\n      <th>287</th>\n      <td>常念NAME好法轮大法好九字吉言能保命真相网址URLddf</td>\n      <td>IL_Political_propaganda</td>\n    </tr>\n    <tr>\n      <th>288</th>\n      <td>全世界PLACENAME一伙NAMENAMENAMENAME等也因迫害正信把自已推进了地狱一...</td>\n      <td>IL_Political_propaganda</td>\n    </tr>\n    <tr>\n      <th>289</th>\n      <td>法轮功也叫法轮大法是一门佛家修炼大法要求修炼者按照NAME要求修心养性法轮功具有祛病健身的功...</td>\n      <td>IL_Political_propaganda</td>\n    </tr>\n  </tbody>\n</table>\n<p>2466 rows × 2 columns</p>\n</div>"
     },
     "execution_count": 87,
     "metadata": {},
     "output_type": "execute_result"
    }
   ],
   "source": [
    "# data_fake.to_excel(\"诈骗赌博.xlsx\")\n",
    "data_illegal"
   ]
  },
  {
   "cell_type": "markdown",
   "source": [
    "## 诈骗短信"
   ],
   "metadata": {
    "collapsed": false
   },
   "id": "70af949279c07a94"
  },
  {
   "cell_type": "code",
   "execution_count": 88,
   "outputs": [],
   "source": [
    "FR_Financial=open(\"FR_Financial\",encoding=\"utf-8\").readlines()\n",
    "FR_Other=open(\"FR_Other\",encoding=\"utf-8\").readlines()\n",
    "FR_Phishing=open(\"FR_Phishing(Bank)\",encoding=\"utf-8\").readlines()\n",
    "\n",
    "FR_Financial=pd.DataFrame([k.strip().replace(\" \",\"\") for k in FR_Financial],columns=[\"content\"])\n",
    "FR_Other=pd.DataFrame([k.strip().replace(\" \",\"\") for k in FR_Other],columns=[\"content\"])\n",
    "FR_Phishing=pd.DataFrame([k.strip().replace(\" \",\"\") for k in FR_Phishing],columns=[\"content\"])\n",
    "\n",
    "FR_Financial[\"labels\"],FR_Other[\"labels\"],FR_Phishing[\"labels\"]=\"FR_Financial\",\"FR_Other\",\"FR_Phishing\"\n",
    "\n",
    "data_fr=pd.concat([FR_Financial,FR_Other,FR_Phishing])"
   ],
   "metadata": {
    "collapsed": false,
    "ExecuteTime": {
     "end_time": "2024-03-09T17:40:07.148560400Z",
     "start_time": "2024-03-09T17:40:07.122560400Z"
    }
   },
   "id": "dd1d8a9ad475452c"
  },
  {
   "cell_type": "markdown",
   "source": [
    "## 辱骂短信"
   ],
   "metadata": {
    "collapsed": false
   },
   "id": "25cbc5f5c4b3f0b0"
  },
  {
   "cell_type": "code",
   "execution_count": 90,
   "outputs": [],
   "source": [
    "data_fuck=pd.read_excel(\"脏话.xlsx\")\n",
    "data_fuck=data_fuck[[1,\"label\"]]\n",
    "data_fuck.columns=[\"content\",\"labels\"]"
   ],
   "metadata": {
    "collapsed": false,
    "ExecuteTime": {
     "end_time": "2024-03-09T17:40:44.102614Z",
     "start_time": "2024-03-09T17:40:42.935615700Z"
    }
   },
   "id": "fbd0f3f0e7b07857"
  },
  {
   "cell_type": "code",
   "execution_count": 92,
   "outputs": [],
   "source": [
    "data_fuck = data_fuck[~data_fuck[\"content\"].apply(lambda x: pd.isna(x) or x.strip()==\"\")]"
   ],
   "metadata": {
    "collapsed": false,
    "ExecuteTime": {
     "end_time": "2024-03-09T17:41:02.456879700Z",
     "start_time": "2024-03-09T17:41:02.410124Z"
    }
   },
   "id": "242eb6ebe3055388"
  },
  {
   "cell_type": "code",
   "execution_count": 66,
   "outputs": [
    {
     "data": {
      "text/plain": "(14952, 2)"
     },
     "execution_count": 66,
     "metadata": {},
     "output_type": "execute_result"
    }
   ],
   "source": [
    "data_fuck.shape"
   ],
   "metadata": {
    "collapsed": false,
    "ExecuteTime": {
     "end_time": "2024-03-09T17:32:20.962352500Z",
     "start_time": "2024-03-09T17:32:20.937352800Z"
    }
   },
   "id": "26d72c4771fca4d3"
  },
  {
   "cell_type": "code",
   "execution_count": 93,
   "outputs": [
    {
     "name": "stderr",
     "output_type": "stream",
     "text": [
      "C:\\Users\\it\\AppData\\Local\\Temp\\ipykernel_9996\\2415979318.py:2: SettingWithCopyWarning: \n",
      "A value is trying to be set on a copy of a slice from a DataFrame.\n",
      "Try using .loc[row_indexer,col_indexer] = value instead\n",
      "\n",
      "See the caveats in the documentation: https://pandas.pydata.org/pandas-docs/stable/user_guide/indexing.html#returning-a-view-versus-a-copy\n",
      "  data_fuck[\"content\"]=data_fuck[\"content\"].apply(lambda x:re.sub(r'[\\W]','',x))\n"
     ]
    }
   ],
   "source": [
    "import re\n",
    "data_fuck[\"content\"]=data_fuck[\"content\"].apply(lambda x:re.sub(r'[\\W]','',x))"
   ],
   "metadata": {
    "collapsed": false,
    "ExecuteTime": {
     "end_time": "2024-03-09T17:41:22.094477100Z",
     "start_time": "2024-03-09T17:41:22.025477400Z"
    }
   },
   "id": "3952d7dbac317f95"
  },
  {
   "cell_type": "code",
   "execution_count": 94,
   "outputs": [
    {
     "data": {
      "text/plain": "                                                 content labels\n0                  那就去解救啊把那些爹妈和那个磁暴步兵抓起来啊都他女马快成邪教了思考思考思考   FUCK\n1                                  在这狂吠是能给亻尔死去的全家弹奏一曲东风破   FUCK\n2                 殊不知你爹我一个不小心用力过猛一巴掌将你表姊妈的狗头拍出脑震荡成了真正的白癡   FUCK\n3      你们难道不知道北京厨子是个傻子疯子痞子安检仪的辐射剂量非常低其累加值与本底辐射相比低的可怜你...   FUCK\n4      拉黑之前不通知的你全家被大狼狗论剑我就不一一艾特啦都是几个b什么人啊啊我曹老子一个一个手打发...   FUCK\n...                                                  ...    ...\n14948                                          你本该被射在墙上的   FUCK\n14949                             你丫的属黄瓜的欠拍属陀螺的欠抽属足球的欠踹是   FUCK\n14950                                        看看这大当家的舞池嘴脸   FUCK\n14951                                              cao你妈   FUCK\n14952       我不是几年我是亻尔爸爸亻囟儿夂逼真的会判刑口马亻尔是几年傻逼判几年强奸判几年急的很在线等   FUCK\n\n[14952 rows x 2 columns]",
      "text/html": "<div>\n<style scoped>\n    .dataframe tbody tr th:only-of-type {\n        vertical-align: middle;\n    }\n\n    .dataframe tbody tr th {\n        vertical-align: top;\n    }\n\n    .dataframe thead th {\n        text-align: right;\n    }\n</style>\n<table border=\"1\" class=\"dataframe\">\n  <thead>\n    <tr style=\"text-align: right;\">\n      <th></th>\n      <th>content</th>\n      <th>labels</th>\n    </tr>\n  </thead>\n  <tbody>\n    <tr>\n      <th>0</th>\n      <td>那就去解救啊把那些爹妈和那个磁暴步兵抓起来啊都他女马快成邪教了思考思考思考</td>\n      <td>FUCK</td>\n    </tr>\n    <tr>\n      <th>1</th>\n      <td>在这狂吠是能给亻尔死去的全家弹奏一曲东风破</td>\n      <td>FUCK</td>\n    </tr>\n    <tr>\n      <th>2</th>\n      <td>殊不知你爹我一个不小心用力过猛一巴掌将你表姊妈的狗头拍出脑震荡成了真正的白癡</td>\n      <td>FUCK</td>\n    </tr>\n    <tr>\n      <th>3</th>\n      <td>你们难道不知道北京厨子是个傻子疯子痞子安检仪的辐射剂量非常低其累加值与本底辐射相比低的可怜你...</td>\n      <td>FUCK</td>\n    </tr>\n    <tr>\n      <th>4</th>\n      <td>拉黑之前不通知的你全家被大狼狗论剑我就不一一艾特啦都是几个b什么人啊啊我曹老子一个一个手打发...</td>\n      <td>FUCK</td>\n    </tr>\n    <tr>\n      <th>...</th>\n      <td>...</td>\n      <td>...</td>\n    </tr>\n    <tr>\n      <th>14948</th>\n      <td>你本该被射在墙上的</td>\n      <td>FUCK</td>\n    </tr>\n    <tr>\n      <th>14949</th>\n      <td>你丫的属黄瓜的欠拍属陀螺的欠抽属足球的欠踹是</td>\n      <td>FUCK</td>\n    </tr>\n    <tr>\n      <th>14950</th>\n      <td>看看这大当家的舞池嘴脸</td>\n      <td>FUCK</td>\n    </tr>\n    <tr>\n      <th>14951</th>\n      <td>cao你妈</td>\n      <td>FUCK</td>\n    </tr>\n    <tr>\n      <th>14952</th>\n      <td>我不是几年我是亻尔爸爸亻囟儿夂逼真的会判刑口马亻尔是几年傻逼判几年强奸判几年急的很在线等</td>\n      <td>FUCK</td>\n    </tr>\n  </tbody>\n</table>\n<p>14952 rows × 2 columns</p>\n</div>"
     },
     "execution_count": 94,
     "metadata": {},
     "output_type": "execute_result"
    }
   ],
   "source": [
    "data_fuck"
   ],
   "metadata": {
    "collapsed": false,
    "ExecuteTime": {
     "end_time": "2024-03-09T17:41:34.565403500Z",
     "start_time": "2024-03-09T17:41:34.515404100Z"
    }
   },
   "id": "51130fe28bbad12"
  },
  {
   "cell_type": "code",
   "execution_count": 152,
   "outputs": [],
   "source": [
    "data_neg=pd.concat([data_ad,data_illegal,data_fr,data_fuck]).sample(frac=1.0).reset_index(drop=True)"
   ],
   "metadata": {
    "collapsed": false,
    "ExecuteTime": {
     "end_time": "2024-03-09T17:55:28.308500400Z",
     "start_time": "2024-03-09T17:55:28.284533700Z"
    }
   },
   "id": "6146752d51c7ecb8"
  },
  {
   "cell_type": "code",
   "execution_count": 153,
   "outputs": [
    {
     "data": {
      "text/plain": "labels\nFUCK                       14952\nAD_Retail                   4669\nAD_Network_service          2127\nFR_Phishing                 1900\nIL_Gambling                 1681\nAD_Other                     926\nFR_Other                     711\nIL_Fake_ID_and_invoice       495\nAD_Real_estate               322\nIL_Political_propaganda      290\nAD_Loan                      283\nFR_Financial                 164\nName: count, dtype: int64"
     },
     "execution_count": 153,
     "metadata": {},
     "output_type": "execute_result"
    }
   ],
   "source": [
    "data_neg.labels.value_counts()"
   ],
   "metadata": {
    "collapsed": false,
    "ExecuteTime": {
     "end_time": "2024-03-09T17:55:29.098418400Z",
     "start_time": "2024-03-09T17:55:29.062405600Z"
    }
   },
   "id": "81664d6d22d34c1e"
  },
  {
   "cell_type": "markdown",
   "id": "8f2d2c56-106b-47cb-b51e-8f832a74fffd",
   "metadata": {},
   "source": [
    "## 正常"
   ]
  },
  {
   "cell_type": "code",
   "execution_count": 163,
   "outputs": [],
   "source": [
    "train = open(r\"D:\\code\\qiji_compet\\code\\data\\dataset/train.txt\", encoding=\"utf8\").readlines()\n",
    "dev = open(r\"D:\\code\\qiji_compet\\code\\data\\dataset/dev.txt\", encoding=\"utf8\").readlines()\n",
    "test = open(r\"D:\\code\\qiji_compet\\code\\data\\dataset/test.txt\", encoding=\"utf8\").readlines()\n",
    "train = [k.strip().split(\"\\t\") for k in train]\n",
    "dev = [k.strip().split(\"\\t\") for k in dev]\n",
    "test = [k.strip().split(\"\\t\") for k in test]\n",
    "import pandas as pd\n",
    "\n",
    "data = pd.concat([pd.DataFrame(train), pd.DataFrame(dev), pd.DataFrame(test)])\n",
    "data = data[~data[1].apply(lambda x: True if pd.isnull(x) else False)][[0,1]]\n",
    "data[1] = data[1].apply(lambda x: x.replace(\" \", \"\"))\n"
   ],
   "metadata": {
    "collapsed": false,
    "ExecuteTime": {
     "end_time": "2024-03-09T18:01:19.768140200Z",
     "start_time": "2024-03-09T18:01:19.351139Z"
    }
   },
   "id": "3a230e089fe3142a"
  },
  {
   "cell_type": "code",
   "execution_count": 136,
   "outputs": [
    {
     "data": {
      "text/plain": "                0                                                  1\n0      __label__0  哇晒！这999个不错！试睡！嘻嘻！我来招募嘉宾！步步动心菲律宾走起！兔头带不了！火锅底料木有...\n1      __label__0  【成都到昆明只需10小时】26日上午，全长63.58公里de云南省武定至昆明高速公路建成通车...\n2      __label__0  去年cj亻故的最有意思的一件事是，奔向一个领了满身礼品的小伙面前满脸苦相说“某某道具已经衤皮...\n3      __label__0  我扌察！刚发现原来我已经衤皮这么彻底的拉口丷土灬了，拉的太特么全面了，这将是人生载入史册的一...\n4      __label__1     那就去解救啊，把那些爹妈和那个磁暴步兵抓起来啊，都他女马快成邪教了！[思考][思考][思考]\n...           ...                                                ...\n11798  __label__0                                          我已给你填好交上了\n11799  __label__0                                             下午去卖车吧\n11800  __label__0                  帝都干燥的天气真是折mo人啊，刚来一天就yan睛嘴巴鼻子干的要si\n11801  __label__0                                         用心去感悟美丽人生！\n11802  __label__0                                             反正是做好事\n\n[82335 rows x 2 columns]",
      "text/html": "<div>\n<style scoped>\n    .dataframe tbody tr th:only-of-type {\n        vertical-align: middle;\n    }\n\n    .dataframe tbody tr th {\n        vertical-align: top;\n    }\n\n    .dataframe thead th {\n        text-align: right;\n    }\n</style>\n<table border=\"1\" class=\"dataframe\">\n  <thead>\n    <tr style=\"text-align: right;\">\n      <th></th>\n      <th>0</th>\n      <th>1</th>\n    </tr>\n  </thead>\n  <tbody>\n    <tr>\n      <th>0</th>\n      <td>__label__0</td>\n      <td>哇晒！这999个不错！试睡！嘻嘻！我来招募嘉宾！步步动心菲律宾走起！兔头带不了！火锅底料木有...</td>\n    </tr>\n    <tr>\n      <th>1</th>\n      <td>__label__0</td>\n      <td>【成都到昆明只需10小时】26日上午，全长63.58公里de云南省武定至昆明高速公路建成通车...</td>\n    </tr>\n    <tr>\n      <th>2</th>\n      <td>__label__0</td>\n      <td>去年cj亻故的最有意思的一件事是，奔向一个领了满身礼品的小伙面前满脸苦相说“某某道具已经衤皮...</td>\n    </tr>\n    <tr>\n      <th>3</th>\n      <td>__label__0</td>\n      <td>我扌察！刚发现原来我已经衤皮这么彻底的拉口丷土灬了，拉的太特么全面了，这将是人生载入史册的一...</td>\n    </tr>\n    <tr>\n      <th>4</th>\n      <td>__label__1</td>\n      <td>那就去解救啊，把那些爹妈和那个磁暴步兵抓起来啊，都他女马快成邪教了！[思考][思考][思考]</td>\n    </tr>\n    <tr>\n      <th>...</th>\n      <td>...</td>\n      <td>...</td>\n    </tr>\n    <tr>\n      <th>11798</th>\n      <td>__label__0</td>\n      <td>我已给你填好交上了</td>\n    </tr>\n    <tr>\n      <th>11799</th>\n      <td>__label__0</td>\n      <td>下午去卖车吧</td>\n    </tr>\n    <tr>\n      <th>11800</th>\n      <td>__label__0</td>\n      <td>帝都干燥的天气真是折mo人啊，刚来一天就yan睛嘴巴鼻子干的要si</td>\n    </tr>\n    <tr>\n      <th>11801</th>\n      <td>__label__0</td>\n      <td>用心去感悟美丽人生！</td>\n    </tr>\n    <tr>\n      <th>11802</th>\n      <td>__label__0</td>\n      <td>反正是做好事</td>\n    </tr>\n  </tbody>\n</table>\n<p>82335 rows × 2 columns</p>\n</div>"
     },
     "execution_count": 136,
     "metadata": {},
     "output_type": "execute_result"
    }
   ],
   "source": [
    "data"
   ],
   "metadata": {
    "collapsed": false,
    "ExecuteTime": {
     "end_time": "2024-03-09T17:52:25.066094Z",
     "start_time": "2024-03-09T17:52:25.006094100Z"
    }
   },
   "id": "7e0c59d614ab56f2"
  },
  {
   "cell_type": "code",
   "execution_count": 164,
   "id": "84c3a834-39c2-4db6-b202-c85d830efff4",
   "metadata": {
    "ExecuteTime": {
     "end_time": "2024-03-09T18:01:22.409449800Z",
     "start_time": "2024-03-09T18:01:22.350795300Z"
    }
   },
   "outputs": [],
   "source": [
    "\n",
    "data2=data[data[0]==\"__label__0\"]\n",
    "data2.columns=[\"labels\",\"content\"]"
   ]
  },
  {
   "cell_type": "code",
   "execution_count": 165,
   "id": "5717cbdc-222c-48d8-8ca4-07a8b2342f99",
   "metadata": {
    "ExecuteTime": {
     "end_time": "2024-03-09T18:01:24.561022400Z",
     "start_time": "2024-03-09T18:01:22.740981700Z"
    }
   },
   "outputs": [
    {
     "data": {
      "text/plain": "                    content\n30               去不去east吃饭啊\n31            不是吧 我刚刚竟然看到他了\n32  我去不了了 还有好多作业呢 sorry啦～～～\n33                  你下课来找我哈\n34              烦死了 老师讲课真没劲",
      "text/html": "<div>\n<style scoped>\n    .dataframe tbody tr th:only-of-type {\n        vertical-align: middle;\n    }\n\n    .dataframe tbody tr th {\n        vertical-align: top;\n    }\n\n    .dataframe thead th {\n        text-align: right;\n    }\n</style>\n<table border=\"1\" class=\"dataframe\">\n  <thead>\n    <tr style=\"text-align: right;\">\n      <th></th>\n      <th>content</th>\n    </tr>\n  </thead>\n  <tbody>\n    <tr>\n      <th>30</th>\n      <td>去不去east吃饭啊</td>\n    </tr>\n    <tr>\n      <th>31</th>\n      <td>不是吧 我刚刚竟然看到他了</td>\n    </tr>\n    <tr>\n      <th>32</th>\n      <td>我去不了了 还有好多作业呢 sorry啦～～～</td>\n    </tr>\n    <tr>\n      <th>33</th>\n      <td>你下课来找我哈</td>\n    </tr>\n    <tr>\n      <th>34</th>\n      <td>烦死了 老师讲课真没劲</td>\n    </tr>\n  </tbody>\n</table>\n</div>"
     },
     "execution_count": 165,
     "metadata": {},
     "output_type": "execute_result"
    }
   ],
   "source": [
    "data3=pd.read_excel(\"D:\\code\\qiji_compet\\code\\data\\dataset\\SMS.xlsx\",index_col=0)\n",
    "data3.columns=[\"content\"]\n",
    "data3.head()"
   ]
  },
  {
   "cell_type": "code",
   "execution_count": 176,
   "id": "6d0dce10-80ac-4504-b331-7b52072c4949",
   "metadata": {
    "ExecuteTime": {
     "end_time": "2024-03-09T18:04:45.133053300Z",
     "start_time": "2024-03-09T18:04:45.101200400Z"
    }
   },
   "outputs": [],
   "source": [
    "data_pos=pd.concat([data2[[\"content\"]],data3])\n",
    "data_pos[\"labels\"]=\"NORMAL\""
   ]
  },
  {
   "cell_type": "code",
   "execution_count": 177,
   "outputs": [
    {
     "data": {
      "text/plain": "                                                 content  labels\n0      哇晒！这999个不错！试睡！嘻嘻！我来招募嘉宾！步步动心菲律宾走起！兔头带不了！火锅底料木有...  NORMAL\n1      【成都到昆明只需10小时】26日上午，全长63.58公里de云南省武定至昆明高速公路建成通车...  NORMAL\n2      去年cj亻故的最有意思的一件事是，奔向一个领了满身礼品的小伙面前满脸苦相说“某某道具已经衤皮...  NORMAL\n3      我扌察！刚发现原来我已经衤皮这么彻底的拉口丷土灬了，拉的太特么全面了，这将是人生载入史册的一...  NORMAL\n11                                        亲们，这孩子好有爱，收了-吧  NORMAL\n...                                                  ...     ...\n31460                                            到了，没有字呀  NORMAL\n31461                                             好的，谢谢！  NORMAL\n31462                                      还有票，不急，等一下，稍等  NORMAL\n31463                                              买吧，谢谢  NORMAL\n31464                                            帮忙看看车票吧  NORMAL\n\n[72648 rows x 2 columns]",
      "text/html": "<div>\n<style scoped>\n    .dataframe tbody tr th:only-of-type {\n        vertical-align: middle;\n    }\n\n    .dataframe tbody tr th {\n        vertical-align: top;\n    }\n\n    .dataframe thead th {\n        text-align: right;\n    }\n</style>\n<table border=\"1\" class=\"dataframe\">\n  <thead>\n    <tr style=\"text-align: right;\">\n      <th></th>\n      <th>content</th>\n      <th>labels</th>\n    </tr>\n  </thead>\n  <tbody>\n    <tr>\n      <th>0</th>\n      <td>哇晒！这999个不错！试睡！嘻嘻！我来招募嘉宾！步步动心菲律宾走起！兔头带不了！火锅底料木有...</td>\n      <td>NORMAL</td>\n    </tr>\n    <tr>\n      <th>1</th>\n      <td>【成都到昆明只需10小时】26日上午，全长63.58公里de云南省武定至昆明高速公路建成通车...</td>\n      <td>NORMAL</td>\n    </tr>\n    <tr>\n      <th>2</th>\n      <td>去年cj亻故的最有意思的一件事是，奔向一个领了满身礼品的小伙面前满脸苦相说“某某道具已经衤皮...</td>\n      <td>NORMAL</td>\n    </tr>\n    <tr>\n      <th>3</th>\n      <td>我扌察！刚发现原来我已经衤皮这么彻底的拉口丷土灬了，拉的太特么全面了，这将是人生载入史册的一...</td>\n      <td>NORMAL</td>\n    </tr>\n    <tr>\n      <th>11</th>\n      <td>亲们，这孩子好有爱，收了-吧</td>\n      <td>NORMAL</td>\n    </tr>\n    <tr>\n      <th>...</th>\n      <td>...</td>\n      <td>...</td>\n    </tr>\n    <tr>\n      <th>31460</th>\n      <td>到了，没有字呀</td>\n      <td>NORMAL</td>\n    </tr>\n    <tr>\n      <th>31461</th>\n      <td>好的，谢谢！</td>\n      <td>NORMAL</td>\n    </tr>\n    <tr>\n      <th>31462</th>\n      <td>还有票，不急，等一下，稍等</td>\n      <td>NORMAL</td>\n    </tr>\n    <tr>\n      <th>31463</th>\n      <td>买吧，谢谢</td>\n      <td>NORMAL</td>\n    </tr>\n    <tr>\n      <th>31464</th>\n      <td>帮忙看看车票吧</td>\n      <td>NORMAL</td>\n    </tr>\n  </tbody>\n</table>\n<p>72648 rows × 2 columns</p>\n</div>"
     },
     "execution_count": 177,
     "metadata": {},
     "output_type": "execute_result"
    }
   ],
   "source": [
    "data_pos"
   ],
   "metadata": {
    "collapsed": false,
    "ExecuteTime": {
     "end_time": "2024-03-09T18:04:46.473216300Z",
     "start_time": "2024-03-09T18:04:46.448214600Z"
    }
   },
   "id": "37f28543cdb2297d"
  },
  {
   "cell_type": "code",
   "execution_count": 180,
   "outputs": [],
   "source": [
    "\n",
    "data_pos[\"content\"] = data_pos[\"content\"].apply(lambda x: str(x).replace(\" \", \"\"))\n",
    "data_pos[\"content\"] = data_pos[\"content\"].apply(lambda x:re.sub(r'[\\W]','',x))\n",
    "data_pos = data_pos[~data_pos[\"content\"].apply(lambda x: True if pd.isnull(x) or x.strip()==\"\" else False)][[\"content\",\"labels\"]]"
   ],
   "metadata": {
    "collapsed": false,
    "ExecuteTime": {
     "end_time": "2024-03-09T18:05:38.390238400Z",
     "start_time": "2024-03-09T18:05:38.239027800Z"
    }
   },
   "id": "c1dcebe5e25cb991"
  },
  {
   "cell_type": "code",
   "execution_count": 181,
   "outputs": [
    {
     "data": {
      "text/plain": "                                                 content  labels\n0      哇晒这999个不错试睡嘻嘻我来招募嘉宾步步动心菲律宾走起兔头带不了火锅底料木有问题嘻嘻还可以...  NORMAL\n1      成都到昆明只需10小时26日上午全长6358公里de云南省武定至昆明高速公路建成通车从昆明经...  NORMAL\n2      去年cj亻故的最有意思的一件事是奔向一个领了满身礼品的小伙面前满脸苦相说某某道具已经衤皮领光...  NORMAL\n3      我扌察刚发现原来我已经衤皮这么彻底的拉口丷土灬了拉的太特么全面了这将是人生载入史册的一天没法...  NORMAL\n11                                           亲们这孩子好有爱收了吧  NORMAL\n...                                                  ...     ...\n31460                                             到了没有字呀  NORMAL\n31461                                               好的谢谢  NORMAL\n31462                                         还有票不急等一下稍等  NORMAL\n31463                                               买吧谢谢  NORMAL\n31464                                            帮忙看看车票吧  NORMAL\n\n[72462 rows x 2 columns]",
      "text/html": "<div>\n<style scoped>\n    .dataframe tbody tr th:only-of-type {\n        vertical-align: middle;\n    }\n\n    .dataframe tbody tr th {\n        vertical-align: top;\n    }\n\n    .dataframe thead th {\n        text-align: right;\n    }\n</style>\n<table border=\"1\" class=\"dataframe\">\n  <thead>\n    <tr style=\"text-align: right;\">\n      <th></th>\n      <th>content</th>\n      <th>labels</th>\n    </tr>\n  </thead>\n  <tbody>\n    <tr>\n      <th>0</th>\n      <td>哇晒这999个不错试睡嘻嘻我来招募嘉宾步步动心菲律宾走起兔头带不了火锅底料木有问题嘻嘻还可以...</td>\n      <td>NORMAL</td>\n    </tr>\n    <tr>\n      <th>1</th>\n      <td>成都到昆明只需10小时26日上午全长6358公里de云南省武定至昆明高速公路建成通车从昆明经...</td>\n      <td>NORMAL</td>\n    </tr>\n    <tr>\n      <th>2</th>\n      <td>去年cj亻故的最有意思的一件事是奔向一个领了满身礼品的小伙面前满脸苦相说某某道具已经衤皮领光...</td>\n      <td>NORMAL</td>\n    </tr>\n    <tr>\n      <th>3</th>\n      <td>我扌察刚发现原来我已经衤皮这么彻底的拉口丷土灬了拉的太特么全面了这将是人生载入史册的一天没法...</td>\n      <td>NORMAL</td>\n    </tr>\n    <tr>\n      <th>11</th>\n      <td>亲们这孩子好有爱收了吧</td>\n      <td>NORMAL</td>\n    </tr>\n    <tr>\n      <th>...</th>\n      <td>...</td>\n      <td>...</td>\n    </tr>\n    <tr>\n      <th>31460</th>\n      <td>到了没有字呀</td>\n      <td>NORMAL</td>\n    </tr>\n    <tr>\n      <th>31461</th>\n      <td>好的谢谢</td>\n      <td>NORMAL</td>\n    </tr>\n    <tr>\n      <th>31462</th>\n      <td>还有票不急等一下稍等</td>\n      <td>NORMAL</td>\n    </tr>\n    <tr>\n      <th>31463</th>\n      <td>买吧谢谢</td>\n      <td>NORMAL</td>\n    </tr>\n    <tr>\n      <th>31464</th>\n      <td>帮忙看看车票吧</td>\n      <td>NORMAL</td>\n    </tr>\n  </tbody>\n</table>\n<p>72462 rows × 2 columns</p>\n</div>"
     },
     "execution_count": 181,
     "metadata": {},
     "output_type": "execute_result"
    }
   ],
   "source": [
    "data_pos"
   ],
   "metadata": {
    "collapsed": false,
    "ExecuteTime": {
     "end_time": "2024-03-09T18:05:40.932590100Z",
     "start_time": "2024-03-09T18:05:40.872372400Z"
    }
   },
   "id": "d67b33d7a7827942"
  },
  {
   "cell_type": "code",
   "execution_count": 182,
   "outputs": [
    {
     "data": {
      "text/plain": "((72462, 2), (28520, 3))"
     },
     "execution_count": 182,
     "metadata": {},
     "output_type": "execute_result"
    }
   ],
   "source": [
    "data_pos.shape,data_neg.shape"
   ],
   "metadata": {
    "collapsed": false,
    "ExecuteTime": {
     "end_time": "2024-03-09T18:05:47.103516400Z",
     "start_time": "2024-03-09T18:05:47.081124800Z"
    }
   },
   "id": "9609055807f66890"
  },
  {
   "cell_type": "code",
   "execution_count": 193,
   "outputs": [],
   "source": [],
   "metadata": {
    "collapsed": false,
    "ExecuteTime": {
     "end_time": "2024-03-09T18:58:41.166386300Z",
     "start_time": "2024-03-09T18:58:40.860350100Z"
    }
   },
   "id": "d3e833a837877e54"
  },
  {
   "cell_type": "code",
   "execution_count": 194,
   "id": "ad6fd8c6-a70d-4407-84f1-1ccb2e2de25c",
   "metadata": {
    "ExecuteTime": {
     "end_time": "2024-03-09T18:59:03.817823700Z",
     "start_time": "2024-03-09T18:59:03.495824300Z"
    }
   },
   "outputs": [
    {
     "data": {
      "text/plain": "(65899, 3)"
     },
     "execution_count": 194,
     "metadata": {},
     "output_type": "execute_result"
    }
   ],
   "source": [
    "# 二分类：\n",
    "data_pos[\"labels_binary\"]=1\n",
    "data_neg[\"labels_binary\"]=0\n",
    "data_binary=pd.concat([data_pos,data_neg]).sample(frac=1.0).reset_index(drop=True)\n",
    "data_binary=data_binary[~data_binary[\"content\"].apply(lambda x:True if pd.isna(x) or x.strip()==\"\" else False)]\n",
    "data_binary[\"content\"]=data_binary[\"content\"].apply(lambda x:str(x).replace(\" \",\"\" ))\n",
    "data_binary[\"content\"]=data_binary[\"content\"].apply(lambda x:re.sub(r'[\\W]','',x))\n",
    "data_binary=data_binary.drop_duplicates()\n",
    "data_binary.shape"
   ]
  },
  {
   "cell_type": "code",
   "execution_count": 201,
   "outputs": [
    {
     "data": {
      "text/plain": "labels\nNORMAL                     3600\nFUCK                       1208\nAD_Retail                   665\nAD_Network_service          296\nFR_Phishing                 241\nIL_Gambling                 215\nAD_Other                     94\nFR_Other                     73\nIL_Fake_ID_and_invoice       66\nAD_Loan                      43\nIL_Political_propaganda      42\nAD_Real_estate               34\nFR_Financial                 13\nName: count, dtype: int64"
     },
     "execution_count": 201,
     "metadata": {},
     "output_type": "execute_result"
    }
   ],
   "source": [
    "test_binary.labels.value_counts()"
   ],
   "metadata": {
    "collapsed": false,
    "ExecuteTime": {
     "end_time": "2024-03-09T19:05:07.049046300Z",
     "start_time": "2024-03-09T19:05:07.005046700Z"
    }
   },
   "id": "4d9da92ea4593f54"
  },
  {
   "cell_type": "code",
   "execution_count": 198,
   "outputs": [
    {
     "data": {
      "text/plain": "((52719, 3), (6590, 3), (6590, 3))"
     },
     "execution_count": 198,
     "metadata": {},
     "output_type": "execute_result"
    }
   ],
   "source": [
    "train_binary=data_binary[:int(0.8*len(data_binary))]\n",
    "dev_binary=data_binary[int(0.8*len(data_binary)):int(0.9*len(data_binary))]\n",
    "test_binary=data_binary[int(0.9*len(data_binary)):]\n",
    "train_binary.shape,dev_binary.shape,test_binary.shape"
   ],
   "metadata": {
    "collapsed": false,
    "ExecuteTime": {
     "end_time": "2024-03-09T19:00:00.624190800Z",
     "start_time": "2024-03-09T19:00:00.603161700Z"
    }
   },
   "id": "96722b875ca581d4"
  },
  {
   "cell_type": "code",
   "execution_count": 199,
   "id": "4dd2cb54-64ea-4541-a539-8a6638992321",
   "metadata": {
    "ExecuteTime": {
     "end_time": "2024-03-09T19:00:10.184312800Z",
     "start_time": "2024-03-09T19:00:03.685873400Z"
    }
   },
   "outputs": [],
   "source": [
    "train_binary[[\"content\",\"labels_binary\"]].to_excel(r\"D:\\code\\qiji_compet\\code\\data\\dataset\\binary_cls_data\\train_binary.xlsx\")\n",
    "dev_binary[[\"content\",\"labels_binary\"]].to_excel(r\"D:\\code\\qiji_compet\\code\\data\\dataset\\binary_cls_data\\dev_binary.xlsx\")\n",
    "test_binary[[\"content\",\"labels_binary\"]].to_excel(r\"D:\\code\\qiji_compet\\code\\data\\dataset\\binary_cls_data\\test_binary.xlsx\")"
   ]
  },
  {
   "cell_type": "code",
   "execution_count": 200,
   "id": "7be307c0-91d2-4f9c-868c-9ba1c6eabc36",
   "metadata": {
    "ExecuteTime": {
     "end_time": "2024-03-09T19:00:19.167276Z",
     "start_time": "2024-03-09T19:00:12.131593200Z"
    }
   },
   "outputs": [],
   "source": [
    "train_binary[[\"content\",\"labels\"]].to_excel(r\"D:\\code\\qiji_compet\\code\\data\\dataset\\multi_cls_data\\train_multi.xlsx\")\n",
    "dev_binary[[\"content\",\"labels\"]].to_excel(r\"D:\\code\\qiji_compet\\code\\data\\dataset\\multi_cls_data\\dev_multi.xlsx\")\n",
    "test_binary[[\"content\",\"labels\"]].to_excel(r\"D:\\code\\qiji_compet\\code\\data\\dataset\\multi_cls_data\\test_multi.xlsx\")"
   ]
  },
  {
   "cell_type": "code",
   "execution_count": 11,
   "id": "eb42e728-98c0-490a-83c9-615ab2e88827",
   "metadata": {
    "ExecuteTime": {
     "end_time": "2024-02-20T03:36:28.925655400Z",
     "start_time": "2024-02-20T03:36:28.847539700Z"
    }
   },
   "outputs": [
    {
     "data": {
      "text/plain": "label\nNORMAL       20773\nFUCK         14974\nAD            8327\nFAKE          2176\nPOLITICAL      290\nSEX            110\nName: count, dtype: int64"
     },
     "execution_count": 11,
     "metadata": {},
     "output_type": "execute_result"
    }
   ],
   "source": [
    "data_multi_v2.label.value_counts()"
   ]
  },
  {
   "cell_type": "code",
   "execution_count": 28,
   "id": "4c9c039e-5302-4156-81a0-ee3acf0bb026",
   "metadata": {},
   "outputs": [],
   "source": [
    "data_multi_v2=data_multi_v2.sample(frac=1.0)\n",
    "train_multi_v2=[\"\\t\".join(k[::-1]) for k in data_multi_v2[:int(0.8*len(data_multi_v2))][[\"content\",\"label_fasttext\"]].values]\n",
    "dev_multi_v2=[\"\\t\".join(k[::-1]) for k in data_multi_v2[int(0.8*len(data_multi_v2)):int(0.9*len(data_multi_v2))][[\"content\",\"label_fasttext\"]].values]\n",
    "test_multi_v2=[\"\\t\".join(k[::-1]) for k in data_multi_v2[int(0.9*len(data_multi_v2)):][[\"content\",\"label_fasttext\"]].values]"
   ]
  },
  {
   "cell_type": "code",
   "execution_count": 32,
   "id": "fd07f274-b38b-4247-be1e-12a275a67ed2",
   "metadata": {},
   "outputs": [],
   "source": [
    "with open(\"fasttext_data/train.txt\",\"w\",encoding=\"utf8\") as f:\n",
    "    for unit in train_multi_v2:\n",
    "        f.write(unit)\n",
    "        f.write(\"\\n\")\n",
    "with open(\"fasttext_data/dev.txt\",\"w\",encoding=\"utf8\") as f:\n",
    "    for unit in dev_multi_v2:\n",
    "        f.write(unit)\n",
    "        f.write(\"\\n\")\n",
    "with open(\"fasttext_data/test.txt\",\"w\",encoding=\"utf8\") as f:\n",
    "    for unit in test_multi_v2:\n",
    "        f.write(unit)\n",
    "        f.write(\"\\n\")"
   ]
  },
  {
   "cell_type": "code",
   "execution_count": 29,
   "id": "a3cd5bd0-44fa-412c-90e0-3892b4742a7e",
   "metadata": {},
   "outputs": [
    {
     "data": {
      "text/plain": [
       "'__label__0\\t要是能合法砍人我第一个砍死楼上王八蛋蹦ni麻痹啊'"
      ]
     },
     "execution_count": 29,
     "metadata": {},
     "output_type": "execute_result"
    }
   ],
   "source": [
    "train_multi_v2[0]"
   ]
  },
  {
   "cell_type": "code",
   "execution_count": 37,
   "id": "980317e7-9601-47ca-b884-3055b07ba0ae",
   "metadata": {},
   "outputs": [],
   "source": [
    "import numpy as np\n",
    "dicts1=dict(zip(data_multi.label.unique(),[\"__label__\"+str(i) for i in np.arange(len(data_multi.label.unique()))]))\n",
    "dicts2=dict(zip(data_binary.label.unique(),[\"__label__\"+str(i) for i in np.arange(len(data_binary.label.unique()))]))"
   ]
  },
  {
   "cell_type": "code",
   "execution_count": 40,
   "id": "82fbd92a-18be-4ed0-ab3c-81f5a49f06f6",
   "metadata": {},
   "outputs": [
    {
     "data": {
      "text/plain": [
       "array([8848,\n",
       "       '亻尔这词穷土狗复习了大半年亻尔的小学造句对爹也是毫无伤害殊不知亻尔婊子妈逼水四射的莲花火兰辶畐早已衤皮爹肆意践踏变得干枯无力',\n",
       "       'FUCK'], dtype=object)"
      ]
     },
     "execution_count": 40,
     "metadata": {},
     "output_type": "execute_result"
    }
   ],
   "source": [
    "train_multi.values[0]"
   ]
  },
  {
   "cell_type": "code",
   "execution_count": 43,
   "id": "bd5bc47e-471e-424a-bdab-d116d41618e3",
   "metadata": {},
   "outputs": [
    {
     "data": {
      "text/plain": [
       "1"
      ]
     },
     "execution_count": 43,
     "metadata": {},
     "output_type": "execute_result"
    }
   ],
   "source": [
    "unit[2]"
   ]
  },
  {
   "cell_type": "code",
   "execution_count": 44,
   "id": "02f5666b-eac2-4467-9e0c-2ebf51ce7635",
   "metadata": {},
   "outputs": [],
   "source": [
    "train_binary=pd.read_excel(\"binary_cls_data/train_binary.xlsx\")\n",
    "dev_binary=pd.read_excel(\"binary_cls_data/dev_binary.xlsx\")\n",
    "test_binary=pd.read_excel(\"binary_cls_data/test_binary.xlsx\")\n",
    "train_multi=pd.read_excel(\"multi_cls_data/train_multi.xlsx\")\n",
    "dev_multi=pd.read_excel(\"multi_cls_data/dev_multi.xlsx\")\n",
    "with open(\"fasttext_data/multi_cls_data/train.txt\",\"w\",encoding=\"utf8\") as f:\n",
    "    for unit in train_multi.values:\n",
    "        f.write(dicts1[unit[2]]+\"\\t\"+unit[1])\n",
    "        f.write(\"\\n\")\n",
    "with open(\"fasttext_data/multi_cls_data/dev.txt\",\"w\",encoding=\"utf8\") as f:\n",
    "    for unit in dev_multi.values:\n",
    "        f.write(dicts1[unit[2]]+\"\\t\"+unit[1])\n",
    "        f.write(\"\\n\")\n",
    "with open(\"fasttext_data/binary_cls_data/train.txt\",\"w\",encoding=\"utf8\") as f:\n",
    "    for unit in train_binary.values:\n",
    "        f.write(dicts2[unit[2]]+\"\\t\"+unit[1])\n",
    "        f.write(\"\\n\")\n",
    "with open(\"fasttext_data/binary_cls_data/dev.txt\",\"w\",encoding=\"utf8\") as f:\n",
    "    for unit in dev_binary.values:\n",
    "        f.write(dicts2[unit[2]]+\"\\t\"+unit[1])\n",
    "        f.write(\"\\n\")\n",
    "with open(\"fasttext_data/binary_cls_data/test.txt\",\"w\",encoding=\"utf8\") as f:\n",
    "    for unit in test_binary.values:\n",
    "        f.write(dicts2[unit[2]]+\"\\t\"+unit[1])\n",
    "        f.write(\"\\n\")"
   ]
  },
  {
   "cell_type": "code",
   "execution_count": null,
   "id": "583dbaee-4445-4502-be55-291cbf1a7b3e",
   "metadata": {},
   "outputs": [],
   "source": []
  }
 ],
 "metadata": {
  "kernelspec": {
   "display_name": "Python 3 (ipykernel)",
   "language": "python",
   "name": "python3"
  },
  "language_info": {
   "codemirror_mode": {
    "name": "ipython",
    "version": 3
   },
   "file_extension": ".py",
   "mimetype": "text/x-python",
   "name": "python",
   "nbconvert_exporter": "python",
   "pygments_lexer": "ipython3",
   "version": "3.9.13"
  }
 },
 "nbformat": 4,
 "nbformat_minor": 5
}
