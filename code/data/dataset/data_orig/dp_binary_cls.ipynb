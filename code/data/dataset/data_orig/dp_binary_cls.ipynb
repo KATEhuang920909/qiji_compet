{
 "cells": [
  {
   "cell_type": "markdown",
   "id": "cd2a2138-1226-4099-87d8-45889c9bf4df",
   "metadata": {},
   "source": [
    "## 辱骂"
   ]
  },
  {
   "cell_type": "code",
   "execution_count": 1,
   "id": "6617ec58-be17-4d70-8c10-126dba29f804",
   "metadata": {
    "ExecuteTime": {
     "end_time": "2024-03-11T09:02:04.229773Z",
     "start_time": "2024-03-11T09:02:03.933773Z"
    }
   },
   "outputs": [],
   "source": [
    "train=open(\"train.txt\",encoding=\"utf8\").readlines()\n",
    "dev=open(\"dev.txt\",encoding=\"utf8\").readlines()\n",
    "test=open(\"test.txt\",encoding=\"utf8\").readlines()"
   ]
  },
  {
   "cell_type": "code",
   "execution_count": 2,
   "id": "d7d6c06c-9f06-4fa7-b338-ffaf5ea823d5",
   "metadata": {
    "ExecuteTime": {
     "end_time": "2024-03-11T09:02:40.343329Z",
     "start_time": "2024-03-11T09:02:40.042332Z"
    }
   },
   "outputs": [],
   "source": [
    "train=[k.strip().split(\"\\t\") for k in train]\n",
    "dev=[k.strip().split(\"\\t\") for k in dev]\n",
    "test=[k.strip().split(\"\\t\") for k in test]"
   ]
  },
  {
   "cell_type": "code",
   "execution_count": 3,
   "id": "69231c6b-b256-49e6-8aaa-aacc95ed1aa7",
   "metadata": {
    "ExecuteTime": {
     "end_time": "2024-03-11T09:02:45.937495Z",
     "start_time": "2024-03-11T09:02:41.008419Z"
    }
   },
   "outputs": [
    {
     "ename": "AttributeError",
     "evalue": "'NoneType' object has no attribute 'replace'",
     "output_type": "error",
     "traceback": [
      "\u001B[1;31m---------------------------------------------------------------------------\u001B[0m",
      "\u001B[1;31mAttributeError\u001B[0m                            Traceback (most recent call last)",
      "Cell \u001B[1;32mIn[3], line 4\u001B[0m\n\u001B[0;32m      2\u001B[0m data\u001B[38;5;241m=\u001B[39mpd\u001B[38;5;241m.\u001B[39mconcat([pd\u001B[38;5;241m.\u001B[39mDataFrame(train),pd\u001B[38;5;241m.\u001B[39mDataFrame(dev),pd\u001B[38;5;241m.\u001B[39mDataFrame(test)])\n\u001B[0;32m      3\u001B[0m data\u001B[38;5;241m=\u001B[39mdata[data[\u001B[38;5;241m2\u001B[39m]\u001B[38;5;241m.\u001B[39mapply(\u001B[38;5;28;01mlambda\u001B[39;00m x:\u001B[38;5;28;01mTrue\u001B[39;00m \u001B[38;5;28;01mif\u001B[39;00m pd\u001B[38;5;241m.\u001B[39misna(x) \u001B[38;5;28;01melse\u001B[39;00m \u001B[38;5;28;01mFalse\u001B[39;00m)][[\u001B[38;5;241m0\u001B[39m,\u001B[38;5;241m1\u001B[39m]]\n\u001B[1;32m----> 4\u001B[0m data[\u001B[38;5;241m1\u001B[39m]\u001B[38;5;241m=\u001B[39m\u001B[43mdata\u001B[49m\u001B[43m[\u001B[49m\u001B[38;5;241;43m1\u001B[39;49m\u001B[43m]\u001B[49m\u001B[38;5;241;43m.\u001B[39;49m\u001B[43mapply\u001B[49m\u001B[43m(\u001B[49m\u001B[38;5;28;43;01mlambda\u001B[39;49;00m\u001B[43m \u001B[49m\u001B[43mx\u001B[49m\u001B[43m:\u001B[49m\u001B[43mx\u001B[49m\u001B[38;5;241;43m.\u001B[39;49m\u001B[43mreplace\u001B[49m\u001B[43m(\u001B[49m\u001B[38;5;124;43m\"\u001B[39;49m\u001B[38;5;124;43m \u001B[39;49m\u001B[38;5;124;43m\"\u001B[39;49m\u001B[43m,\u001B[49m\u001B[38;5;124;43m\"\u001B[39;49m\u001B[38;5;124;43m\"\u001B[39;49m\u001B[43m \u001B[49m\u001B[43m)\u001B[49m\u001B[43m)\u001B[49m\n",
      "File \u001B[1;32mD:\\work\\software\\Python39\\lib\\site-packages\\pandas\\core\\series.py:4908\u001B[0m, in \u001B[0;36mSeries.apply\u001B[1;34m(self, func, convert_dtype, args, by_row, **kwargs)\u001B[0m\n\u001B[0;32m   4780\u001B[0m \u001B[38;5;28;01mdef\u001B[39;00m \u001B[38;5;21mapply\u001B[39m(\n\u001B[0;32m   4781\u001B[0m     \u001B[38;5;28mself\u001B[39m,\n\u001B[0;32m   4782\u001B[0m     func: AggFuncType,\n\u001B[1;32m   (...)\u001B[0m\n\u001B[0;32m   4787\u001B[0m     \u001B[38;5;241m*\u001B[39m\u001B[38;5;241m*\u001B[39mkwargs,\n\u001B[0;32m   4788\u001B[0m ) \u001B[38;5;241m-\u001B[39m\u001B[38;5;241m>\u001B[39m DataFrame \u001B[38;5;241m|\u001B[39m Series:\n\u001B[0;32m   4789\u001B[0m \u001B[38;5;250m    \u001B[39m\u001B[38;5;124;03m\"\"\"\u001B[39;00m\n\u001B[0;32m   4790\u001B[0m \u001B[38;5;124;03m    Invoke function on values of Series.\u001B[39;00m\n\u001B[0;32m   4791\u001B[0m \n\u001B[1;32m   (...)\u001B[0m\n\u001B[0;32m   4906\u001B[0m \u001B[38;5;124;03m    dtype: float64\u001B[39;00m\n\u001B[0;32m   4907\u001B[0m \u001B[38;5;124;03m    \"\"\"\u001B[39;00m\n\u001B[1;32m-> 4908\u001B[0m     \u001B[38;5;28;01mreturn\u001B[39;00m \u001B[43mSeriesApply\u001B[49m\u001B[43m(\u001B[49m\n\u001B[0;32m   4909\u001B[0m \u001B[43m        \u001B[49m\u001B[38;5;28;43mself\u001B[39;49m\u001B[43m,\u001B[49m\n\u001B[0;32m   4910\u001B[0m \u001B[43m        \u001B[49m\u001B[43mfunc\u001B[49m\u001B[43m,\u001B[49m\n\u001B[0;32m   4911\u001B[0m \u001B[43m        \u001B[49m\u001B[43mconvert_dtype\u001B[49m\u001B[38;5;241;43m=\u001B[39;49m\u001B[43mconvert_dtype\u001B[49m\u001B[43m,\u001B[49m\n\u001B[0;32m   4912\u001B[0m \u001B[43m        \u001B[49m\u001B[43mby_row\u001B[49m\u001B[38;5;241;43m=\u001B[39;49m\u001B[43mby_row\u001B[49m\u001B[43m,\u001B[49m\n\u001B[0;32m   4913\u001B[0m \u001B[43m        \u001B[49m\u001B[43margs\u001B[49m\u001B[38;5;241;43m=\u001B[39;49m\u001B[43margs\u001B[49m\u001B[43m,\u001B[49m\n\u001B[0;32m   4914\u001B[0m \u001B[43m        \u001B[49m\u001B[43mkwargs\u001B[49m\u001B[38;5;241;43m=\u001B[39;49m\u001B[43mkwargs\u001B[49m\u001B[43m,\u001B[49m\n\u001B[0;32m   4915\u001B[0m \u001B[43m    \u001B[49m\u001B[43m)\u001B[49m\u001B[38;5;241;43m.\u001B[39;49m\u001B[43mapply\u001B[49m\u001B[43m(\u001B[49m\u001B[43m)\u001B[49m\n",
      "File \u001B[1;32mD:\\work\\software\\Python39\\lib\\site-packages\\pandas\\core\\apply.py:1427\u001B[0m, in \u001B[0;36mSeriesApply.apply\u001B[1;34m(self)\u001B[0m\n\u001B[0;32m   1424\u001B[0m     \u001B[38;5;28;01mreturn\u001B[39;00m \u001B[38;5;28mself\u001B[39m\u001B[38;5;241m.\u001B[39mapply_compat()\n\u001B[0;32m   1426\u001B[0m \u001B[38;5;66;03m# self.func is Callable\u001B[39;00m\n\u001B[1;32m-> 1427\u001B[0m \u001B[38;5;28;01mreturn\u001B[39;00m \u001B[38;5;28;43mself\u001B[39;49m\u001B[38;5;241;43m.\u001B[39;49m\u001B[43mapply_standard\u001B[49m\u001B[43m(\u001B[49m\u001B[43m)\u001B[49m\n",
      "File \u001B[1;32mD:\\work\\software\\Python39\\lib\\site-packages\\pandas\\core\\apply.py:1507\u001B[0m, in \u001B[0;36mSeriesApply.apply_standard\u001B[1;34m(self)\u001B[0m\n\u001B[0;32m   1501\u001B[0m \u001B[38;5;66;03m# row-wise access\u001B[39;00m\n\u001B[0;32m   1502\u001B[0m \u001B[38;5;66;03m# apply doesn't have a `na_action` keyword and for backward compat reasons\u001B[39;00m\n\u001B[0;32m   1503\u001B[0m \u001B[38;5;66;03m# we need to give `na_action=\"ignore\"` for categorical data.\u001B[39;00m\n\u001B[0;32m   1504\u001B[0m \u001B[38;5;66;03m# TODO: remove the `na_action=\"ignore\"` when that default has been changed in\u001B[39;00m\n\u001B[0;32m   1505\u001B[0m \u001B[38;5;66;03m#  Categorical (GH51645).\u001B[39;00m\n\u001B[0;32m   1506\u001B[0m action \u001B[38;5;241m=\u001B[39m \u001B[38;5;124m\"\u001B[39m\u001B[38;5;124mignore\u001B[39m\u001B[38;5;124m\"\u001B[39m \u001B[38;5;28;01mif\u001B[39;00m \u001B[38;5;28misinstance\u001B[39m(obj\u001B[38;5;241m.\u001B[39mdtype, CategoricalDtype) \u001B[38;5;28;01melse\u001B[39;00m \u001B[38;5;28;01mNone\u001B[39;00m\n\u001B[1;32m-> 1507\u001B[0m mapped \u001B[38;5;241m=\u001B[39m \u001B[43mobj\u001B[49m\u001B[38;5;241;43m.\u001B[39;49m\u001B[43m_map_values\u001B[49m\u001B[43m(\u001B[49m\n\u001B[0;32m   1508\u001B[0m \u001B[43m    \u001B[49m\u001B[43mmapper\u001B[49m\u001B[38;5;241;43m=\u001B[39;49m\u001B[43mcurried\u001B[49m\u001B[43m,\u001B[49m\u001B[43m \u001B[49m\u001B[43mna_action\u001B[49m\u001B[38;5;241;43m=\u001B[39;49m\u001B[43maction\u001B[49m\u001B[43m,\u001B[49m\u001B[43m \u001B[49m\u001B[43mconvert\u001B[49m\u001B[38;5;241;43m=\u001B[39;49m\u001B[38;5;28;43mself\u001B[39;49m\u001B[38;5;241;43m.\u001B[39;49m\u001B[43mconvert_dtype\u001B[49m\n\u001B[0;32m   1509\u001B[0m \u001B[43m\u001B[49m\u001B[43m)\u001B[49m\n\u001B[0;32m   1511\u001B[0m \u001B[38;5;28;01mif\u001B[39;00m \u001B[38;5;28mlen\u001B[39m(mapped) \u001B[38;5;129;01mand\u001B[39;00m \u001B[38;5;28misinstance\u001B[39m(mapped[\u001B[38;5;241m0\u001B[39m], ABCSeries):\n\u001B[0;32m   1512\u001B[0m     \u001B[38;5;66;03m# GH#43986 Need to do list(mapped) in order to get treated as nested\u001B[39;00m\n\u001B[0;32m   1513\u001B[0m     \u001B[38;5;66;03m#  See also GH#25959 regarding EA support\u001B[39;00m\n\u001B[0;32m   1514\u001B[0m     \u001B[38;5;28;01mreturn\u001B[39;00m obj\u001B[38;5;241m.\u001B[39m_constructor_expanddim(\u001B[38;5;28mlist\u001B[39m(mapped), index\u001B[38;5;241m=\u001B[39mobj\u001B[38;5;241m.\u001B[39mindex)\n",
      "File \u001B[1;32mD:\\work\\software\\Python39\\lib\\site-packages\\pandas\\core\\base.py:921\u001B[0m, in \u001B[0;36mIndexOpsMixin._map_values\u001B[1;34m(self, mapper, na_action, convert)\u001B[0m\n\u001B[0;32m    918\u001B[0m \u001B[38;5;28;01mif\u001B[39;00m \u001B[38;5;28misinstance\u001B[39m(arr, ExtensionArray):\n\u001B[0;32m    919\u001B[0m     \u001B[38;5;28;01mreturn\u001B[39;00m arr\u001B[38;5;241m.\u001B[39mmap(mapper, na_action\u001B[38;5;241m=\u001B[39mna_action)\n\u001B[1;32m--> 921\u001B[0m \u001B[38;5;28;01mreturn\u001B[39;00m \u001B[43malgorithms\u001B[49m\u001B[38;5;241;43m.\u001B[39;49m\u001B[43mmap_array\u001B[49m\u001B[43m(\u001B[49m\u001B[43marr\u001B[49m\u001B[43m,\u001B[49m\u001B[43m \u001B[49m\u001B[43mmapper\u001B[49m\u001B[43m,\u001B[49m\u001B[43m \u001B[49m\u001B[43mna_action\u001B[49m\u001B[38;5;241;43m=\u001B[39;49m\u001B[43mna_action\u001B[49m\u001B[43m,\u001B[49m\u001B[43m \u001B[49m\u001B[43mconvert\u001B[49m\u001B[38;5;241;43m=\u001B[39;49m\u001B[43mconvert\u001B[49m\u001B[43m)\u001B[49m\n",
      "File \u001B[1;32mD:\\work\\software\\Python39\\lib\\site-packages\\pandas\\core\\algorithms.py:1743\u001B[0m, in \u001B[0;36mmap_array\u001B[1;34m(arr, mapper, na_action, convert)\u001B[0m\n\u001B[0;32m   1741\u001B[0m values \u001B[38;5;241m=\u001B[39m arr\u001B[38;5;241m.\u001B[39mastype(\u001B[38;5;28mobject\u001B[39m, copy\u001B[38;5;241m=\u001B[39m\u001B[38;5;28;01mFalse\u001B[39;00m)\n\u001B[0;32m   1742\u001B[0m \u001B[38;5;28;01mif\u001B[39;00m na_action \u001B[38;5;129;01mis\u001B[39;00m \u001B[38;5;28;01mNone\u001B[39;00m:\n\u001B[1;32m-> 1743\u001B[0m     \u001B[38;5;28;01mreturn\u001B[39;00m \u001B[43mlib\u001B[49m\u001B[38;5;241;43m.\u001B[39;49m\u001B[43mmap_infer\u001B[49m\u001B[43m(\u001B[49m\u001B[43mvalues\u001B[49m\u001B[43m,\u001B[49m\u001B[43m \u001B[49m\u001B[43mmapper\u001B[49m\u001B[43m,\u001B[49m\u001B[43m \u001B[49m\u001B[43mconvert\u001B[49m\u001B[38;5;241;43m=\u001B[39;49m\u001B[43mconvert\u001B[49m\u001B[43m)\u001B[49m\n\u001B[0;32m   1744\u001B[0m \u001B[38;5;28;01melse\u001B[39;00m:\n\u001B[0;32m   1745\u001B[0m     \u001B[38;5;28;01mreturn\u001B[39;00m lib\u001B[38;5;241m.\u001B[39mmap_infer_mask(\n\u001B[0;32m   1746\u001B[0m         values, mapper, mask\u001B[38;5;241m=\u001B[39misna(values)\u001B[38;5;241m.\u001B[39mview(np\u001B[38;5;241m.\u001B[39muint8), convert\u001B[38;5;241m=\u001B[39mconvert\n\u001B[0;32m   1747\u001B[0m     )\n",
      "File \u001B[1;32mlib.pyx:2972\u001B[0m, in \u001B[0;36mpandas._libs.lib.map_infer\u001B[1;34m()\u001B[0m\n",
      "Cell \u001B[1;32mIn[3], line 4\u001B[0m, in \u001B[0;36m<lambda>\u001B[1;34m(x)\u001B[0m\n\u001B[0;32m      2\u001B[0m data\u001B[38;5;241m=\u001B[39mpd\u001B[38;5;241m.\u001B[39mconcat([pd\u001B[38;5;241m.\u001B[39mDataFrame(train),pd\u001B[38;5;241m.\u001B[39mDataFrame(dev),pd\u001B[38;5;241m.\u001B[39mDataFrame(test)])\n\u001B[0;32m      3\u001B[0m data\u001B[38;5;241m=\u001B[39mdata[data[\u001B[38;5;241m2\u001B[39m]\u001B[38;5;241m.\u001B[39mapply(\u001B[38;5;28;01mlambda\u001B[39;00m x:\u001B[38;5;28;01mTrue\u001B[39;00m \u001B[38;5;28;01mif\u001B[39;00m pd\u001B[38;5;241m.\u001B[39misna(x) \u001B[38;5;28;01melse\u001B[39;00m \u001B[38;5;28;01mFalse\u001B[39;00m)][[\u001B[38;5;241m0\u001B[39m,\u001B[38;5;241m1\u001B[39m]]\n\u001B[1;32m----> 4\u001B[0m data[\u001B[38;5;241m1\u001B[39m]\u001B[38;5;241m=\u001B[39mdata[\u001B[38;5;241m1\u001B[39m]\u001B[38;5;241m.\u001B[39mapply(\u001B[38;5;28;01mlambda\u001B[39;00m x:\u001B[43mx\u001B[49m\u001B[38;5;241;43m.\u001B[39;49m\u001B[43mreplace\u001B[49m(\u001B[38;5;124m\"\u001B[39m\u001B[38;5;124m \u001B[39m\u001B[38;5;124m\"\u001B[39m,\u001B[38;5;124m\"\u001B[39m\u001B[38;5;124m\"\u001B[39m ))\n",
      "\u001B[1;31mAttributeError\u001B[0m: 'NoneType' object has no attribute 'replace'"
     ]
    }
   ],
   "source": [
    "import pandas as pd\n",
    "data=pd.concat([pd.DataFrame(train),pd.DataFrame(dev),pd.DataFrame(test)])\n",
    "data=data[data[2].apply(lambda x:True if pd.isna(x) else False)][[0,1]]\n",
    "data[1]=data[1].apply(lambda x:x.replace(\" \",\"\" ))"
   ]
  },
  {
   "cell_type": "code",
   "execution_count": 109,
   "id": "252d9a8b-5157-47ac-8a3d-732a5fd2499e",
   "metadata": {},
   "outputs": [
    {
     "name": "stderr",
     "output_type": "stream",
     "text": [
      "C:\\Users\\huangkai\\AppData\\Local\\Temp\\ipykernel_10184\\4127443145.py:3: SettingWithCopyWarning: \n",
      "A value is trying to be set on a copy of a slice from a DataFrame.\n",
      "Try using .loc[row_indexer,col_indexer] = value instead\n",
      "\n",
      "See the caveats in the documentation: https://pandas.pydata.org/pandas-docs/stable/user_guide/indexing.html#returning-a-view-versus-a-copy\n",
      "  data_fuck[\"label\"]=\"FUCK\"\n"
     ]
    }
   ],
   "source": [
    "# data#.sample\n",
    "data_fuck=data[data[0]==\"__label__1\"]\n",
    "data_fuck[\"label\"]=\"FUCK\"\n",
    "data_fuck[[1,\"label\"]].to_excel(\"脏话.xlsx\")"
   ]
  },
  {
   "cell_type": "code",
   "execution_count": 34,
   "id": "e139fe90-06f8-4d5f-87a5-305da08ee9e2",
   "metadata": {},
   "outputs": [],
   "source": [
    "data[data[0]==\"__label__1\"].to_excel(\"脏话待审核.xlsx\")"
   ]
  },
  {
   "cell_type": "code",
   "execution_count": 31,
   "id": "78b3cb53-b1f0-4740-99b0-84ce225f9666",
   "metadata": {},
   "outputs": [
    {
     "data": {
      "text/plain": [
       "'早安，又见周五，愉快的一天到来了。'"
      ]
     },
     "execution_count": 31,
     "metadata": {},
     "output_type": "execute_result"
    }
   ],
   "source": [
    "string=\"早安 ， 又 见 周五 ， 愉快 的 一天 到来 了 。\"\n",
    "string.replace(\" \",\"\" )"
   ]
  },
  {
   "cell_type": "markdown",
   "id": "74fff636-eea5-438c-b1c1-a92a8ef72c1f",
   "metadata": {},
   "source": [
    "## 广告"
   ]
  },
  {
   "cell_type": "code",
   "execution_count": 4,
   "outputs": [],
   "source": [
    "import pandas as pd"
   ],
   "metadata": {
    "collapsed": false,
    "ExecuteTime": {
     "end_time": "2024-03-11T09:02:54.602668Z",
     "start_time": "2024-03-11T09:02:54.580683Z"
    }
   },
   "id": "5af36481bfef688"
  },
  {
   "cell_type": "code",
   "execution_count": 5,
   "id": "c6f184ab-69a7-42ac-bbf6-0c27db72654f",
   "metadata": {
    "ExecuteTime": {
     "end_time": "2024-03-11T09:02:55.294302Z",
     "start_time": "2024-03-11T09:02:55.173285Z"
    }
   },
   "outputs": [],
   "source": [
    "AD_Loan=open(\"AD_Loan\",encoding=\"utf-8\").readlines()\n",
    "AD_Network_service=open(\"AD_Network_service\",encoding=\"utf-8\").readlines()\n",
    "AD_Other=open(\"AD_Other\",encoding=\"utf-8\").readlines()\n",
    "AD_Real_estate=open(\"AD_Real_estate\",encoding=\"utf-8\").readlines()\n",
    "AD_Retail=open(\"AD_Retail\",encoding=\"utf-8\").readlines()"
   ]
  },
  {
   "cell_type": "code",
   "execution_count": 6,
   "id": "ee34e050-0122-4e5c-bb3f-095a8918ed92",
   "metadata": {
    "ExecuteTime": {
     "end_time": "2024-03-11T09:02:55.944374Z",
     "start_time": "2024-03-11T09:02:55.865373Z"
    }
   },
   "outputs": [],
   "source": [
    "AD_Loan=pd.DataFrame([k.strip().replace(\" \",\"\") for k in AD_Loan],columns=[\"content\"])\n",
    "\n",
    "AD_Network_service=pd.DataFrame([k.strip().replace(\" \",\"\") for k in AD_Network_service],columns=[\"content\"])\n",
    "AD_Other=pd.DataFrame([k.strip().replace(\" \",\"\") for k in AD_Other],columns=[\"content\"])\n",
    "AD_Real_estate=pd.DataFrame([k.strip().replace(\" \",\"\") for k in AD_Real_estate],columns=[\"content\"])\n",
    "AD_Retail=pd.DataFrame([k.strip().replace(\" \",\"\") for k in AD_Retail],columns=[\"content\"])\n",
    "\n",
    "AD_Loan[\"labels\"],AD_Network_service[\"labels\"],AD_Other[\"labels\"],AD_Real_estate[\"labels\"],AD_Retail[\"labels\"]=\"AD_Loan\",\"AD_Network_service\",\"AD_Other\",\"AD_Real_estate\",\"AD_Retail\""
   ]
  },
  {
   "cell_type": "code",
   "execution_count": 7,
   "id": "095c3955-84df-45ad-94c4-dfdd25d01864",
   "metadata": {
    "ExecuteTime": {
     "end_time": "2024-03-11T09:03:03.826874Z",
     "start_time": "2024-03-11T09:03:03.813875Z"
    }
   },
   "outputs": [],
   "source": [
    "data_ad=pd.concat([AD_Loan,AD_Network_service,AD_Other,AD_Real_estate,AD_Retail])\n",
    "# data_ad[\"label\"]=\"AD\""
   ]
  },
  {
   "cell_type": "code",
   "execution_count": 42,
   "id": "5d794337-1c58-45d2-adfd-80bf1fbb88e8",
   "metadata": {
    "ExecuteTime": {
     "end_time": "2024-03-11T09:17:12.993628Z",
     "start_time": "2024-03-11T09:17:12.965493Z"
    }
   },
   "outputs": [
    {
     "data": {
      "text/plain": "                                               content    labels\n107  DIGIT新PLACE高科技普通机NAME控制器不提前安装不换麻将腮子控制器起手拿好牌任何机...  AD_Other",
      "text/html": "<div>\n<style scoped>\n    .dataframe tbody tr th:only-of-type {\n        vertical-align: middle;\n    }\n\n    .dataframe tbody tr th {\n        vertical-align: top;\n    }\n\n    .dataframe thead th {\n        text-align: right;\n    }\n</style>\n<table border=\"1\" class=\"dataframe\">\n  <thead>\n    <tr style=\"text-align: right;\">\n      <th></th>\n      <th>content</th>\n      <th>labels</th>\n    </tr>\n  </thead>\n  <tbody>\n    <tr>\n      <th>107</th>\n      <td>DIGIT新PLACE高科技普通机NAME控制器不提前安装不换麻将腮子控制器起手拿好牌任何机...</td>\n      <td>AD_Other</td>\n    </tr>\n  </tbody>\n</table>\n</div>"
     },
     "execution_count": 42,
     "metadata": {},
     "output_type": "execute_result"
    }
   ],
   "source": [
    "data_ad[data_ad.content==\"DIGIT新PLACE高科技普通机NAME控制器不提前安装不换麻将腮子控制器起手拿好牌任何机麻现场测试满意购买有意者详电话CELLPHONE\"]"
   ]
  },
  {
   "cell_type": "markdown",
   "id": "afb0ca4b-a2b9-4da0-930d-a71bf5459642",
   "metadata": {},
   "source": [
    "## 违规短信"
   ]
  },
  {
   "cell_type": "code",
   "execution_count": 9,
   "id": "c7c22e4d-dfd8-410d-a62c-d99e22739a86",
   "metadata": {
    "ExecuteTime": {
     "end_time": "2024-03-11T09:03:09.042948Z",
     "start_time": "2024-03-11T09:03:08.952939Z"
    }
   },
   "outputs": [],
   "source": [
    "IL_Gambling=open(\"IL_Gambling\",encoding=\"utf-8\").readlines()\n",
    "IL_Fake_ID_and_invoice=open(\"IL_Fake_ID_and_invoice\",encoding=\"utf-8\").readlines()\n",
    "IL_Political_propaganda=open(\"IL_Political_propaganda\",encoding=\"utf-8\").readlines()\n",
    "IL_Escort_service=open(\"IL_Escort_service\",encoding=\"utf-8\").readlines()\n"
   ]
  },
  {
   "cell_type": "code",
   "execution_count": 10,
   "id": "8a7b9131-053d-4890-bad5-0d76c44efa3a",
   "metadata": {
    "ExecuteTime": {
     "end_time": "2024-03-11T09:03:10.046704Z",
     "start_time": "2024-03-11T09:03:10.005705Z"
    }
   },
   "outputs": [],
   "source": [
    "IL_Gambling=pd.DataFrame([k.strip().replace(\" \",\"\") for k in IL_Gambling],columns=[\"content\"])\n",
    "IL_Fake_ID_and_invoice=pd.DataFrame([k.strip().replace(\" \",\"\") for k in IL_Fake_ID_and_invoice],columns=[\"content\"])\n",
    "IL_Political_propaganda=pd.DataFrame([k.strip().replace(\" \",\"\") for k in IL_Political_propaganda],columns=[\"content\"])\n",
    "IL_Escort_service=pd.DataFrame([k.strip().replace(\" \",\"\") for k in IL_Escort_service],columns=[\"content\"])\n",
    "IL_Gambling[\"labels\"],IL_Fake_ID_and_invoice[\"labels\"],IL_Political_propaganda[\"labels\"],IL_Escort_service[\"labels\"]=\"IL_Gambling\",\"IL_Fake_ID_and_invoice\",\"IL_Political_propaganda\",\"IL_Escort_service\""
   ]
  },
  {
   "cell_type": "code",
   "execution_count": 11,
   "id": "6e7e80da-0fca-4a2a-af2d-3d0b8fd45089",
   "metadata": {
    "ExecuteTime": {
     "end_time": "2024-03-11T09:03:11.076841Z",
     "start_time": "2024-03-11T09:03:11.064841Z"
    }
   },
   "outputs": [],
   "source": [
    "data_illegal=pd.concat([IL_Gambling,IL_Fake_ID_and_invoice,IL_Political_propaganda])\n",
    "# data_fake[\"label\"]=\"FAKE\""
   ]
  },
  {
   "cell_type": "code",
   "execution_count": 12,
   "id": "1473be4a-d829-4ec6-bf6e-59eeb81d1aac",
   "metadata": {
    "ExecuteTime": {
     "end_time": "2024-03-11T09:03:12.150755Z",
     "start_time": "2024-03-11T09:03:12.114764Z"
    }
   },
   "outputs": [
    {
     "data": {
      "text/plain": "                                               content  \\\n0        NAME娱乐成wwwjcom已开通网络真人百家乐六合时时彩足球投注首次注册联系在线客服送元   \n1      尊敬的会员您好URL喜迎世界杯签到送豪礼人人均可参与详情请进入官网点击优惠专栏查阅恭候您的光临   \n2       用戶真人视讯游戏万大奖寻找赌神闯关活动关关都有奖励赠送专属客服微信jiajiaPHONEfn   \n3    你妈比先生您好恭喜您获得银PLACEvip厅NAME彩金元现在登录URL注册账号后凭验证码D...   \n4                   最给力的娱乐平台注册送DIGIT诚意邀请NAME小伙伴们都在玩URL   \n..                                                 ...   \n285  您曾举手把誓宣要为共产把身献誓言绝不打折扣天灭中共言兑现退党退团退少先党亡与您不相关中共必亡...   \n286  最邪恶的是在人活着的时候不打麻药从至少六万五千名法轮功学员的身上直接摘取鲜活的器官卖给需要做...   \n287                      常念NAME好法轮大法好九字吉言能保命真相网址URLddf   \n288  全世界PLACENAME一伙NAMENAMENAMENAME等也因迫害正信把自已推进了地狱一...   \n289  法轮功也叫法轮大法是一门佛家修炼大法要求修炼者按照NAME要求修心养性法轮功具有祛病健身的功...   \n\n                      labels  \n0                IL_Gambling  \n1                IL_Gambling  \n2                IL_Gambling  \n3                IL_Gambling  \n4                IL_Gambling  \n..                       ...  \n285  IL_Political_propaganda  \n286  IL_Political_propaganda  \n287  IL_Political_propaganda  \n288  IL_Political_propaganda  \n289  IL_Political_propaganda  \n\n[2466 rows x 2 columns]",
      "text/html": "<div>\n<style scoped>\n    .dataframe tbody tr th:only-of-type {\n        vertical-align: middle;\n    }\n\n    .dataframe tbody tr th {\n        vertical-align: top;\n    }\n\n    .dataframe thead th {\n        text-align: right;\n    }\n</style>\n<table border=\"1\" class=\"dataframe\">\n  <thead>\n    <tr style=\"text-align: right;\">\n      <th></th>\n      <th>content</th>\n      <th>labels</th>\n    </tr>\n  </thead>\n  <tbody>\n    <tr>\n      <th>0</th>\n      <td>NAME娱乐成wwwjcom已开通网络真人百家乐六合时时彩足球投注首次注册联系在线客服送元</td>\n      <td>IL_Gambling</td>\n    </tr>\n    <tr>\n      <th>1</th>\n      <td>尊敬的会员您好URL喜迎世界杯签到送豪礼人人均可参与详情请进入官网点击优惠专栏查阅恭候您的光临</td>\n      <td>IL_Gambling</td>\n    </tr>\n    <tr>\n      <th>2</th>\n      <td>用戶真人视讯游戏万大奖寻找赌神闯关活动关关都有奖励赠送专属客服微信jiajiaPHONEfn</td>\n      <td>IL_Gambling</td>\n    </tr>\n    <tr>\n      <th>3</th>\n      <td>你妈比先生您好恭喜您获得银PLACEvip厅NAME彩金元现在登录URL注册账号后凭验证码D...</td>\n      <td>IL_Gambling</td>\n    </tr>\n    <tr>\n      <th>4</th>\n      <td>最给力的娱乐平台注册送DIGIT诚意邀请NAME小伙伴们都在玩URL</td>\n      <td>IL_Gambling</td>\n    </tr>\n    <tr>\n      <th>...</th>\n      <td>...</td>\n      <td>...</td>\n    </tr>\n    <tr>\n      <th>285</th>\n      <td>您曾举手把誓宣要为共产把身献誓言绝不打折扣天灭中共言兑现退党退团退少先党亡与您不相关中共必亡...</td>\n      <td>IL_Political_propaganda</td>\n    </tr>\n    <tr>\n      <th>286</th>\n      <td>最邪恶的是在人活着的时候不打麻药从至少六万五千名法轮功学员的身上直接摘取鲜活的器官卖给需要做...</td>\n      <td>IL_Political_propaganda</td>\n    </tr>\n    <tr>\n      <th>287</th>\n      <td>常念NAME好法轮大法好九字吉言能保命真相网址URLddf</td>\n      <td>IL_Political_propaganda</td>\n    </tr>\n    <tr>\n      <th>288</th>\n      <td>全世界PLACENAME一伙NAMENAMENAMENAME等也因迫害正信把自已推进了地狱一...</td>\n      <td>IL_Political_propaganda</td>\n    </tr>\n    <tr>\n      <th>289</th>\n      <td>法轮功也叫法轮大法是一门佛家修炼大法要求修炼者按照NAME要求修心养性法轮功具有祛病健身的功...</td>\n      <td>IL_Political_propaganda</td>\n    </tr>\n  </tbody>\n</table>\n<p>2466 rows × 2 columns</p>\n</div>"
     },
     "execution_count": 12,
     "metadata": {},
     "output_type": "execute_result"
    }
   ],
   "source": [
    "# data_fake.to_excel(\"诈骗赌博.xlsx\")\n",
    "data_illegal"
   ]
  },
  {
   "cell_type": "markdown",
   "source": [
    "## 诈骗短信"
   ],
   "metadata": {
    "collapsed": false
   },
   "id": "70af949279c07a94"
  },
  {
   "cell_type": "code",
   "execution_count": 13,
   "outputs": [],
   "source": [
    "FR_Financial=open(\"FR_Financial\",encoding=\"utf-8\").readlines()\n",
    "FR_Other=open(\"FR_Other\",encoding=\"utf-8\").readlines()\n",
    "FR_Phishing=open(\"FR_Phishing(Bank)\",encoding=\"utf-8\").readlines()\n",
    "\n",
    "FR_Financial=pd.DataFrame([k.strip().replace(\" \",\"\") for k in FR_Financial],columns=[\"content\"])\n",
    "FR_Other=pd.DataFrame([k.strip().replace(\" \",\"\") for k in FR_Other],columns=[\"content\"])\n",
    "FR_Phishing=pd.DataFrame([k.strip().replace(\" \",\"\") for k in FR_Phishing],columns=[\"content\"])\n",
    "\n",
    "FR_Financial[\"labels\"],FR_Other[\"labels\"],FR_Phishing[\"labels\"]=\"FR_Financial\",\"FR_Other\",\"FR_Phishing\"\n",
    "\n",
    "data_fr=pd.concat([FR_Financial,FR_Other,FR_Phishing])"
   ],
   "metadata": {
    "collapsed": false,
    "ExecuteTime": {
     "end_time": "2024-03-11T09:03:16.603124Z",
     "start_time": "2024-03-11T09:03:16.485960Z"
    }
   },
   "id": "dd1d8a9ad475452c"
  },
  {
   "cell_type": "markdown",
   "source": [
    "## 辱骂短信"
   ],
   "metadata": {
    "collapsed": false
   },
   "id": "25cbc5f5c4b3f0b0"
  },
  {
   "cell_type": "code",
   "execution_count": 14,
   "outputs": [],
   "source": [
    "data_fuck=pd.read_excel(\"脏话.xlsx\")\n",
    "data_fuck=data_fuck[[1,\"label\"]]\n",
    "data_fuck.columns=[\"content\",\"labels\"]"
   ],
   "metadata": {
    "collapsed": false,
    "ExecuteTime": {
     "end_time": "2024-03-11T09:03:26.294291Z",
     "start_time": "2024-03-11T09:03:20.498863Z"
    }
   },
   "id": "fbd0f3f0e7b07857"
  },
  {
   "cell_type": "code",
   "execution_count": 15,
   "outputs": [],
   "source": [
    "data_fuck = data_fuck[~data_fuck[\"content\"].apply(lambda x: pd.isna(x) or x.strip()==\"\")]"
   ],
   "metadata": {
    "collapsed": false,
    "ExecuteTime": {
     "end_time": "2024-03-11T09:03:26.371918Z",
     "start_time": "2024-03-11T09:03:26.308291Z"
    }
   },
   "id": "242eb6ebe3055388"
  },
  {
   "cell_type": "code",
   "execution_count": 16,
   "outputs": [
    {
     "data": {
      "text/plain": "(14952, 2)"
     },
     "execution_count": 16,
     "metadata": {},
     "output_type": "execute_result"
    }
   ],
   "source": [
    "data_fuck.shape"
   ],
   "metadata": {
    "collapsed": false,
    "ExecuteTime": {
     "end_time": "2024-03-11T09:03:26.403918Z",
     "start_time": "2024-03-11T09:03:26.377918Z"
    }
   },
   "id": "26d72c4771fca4d3"
  },
  {
   "cell_type": "code",
   "execution_count": 17,
   "outputs": [],
   "source": [
    "import re\n",
    "data_fuck[\"content\"]=data_fuck[\"content\"].apply(lambda x:re.sub(r'[\\W]','',x))"
   ],
   "metadata": {
    "collapsed": false,
    "ExecuteTime": {
     "end_time": "2024-03-11T09:03:29.614730Z",
     "start_time": "2024-03-11T09:03:29.432739Z"
    }
   },
   "id": "3952d7dbac317f95"
  },
  {
   "cell_type": "code",
   "execution_count": 18,
   "outputs": [
    {
     "data": {
      "text/plain": "                                                 content labels\n0                  那就去解救啊把那些爹妈和那个磁暴步兵抓起来啊都他女马快成邪教了思考思考思考   FUCK\n1                                  在这狂吠是能给亻尔死去的全家弹奏一曲东风破   FUCK\n2                 殊不知你爹我一个不小心用力过猛一巴掌将你表姊妈的狗头拍出脑震荡成了真正的白癡   FUCK\n3      你们难道不知道北京厨子是个傻子疯子痞子安检仪的辐射剂量非常低其累加值与本底辐射相比低的可怜你...   FUCK\n4      拉黑之前不通知的你全家被大狼狗论剑我就不一一艾特啦都是几个b什么人啊啊我曹老子一个一个手打发...   FUCK\n...                                                  ...    ...\n14948                                          你本该被射在墙上的   FUCK\n14949                             你丫的属黄瓜的欠拍属陀螺的欠抽属足球的欠踹是   FUCK\n14950                                        看看这大当家的舞池嘴脸   FUCK\n14951                                              cao你妈   FUCK\n14952       我不是几年我是亻尔爸爸亻囟儿夂逼真的会判刑口马亻尔是几年傻逼判几年强奸判几年急的很在线等   FUCK\n\n[14952 rows x 2 columns]",
      "text/html": "<div>\n<style scoped>\n    .dataframe tbody tr th:only-of-type {\n        vertical-align: middle;\n    }\n\n    .dataframe tbody tr th {\n        vertical-align: top;\n    }\n\n    .dataframe thead th {\n        text-align: right;\n    }\n</style>\n<table border=\"1\" class=\"dataframe\">\n  <thead>\n    <tr style=\"text-align: right;\">\n      <th></th>\n      <th>content</th>\n      <th>labels</th>\n    </tr>\n  </thead>\n  <tbody>\n    <tr>\n      <th>0</th>\n      <td>那就去解救啊把那些爹妈和那个磁暴步兵抓起来啊都他女马快成邪教了思考思考思考</td>\n      <td>FUCK</td>\n    </tr>\n    <tr>\n      <th>1</th>\n      <td>在这狂吠是能给亻尔死去的全家弹奏一曲东风破</td>\n      <td>FUCK</td>\n    </tr>\n    <tr>\n      <th>2</th>\n      <td>殊不知你爹我一个不小心用力过猛一巴掌将你表姊妈的狗头拍出脑震荡成了真正的白癡</td>\n      <td>FUCK</td>\n    </tr>\n    <tr>\n      <th>3</th>\n      <td>你们难道不知道北京厨子是个傻子疯子痞子安检仪的辐射剂量非常低其累加值与本底辐射相比低的可怜你...</td>\n      <td>FUCK</td>\n    </tr>\n    <tr>\n      <th>4</th>\n      <td>拉黑之前不通知的你全家被大狼狗论剑我就不一一艾特啦都是几个b什么人啊啊我曹老子一个一个手打发...</td>\n      <td>FUCK</td>\n    </tr>\n    <tr>\n      <th>...</th>\n      <td>...</td>\n      <td>...</td>\n    </tr>\n    <tr>\n      <th>14948</th>\n      <td>你本该被射在墙上的</td>\n      <td>FUCK</td>\n    </tr>\n    <tr>\n      <th>14949</th>\n      <td>你丫的属黄瓜的欠拍属陀螺的欠抽属足球的欠踹是</td>\n      <td>FUCK</td>\n    </tr>\n    <tr>\n      <th>14950</th>\n      <td>看看这大当家的舞池嘴脸</td>\n      <td>FUCK</td>\n    </tr>\n    <tr>\n      <th>14951</th>\n      <td>cao你妈</td>\n      <td>FUCK</td>\n    </tr>\n    <tr>\n      <th>14952</th>\n      <td>我不是几年我是亻尔爸爸亻囟儿夂逼真的会判刑口马亻尔是几年傻逼判几年强奸判几年急的很在线等</td>\n      <td>FUCK</td>\n    </tr>\n  </tbody>\n</table>\n<p>14952 rows × 2 columns</p>\n</div>"
     },
     "execution_count": 18,
     "metadata": {},
     "output_type": "execute_result"
    }
   ],
   "source": [
    "data_fuck"
   ],
   "metadata": {
    "collapsed": false,
    "ExecuteTime": {
     "end_time": "2024-03-11T09:03:30.599333Z",
     "start_time": "2024-03-11T09:03:30.572333Z"
    }
   },
   "id": "51130fe28bbad12"
  },
  {
   "cell_type": "code",
   "execution_count": 19,
   "outputs": [],
   "source": [
    "data_neg=pd.concat([data_ad,data_illegal,data_fr,data_fuck]).sample(frac=1.0).reset_index(drop=True)"
   ],
   "metadata": {
    "collapsed": false,
    "ExecuteTime": {
     "end_time": "2024-03-11T09:03:43.665773Z",
     "start_time": "2024-03-11T09:03:43.624769Z"
    }
   },
   "id": "6146752d51c7ecb8"
  },
  {
   "cell_type": "code",
   "execution_count": 20,
   "outputs": [
    {
     "data": {
      "text/plain": "labels\nFUCK                       14952\nAD_Retail                   4669\nAD_Network_service          2127\nFR_Phishing                 1900\nIL_Gambling                 1681\nAD_Other                     926\nFR_Other                     711\nIL_Fake_ID_and_invoice       495\nAD_Real_estate               322\nIL_Political_propaganda      290\nAD_Loan                      283\nFR_Financial                 164\nName: count, dtype: int64"
     },
     "execution_count": 20,
     "metadata": {},
     "output_type": "execute_result"
    }
   ],
   "source": [
    "data_neg.labels.value_counts()"
   ],
   "metadata": {
    "collapsed": false,
    "ExecuteTime": {
     "end_time": "2024-03-11T09:03:45.781013Z",
     "start_time": "2024-03-11T09:03:45.756012Z"
    }
   },
   "id": "81664d6d22d34c1e"
  },
  {
   "cell_type": "markdown",
   "id": "8f2d2c56-106b-47cb-b51e-8f832a74fffd",
   "metadata": {},
   "source": [
    "## 正常"
   ]
  },
  {
   "cell_type": "code",
   "execution_count": 23,
   "outputs": [],
   "source": [
    "train = open(r\"D:\\work\\qiji_compet\\code\\data\\dataset\\data_orig\\train.txt\", encoding=\"utf8\").readlines()\n",
    "dev = open(r\"D:\\work\\qiji_compet\\code\\data\\dataset\\data_orig\\dev.txt\", encoding=\"utf8\").readlines()\n",
    "test = open(r\"D:\\work\\qiji_compet\\code\\data\\dataset\\data_orig\\test.txt\", encoding=\"utf8\").readlines()\n",
    "train = [k.strip().split(\"\\t\") for k in train]\n",
    "dev = [k.strip().split(\"\\t\") for k in dev]\n",
    "test = [k.strip().split(\"\\t\") for k in test]\n",
    "import pandas as pd\n",
    "\n",
    "data = pd.concat([pd.DataFrame(train), pd.DataFrame(dev), pd.DataFrame(test)])\n",
    "data = data[~data[1].apply(lambda x: True if pd.isnull(x) else False)][[0,1]]\n",
    "data[1] = data[1].apply(lambda x: x.replace(\" \", \"\"))\n"
   ],
   "metadata": {
    "collapsed": false,
    "ExecuteTime": {
     "end_time": "2024-03-11T09:04:44.438484Z",
     "start_time": "2024-03-11T09:04:43.352229Z"
    }
   },
   "id": "3a230e089fe3142a"
  },
  {
   "cell_type": "code",
   "execution_count": 24,
   "outputs": [
    {
     "data": {
      "text/plain": "                0                                                  1\n0      __label__0  哇晒！这999个不错！试睡！嘻嘻！我来招募嘉宾！步步动心菲律宾走起！兔头带不了！火锅底料木有...\n1      __label__0  【成都到昆明只需10小时】26日上午，全长63.58公里de云南省武定至昆明高速公路建成通车...\n2      __label__0  去年cj亻故的最有意思的一件事是，奔向一个领了满身礼品的小伙面前满脸苦相说“某某道具已经衤皮...\n3      __label__0  我扌察！刚发现原来我已经衤皮这么彻底的拉口丷土灬了，拉的太特么全面了，这将是人生载入史册的一...\n4      __label__1     那就去解救啊，把那些爹妈和那个磁暴步兵抓起来啊，都他女马快成邪教了！[思考][思考][思考]\n...           ...                                                ...\n11798  __label__0                                          我已给你填好交上了\n11799  __label__0                                             下午去卖车吧\n11800  __label__0                  帝都干燥的天气真是折mo人啊，刚来一天就yan睛嘴巴鼻子干的要si\n11801  __label__0                                         用心去感悟美丽人生！\n11802  __label__0                                             反正是做好事\n\n[82335 rows x 2 columns]",
      "text/html": "<div>\n<style scoped>\n    .dataframe tbody tr th:only-of-type {\n        vertical-align: middle;\n    }\n\n    .dataframe tbody tr th {\n        vertical-align: top;\n    }\n\n    .dataframe thead th {\n        text-align: right;\n    }\n</style>\n<table border=\"1\" class=\"dataframe\">\n  <thead>\n    <tr style=\"text-align: right;\">\n      <th></th>\n      <th>0</th>\n      <th>1</th>\n    </tr>\n  </thead>\n  <tbody>\n    <tr>\n      <th>0</th>\n      <td>__label__0</td>\n      <td>哇晒！这999个不错！试睡！嘻嘻！我来招募嘉宾！步步动心菲律宾走起！兔头带不了！火锅底料木有...</td>\n    </tr>\n    <tr>\n      <th>1</th>\n      <td>__label__0</td>\n      <td>【成都到昆明只需10小时】26日上午，全长63.58公里de云南省武定至昆明高速公路建成通车...</td>\n    </tr>\n    <tr>\n      <th>2</th>\n      <td>__label__0</td>\n      <td>去年cj亻故的最有意思的一件事是，奔向一个领了满身礼品的小伙面前满脸苦相说“某某道具已经衤皮...</td>\n    </tr>\n    <tr>\n      <th>3</th>\n      <td>__label__0</td>\n      <td>我扌察！刚发现原来我已经衤皮这么彻底的拉口丷土灬了，拉的太特么全面了，这将是人生载入史册的一...</td>\n    </tr>\n    <tr>\n      <th>4</th>\n      <td>__label__1</td>\n      <td>那就去解救啊，把那些爹妈和那个磁暴步兵抓起来啊，都他女马快成邪教了！[思考][思考][思考]</td>\n    </tr>\n    <tr>\n      <th>...</th>\n      <td>...</td>\n      <td>...</td>\n    </tr>\n    <tr>\n      <th>11798</th>\n      <td>__label__0</td>\n      <td>我已给你填好交上了</td>\n    </tr>\n    <tr>\n      <th>11799</th>\n      <td>__label__0</td>\n      <td>下午去卖车吧</td>\n    </tr>\n    <tr>\n      <th>11800</th>\n      <td>__label__0</td>\n      <td>帝都干燥的天气真是折mo人啊，刚来一天就yan睛嘴巴鼻子干的要si</td>\n    </tr>\n    <tr>\n      <th>11801</th>\n      <td>__label__0</td>\n      <td>用心去感悟美丽人生！</td>\n    </tr>\n    <tr>\n      <th>11802</th>\n      <td>__label__0</td>\n      <td>反正是做好事</td>\n    </tr>\n  </tbody>\n</table>\n<p>82335 rows × 2 columns</p>\n</div>"
     },
     "execution_count": 24,
     "metadata": {},
     "output_type": "execute_result"
    }
   ],
   "source": [
    "data"
   ],
   "metadata": {
    "collapsed": false,
    "ExecuteTime": {
     "end_time": "2024-03-11T09:04:45.472860Z",
     "start_time": "2024-03-11T09:04:45.439861Z"
    }
   },
   "id": "7e0c59d614ab56f2"
  },
  {
   "cell_type": "code",
   "execution_count": 25,
   "id": "84c3a834-39c2-4db6-b202-c85d830efff4",
   "metadata": {
    "ExecuteTime": {
     "end_time": "2024-03-11T09:04:49.156242Z",
     "start_time": "2024-03-11T09:04:49.097896Z"
    }
   },
   "outputs": [],
   "source": [
    "\n",
    "data2=data[data[0]==\"__label__0\"]\n",
    "data2.columns=[\"labels\",\"content\"]"
   ]
  },
  {
   "cell_type": "code",
   "execution_count": 26,
   "id": "5717cbdc-222c-48d8-8ca4-07a8b2342f99",
   "metadata": {
    "ExecuteTime": {
     "end_time": "2024-03-11T09:05:12.779158Z",
     "start_time": "2024-03-11T09:05:05.059238Z"
    }
   },
   "outputs": [
    {
     "data": {
      "text/plain": "                    content\n30               去不去east吃饭啊\n31            不是吧 我刚刚竟然看到他了\n32  我去不了了 还有好多作业呢 sorry啦～～～\n33                  你下课来找我哈\n34              烦死了 老师讲课真没劲",
      "text/html": "<div>\n<style scoped>\n    .dataframe tbody tr th:only-of-type {\n        vertical-align: middle;\n    }\n\n    .dataframe tbody tr th {\n        vertical-align: top;\n    }\n\n    .dataframe thead th {\n        text-align: right;\n    }\n</style>\n<table border=\"1\" class=\"dataframe\">\n  <thead>\n    <tr style=\"text-align: right;\">\n      <th></th>\n      <th>content</th>\n    </tr>\n  </thead>\n  <tbody>\n    <tr>\n      <th>30</th>\n      <td>去不去east吃饭啊</td>\n    </tr>\n    <tr>\n      <th>31</th>\n      <td>不是吧 我刚刚竟然看到他了</td>\n    </tr>\n    <tr>\n      <th>32</th>\n      <td>我去不了了 还有好多作业呢 sorry啦～～～</td>\n    </tr>\n    <tr>\n      <th>33</th>\n      <td>你下课来找我哈</td>\n    </tr>\n    <tr>\n      <th>34</th>\n      <td>烦死了 老师讲课真没劲</td>\n    </tr>\n  </tbody>\n</table>\n</div>"
     },
     "execution_count": 26,
     "metadata": {},
     "output_type": "execute_result"
    }
   ],
   "source": [
    "data3=pd.read_excel(\"D:\\work\\qiji_compet\\code\\data\\dataset\\data_orig\\SMS.xlsx\",index_col=0)\n",
    "data3.columns=[\"content\"]\n",
    "data3.head()"
   ]
  },
  {
   "cell_type": "code",
   "execution_count": 27,
   "id": "6d0dce10-80ac-4504-b331-7b52072c4949",
   "metadata": {
    "ExecuteTime": {
     "end_time": "2024-03-11T09:05:20.336979Z",
     "start_time": "2024-03-11T09:05:20.302066Z"
    }
   },
   "outputs": [],
   "source": [
    "data_pos=pd.concat([data2[[\"content\"]],data3])\n",
    "data_pos[\"labels\"]=\"NORMAL\""
   ]
  },
  {
   "cell_type": "code",
   "execution_count": 177,
   "outputs": [
    {
     "data": {
      "text/plain": "                                                 content  labels\n0      哇晒！这999个不错！试睡！嘻嘻！我来招募嘉宾！步步动心菲律宾走起！兔头带不了！火锅底料木有...  NORMAL\n1      【成都到昆明只需10小时】26日上午，全长63.58公里de云南省武定至昆明高速公路建成通车...  NORMAL\n2      去年cj亻故的最有意思的一件事是，奔向一个领了满身礼品的小伙面前满脸苦相说“某某道具已经衤皮...  NORMAL\n3      我扌察！刚发现原来我已经衤皮这么彻底的拉口丷土灬了，拉的太特么全面了，这将是人生载入史册的一...  NORMAL\n11                                        亲们，这孩子好有爱，收了-吧  NORMAL\n...                                                  ...     ...\n31460                                            到了，没有字呀  NORMAL\n31461                                             好的，谢谢！  NORMAL\n31462                                      还有票，不急，等一下，稍等  NORMAL\n31463                                              买吧，谢谢  NORMAL\n31464                                            帮忙看看车票吧  NORMAL\n\n[72648 rows x 2 columns]",
      "text/html": "<div>\n<style scoped>\n    .dataframe tbody tr th:only-of-type {\n        vertical-align: middle;\n    }\n\n    .dataframe tbody tr th {\n        vertical-align: top;\n    }\n\n    .dataframe thead th {\n        text-align: right;\n    }\n</style>\n<table border=\"1\" class=\"dataframe\">\n  <thead>\n    <tr style=\"text-align: right;\">\n      <th></th>\n      <th>content</th>\n      <th>labels</th>\n    </tr>\n  </thead>\n  <tbody>\n    <tr>\n      <th>0</th>\n      <td>哇晒！这999个不错！试睡！嘻嘻！我来招募嘉宾！步步动心菲律宾走起！兔头带不了！火锅底料木有...</td>\n      <td>NORMAL</td>\n    </tr>\n    <tr>\n      <th>1</th>\n      <td>【成都到昆明只需10小时】26日上午，全长63.58公里de云南省武定至昆明高速公路建成通车...</td>\n      <td>NORMAL</td>\n    </tr>\n    <tr>\n      <th>2</th>\n      <td>去年cj亻故的最有意思的一件事是，奔向一个领了满身礼品的小伙面前满脸苦相说“某某道具已经衤皮...</td>\n      <td>NORMAL</td>\n    </tr>\n    <tr>\n      <th>3</th>\n      <td>我扌察！刚发现原来我已经衤皮这么彻底的拉口丷土灬了，拉的太特么全面了，这将是人生载入史册的一...</td>\n      <td>NORMAL</td>\n    </tr>\n    <tr>\n      <th>11</th>\n      <td>亲们，这孩子好有爱，收了-吧</td>\n      <td>NORMAL</td>\n    </tr>\n    <tr>\n      <th>...</th>\n      <td>...</td>\n      <td>...</td>\n    </tr>\n    <tr>\n      <th>31460</th>\n      <td>到了，没有字呀</td>\n      <td>NORMAL</td>\n    </tr>\n    <tr>\n      <th>31461</th>\n      <td>好的，谢谢！</td>\n      <td>NORMAL</td>\n    </tr>\n    <tr>\n      <th>31462</th>\n      <td>还有票，不急，等一下，稍等</td>\n      <td>NORMAL</td>\n    </tr>\n    <tr>\n      <th>31463</th>\n      <td>买吧，谢谢</td>\n      <td>NORMAL</td>\n    </tr>\n    <tr>\n      <th>31464</th>\n      <td>帮忙看看车票吧</td>\n      <td>NORMAL</td>\n    </tr>\n  </tbody>\n</table>\n<p>72648 rows × 2 columns</p>\n</div>"
     },
     "execution_count": 177,
     "metadata": {},
     "output_type": "execute_result"
    }
   ],
   "source": [
    "data_pos"
   ],
   "metadata": {
    "collapsed": false,
    "ExecuteTime": {
     "end_time": "2024-03-09T18:04:46.473216300Z",
     "start_time": "2024-03-09T18:04:46.448214600Z"
    }
   },
   "id": "37f28543cdb2297d"
  },
  {
   "cell_type": "code",
   "execution_count": 28,
   "outputs": [],
   "source": [
    "\n",
    "data_pos[\"content\"] = data_pos[\"content\"].apply(lambda x: str(x).replace(\" \", \"\"))\n",
    "data_pos[\"content\"] = data_pos[\"content\"].apply(lambda x:re.sub(r'[\\W]','',x))\n",
    "data_pos = data_pos[~data_pos[\"content\"].apply(lambda x: True if pd.isnull(x) or x.strip()==\"\" else False)][[\"content\",\"labels\"]]"
   ],
   "metadata": {
    "collapsed": false,
    "ExecuteTime": {
     "end_time": "2024-03-11T09:05:24.893495Z",
     "start_time": "2024-03-11T09:05:23.637540Z"
    }
   },
   "id": "c1dcebe5e25cb991"
  },
  {
   "cell_type": "code",
   "execution_count": 44,
   "outputs": [
    {
     "data": {
      "text/plain": "Empty DataFrame\nColumns: [content, labels, labels_binary]\nIndex: []",
      "text/html": "<div>\n<style scoped>\n    .dataframe tbody tr th:only-of-type {\n        vertical-align: middle;\n    }\n\n    .dataframe tbody tr th {\n        vertical-align: top;\n    }\n\n    .dataframe thead th {\n        text-align: right;\n    }\n</style>\n<table border=\"1\" class=\"dataframe\">\n  <thead>\n    <tr style=\"text-align: right;\">\n      <th></th>\n      <th>content</th>\n      <th>labels</th>\n      <th>labels_binary</th>\n    </tr>\n  </thead>\n  <tbody>\n  </tbody>\n</table>\n</div>"
     },
     "execution_count": 44,
     "metadata": {},
     "output_type": "execute_result"
    }
   ],
   "source": [
    "data_pos[data_pos.content==\"133你是变态\"]"
   ],
   "metadata": {
    "collapsed": false,
    "ExecuteTime": {
     "end_time": "2024-03-11T09:24:45.109882Z",
     "start_time": "2024-03-11T09:24:45.065884Z"
    }
   },
   "id": "d67b33d7a7827942"
  },
  {
   "cell_type": "code",
   "execution_count": 30,
   "outputs": [
    {
     "data": {
      "text/plain": "((72462, 2), (28520, 2))"
     },
     "execution_count": 30,
     "metadata": {},
     "output_type": "execute_result"
    }
   ],
   "source": [
    "data_pos.shape,data_neg.shape"
   ],
   "metadata": {
    "collapsed": false,
    "ExecuteTime": {
     "end_time": "2024-03-11T09:05:31.154186Z",
     "start_time": "2024-03-11T09:05:31.139112Z"
    }
   },
   "id": "9609055807f66890"
  },
  {
   "cell_type": "code",
   "execution_count": 193,
   "outputs": [],
   "source": [],
   "metadata": {
    "collapsed": false,
    "ExecuteTime": {
     "end_time": "2024-03-09T18:58:41.166386300Z",
     "start_time": "2024-03-09T18:58:40.860350100Z"
    }
   },
   "id": "d3e833a837877e54"
  },
  {
   "cell_type": "code",
   "execution_count": 45,
   "id": "ad6fd8c6-a70d-4407-84f1-1ccb2e2de25c",
   "metadata": {
    "ExecuteTime": {
     "end_time": "2024-03-11T09:25:16.636032Z",
     "start_time": "2024-03-11T09:25:15.416617Z"
    }
   },
   "outputs": [
    {
     "data": {
      "text/plain": "(65899, 3)"
     },
     "execution_count": 45,
     "metadata": {},
     "output_type": "execute_result"
    }
   ],
   "source": [
    "# 二分类：\n",
    "data_pos[\"labels_binary\"]=1\n",
    "data_neg[\"labels_binary\"]=0\n",
    "data_binary=pd.concat([data_pos,data_neg]).sample(frac=1.0).reset_index(drop=True)\n",
    "data_binary=data_binary[~data_binary[\"content\"].apply(lambda x:True if pd.isna(x) or x.strip()==\"\" else False)]\n",
    "data_binary[\"content\"]=data_binary[\"content\"].apply(lambda x:str(x).replace(\" \",\"\" ))\n",
    "data_binary[\"content\"]=data_binary[\"content\"].apply(lambda x:re.sub(r'[\\W]','',x))\n",
    "data_binary=data_binary.drop_duplicates()\n",
    "data_binary.shape"
   ]
  },
  {
   "cell_type": "code",
   "execution_count": 46,
   "outputs": [
    {
     "data": {
      "text/plain": "       content labels  labels_binary\n62072  133你是变态   FUCK              0",
      "text/html": "<div>\n<style scoped>\n    .dataframe tbody tr th:only-of-type {\n        vertical-align: middle;\n    }\n\n    .dataframe tbody tr th {\n        vertical-align: top;\n    }\n\n    .dataframe thead th {\n        text-align: right;\n    }\n</style>\n<table border=\"1\" class=\"dataframe\">\n  <thead>\n    <tr style=\"text-align: right;\">\n      <th></th>\n      <th>content</th>\n      <th>labels</th>\n      <th>labels_binary</th>\n    </tr>\n  </thead>\n  <tbody>\n    <tr>\n      <th>62072</th>\n      <td>133你是变态</td>\n      <td>FUCK</td>\n      <td>0</td>\n    </tr>\n  </tbody>\n</table>\n</div>"
     },
     "execution_count": 46,
     "metadata": {},
     "output_type": "execute_result"
    }
   ],
   "source": [
    "data_binary[data_binary.content==\"133你是变态\"]"
   ],
   "metadata": {
    "collapsed": false,
    "ExecuteTime": {
     "end_time": "2024-03-11T09:25:31.507761Z",
     "start_time": "2024-03-11T09:25:31.465737Z"
    }
   },
   "id": "4d9da92ea4593f54"
  },
  {
   "cell_type": "code",
   "execution_count": 198,
   "outputs": [
    {
     "data": {
      "text/plain": "((52719, 3), (6590, 3), (6590, 3))"
     },
     "execution_count": 198,
     "metadata": {},
     "output_type": "execute_result"
    }
   ],
   "source": [
    "train_binary=data_binary[:int(0.8*len(data_binary))]\n",
    "dev_binary=data_binary[int(0.8*len(data_binary)):int(0.9*len(data_binary))]\n",
    "test_binary=data_binary[int(0.9*len(data_binary)):]\n",
    "train_binary.shape,dev_binary.shape,test_binary.shape"
   ],
   "metadata": {
    "collapsed": false,
    "ExecuteTime": {
     "end_time": "2024-03-09T19:00:00.624190800Z",
     "start_time": "2024-03-09T19:00:00.603161700Z"
    }
   },
   "id": "96722b875ca581d4"
  },
  {
   "cell_type": "code",
   "execution_count": 199,
   "id": "4dd2cb54-64ea-4541-a539-8a6638992321",
   "metadata": {
    "ExecuteTime": {
     "end_time": "2024-03-09T19:00:10.184312800Z",
     "start_time": "2024-03-09T19:00:03.685873400Z"
    }
   },
   "outputs": [],
   "source": [
    "train_binary[[\"content\",\"labels_binary\"]].to_excel(r\"D:\\code\\qiji_compet\\code\\data\\dataset\\binary_cls_data\\train_binary.xlsx\")\n",
    "dev_binary[[\"content\",\"labels_binary\"]].to_excel(r\"D:\\code\\qiji_compet\\code\\data\\dataset\\binary_cls_data\\dev_binary.xlsx\")\n",
    "test_binary[[\"content\",\"labels_binary\"]].to_excel(r\"D:\\code\\qiji_compet\\code\\data\\dataset\\binary_cls_data\\test_binary.xlsx\")"
   ]
  },
  {
   "cell_type": "code",
   "execution_count": 200,
   "id": "7be307c0-91d2-4f9c-868c-9ba1c6eabc36",
   "metadata": {
    "ExecuteTime": {
     "end_time": "2024-03-09T19:00:19.167276Z",
     "start_time": "2024-03-09T19:00:12.131593200Z"
    }
   },
   "outputs": [],
   "source": [
    "train_binary[[\"content\",\"labels\"]].to_excel(r\"D:\\code\\qiji_compet\\code\\data\\dataset\\multi_cls_data\\train_multi.xlsx\")\n",
    "dev_binary[[\"content\",\"labels\"]].to_excel(r\"D:\\code\\qiji_compet\\code\\data\\dataset\\multi_cls_data\\dev_multi.xlsx\")\n",
    "test_binary[[\"content\",\"labels\"]].to_excel(r\"D:\\code\\qiji_compet\\code\\data\\dataset\\multi_cls_data\\test_multi.xlsx\")"
   ]
  },
  {
   "cell_type": "code",
   "execution_count": 11,
   "id": "eb42e728-98c0-490a-83c9-615ab2e88827",
   "metadata": {
    "ExecuteTime": {
     "end_time": "2024-02-20T03:36:28.925655400Z",
     "start_time": "2024-02-20T03:36:28.847539700Z"
    }
   },
   "outputs": [
    {
     "data": {
      "text/plain": "label\nNORMAL       20773\nFUCK         14974\nAD            8327\nFAKE          2176\nPOLITICAL      290\nSEX            110\nName: count, dtype: int64"
     },
     "execution_count": 11,
     "metadata": {},
     "output_type": "execute_result"
    }
   ],
   "source": [
    "data_multi_v2.label.value_counts()"
   ]
  },
  {
   "cell_type": "code",
   "execution_count": 28,
   "id": "4c9c039e-5302-4156-81a0-ee3acf0bb026",
   "metadata": {},
   "outputs": [],
   "source": [
    "data_multi_v2=data_multi_v2.sample(frac=1.0)\n",
    "train_multi_v2=[\"\\t\".join(k[::-1]) for k in data_multi_v2[:int(0.8*len(data_multi_v2))][[\"content\",\"label_fasttext\"]].values]\n",
    "dev_multi_v2=[\"\\t\".join(k[::-1]) for k in data_multi_v2[int(0.8*len(data_multi_v2)):int(0.9*len(data_multi_v2))][[\"content\",\"label_fasttext\"]].values]\n",
    "test_multi_v2=[\"\\t\".join(k[::-1]) for k in data_multi_v2[int(0.9*len(data_multi_v2)):][[\"content\",\"label_fasttext\"]].values]"
   ]
  },
  {
   "cell_type": "code",
   "execution_count": 32,
   "id": "fd07f274-b38b-4247-be1e-12a275a67ed2",
   "metadata": {},
   "outputs": [],
   "source": [
    "with open(\"fasttext_data/train.txt\",\"w\",encoding=\"utf8\") as f:\n",
    "    for unit in train_multi_v2:\n",
    "        f.write(unit)\n",
    "        f.write(\"\\n\")\n",
    "with open(\"fasttext_data/dev.txt\",\"w\",encoding=\"utf8\") as f:\n",
    "    for unit in dev_multi_v2:\n",
    "        f.write(unit)\n",
    "        f.write(\"\\n\")\n",
    "with open(\"fasttext_data/test.txt\",\"w\",encoding=\"utf8\") as f:\n",
    "    for unit in test_multi_v2:\n",
    "        f.write(unit)\n",
    "        f.write(\"\\n\")"
   ]
  },
  {
   "cell_type": "code",
   "execution_count": 29,
   "id": "a3cd5bd0-44fa-412c-90e0-3892b4742a7e",
   "metadata": {},
   "outputs": [
    {
     "data": {
      "text/plain": [
       "'__label__0\\t要是能合法砍人我第一个砍死楼上王八蛋蹦ni麻痹啊'"
      ]
     },
     "execution_count": 29,
     "metadata": {},
     "output_type": "execute_result"
    }
   ],
   "source": [
    "train_multi_v2[0]"
   ]
  },
  {
   "cell_type": "code",
   "execution_count": 37,
   "id": "980317e7-9601-47ca-b884-3055b07ba0ae",
   "metadata": {},
   "outputs": [],
   "source": [
    "import numpy as np\n",
    "dicts1=dict(zip(data_multi.label.unique(),[\"__label__\"+str(i) for i in np.arange(len(data_multi.label.unique()))]))\n",
    "dicts2=dict(zip(data_binary.label.unique(),[\"__label__\"+str(i) for i in np.arange(len(data_binary.label.unique()))]))"
   ]
  },
  {
   "cell_type": "code",
   "execution_count": 40,
   "id": "82fbd92a-18be-4ed0-ab3c-81f5a49f06f6",
   "metadata": {},
   "outputs": [
    {
     "data": {
      "text/plain": [
       "array([8848,\n",
       "       '亻尔这词穷土狗复习了大半年亻尔的小学造句对爹也是毫无伤害殊不知亻尔婊子妈逼水四射的莲花火兰辶畐早已衤皮爹肆意践踏变得干枯无力',\n",
       "       'FUCK'], dtype=object)"
      ]
     },
     "execution_count": 40,
     "metadata": {},
     "output_type": "execute_result"
    }
   ],
   "source": [
    "train_multi.values[0]"
   ]
  },
  {
   "cell_type": "code",
   "execution_count": 43,
   "id": "bd5bc47e-471e-424a-bdab-d116d41618e3",
   "metadata": {},
   "outputs": [
    {
     "data": {
      "text/plain": [
       "1"
      ]
     },
     "execution_count": 43,
     "metadata": {},
     "output_type": "execute_result"
    }
   ],
   "source": [
    "unit[2]"
   ]
  },
  {
   "cell_type": "code",
   "execution_count": 44,
   "id": "02f5666b-eac2-4467-9e0c-2ebf51ce7635",
   "metadata": {},
   "outputs": [],
   "source": [
    "train_binary=pd.read_excel(\"binary_cls_data/train_binary.xlsx\")\n",
    "dev_binary=pd.read_excel(\"binary_cls_data/dev_binary.xlsx\")\n",
    "test_binary=pd.read_excel(\"binary_cls_data/test_binary.xlsx\")\n",
    "train_multi=pd.read_excel(\"multi_cls_data/train_multi.xlsx\")\n",
    "dev_multi=pd.read_excel(\"multi_cls_data/dev_multi.xlsx\")\n",
    "with open(\"fasttext_data/multi_cls_data/train.txt\",\"w\",encoding=\"utf8\") as f:\n",
    "    for unit in train_multi.values:\n",
    "        f.write(dicts1[unit[2]]+\"\\t\"+unit[1])\n",
    "        f.write(\"\\n\")\n",
    "with open(\"fasttext_data/multi_cls_data/dev.txt\",\"w\",encoding=\"utf8\") as f:\n",
    "    for unit in dev_multi.values:\n",
    "        f.write(dicts1[unit[2]]+\"\\t\"+unit[1])\n",
    "        f.write(\"\\n\")\n",
    "with open(\"fasttext_data/binary_cls_data/train.txt\",\"w\",encoding=\"utf8\") as f:\n",
    "    for unit in train_binary.values:\n",
    "        f.write(dicts2[unit[2]]+\"\\t\"+unit[1])\n",
    "        f.write(\"\\n\")\n",
    "with open(\"fasttext_data/binary_cls_data/dev.txt\",\"w\",encoding=\"utf8\") as f:\n",
    "    for unit in dev_binary.values:\n",
    "        f.write(dicts2[unit[2]]+\"\\t\"+unit[1])\n",
    "        f.write(\"\\n\")\n",
    "with open(\"fasttext_data/binary_cls_data/test.txt\",\"w\",encoding=\"utf8\") as f:\n",
    "    for unit in test_binary.values:\n",
    "        f.write(dicts2[unit[2]]+\"\\t\"+unit[1])\n",
    "        f.write(\"\\n\")"
   ]
  },
  {
   "cell_type": "code",
   "outputs": [
    {
     "data": {
      "text/plain": "                                             content  labels  labels_binary\n0                                                  恩  NORMAL              1\n1                                       牛排上888来了够嫩的啊  NORMAL              1\n2  野爹我把亻尔女马白带抽出对着亻尔人丨杂种狗扌品木的辶畐脸狂扌由一阵亻尔就把一整天吃的shi吐了出来    FUCK              0\n3  最近真心倒霉啊连喝凉水都塞塞牙缝merde我的新红围脖啊啊啊啊啊啊就这么没了忘在教室里等我回...  NORMAL              1\n4                                    你能看到那挂在天际的一轮新月吗  NORMAL              1",
      "text/html": "<div>\n<style scoped>\n    .dataframe tbody tr th:only-of-type {\n        vertical-align: middle;\n    }\n\n    .dataframe tbody tr th {\n        vertical-align: top;\n    }\n\n    .dataframe thead th {\n        text-align: right;\n    }\n</style>\n<table border=\"1\" class=\"dataframe\">\n  <thead>\n    <tr style=\"text-align: right;\">\n      <th></th>\n      <th>content</th>\n      <th>labels</th>\n      <th>labels_binary</th>\n    </tr>\n  </thead>\n  <tbody>\n    <tr>\n      <th>0</th>\n      <td>恩</td>\n      <td>NORMAL</td>\n      <td>1</td>\n    </tr>\n    <tr>\n      <th>1</th>\n      <td>牛排上888来了够嫩的啊</td>\n      <td>NORMAL</td>\n      <td>1</td>\n    </tr>\n    <tr>\n      <th>2</th>\n      <td>野爹我把亻尔女马白带抽出对着亻尔人丨杂种狗扌品木的辶畐脸狂扌由一阵亻尔就把一整天吃的shi吐了出来</td>\n      <td>FUCK</td>\n      <td>0</td>\n    </tr>\n    <tr>\n      <th>3</th>\n      <td>最近真心倒霉啊连喝凉水都塞塞牙缝merde我的新红围脖啊啊啊啊啊啊就这么没了忘在教室里等我回...</td>\n      <td>NORMAL</td>\n      <td>1</td>\n    </tr>\n    <tr>\n      <th>4</th>\n      <td>你能看到那挂在天际的一轮新月吗</td>\n      <td>NORMAL</td>\n      <td>1</td>\n    </tr>\n  </tbody>\n</table>\n</div>"
     },
     "execution_count": 32,
     "metadata": {},
     "output_type": "execute_result"
    }
   ],
   "source": [
    "data_binary.head()"
   ],
   "metadata": {
    "collapsed": false,
    "ExecuteTime": {
     "end_time": "2024-03-11T09:07:46.041302Z",
     "start_time": "2024-03-11T09:07:46.009304Z"
    }
   },
   "id": "641e7a2d690f042",
   "execution_count": 32
  },
  {
   "cell_type": "code",
   "execution_count": 33,
   "id": "583dbaee-4445-4502-be55-291cbf1a7b3e",
   "metadata": {
    "ExecuteTime": {
     "end_time": "2024-03-11T09:07:51.122925Z",
     "start_time": "2024-03-11T09:07:49.528919Z"
    }
   },
   "outputs": [
    {
     "data": {
      "text/plain": "   Unnamed: 0                            content              labels\n0       86730            00回复冯岳哈哈也可能是隔壁王老汉推了她妈的车  AD_Network_service\n1       86737  00每天这个点醒总是抱怨觉99少可是放假了早晨却睡不着人他妈就是贱             AD_Loan\n2       86738                  0火鸟04织梦jennie废墟的树                FUCK\n3       86740                        111111六yi快乐              NORMAL\n4       86745              111城市很热一路下来必须喝一口舒服44了              NORMAL",
      "text/html": "<div>\n<style scoped>\n    .dataframe tbody tr th:only-of-type {\n        vertical-align: middle;\n    }\n\n    .dataframe tbody tr th {\n        vertical-align: top;\n    }\n\n    .dataframe thead th {\n        text-align: right;\n    }\n</style>\n<table border=\"1\" class=\"dataframe\">\n  <thead>\n    <tr style=\"text-align: right;\">\n      <th></th>\n      <th>Unnamed: 0</th>\n      <th>content</th>\n      <th>labels</th>\n    </tr>\n  </thead>\n  <tbody>\n    <tr>\n      <th>0</th>\n      <td>86730</td>\n      <td>00回复冯岳哈哈也可能是隔壁王老汉推了她妈的车</td>\n      <td>AD_Network_service</td>\n    </tr>\n    <tr>\n      <th>1</th>\n      <td>86737</td>\n      <td>00每天这个点醒总是抱怨觉99少可是放假了早晨却睡不着人他妈就是贱</td>\n      <td>AD_Loan</td>\n    </tr>\n    <tr>\n      <th>2</th>\n      <td>86738</td>\n      <td>0火鸟04织梦jennie废墟的树</td>\n      <td>FUCK</td>\n    </tr>\n    <tr>\n      <th>3</th>\n      <td>86740</td>\n      <td>111111六yi快乐</td>\n      <td>NORMAL</td>\n    </tr>\n    <tr>\n      <th>4</th>\n      <td>86745</td>\n      <td>111城市很热一路下来必须喝一口舒服44了</td>\n      <td>NORMAL</td>\n    </tr>\n  </tbody>\n</table>\n</div>"
     },
     "execution_count": 33,
     "metadata": {},
     "output_type": "execute_result"
    }
   ],
   "source": [
    "#\n",
    "test=pd.read_excel(r\"D:\\work\\qiji_compet\\code\\data\\dataset\\multi_cls_data\\test_multi.xlsx\")\n",
    "test.head()"
   ]
  },
  {
   "cell_type": "code",
   "outputs": [
    {
     "data": {
      "text/plain": "                                  content  labels  labels_binary\n0                                    在干嘛呢  NORMAL              1\n1                                     不知道  NORMAL              1\n2  在厦门磐基皇冠假日酒店学东南亚菜厦门美食在热推人好多44有木有待会有冬阴功哦  NORMAL              1\n3                                     恩好的  NORMAL              1\n4                               我在见老板等等找你  NORMAL              1",
      "text/html": "<div>\n<style scoped>\n    .dataframe tbody tr th:only-of-type {\n        vertical-align: middle;\n    }\n\n    .dataframe tbody tr th {\n        vertical-align: top;\n    }\n\n    .dataframe thead th {\n        text-align: right;\n    }\n</style>\n<table border=\"1\" class=\"dataframe\">\n  <thead>\n    <tr style=\"text-align: right;\">\n      <th></th>\n      <th>content</th>\n      <th>labels</th>\n      <th>labels_binary</th>\n    </tr>\n  </thead>\n  <tbody>\n    <tr>\n      <th>0</th>\n      <td>在干嘛呢</td>\n      <td>NORMAL</td>\n      <td>1</td>\n    </tr>\n    <tr>\n      <th>1</th>\n      <td>不知道</td>\n      <td>NORMAL</td>\n      <td>1</td>\n    </tr>\n    <tr>\n      <th>2</th>\n      <td>在厦门磐基皇冠假日酒店学东南亚菜厦门美食在热推人好多44有木有待会有冬阴功哦</td>\n      <td>NORMAL</td>\n      <td>1</td>\n    </tr>\n    <tr>\n      <th>3</th>\n      <td>恩好的</td>\n      <td>NORMAL</td>\n      <td>1</td>\n    </tr>\n    <tr>\n      <th>4</th>\n      <td>我在见老板等等找你</td>\n      <td>NORMAL</td>\n      <td>1</td>\n    </tr>\n  </tbody>\n</table>\n</div>"
     },
     "execution_count": 48,
     "metadata": {},
     "output_type": "execute_result"
    }
   ],
   "source": [
    "data_binary.head()"
   ],
   "metadata": {
    "collapsed": false,
    "ExecuteTime": {
     "end_time": "2024-03-11T09:27:36.610620Z",
     "start_time": "2024-03-11T09:27:36.574637Z"
    }
   },
   "id": "542618221c4b8212",
   "execution_count": 48
  },
  {
   "cell_type": "code",
   "outputs": [],
   "source": [
    "pd.merge(test[[\"content\"]],data_binary[[\"content\",\"labels\"]],on=\"content\",how=\"left\").drop_duplicates().to_excel(r\"D:\\work\\qiji_compet\\code\\data\\dataset\\multi_cls_data\\test_multi.xlsx\")"
   ],
   "metadata": {
    "collapsed": false,
    "ExecuteTime": {
     "end_time": "2024-03-11T09:53:18.847868Z",
     "start_time": "2024-03-11T09:53:14.514480Z"
    }
   },
   "id": "2e851e7be58e3f2",
   "execution_count": 54
  },
  {
   "cell_type": "code",
   "outputs": [
    {
     "data": {
      "text/plain": "(6590, 6590)"
     },
     "execution_count": 36,
     "metadata": {},
     "output_type": "execute_result"
    }
   ],
   "source": [
    "len(final),len(test) "
   ],
   "metadata": {
    "collapsed": false,
    "ExecuteTime": {
     "end_time": "2024-03-11T09:11:39.434239Z",
     "start_time": "2024-03-11T09:11:39.413240Z"
    }
   },
   "id": "f48bd50b88af3a44",
   "execution_count": 36
  },
  {
   "cell_type": "code",
   "outputs": [
    {
     "data": {
      "text/plain": "array(['00回复冯岳哈哈也可能是隔壁王老汉推了她妈的车', 'AD_Network_service'], dtype=object)"
     },
     "execution_count": 37,
     "metadata": {},
     "output_type": "execute_result"
    }
   ],
   "source": [
    "final[0]"
   ],
   "metadata": {
    "collapsed": false,
    "ExecuteTime": {
     "end_time": "2024-03-11T09:11:45.450630Z",
     "start_time": "2024-03-11T09:11:45.424632Z"
    }
   },
   "id": "ae268de286b1dab1",
   "execution_count": 37
  },
  {
   "cell_type": "code",
   "outputs": [],
   "source": [],
   "metadata": {
    "collapsed": false
   },
   "id": "7c4f0112b8d8f736"
  }
 ],
 "metadata": {
  "kernelspec": {
   "display_name": "Python 3 (ipykernel)",
   "language": "python",
   "name": "python3"
  },
  "language_info": {
   "codemirror_mode": {
    "name": "ipython",
    "version": 3
   },
   "file_extension": ".py",
   "mimetype": "text/x-python",
   "name": "python",
   "nbconvert_exporter": "python",
   "pygments_lexer": "ipython3",
   "version": "3.9.13"
  }
 },
 "nbformat": 4,
 "nbformat_minor": 5
}
